{
 "cells": [
  {
   "metadata": {},
   "cell_type": "markdown",
   "source": [
    "# 학습목표\n",
    "- Flask의 사용법 익히기\n",
    "- Flask로 웹서버 구축\n",
    "    - 웹 서버 구축\n",
    "    - HTML 문서 송수신\n",
    "    - 데이터 송수신(라우팅, get, post)\n",
    "    - 이미지가 포함된 문서 송수신\n",
    "- 파이썬으로 DB 연동 : cx_Oracle 라이브러리 활용"
   ],
   "id": "cc5b7d7b1cdfcd00"
  },
  {
   "metadata": {},
   "cell_type": "markdown",
   "source": [
    "# Flask 개요\n",
    "- Flask는 파이썬으로 작성된 웹 어플리케이션 프레임워크\n",
    "    - 웹 서버를 구동\n",
    "    - 웹 페이지를 렌더링\n",
    "- Django : 파이썬으로 구현된 웹 프레임워크 -> 크기가 크고 어렵다 -> 쉽게 만든 버전 -> Flask, Bottle\n",
    "- Flask (동기방식 : 프로세스를 하나씩 실행) -> 비동기 방식 -> Fast API"
   ],
   "id": "d5fe80d9a1944e77"
  },
  {
   "metadata": {},
   "cell_type": "markdown",
   "source": [
    "# 다른 프레임워크\n",
    "- Spring : Java\n",
    "- Node.js : js\n",
    "- PHP : C\n",
    "- Android : Java\n",
    "- Kotlin : Java/JS/C# (네이티브 앱 프레임워크)\n",
    "- Flutter : 하이브리드 앱 프레임워크\n",
    "\n",
    "- 기타 언어\n",
    "    - C, C++, C#\n",
    "    - Zig, Go, Rust"
   ],
   "id": "f1f41f85e0f93d7"
  },
  {
   "metadata": {
    "ExecuteTime": {
     "end_time": "2024-07-09T06:38:52.767146Z",
     "start_time": "2024-07-09T06:38:52.763028Z"
    }
   },
   "cell_type": "code",
   "source": [
    "# 웹 서버 구동하기\n",
    "# 초기화 : Flask(__name__)\n",
    "# route() :  라우팅(접속 경로 설정)\n",
    "    # 클라이언트가 접속할 주소를 설정\n",
    "    # 클라이언트가 접속할 때 실행할 내용 (클라이언트로 전송되는 내용)\n",
    "# run() : 서버 구동\n",
    "    # ip, port 설정"
   ],
   "id": "4a93efae03f61ee2",
   "outputs": [],
   "execution_count": 14
  },
  {
   "metadata": {
    "ExecuteTime": {
     "end_time": "2024-07-09T06:38:54.483575Z",
     "start_time": "2024-07-09T06:38:52.847954Z"
    }
   },
   "cell_type": "code",
   "source": [
    "from flask import Flask\n",
    "\n",
    "# 초기화\n",
    "app = Flask(__name__)\n",
    "\n",
    "# 라우팅 설정\n",
    "# ip, port (도메인)으로 접속하는 경우\n",
    "@app.route('/')\n",
    "def home():\n",
    "    return '안녕하세요 손준수입니다'\n",
    "\n",
    "# URL/page1\n",
    "@app.route('/page1')\n",
    "def page1():\n",
    "    return '페이지1입니다'\n",
    "\n",
    "# 서버 구동 (가장 먼저 실행)\n",
    "if __name__ == '__main__':\n",
    "    app.run(host='192.168.21.215', port=9000)"
   ],
   "id": "fbbde50a15c39858",
   "outputs": [
    {
     "name": "stdout",
     "output_type": "stream",
     "text": [
      " * Serving Flask app '__main__'\n",
      " * Debug mode: off\n"
     ]
    },
    {
     "name": "stderr",
     "output_type": "stream",
     "text": [
      "요청한 주소는 해당 컨텍스트에서 유효하지 않습니다\n"
     ]
    },
    {
     "ename": "AttributeError",
     "evalue": "'tuple' object has no attribute 'tb_frame'",
     "output_type": "error",
     "traceback": [
      "\u001B[1;31m---------------------------------------------------------------------------\u001B[0m",
      "\u001B[1;31mOSError\u001B[0m                                   Traceback (most recent call last)",
      "File \u001B[1;32m~\\anaconda3\\envs\\pythonProject\\Lib\\site-packages\\werkzeug\\serving.py:750\u001B[0m, in \u001B[0;36mBaseWSGIServer.__init__\u001B[1;34m(self, host, port, app, handler, passthrough_errors, ssl_context, fd)\u001B[0m\n\u001B[0;32m    749\u001B[0m \u001B[38;5;28;01mtry\u001B[39;00m:\n\u001B[1;32m--> 750\u001B[0m     \u001B[38;5;28mself\u001B[39m\u001B[38;5;241m.\u001B[39mserver_bind()\n\u001B[0;32m    751\u001B[0m     \u001B[38;5;28mself\u001B[39m\u001B[38;5;241m.\u001B[39mserver_activate()\n",
      "File \u001B[1;32m~\\anaconda3\\envs\\pythonProject\\Lib\\http\\server.py:136\u001B[0m, in \u001B[0;36mHTTPServer.server_bind\u001B[1;34m(self)\u001B[0m\n\u001B[0;32m    135\u001B[0m \u001B[38;5;250m\u001B[39m\u001B[38;5;124;03m\"\"\"Override server_bind to store the server name.\"\"\"\u001B[39;00m\n\u001B[1;32m--> 136\u001B[0m socketserver\u001B[38;5;241m.\u001B[39mTCPServer\u001B[38;5;241m.\u001B[39mserver_bind(\u001B[38;5;28mself\u001B[39m)\n\u001B[0;32m    137\u001B[0m host, port \u001B[38;5;241m=\u001B[39m \u001B[38;5;28mself\u001B[39m\u001B[38;5;241m.\u001B[39mserver_address[:\u001B[38;5;241m2\u001B[39m]\n",
      "File \u001B[1;32m~\\anaconda3\\envs\\pythonProject\\Lib\\socketserver.py:472\u001B[0m, in \u001B[0;36mTCPServer.server_bind\u001B[1;34m(self)\u001B[0m\n\u001B[0;32m    471\u001B[0m     \u001B[38;5;28mself\u001B[39m\u001B[38;5;241m.\u001B[39msocket\u001B[38;5;241m.\u001B[39msetsockopt(socket\u001B[38;5;241m.\u001B[39mSOL_SOCKET, socket\u001B[38;5;241m.\u001B[39mSO_REUSEPORT, \u001B[38;5;241m1\u001B[39m)\n\u001B[1;32m--> 472\u001B[0m \u001B[38;5;28mself\u001B[39m\u001B[38;5;241m.\u001B[39msocket\u001B[38;5;241m.\u001B[39mbind(\u001B[38;5;28mself\u001B[39m\u001B[38;5;241m.\u001B[39mserver_address)\n\u001B[0;32m    473\u001B[0m \u001B[38;5;28mself\u001B[39m\u001B[38;5;241m.\u001B[39mserver_address \u001B[38;5;241m=\u001B[39m \u001B[38;5;28mself\u001B[39m\u001B[38;5;241m.\u001B[39msocket\u001B[38;5;241m.\u001B[39mgetsockname()\n",
      "\u001B[1;31mOSError\u001B[0m: [WinError 10049] 요청한 주소는 해당 컨텍스트에서 유효하지 않습니다",
      "\nDuring handling of the above exception, another exception occurred:\n",
      "\u001B[1;31mSystemExit\u001B[0m                                Traceback (most recent call last)",
      "    \u001B[1;31m[... skipping hidden 1 frame]\u001B[0m\n",
      "Cell \u001B[1;32mIn[15], line 19\u001B[0m\n\u001B[0;32m     18\u001B[0m \u001B[38;5;28;01mif\u001B[39;00m \u001B[38;5;18m__name__\u001B[39m \u001B[38;5;241m==\u001B[39m \u001B[38;5;124m'\u001B[39m\u001B[38;5;124m__main__\u001B[39m\u001B[38;5;124m'\u001B[39m:\n\u001B[1;32m---> 19\u001B[0m     app\u001B[38;5;241m.\u001B[39mrun(host\u001B[38;5;241m=\u001B[39m\u001B[38;5;124m'\u001B[39m\u001B[38;5;124m192.168.21.215\u001B[39m\u001B[38;5;124m'\u001B[39m, port\u001B[38;5;241m=\u001B[39m\u001B[38;5;241m9000\u001B[39m)\n",
      "File \u001B[1;32m~\\anaconda3\\envs\\pythonProject\\Lib\\site-packages\\flask\\app.py:625\u001B[0m, in \u001B[0;36mFlask.run\u001B[1;34m(self, host, port, debug, load_dotenv, **options)\u001B[0m\n\u001B[0;32m    624\u001B[0m \u001B[38;5;28;01mtry\u001B[39;00m:\n\u001B[1;32m--> 625\u001B[0m     run_simple(t\u001B[38;5;241m.\u001B[39mcast(\u001B[38;5;28mstr\u001B[39m, host), port, \u001B[38;5;28mself\u001B[39m, \u001B[38;5;241m*\u001B[39m\u001B[38;5;241m*\u001B[39moptions)\n\u001B[0;32m    626\u001B[0m \u001B[38;5;28;01mfinally\u001B[39;00m:\n\u001B[0;32m    627\u001B[0m     \u001B[38;5;66;03m# reset the first request information if the development server\u001B[39;00m\n\u001B[0;32m    628\u001B[0m     \u001B[38;5;66;03m# reset normally.  This makes it possible to restart the server\u001B[39;00m\n\u001B[0;32m    629\u001B[0m     \u001B[38;5;66;03m# without reloader and that stuff from an interactive shell.\u001B[39;00m\n",
      "File \u001B[1;32m~\\anaconda3\\envs\\pythonProject\\Lib\\site-packages\\werkzeug\\serving.py:1084\u001B[0m, in \u001B[0;36mrun_simple\u001B[1;34m(hostname, port, application, use_reloader, use_debugger, use_evalex, extra_files, exclude_patterns, reloader_interval, reloader_type, threaded, processes, request_handler, static_files, passthrough_errors, ssl_context)\u001B[0m\n\u001B[0;32m   1082\u001B[0m     fd \u001B[38;5;241m=\u001B[39m \u001B[38;5;28mint\u001B[39m(os\u001B[38;5;241m.\u001B[39menviron[\u001B[38;5;124m\"\u001B[39m\u001B[38;5;124mWERKZEUG_SERVER_FD\u001B[39m\u001B[38;5;124m\"\u001B[39m])\n\u001B[1;32m-> 1084\u001B[0m srv \u001B[38;5;241m=\u001B[39m make_server(\n\u001B[0;32m   1085\u001B[0m     hostname,\n\u001B[0;32m   1086\u001B[0m     port,\n\u001B[0;32m   1087\u001B[0m     application,\n\u001B[0;32m   1088\u001B[0m     threaded,\n\u001B[0;32m   1089\u001B[0m     processes,\n\u001B[0;32m   1090\u001B[0m     request_handler,\n\u001B[0;32m   1091\u001B[0m     passthrough_errors,\n\u001B[0;32m   1092\u001B[0m     ssl_context,\n\u001B[0;32m   1093\u001B[0m     fd\u001B[38;5;241m=\u001B[39mfd,\n\u001B[0;32m   1094\u001B[0m )\n\u001B[0;32m   1095\u001B[0m srv\u001B[38;5;241m.\u001B[39msocket\u001B[38;5;241m.\u001B[39mset_inheritable(\u001B[38;5;28;01mTrue\u001B[39;00m)\n",
      "File \u001B[1;32m~\\anaconda3\\envs\\pythonProject\\Lib\\site-packages\\werkzeug\\serving.py:921\u001B[0m, in \u001B[0;36mmake_server\u001B[1;34m(host, port, app, threaded, processes, request_handler, passthrough_errors, ssl_context, fd)\u001B[0m\n\u001B[0;32m    920\u001B[0m \u001B[38;5;28;01mif\u001B[39;00m threaded:\n\u001B[1;32m--> 921\u001B[0m     \u001B[38;5;28;01mreturn\u001B[39;00m ThreadedWSGIServer(\n\u001B[0;32m    922\u001B[0m         host, port, app, request_handler, passthrough_errors, ssl_context, fd\u001B[38;5;241m=\u001B[39mfd\n\u001B[0;32m    923\u001B[0m     )\n\u001B[0;32m    925\u001B[0m \u001B[38;5;28;01mif\u001B[39;00m processes \u001B[38;5;241m>\u001B[39m \u001B[38;5;241m1\u001B[39m:\n",
      "File \u001B[1;32m~\\anaconda3\\envs\\pythonProject\\Lib\\site-packages\\werkzeug\\serving.py:773\u001B[0m, in \u001B[0;36mBaseWSGIServer.__init__\u001B[1;34m(self, host, port, app, handler, passthrough_errors, ssl_context, fd)\u001B[0m\n\u001B[0;32m    767\u001B[0m             \u001B[38;5;28mprint\u001B[39m(\n\u001B[0;32m    768\u001B[0m                 \u001B[38;5;124m\"\u001B[39m\u001B[38;5;124mOn macOS, try disabling the \u001B[39m\u001B[38;5;124m'\u001B[39m\u001B[38;5;124mAirPlay Receiver\u001B[39m\u001B[38;5;124m'\u001B[39m\u001B[38;5;124m service\u001B[39m\u001B[38;5;124m\"\u001B[39m\n\u001B[0;32m    769\u001B[0m                 \u001B[38;5;124m\"\u001B[39m\u001B[38;5;124m from System Preferences -> General -> AirDrop & Handoff.\u001B[39m\u001B[38;5;124m\"\u001B[39m,\n\u001B[0;32m    770\u001B[0m                 file\u001B[38;5;241m=\u001B[39msys\u001B[38;5;241m.\u001B[39mstderr,\n\u001B[0;32m    771\u001B[0m             )\n\u001B[1;32m--> 773\u001B[0m     sys\u001B[38;5;241m.\u001B[39mexit(\u001B[38;5;241m1\u001B[39m)\n\u001B[0;32m    774\u001B[0m \u001B[38;5;28;01mexcept\u001B[39;00m \u001B[38;5;167;01mBaseException\u001B[39;00m:\n",
      "\u001B[1;31mSystemExit\u001B[0m: 1",
      "\nDuring handling of the above exception, another exception occurred:\n",
      "\u001B[1;31mAttributeError\u001B[0m                            Traceback (most recent call last)",
      "    \u001B[1;31m[... skipping hidden 1 frame]\u001B[0m\n",
      "File \u001B[1;32m~\\anaconda3\\envs\\pythonProject\\Lib\\site-packages\\IPython\\core\\interactiveshell.py:2145\u001B[0m, in \u001B[0;36mInteractiveShell.showtraceback\u001B[1;34m(self, exc_tuple, filename, tb_offset, exception_only, running_compiled_code)\u001B[0m\n\u001B[0;32m   2142\u001B[0m \u001B[38;5;28;01mif\u001B[39;00m exception_only:\n\u001B[0;32m   2143\u001B[0m     stb \u001B[38;5;241m=\u001B[39m [\u001B[38;5;124m'\u001B[39m\u001B[38;5;124mAn exception has occurred, use \u001B[39m\u001B[38;5;124m%\u001B[39m\u001B[38;5;124mtb to see \u001B[39m\u001B[38;5;124m'\u001B[39m\n\u001B[0;32m   2144\u001B[0m            \u001B[38;5;124m'\u001B[39m\u001B[38;5;124mthe full traceback.\u001B[39m\u001B[38;5;130;01m\\n\u001B[39;00m\u001B[38;5;124m'\u001B[39m]\n\u001B[1;32m-> 2145\u001B[0m     stb\u001B[38;5;241m.\u001B[39mextend(\u001B[38;5;28mself\u001B[39m\u001B[38;5;241m.\u001B[39mInteractiveTB\u001B[38;5;241m.\u001B[39mget_exception_only(etype,\n\u001B[0;32m   2146\u001B[0m                                                      value))\n\u001B[0;32m   2147\u001B[0m \u001B[38;5;28;01melse\u001B[39;00m:\n\u001B[0;32m   2149\u001B[0m     \u001B[38;5;28;01mdef\u001B[39;00m \u001B[38;5;21mcontains_exceptiongroup\u001B[39m(val):\n",
      "File \u001B[1;32m~\\anaconda3\\envs\\pythonProject\\Lib\\site-packages\\IPython\\core\\ultratb.py:710\u001B[0m, in \u001B[0;36mListTB.get_exception_only\u001B[1;34m(self, etype, value)\u001B[0m\n\u001B[0;32m    702\u001B[0m \u001B[38;5;28;01mdef\u001B[39;00m \u001B[38;5;21mget_exception_only\u001B[39m(\u001B[38;5;28mself\u001B[39m, etype, value):\n\u001B[0;32m    703\u001B[0m \u001B[38;5;250m    \u001B[39m\u001B[38;5;124;03m\"\"\"Only print the exception type and message, without a traceback.\u001B[39;00m\n\u001B[0;32m    704\u001B[0m \n\u001B[0;32m    705\u001B[0m \u001B[38;5;124;03m    Parameters\u001B[39;00m\n\u001B[1;32m   (...)\u001B[0m\n\u001B[0;32m    708\u001B[0m \u001B[38;5;124;03m    value : exception value\u001B[39;00m\n\u001B[0;32m    709\u001B[0m \u001B[38;5;124;03m    \"\"\"\u001B[39;00m\n\u001B[1;32m--> 710\u001B[0m     \u001B[38;5;28;01mreturn\u001B[39;00m ListTB\u001B[38;5;241m.\u001B[39mstructured_traceback(\u001B[38;5;28mself\u001B[39m, etype, value)\n",
      "File \u001B[1;32m~\\anaconda3\\envs\\pythonProject\\Lib\\site-packages\\IPython\\core\\ultratb.py:568\u001B[0m, in \u001B[0;36mListTB.structured_traceback\u001B[1;34m(self, etype, evalue, etb, tb_offset, context)\u001B[0m\n\u001B[0;32m    565\u001B[0m     chained_exc_ids\u001B[38;5;241m.\u001B[39madd(\u001B[38;5;28mid\u001B[39m(exception[\u001B[38;5;241m1\u001B[39m]))\n\u001B[0;32m    566\u001B[0m     chained_exceptions_tb_offset \u001B[38;5;241m=\u001B[39m \u001B[38;5;241m0\u001B[39m\n\u001B[0;32m    567\u001B[0m     out_list \u001B[38;5;241m=\u001B[39m (\n\u001B[1;32m--> 568\u001B[0m         \u001B[38;5;28mself\u001B[39m\u001B[38;5;241m.\u001B[39mstructured_traceback(\n\u001B[0;32m    569\u001B[0m             etype,\n\u001B[0;32m    570\u001B[0m             evalue,\n\u001B[0;32m    571\u001B[0m             (etb, chained_exc_ids),  \u001B[38;5;66;03m# type: ignore\u001B[39;00m\n\u001B[0;32m    572\u001B[0m             chained_exceptions_tb_offset,\n\u001B[0;32m    573\u001B[0m             context,\n\u001B[0;32m    574\u001B[0m         )\n\u001B[0;32m    575\u001B[0m         \u001B[38;5;241m+\u001B[39m chained_exception_message\n\u001B[0;32m    576\u001B[0m         \u001B[38;5;241m+\u001B[39m out_list)\n\u001B[0;32m    578\u001B[0m \u001B[38;5;28;01mreturn\u001B[39;00m out_list\n",
      "File \u001B[1;32m~\\anaconda3\\envs\\pythonProject\\Lib\\site-packages\\IPython\\core\\ultratb.py:1454\u001B[0m, in \u001B[0;36mAutoFormattedTB.structured_traceback\u001B[1;34m(self, etype, evalue, etb, tb_offset, number_of_lines_of_context)\u001B[0m\n\u001B[0;32m   1452\u001B[0m \u001B[38;5;28;01melse\u001B[39;00m:\n\u001B[0;32m   1453\u001B[0m     \u001B[38;5;28mself\u001B[39m\u001B[38;5;241m.\u001B[39mtb \u001B[38;5;241m=\u001B[39m etb\n\u001B[1;32m-> 1454\u001B[0m \u001B[38;5;28;01mreturn\u001B[39;00m FormattedTB\u001B[38;5;241m.\u001B[39mstructured_traceback(\n\u001B[0;32m   1455\u001B[0m     \u001B[38;5;28mself\u001B[39m, etype, evalue, etb, tb_offset, number_of_lines_of_context\n\u001B[0;32m   1456\u001B[0m )\n",
      "File \u001B[1;32m~\\anaconda3\\envs\\pythonProject\\Lib\\site-packages\\IPython\\core\\ultratb.py:1345\u001B[0m, in \u001B[0;36mFormattedTB.structured_traceback\u001B[1;34m(self, etype, value, tb, tb_offset, number_of_lines_of_context)\u001B[0m\n\u001B[0;32m   1342\u001B[0m mode \u001B[38;5;241m=\u001B[39m \u001B[38;5;28mself\u001B[39m\u001B[38;5;241m.\u001B[39mmode\n\u001B[0;32m   1343\u001B[0m \u001B[38;5;28;01mif\u001B[39;00m mode \u001B[38;5;129;01min\u001B[39;00m \u001B[38;5;28mself\u001B[39m\u001B[38;5;241m.\u001B[39mverbose_modes:\n\u001B[0;32m   1344\u001B[0m     \u001B[38;5;66;03m# Verbose modes need a full traceback\u001B[39;00m\n\u001B[1;32m-> 1345\u001B[0m     \u001B[38;5;28;01mreturn\u001B[39;00m VerboseTB\u001B[38;5;241m.\u001B[39mstructured_traceback(\n\u001B[0;32m   1346\u001B[0m         \u001B[38;5;28mself\u001B[39m, etype, value, tb, tb_offset, number_of_lines_of_context\n\u001B[0;32m   1347\u001B[0m     )\n\u001B[0;32m   1348\u001B[0m \u001B[38;5;28;01melif\u001B[39;00m mode \u001B[38;5;241m==\u001B[39m \u001B[38;5;124m'\u001B[39m\u001B[38;5;124mMinimal\u001B[39m\u001B[38;5;124m'\u001B[39m:\n\u001B[0;32m   1349\u001B[0m     \u001B[38;5;28;01mreturn\u001B[39;00m ListTB\u001B[38;5;241m.\u001B[39mget_exception_only(\u001B[38;5;28mself\u001B[39m, etype, value)\n",
      "File \u001B[1;32m~\\anaconda3\\envs\\pythonProject\\Lib\\site-packages\\IPython\\core\\ultratb.py:1192\u001B[0m, in \u001B[0;36mVerboseTB.structured_traceback\u001B[1;34m(self, etype, evalue, etb, tb_offset, number_of_lines_of_context)\u001B[0m\n\u001B[0;32m   1183\u001B[0m \u001B[38;5;28;01mdef\u001B[39;00m \u001B[38;5;21mstructured_traceback\u001B[39m(\n\u001B[0;32m   1184\u001B[0m     \u001B[38;5;28mself\u001B[39m,\n\u001B[0;32m   1185\u001B[0m     etype: \u001B[38;5;28mtype\u001B[39m,\n\u001B[1;32m   (...)\u001B[0m\n\u001B[0;32m   1189\u001B[0m     number_of_lines_of_context: \u001B[38;5;28mint\u001B[39m \u001B[38;5;241m=\u001B[39m \u001B[38;5;241m5\u001B[39m,\n\u001B[0;32m   1190\u001B[0m ):\n\u001B[0;32m   1191\u001B[0m \u001B[38;5;250m    \u001B[39m\u001B[38;5;124;03m\"\"\"Return a nice text document describing the traceback.\"\"\"\u001B[39;00m\n\u001B[1;32m-> 1192\u001B[0m     formatted_exception \u001B[38;5;241m=\u001B[39m \u001B[38;5;28mself\u001B[39m\u001B[38;5;241m.\u001B[39mformat_exception_as_a_whole(etype, evalue, etb, number_of_lines_of_context,\n\u001B[0;32m   1193\u001B[0m                                                            tb_offset)\n\u001B[0;32m   1195\u001B[0m     colors \u001B[38;5;241m=\u001B[39m \u001B[38;5;28mself\u001B[39m\u001B[38;5;241m.\u001B[39mColors  \u001B[38;5;66;03m# just a shorthand + quicker name lookup\u001B[39;00m\n\u001B[0;32m   1196\u001B[0m     colorsnormal \u001B[38;5;241m=\u001B[39m colors\u001B[38;5;241m.\u001B[39mNormal  \u001B[38;5;66;03m# used a lot\u001B[39;00m\n",
      "File \u001B[1;32m~\\anaconda3\\envs\\pythonProject\\Lib\\site-packages\\IPython\\core\\ultratb.py:1082\u001B[0m, in \u001B[0;36mVerboseTB.format_exception_as_a_whole\u001B[1;34m(self, etype, evalue, etb, number_of_lines_of_context, tb_offset)\u001B[0m\n\u001B[0;32m   1079\u001B[0m \u001B[38;5;28;01massert\u001B[39;00m \u001B[38;5;28misinstance\u001B[39m(tb_offset, \u001B[38;5;28mint\u001B[39m)\n\u001B[0;32m   1080\u001B[0m head \u001B[38;5;241m=\u001B[39m \u001B[38;5;28mself\u001B[39m\u001B[38;5;241m.\u001B[39mprepare_header(\u001B[38;5;28mstr\u001B[39m(etype), \u001B[38;5;28mself\u001B[39m\u001B[38;5;241m.\u001B[39mlong_header)\n\u001B[0;32m   1081\u001B[0m records \u001B[38;5;241m=\u001B[39m (\n\u001B[1;32m-> 1082\u001B[0m     \u001B[38;5;28mself\u001B[39m\u001B[38;5;241m.\u001B[39mget_records(etb, number_of_lines_of_context, tb_offset) \u001B[38;5;28;01mif\u001B[39;00m etb \u001B[38;5;28;01melse\u001B[39;00m []\n\u001B[0;32m   1083\u001B[0m )\n\u001B[0;32m   1085\u001B[0m frames \u001B[38;5;241m=\u001B[39m []\n\u001B[0;32m   1086\u001B[0m skipped \u001B[38;5;241m=\u001B[39m \u001B[38;5;241m0\u001B[39m\n",
      "File \u001B[1;32m~\\anaconda3\\envs\\pythonProject\\Lib\\site-packages\\IPython\\core\\ultratb.py:1150\u001B[0m, in \u001B[0;36mVerboseTB.get_records\u001B[1;34m(self, etb, number_of_lines_of_context, tb_offset)\u001B[0m\n\u001B[0;32m   1148\u001B[0m \u001B[38;5;28;01mwhile\u001B[39;00m cf \u001B[38;5;129;01mis\u001B[39;00m \u001B[38;5;129;01mnot\u001B[39;00m \u001B[38;5;28;01mNone\u001B[39;00m:\n\u001B[0;32m   1149\u001B[0m     \u001B[38;5;28;01mtry\u001B[39;00m:\n\u001B[1;32m-> 1150\u001B[0m         mod \u001B[38;5;241m=\u001B[39m inspect\u001B[38;5;241m.\u001B[39mgetmodule(cf\u001B[38;5;241m.\u001B[39mtb_frame)\n\u001B[0;32m   1151\u001B[0m         \u001B[38;5;28;01mif\u001B[39;00m mod \u001B[38;5;129;01mis\u001B[39;00m \u001B[38;5;129;01mnot\u001B[39;00m \u001B[38;5;28;01mNone\u001B[39;00m:\n\u001B[0;32m   1152\u001B[0m             mod_name \u001B[38;5;241m=\u001B[39m mod\u001B[38;5;241m.\u001B[39m\u001B[38;5;18m__name__\u001B[39m\n",
      "\u001B[1;31mAttributeError\u001B[0m: 'tuple' object has no attribute 'tb_frame'"
     ]
    }
   ],
   "execution_count": 15
  },
  {
   "metadata": {
    "ExecuteTime": {
     "end_time": "2024-07-09T06:38:54.485574Z",
     "start_time": "2024-07-09T06:38:54.485574Z"
    }
   },
   "cell_type": "code",
   "source": [
    "# 라우팅 주소(URL)에 값을 실어서 보내기\n",
    "# URL/<변수명1> <변수명2>\n",
    "from flask import Flask\n",
    "app = Flask(__name__)\n",
    "@app.route('/')\n",
    "def home():\n",
    "    return \"안녕하세요 손준수입니다 ^^\"\n",
    "@app.route('/page1')\n",
    "def page1():\n",
    "    return \"페이지1입니다\"\n",
    "\n",
    "# URL에 변수를 넣어서 보내기\n",
    "@app.route('/login/<id> <pw>')\n",
    "# 전송된 값은 함수에서 받아주어야 한다\n",
    "def page2(id, pw):\n",
    "    return f'아이디 : {id}, 비밀번호 : {pw}'\n",
    "\n",
    "if __name__ == \"__main__\":\n",
    "    app.run(host='192.168.21.215', port=9000)"
   ],
   "id": "1ad9288e93ea3f66",
   "outputs": [],
   "execution_count": null
  },
  {
   "metadata": {},
   "cell_type": "code",
   "source": [
    "# html 문서 전송\n",
    "# render_template() : html 문서를 렌더링해서 클라이언트로 전송\n",
    "# html 문서는 templates 폴더에 저장해야 한다\n",
    "# templates 폴더 생성\n",
    "import os\n",
    "dir_name = './templates'\n",
    "# 해당 폴더가 없다면 폴더를 생성\n",
    "if not os.path.exists(dir_name):\n",
    "    os.mkdirs(dir_name)"
   ],
   "id": "fc96ed661ab79c81",
   "outputs": [],
   "execution_count": null
  },
  {
   "metadata": {},
   "cell_type": "code",
   "source": [
    "# %%writefile ./templates/index.html\n",
    "# <html>\n",
    "#     <head>\n",
    "#         <title>홈페이지</title>\n",
    "#     </head>\n",
    "#     <body>\n",
    "#         <h1>안녕하세요 홈페이지입니다</h1>\n",
    "#     </body>\n",
    "# </html>"
   ],
   "id": "efcfc6e6aec50c1a",
   "outputs": [],
   "execution_count": null
  },
  {
   "metadata": {},
   "cell_type": "code",
   "source": [
    "from flask import Flask, render_template\n",
    "app = Flask(__name__)\n",
    "\n",
    "@app.route('/')\n",
    "def home():\n",
    "    return render_template('index.html')\n",
    "\n",
    "if __name__ == \"__main__\":\n",
    "    app.run(host='192.168.21.215', port=9000)"
   ],
   "id": "5e344898e63d86bd",
   "outputs": [],
   "execution_count": null
  },
  {
   "metadata": {},
   "cell_type": "markdown",
   "source": [
    "- args : 실행명령 뒤에 따라오는 파라미터를 읽음\n",
    "- get 방식으로 전송된 데이터는 파이썬에서 딕셔너리로 인식\n",
    "    - 변수 -> 키, 값 -> value로 인식"
   ],
   "id": "29ba6e418ed0db3c"
  },
  {
   "metadata": {},
   "cell_type": "code",
   "source": [
    "# get/post 방식으로 값을 전송\n",
    "from flask import Flask, render_template, request\n",
    "app = Flask(__name__)\n",
    "\n",
    "@app.route('/')\n",
    "def home():\n",
    "    return render_template('index.html')\n",
    "\n",
    "@app.route('/login')\n",
    "def login():\n",
    "    return render_template('login.html')\n",
    "\n",
    "# methods : GET 또는 POST를 설정\n",
    "@app.route('/login_ok', methods=['GET'])\n",
    "def login_ok():\n",
    "    id_val = request.args.get('id')\n",
    "    pw_val = request.args.get('pw')\n",
    "    return f'아이디 : {id_val}, 비밀번호 : {pw_val}'\n",
    "\n",
    "\n",
    "\n",
    "if __name__ == \"__main__\":\n",
    "    app.run(host='192.168.21.215', port=9000)"
   ],
   "id": "f05156d724a94100",
   "outputs": [],
   "execution_count": null
  },
  {
   "metadata": {},
   "cell_type": "code",
   "source": [
    "dic1 = {'name':'손준수', 'age':31}\n",
    "print(dic1['name'])\n",
    "# print(dic1['id'])\n",
    "print(dic1.get('id'))"
   ],
   "id": "a60229bd0be38e7e",
   "outputs": [],
   "execution_count": null
  },
  {
   "metadata": {},
   "cell_type": "code",
   "source": [
    "# get/post 방식으로 값을 전송\n",
    "from flask import Flask, render_template, request\n",
    "app = Flask(__name__)\n",
    "\n",
    "@app.route('/')\n",
    "def home():\n",
    "    return render_template('index.html')\n",
    "\n",
    "@app.route('/login')\n",
    "def login():\n",
    "    return render_template('login2.html')\n",
    "\n",
    "# methods : GET 또는 POST를 설정\n",
    "@app.route('/login_ok', methods=['POST'])\n",
    "def login_ok():\n",
    "    id_val = request.form['id']\n",
    "    pw_val = request.form['pw']\n",
    "    return f'아이디 : {id_val}, 비밀번호 : {pw_val}'\n",
    "\n",
    "\n",
    "\n",
    "if __name__ == \"__main__\":\n",
    "    app.run(host='192.168.21.215', port=9000)"
   ],
   "id": "7510b025b35e6fd6",
   "outputs": [],
   "execution_count": null
  },
  {
   "metadata": {},
   "cell_type": "markdown",
   "source": [
    "- 이미지가 포함된 HTML 문서 전송\n",
    "    - 리소스(이미지,소리,영상 등)은 static 폴더에 저장"
   ],
   "id": "bd1c84256b29ea70"
  },
  {
   "metadata": {},
   "cell_type": "code",
   "source": [
    "from flask import Flask, render_template\n",
    "\n",
    "app = Flask(__name__)\n",
    "\n",
    "@app.route('/')\n",
    "def home():\n",
    "    return render_template('main.html')\n",
    "\n",
    "if __name__ == '__main__' :\n",
    "    app.run(host='192.168.21.143', port=9000)"
   ],
   "id": "4c3c1415500cbc1c",
   "outputs": [],
   "execution_count": null
  },
  {
   "metadata": {},
   "cell_type": "markdown",
   "source": [
    "- Jinja Template\n",
    "    - HTML 문서 내에서 파이썬 코드를 작성할 수 있게 해주는 템플릿\n",
    "    - Jinja2Template2\n",
    "    - {변수,객체선언},{{일반 코드}}을 이용해서 코드를 작성\n",
    "     \n",
    "    - JSP : HTML 문서에 Java코드 작성 가능\n",
    "    - PHP : HTML 문서에 C언어 코드 작성 가능"
   ],
   "id": "586ebc760a617378"
  },
  {
   "metadata": {},
   "cell_type": "code",
   "source": [
    "from flask import Flask, render_template\n",
    "\n",
    "app = Flask(__name__)\n",
    "\n",
    "@app.route('/')\n",
    "def home():\n",
    "    return render_template('main2.html')\n",
    "\n",
    "if __name__ == '__main__' :\n",
    "    app.run(host='192.168.21.143', port=9000)"
   ],
   "id": "d430735fdf2b54d0",
   "outputs": [],
   "execution_count": null
  },
  {
   "metadata": {},
   "cell_type": "markdown",
   "source": [
    "# DB 연동\n",
    "# cx_Oracle 라이브러리 설치\n",
    "- 데이터 베이스 연동\n",
    "    - 연결객체 : DB연결 (아이디, 패스워드, IP, 포트, DB명)\n",
    "    - 커서객체 : 연결객체에 생성, SQL문을 DB로 보내서 실행하고 실행결과 받아옴"
   ],
   "id": "b233e87e377dfb84"
  },
  {
   "metadata": {
    "ExecuteTime": {
     "end_time": "2024-07-09T07:35:38.838395Z",
     "start_time": "2024-07-09T07:35:38.817181Z"
    }
   },
   "cell_type": "code",
   "source": [
    "import cx_Oracle\n",
    "\n",
    "id_val = \"hr\"\n",
    "pw_val = \"12345\"\n",
    "ip_port_db = \"localhost:1521/xe\"\n",
    "\n",
    "# 예외처리 : 외부환경에 의해 발생하는 오류를 처리하기 위한 루틴\n",
    "# try~except~(else)~(finally)\n",
    "try :\n",
    "    conn = cx_Oracle.connect(id_val, pw_val, ip_port_db)\n",
    "    if conn:\n",
    "        print('연결 성공')\n",
    "except cx_Oracle.DatabaseError as e:\n",
    "    print(e)\n",
    "# 커서 객체\n",
    "cur = conn.cursor()\n",
    "# 쿼리문 실행구조\n",
    "    # 데이터의 내용이 변경되는 SQL : create, drop, insert, update, delete\n",
    "        # SQL문을 실행한 후에 commit()을 해야만 데이터베이스에 반영\n",
    "    # 내용이 변경되지 않는 SQL : select\n",
    "        # 반환값을 받아와야 한다 (cursor 객체로 받아온다)    "
   ],
   "id": "22cd1cfa1b66c0cc",
   "outputs": [
    {
     "name": "stdout",
     "output_type": "stream",
     "text": [
      "연결 성공\n"
     ]
    }
   ],
   "execution_count": 40
  },
  {
   "metadata": {},
   "cell_type": "code",
   "source": [
    "# 테이블 생성\n",
    "sql = \"\"\"create table member_tb1(\n",
    "    code varchar(10) primary key,\n",
    "    name varchar(10) not null ,\n",
    "    age number not null,\n",
    "    id varchar(10) not null,\n",
    "    pw varchar(10) not null)\n",
    "\"\"\"\n",
    "try :\n",
    "    # execute() : SQL문을 데이터베이스로 전송해서 실행\n",
    "    cur.execute(sql)\n",
    "    conn.commit()\n",
    "    print(\"테이블 생성 완료\")\n",
    "except cx_Oracle.DatabaseError as e:\n",
    "    print(e)\n"
   ],
   "id": "a977f02b6c0bca0b",
   "outputs": [],
   "execution_count": null
  },
  {
   "metadata": {
    "ExecuteTime": {
     "end_time": "2024-07-09T07:35:41.886824Z",
     "start_time": "2024-07-09T07:35:41.881604Z"
    }
   },
   "cell_type": "code",
   "source": [
    "# 테이블에 데이터 저장\n",
    "sql = \"insert into member_tb1 values('A001','홍길동','30','hong','1234')\"\n",
    "\n",
    "try:\n",
    "    cur.execute(sql)\n",
    "    conn.commit()\n",
    "    print(\"데이터 저장 성공\")\n",
    "except cx_Oracle.DatabaseError as e:\n",
    "    print(e)"
   ],
   "id": "c3c9b5deacc16bfb",
   "outputs": [
    {
     "name": "stdout",
     "output_type": "stream",
     "text": [
      "ORA-00001: unique constraint (HR.SYS_C007103) violated\n"
     ]
    }
   ],
   "execution_count": 41
  },
  {
   "metadata": {
    "ExecuteTime": {
     "end_time": "2024-07-09T06:48:13.315228Z",
     "start_time": "2024-07-09T06:48:13.307162Z"
    }
   },
   "cell_type": "code",
   "source": [
    "sql = \"select * from member_tb1\"\n",
    "\n",
    "try:\n",
    "    cur.execute(sql)\n",
    "    rs = cur.fetchall()\n",
    "    print(\"데이터 검색 완료\")\n",
    "except cx_Oracle.DatabaseError as e:\n",
    "    print(e)"
   ],
   "id": "b64b2b8c20ac1681",
   "outputs": [
    {
     "name": "stdout",
     "output_type": "stream",
     "text": [
      "데이터 검색 완료\n"
     ]
    }
   ],
   "execution_count": 18
  },
  {
   "metadata": {
    "ExecuteTime": {
     "end_time": "2024-07-09T06:48:22.022277Z",
     "start_time": "2024-07-09T06:48:22.015881Z"
    }
   },
   "cell_type": "code",
   "source": "rs",
   "id": "8f4e39dcf3561796",
   "outputs": [
    {
     "data": {
      "text/plain": [
       "[('A001', '홍길동', 30, 'hong', '1234')]"
      ]
     },
     "execution_count": 19,
     "metadata": {},
     "output_type": "execute_result"
    }
   ],
   "execution_count": 19
  },
  {
   "metadata": {
    "ExecuteTime": {
     "end_time": "2024-07-09T06:48:33.773383Z",
     "start_time": "2024-07-09T06:48:33.768813Z"
    }
   },
   "cell_type": "code",
   "source": [
    "sql = \"select * from member_tb1\"\n",
    "\n",
    "try:\n",
    "    cur.execute(sql)\n",
    "    rs = cur.fetchone()\n",
    "    print(\"데이터 검색 완료\")\n",
    "except cx_Oracle.DatabaseError as e:\n",
    "    print(e)"
   ],
   "id": "eaee8268a39ca66a",
   "outputs": [
    {
     "name": "stdout",
     "output_type": "stream",
     "text": [
      "데이터 검색 완료\n"
     ]
    }
   ],
   "execution_count": 20
  },
  {
   "metadata": {
    "ExecuteTime": {
     "end_time": "2024-07-09T06:48:38.020539Z",
     "start_time": "2024-07-09T06:48:38.015935Z"
    }
   },
   "cell_type": "code",
   "source": "rs",
   "id": "112a5ed63c73fb26",
   "outputs": [
    {
     "data": {
      "text/plain": [
       "('A001', '홍길동', 30, 'hong', '1234')"
      ]
     },
     "execution_count": 22,
     "metadata": {},
     "output_type": "execute_result"
    }
   ],
   "execution_count": 22
  },
  {
   "metadata": {
    "ExecuteTime": {
     "end_time": "2024-07-09T06:50:14.226065Z",
     "start_time": "2024-07-09T06:50:14.219514Z"
    }
   },
   "cell_type": "code",
   "source": [
    "sql = \"update member_tb1 set age=31 where code='A001'\"\n",
    "try:\n",
    "    cur.execute(sql)\n",
    "    conn.commit()\n",
    "    print(\"데이터 수정 완료\")\n",
    "except cx_Oracle.DatabaseError as e:\n",
    "    print(e)\n"
   ],
   "id": "ee017c2d3568503e",
   "outputs": [
    {
     "name": "stdout",
     "output_type": "stream",
     "text": [
      "데이터 수정 완료\n"
     ]
    }
   ],
   "execution_count": 23
  },
  {
   "metadata": {
    "ExecuteTime": {
     "end_time": "2024-07-09T06:50:29.965176Z",
     "start_time": "2024-07-09T06:50:29.959287Z"
    }
   },
   "cell_type": "code",
   "source": [
    "sql = \"delete from member_tb1 where code='A001'\"\n",
    "try:\n",
    "    cur.execute(sql)\n",
    "    conn.commit()\n",
    "    print(\"데이터 삭제 완료\")\n",
    "except cx_Oracle.DatabaseError as e:\n",
    "    print(e)"
   ],
   "id": "86c7537f5b64bd24",
   "outputs": [
    {
     "name": "stdout",
     "output_type": "stream",
     "text": [
      "데이터 삭제 완료\n"
     ]
    }
   ],
   "execution_count": 24
  },
  {
   "metadata": {},
   "cell_type": "markdown",
   "source": "# Login 기능 만들기",
   "id": "70a66492c8d27261"
  },
  {
   "metadata": {},
   "cell_type": "code",
   "outputs": [],
   "execution_count": null,
   "source": "# DB 관리 모듈 만들기\n",
   "id": "da1a7de8ae4c3337"
  },
  {
   "metadata": {
    "jupyter": {
     "is_executing": true
    },
    "ExecuteTime": {
     "start_time": "2024-07-09T07:37:17.349310Z"
    }
   },
   "cell_type": "code",
   "source": [
    "from flask import Flask, render_template, request\n",
    "from DB_Manage import db_conn, db_disconn, db_search\n",
    "\n",
    "app = Flask(__name__)\n",
    "\n",
    "@app.route('/')\n",
    "def home():\n",
    "    return render_template('login2.html')\n",
    "\n",
    "@app.route('/login_ok', methods=['POST'])\n",
    "def login():\n",
    "    id_val = request.form['id']\n",
    "    pw_val = request.form['pw']\n",
    "    \n",
    "    conn, cur = db_conn()\n",
    "    rs = db_search(cur,id_val, pw_val)\n",
    "    db_disconn(conn,cur)\n",
    "    \n",
    "    print(rs)\n",
    "    \n",
    "    return f\"code : {rs[0]}, 이름 : {rs[1]}, 나이 : {rs[2]}\"\n",
    "    \n",
    "if __name__ == '__main__':\n",
    "    app.run(host='192.168.21.143', port=9000)"
   ],
   "id": "a9e391325d5219d9",
   "outputs": [
    {
     "name": "stdout",
     "output_type": "stream",
     "text": [
      " * Serving Flask app '__main__'\n",
      " * Debug mode: off\n"
     ]
    },
    {
     "name": "stderr",
     "output_type": "stream",
     "text": [
      "WARNING: This is a development server. Do not use it in a production deployment. Use a production WSGI server instead.\n",
      " * Running on http://192.168.21.143:9000\n",
      "Press CTRL+C to quit\n",
      "192.168.21.143 - - [09/Jul/2024 16:37:20] \"GET / HTTP/1.1\" 200 -\n",
      "192.168.21.143 - - [09/Jul/2024 16:37:27] \"POST /login_ok HTTP/1.1\" 200 -\n"
     ]
    },
    {
     "name": "stdout",
     "output_type": "stream",
     "text": [
      "DB 연결 성공\n",
      "DB 연결 종료\n",
      "('A001', '홍길동', 30)\n"
     ]
    }
   ],
   "execution_count": null
  },
  {
   "metadata": {},
   "cell_type": "code",
   "outputs": [],
   "execution_count": null,
   "source": "",
   "id": "17e28c928124b614"
  }
 ],
 "metadata": {
  "kernelspec": {
   "display_name": "Python 3",
   "language": "python",
   "name": "python3"
  },
  "language_info": {
   "codemirror_mode": {
    "name": "ipython",
    "version": 2
   },
   "file_extension": ".py",
   "mimetype": "text/x-python",
   "name": "python",
   "nbconvert_exporter": "python",
   "pygments_lexer": "ipython2",
   "version": "2.7.6"
  }
 },
 "nbformat": 4,
 "nbformat_minor": 5
}
