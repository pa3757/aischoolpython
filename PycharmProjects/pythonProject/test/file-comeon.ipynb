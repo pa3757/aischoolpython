{
 "cells": [
  {
   "cell_type": "code",
   "id": "initial_id",
   "metadata": {
    "collapsed": true,
    "ExecuteTime": {
     "end_time": "2024-07-17T02:21:45.196637Z",
     "start_time": "2024-07-17T02:21:45.191042Z"
    }
   },
   "source": [
    "import os\n",
    "import xml.etree.ElementTree as ET\n",
    "\n",
    "def extract_image_paths(xml_file):\n",
    "    tree = ET.parse(xml_file)\n",
    "    root = tree.getroot()\n",
    "    \n",
    "    image_paths = []\n",
    "    for annotation in root.findall('annotation'):\n",
    "        path = annotation.find('path').text\n",
    "        normalized_path = os.path.normpath(path)\n",
    "        image_paths.append(normalized_path)\n",
    "    \n",
    "    return image_paths\n",
    "\n",
    "# 예제 XML 파일 경로\n",
    "xml_file = '10001_00_m_19_meta.xml'\n",
    "\n",
    "# 이미지 경로 추출\n",
    "image_paths = extract_image_paths(xml_file)\n",
    "print(image_paths)\n"
   ],
   "outputs": [
    {
     "name": "stdout",
     "output_type": "stream",
     "text": [
      "['\\\\119.상품 이미지 데이터\\\\01.데이터\\\\2.Validation\\\\원천데이터\\\\음료\\\\10001_유어스광동어성초500ml\\\\10001_00_m_19.jpg']\n"
     ]
    }
   ],
   "execution_count": 4
  },
  {
   "metadata": {
    "ExecuteTime": {
     "end_time": "2024-07-17T02:21:53.404531Z",
     "start_time": "2024-07-17T02:21:53.392369Z"
    }
   },
   "cell_type": "code",
   "source": "",
   "id": "e2dc574aa4f7e822",
   "outputs": [
    {
     "name": "stdout",
     "output_type": "stream",
     "text": [
      "파일을 찾을 수 없습니다: \\119.상품 이미지 데이터\\01.데이터\\2.Validation\\원천데이터\\음료\\10001_유어스광동어성초500ml\\10001_00_m_19.jpg\n"
     ]
    }
   ],
   "execution_count": 5
  },
  {
   "metadata": {},
   "cell_type": "code",
   "outputs": [],
   "execution_count": null,
   "source": "",
   "id": "9faf6e6afb8f82d4"
  }
 ],
 "metadata": {
  "kernelspec": {
   "display_name": "Python 3",
   "language": "python",
   "name": "python3"
  },
  "language_info": {
   "codemirror_mode": {
    "name": "ipython",
    "version": 2
   },
   "file_extension": ".py",
   "mimetype": "text/x-python",
   "name": "python",
   "nbconvert_exporter": "python",
   "pygments_lexer": "ipython2",
   "version": "2.7.6"
  }
 },
 "nbformat": 4,
 "nbformat_minor": 5
}
