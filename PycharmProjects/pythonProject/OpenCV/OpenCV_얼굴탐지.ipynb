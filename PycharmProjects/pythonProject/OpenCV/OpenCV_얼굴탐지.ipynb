{
 "cells": [
  {
   "cell_type": "code",
   "execution_count": null,
   "id": "initial_id",
   "metadata": {
    "collapsed": true
   },
   "outputs": [],
   "source": [
    "import cv2\n",
    "\n",
    "video_path = '12005612_1920_1080_30fps.mp4'\n",
    "cap = cv2.VideoCapture(video_path)\n",
    "\n",
    "while True:\n",
    "    ret, frame = cap.read()\n",
    "    if not ret:\n",
    "        break\n",
    "    cv2.imshow('Video', frame)\n",
    "    if cv2.waitKey(1) == ord('q'):\n",
    "        break\n",
    "        \n",
    "cap.release()\n",
    "cv2.destroyAllWindows()"
   ]
  },
  {
   "metadata": {},
   "cell_type": "code",
   "outputs": [],
   "execution_count": null,
   "source": [
    "# 가상환경\n",
    "# conda create -n opencv python==3.11\n",
    "\n",
    "# pip install opencv-python\n",
    "# pip install matplotlib\n",
    "\n",
    "# 가상환경 확인\n",
    "# conda env list\n",
    "# 가상환경 실행\n",
    "# activate opencv\n",
    "# 가상환경 접속\n"
   ],
   "id": "6d49677cc8e86b68"
  },
  {
   "metadata": {
    "ExecuteTime": {
     "end_time": "2024-07-16T07:07:54.656397Z",
     "start_time": "2024-07-16T07:07:31.815167Z"
    }
   },
   "cell_type": "code",
   "source": [
    "import cvlib as cv\n",
    "import cv2\n",
    "\n",
    "img = cv2.imread('img/choi.jpg')\n",
    "cv2.imshow('choi',img)\n",
    "faces, conf = cv.detect_face(img)\n",
    "print(faces, conf)\n",
    "cv2.waitKey(0)\n",
    "cv2.destroyAllWindows()\n"
   ],
   "id": "996f57a8de179d36",
   "outputs": [
    {
     "name": "stdout",
     "output_type": "stream",
     "text": [
      "[[63, 55, 140, 159], [70, 91, 92, 111]] [0.99995863, 0.7158506]\n"
     ]
    }
   ],
   "execution_count": 4
  },
  {
   "metadata": {
    "ExecuteTime": {
     "end_time": "2024-07-17T05:43:46.867736Z",
     "start_time": "2024-07-17T05:43:44.576499Z"
    }
   },
   "cell_type": "code",
   "source": [
    "# 0,1 = 좌상단\n",
    "# 2,3 = 우하단\n",
    "import cv2\n",
    "import numpy as np\n",
    "img = cv2.imread('img/choi.jpg')\n",
    "faces, conf = cv.detect_face(img)\n",
    "sub_img = img[faces[0][1]:faces[0][3], faces[0][0]:faces[0][2]]\n",
    "# 잘린 얼굴 모자이크하기\n",
    "kernel = np.ones((10,10)) / 100\n",
    "sub_img = cv2.filter2D(sub_img, -1, kernel)\n",
    "for i in range(len(faces)):\n",
    "    top_left = faces[i][0], faces[i][1]\n",
    "    bottom_right = faces[i][2], faces[i][3]\n",
    "    cv2.rectangle(img, top_left, bottom_right, (0,250, 0), 2)\n",
    "cv2.imshow('choi', img)\n",
    "cv2.imshow('sub', sub_img)\n",
    "cv2.waitKey(0)\n",
    "cv2.destroyAllWindows()"
   ],
   "id": "b678624edfae2143",
   "outputs": [],
   "execution_count": 6
  },
  {
   "metadata": {
    "ExecuteTime": {
     "end_time": "2024-07-17T06:49:01.411237Z",
     "start_time": "2024-07-17T06:48:56.095369Z"
    }
   },
   "cell_type": "code",
   "source": [
    "import cv2\n",
    "import cvlib as cv\n",
    "import numpy as np\n",
    "\n",
    "# 카메라 열기\n",
    "cap = cv2.VideoCapture(0)\n",
    "cnt = 1\n",
    "\n",
    "blur = False\n",
    "\n",
    "while True:\n",
    "    # 프레임 읽기\n",
    "    ret, frame = cap.read()\n",
    "    \n",
    "    # 프레임 좌우 반전\n",
    "    frame = cv2.flip(frame, 1)\n",
    "    \n",
    "    # 얼굴 탐지\n",
    "    faces, conf = cv.detect_face(frame)\n",
    "    \n",
    "    # 탐지된 얼굴에 사각형 그리기\n",
    "    for i in range(len(faces)):\n",
    "        top_left = faces[i][0], faces[i][1]\n",
    "        bottom_right = faces[i][2], faces[i][3]\n",
    "        cv2.rectangle(frame, top_left, bottom_right, (0, 250, 0), 2)\n",
    "    \n",
    "    # 키 입력 처리\n",
    "    key = cv2.waitKey(1)\n",
    "    \n",
    "    if key == ord('q'):  # 'q' 키를 누르면 종료\n",
    "        break\n",
    "    if key == ord('w'):  # 'w' 키를 누르면 이미지 저장\n",
    "        cv2.imwrite(f\"img/choi{cnt}.jpg\", frame)\n",
    "        cnt += 1\n",
    "    if key == ord('e'):  # 'e' 키를 누르면 얼굴 영역 모자이크 처리\n",
    "        blur = not blur\n",
    "    if blur:\n",
    "        for i in range(len(faces)):\n",
    "            sub_frame = frame[faces[i][1]:faces[i][3], faces[i][0]:faces[i][2]]\n",
    "            kernel = np.ones((10,10)) / 100\n",
    "            sub_frame = cv2.filter2D(sub_frame, -1, kernel)\n",
    "            frame[faces[i][1]:faces[i][3], faces[i][0]:faces[i][2]] = sub_frame\n",
    "    # 프레임 출력\n",
    "    cv2.imshow('Video', frame)\n",
    "\n",
    "# 자원 해제\n",
    "cap.release()\n",
    "cv2.destroyAllWindows()\n"
   ],
   "id": "cbed812d9843182c",
   "outputs": [],
   "execution_count": 10
  },
  {
   "metadata": {},
   "cell_type": "markdown",
   "source": [
    "```\n",
    "# 전체 영역 모자이크\n",
    "# 모자이크의 정도\n",
    "import numpy as np\n",
    "kernel = np.ones((10,10)) / 100\n",
    "# 모자이크 영역\n",
    "img = cv2.filter2D(img, -1, kernel)\n",
    "```"
   ],
   "id": "54cb67452f47e089"
  },
  {
   "metadata": {},
   "cell_type": "code",
   "outputs": [],
   "execution_count": null,
   "source": "",
   "id": "fd8ad28868a7dbff"
  },
  {
   "metadata": {},
   "cell_type": "markdown",
   "source": "",
   "id": "59d97c92fdf5f268"
  }
 ],
 "metadata": {
  "kernelspec": {
   "display_name": "Python 3",
   "language": "python",
   "name": "python3"
  },
  "language_info": {
   "codemirror_mode": {
    "name": "ipython",
    "version": 2
   },
   "file_extension": ".py",
   "mimetype": "text/x-python",
   "name": "python",
   "nbconvert_exporter": "python",
   "pygments_lexer": "ipython2",
   "version": "2.7.6"
  }
 },
 "nbformat": 4,
 "nbformat_minor": 5
}
