{
 "cells": [
  {
   "cell_type": "code",
   "execution_count": null,
   "id": "initial_id",
   "metadata": {
    "collapsed": true
   },
   "outputs": [],
   "source": [
    "import cv2\n",
    "\n",
    "video_path = '12005612_1920_1080_30fps.mp4'\n",
    "cap = cv2.VideoCapture(video_path)\n",
    "\n",
    "while True:\n",
    "    ret, frame = cap.read()\n",
    "    if not ret:\n",
    "        break\n",
    "    cv2.imshow('Video', frame)\n",
    "    if cv2.waitKey(1) == ord('q'):\n",
    "        break\n",
    "        \n",
    "cap.release()\n",
    "cv2.destroyAllWindows()"
   ]
  },
  {
   "metadata": {},
   "cell_type": "code",
   "outputs": [],
   "execution_count": null,
   "source": [
    "# 가상환경\n",
    "# conda create -n opencv python==3.11\n",
    "\n",
    "# pip install opencv-python\n",
    "# pip install matplotlib\n",
    "\n",
    "# 가상환경 확인\n",
    "# conda env list\n",
    "# 가상환경 실행\n",
    "# activate opencv\n",
    "# 가상환경 접속\n"
   ],
   "id": "6d49677cc8e86b68"
  },
  {
   "metadata": {
    "ExecuteTime": {
     "end_time": "2024-07-16T07:07:54.656397Z",
     "start_time": "2024-07-16T07:07:31.815167Z"
    }
   },
   "cell_type": "code",
   "source": [
    "import cvlib as cv\n",
    "import cv2\n",
    "\n",
    "img = cv2.imread('img/choi.jpg')\n",
    "cv2.imshow('choi',img)\n",
    "faces, conf = cv.detect_face(img)\n",
    "print(faces, conf)\n",
    "cv2.waitKey(0)\n",
    "cv2.destroyAllWindows()\n"
   ],
   "id": "996f57a8de179d36",
   "outputs": [
    {
     "name": "stdout",
     "output_type": "stream",
     "text": [
      "[[63, 55, 140, 159], [70, 91, 92, 111]] [0.99995863, 0.7158506]\n"
     ]
    }
   ],
   "execution_count": 4
  },
  {
   "metadata": {
    "ExecuteTime": {
     "end_time": "2024-07-16T07:26:15.485184Z",
     "start_time": "2024-07-16T07:26:13.466523Z"
    }
   },
   "cell_type": "code",
   "source": [
    "# 0,1 = 좌상단\n",
    "# 2,3 = 우하단\n",
    "import cv2\n",
    "img = cv2.imread('img/choi.jpg')\n",
    "faces, conf = cv.detect_face(img)\n",
    "for i in range(len(faces)):\n",
    "    top_left = faces[i][0], faces[i][1]\n",
    "    bottom_right = faces[i][2], faces[i][3]\n",
    "    cv2.rectangle(img, top_left, bottom_right, (0,250, 0), 2)\n",
    "cv2.imshow('choi', img)\n",
    "cv2.waitKey(0)\n",
    "cv2.destroyAllWindows()"
   ],
   "id": "b678624edfae2143",
   "outputs": [],
   "execution_count": 17
  },
  {
   "metadata": {
    "ExecuteTime": {
     "end_time": "2024-07-16T07:47:52.080017Z",
     "start_time": "2024-07-16T07:47:48.702579Z"
    }
   },
   "cell_type": "code",
   "source": [
    "# 카메라로 얼굴 탐지\n",
    "import cv2\n",
    "import cvlib as cv\n",
    "import numpy as np\n",
    "\n",
    "cap = cv2.VideoCapture(0)\n",
    "cnt = 1\n",
    "\n",
    "while True:\n",
    "    ret, frame = cap.read()\n",
    "    frame = cv2.flip(frame, 1)\n",
    "    faces, conf = cv.detect_face(frame)\n",
    "    for i in range(len(faces)):\n",
    "        top_left = faces[i][0], faces[i][1]\n",
    "        bottom_right = faces[i][2], faces[i][3]\n",
    "        cv2.rectangle(frame, top_left, bottom_right, (0,250, 0), 2)\n",
    "    cv2.imshow('Video', frame)\n",
    "    if cv2.waitKey(1) == ord('q'):\n",
    "        break\n",
    "    if cv2.waitKey(1) == ord('w'):\n",
    "        cv2.imwrite(f\"img/choi{cnt}.jpg\", frame)\n",
    "        cnt += 1\n",
    "    if cv2.waitKey(1) == ord('e'):\n",
    "        blur = not blur\n",
    "    if blur :\n",
    "        kernel = np.ones((20,20)) / 400\n",
    "        frame = cv2.filter2D(frame, -1, kernel)\n",
    "                \n",
    "\n",
    "cap.release()\n",
    "cv2.destroyAllWindows()\n"
   ],
   "id": "cbed812d9843182c",
   "outputs": [
    {
     "ename": "NameError",
     "evalue": "name 'blur' is not defined",
     "output_type": "error",
     "traceback": [
      "\u001B[1;31m---------------------------------------------------------------------------\u001B[0m",
      "\u001B[1;31mNameError\u001B[0m                                 Traceback (most recent call last)",
      "Cell \u001B[1;32mIn[26], line 25\u001B[0m\n\u001B[0;32m     23\u001B[0m \u001B[38;5;28;01mif\u001B[39;00m cv2\u001B[38;5;241m.\u001B[39mwaitKey(\u001B[38;5;241m1\u001B[39m) \u001B[38;5;241m==\u001B[39m \u001B[38;5;28mord\u001B[39m(\u001B[38;5;124m'\u001B[39m\u001B[38;5;124me\u001B[39m\u001B[38;5;124m'\u001B[39m):\n\u001B[0;32m     24\u001B[0m     blur \u001B[38;5;241m=\u001B[39m \u001B[38;5;129;01mnot\u001B[39;00m blur\n\u001B[1;32m---> 25\u001B[0m \u001B[38;5;28;01mif\u001B[39;00m blur :\n\u001B[0;32m     26\u001B[0m     kernel \u001B[38;5;241m=\u001B[39m np\u001B[38;5;241m.\u001B[39mones((\u001B[38;5;241m20\u001B[39m,\u001B[38;5;241m20\u001B[39m)) \u001B[38;5;241m/\u001B[39m \u001B[38;5;241m400\u001B[39m\n\u001B[0;32m     27\u001B[0m     frame \u001B[38;5;241m=\u001B[39m cv2\u001B[38;5;241m.\u001B[39mfilter2D(frame, \u001B[38;5;241m-\u001B[39m\u001B[38;5;241m1\u001B[39m, kernel)\n",
      "\u001B[1;31mNameError\u001B[0m: name 'blur' is not defined"
     ]
    }
   ],
   "execution_count": 26
  },
  {
   "metadata": {},
   "cell_type": "code",
   "outputs": [],
   "execution_count": null,
   "source": "",
   "id": "fd8ad28868a7dbff"
  }
 ],
 "metadata": {
  "kernelspec": {
   "display_name": "Python 3",
   "language": "python",
   "name": "python3"
  },
  "language_info": {
   "codemirror_mode": {
    "name": "ipython",
    "version": 2
   },
   "file_extension": ".py",
   "mimetype": "text/x-python",
   "name": "python",
   "nbconvert_exporter": "python",
   "pygments_lexer": "ipython2",
   "version": "2.7.6"
  }
 },
 "nbformat": 4,
 "nbformat_minor": 5
}
