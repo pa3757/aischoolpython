{
 "cells": [
  {
   "cell_type": "code",
   "id": "initial_id",
   "metadata": {
    "collapsed": true,
    "ExecuteTime": {
     "end_time": "2024-07-17T08:00:28.980208Z",
     "start_time": "2024-07-17T07:47:09.548431Z"
    }
   },
   "source": [
    "import cv2\n",
    "import numpy as np\n",
    "\n",
    "# 이미지 읽기\n",
    "img = cv2.imread('img/card.jpg')\n",
    "cv2.imshow('img', img)\n",
    "\n",
    "# 출력될 최종 이미지 크기\n",
    "width, height = 360, 640\n",
    "\n",
    "xy_list = []  # [[좌상 x,y],[우상 x,y],[우하 x,y],[좌하 x,y]]\n",
    "\n",
    "# 마우스 클릭 이벤트를 정의하는 함수\n",
    "def mouse_click(event, x, y, flags, param):\n",
    "    if event == cv2.EVENT_LBUTTONDOWN:\n",
    "        xy_list.append([x, y])\n",
    "        # 클릭한 좌표에 원 그리기\n",
    "        cv2.circle(img, (x, y), 10, (0, 0, 255), -1)\n",
    "        cv2.imshow('img', img)\n",
    "        if len(xy_list) == 4:\n",
    "            crop_img(width, height)  # 4개의 점이 모두 선택되면 crop_img 함수 호출\n",
    "\n",
    "# 4개의 점이 있을 때, 해당 영역을 잘라서 직사각형의 형태로 만들기\n",
    "def crop_img(width, height):\n",
    "    # 4개의 값 가져오기, np.array로 형식 변경\n",
    "    src = np.array(xy_list, np.float32)\n",
    "    # 변환 후의 이미지 크기의 좌표를 미리 생성\n",
    "    dst = np.array([[0, 0], [width, 0], [width, height], [0, height]], np.float32)\n",
    "    # 원근 변환을 적용하여 이미지 변환 > 사다리꼴을 직사각형으로\n",
    "    # 1) 원근 변환 행렬 > 직사각형으로 만들기 위해 직사각형의 행렬 제작\n",
    "    matrix = cv2.getPerspectiveTransform(src, dst)\n",
    "    # 2) 원근 변환 적용 > 이미지를 직사각형 모양으로 변환\n",
    "    result = cv2.warpPerspective(img, matrix, (width, height))\n",
    "    cv2.imshow('result', result)\n",
    "\n",
    "# 이미지 윈도우에 마우스 이벤트를 처리할 함수를 등록\n",
    "cv2.namedWindow('img')\n",
    "\n",
    "# setMouseCallback 함수를 통해 마우스 이벤트를 처리할 함수를 등록\n",
    "cv2.setMouseCallback('img', mouse_click)\n",
    "\n",
    "cv2.waitKey(0)\n",
    "cv2.destroyAllWindows()\n"
   ],
   "outputs": [],
   "execution_count": 24
  },
  {
   "metadata": {},
   "cell_type": "code",
   "outputs": [],
   "execution_count": null,
   "source": "",
   "id": "854bae06a075075a"
  }
 ],
 "metadata": {
  "kernelspec": {
   "display_name": "Python 3",
   "language": "python",
   "name": "python3"
  },
  "language_info": {
   "codemirror_mode": {
    "name": "ipython",
    "version": 2
   },
   "file_extension": ".py",
   "mimetype": "text/x-python",
   "name": "python",
   "nbconvert_exporter": "python",
   "pygments_lexer": "ipython2",
   "version": "2.7.6"
  }
 },
 "nbformat": 4,
 "nbformat_minor": 5
}
