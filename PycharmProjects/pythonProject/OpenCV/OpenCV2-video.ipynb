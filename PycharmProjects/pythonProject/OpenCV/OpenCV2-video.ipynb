{
 "cells": [
  {
   "cell_type": "code",
   "id": "initial_id",
   "metadata": {
    "collapsed": true,
    "ExecuteTime": {
     "end_time": "2024-07-16T05:25:20.774810Z",
     "start_time": "2024-07-16T05:25:04.131470Z"
    }
   },
   "source": [
    "import cv2\n",
    "# conda env list : 만들어진 가상환경 이름과 주소 확인하기\n",
    "# 동영상 출력하기\n",
    "video_path = '12005612_1920_1080_30fps.mp4'\n",
    "cap = cv2.VideoCapture(video_path)\n",
    "# 비디오는 초당 30프레임으로 구성되어 있음\n",
    "while True:\n",
    "    # 순서대로 사진 한장 가져오기\n",
    "    # ret : 사진을 읽으면 True, 못 읽으면 False\n",
    "    # frame : 읽어온 사진 한장\n",
    "    ret, frame = cap.read()\n",
    "    if not ret:\n",
    "        break\n",
    "    cv2.imshow('Video', frame)\n",
    "    if cv2.waitKey(1) == ord('q'):\n",
    "        # 특정 시간만큼 키보드 입력을 기다림\n",
    "        # 0이 아닌 수를 적을 때 : 해당숫자의 ms 만큼 대기 후 다음코드 진행\n",
    "        # 0을 적을 때 : 키보드 입력이 있을 때까지 대기\n",
    "        break\n",
    "cap.release()\n",
    "cv2.destroyAllWindows()\n"
   ],
   "outputs": [],
   "execution_count": 1
  },
  {
   "metadata": {},
   "cell_type": "code",
   "outputs": [],
   "execution_count": null,
   "source": [
    "import cv2\n",
    "\n",
    "video_path = 0\n",
    "cap = cv2.VideoCapture(video_path)\n",
    "\n",
    "while True:\n",
    "\n",
    "    ret, frame = cap.read()\n",
    "    if not ret:\n",
    "        break\n",
    "    cv2.imshow('Video', frame)\n",
    "    if cv2.waitKey(1) == ord('q'):\n",
    "        break\n",
    "        \n",
    "cap.release()\n",
    "cv2.destroyAllWindows()\n"
   ],
   "id": "beea46206b8360e8"
  },
  {
   "metadata": {
    "ExecuteTime": {
     "end_time": "2024-07-16T06:24:31.877496Z",
     "start_time": "2024-07-16T06:24:22.451700Z"
    }
   },
   "cell_type": "code",
   "source": [
    "# 캡처 기능 추가하기\n",
    "import cv2\n",
    "\n",
    "video_path = '12005612_1920_1080_30fps.mp4'\n",
    "cap = cv2.VideoCapture(video_path)\n",
    "i=1\n",
    "\n",
    "while True:\n",
    "\n",
    "    ret, frame = cap.read()\n",
    "    if not ret:\n",
    "        break\n",
    "    cv2.imshow('Video', frame)\n",
    "    if cv2.waitKey(1) == ord('q'):\n",
    "        break\n",
    "    if cv2.waitKey(1) == ord('w'):\n",
    "        # 이미지 저장하기\n",
    "        # i는 1부터 1씩 증가\n",
    "        cv2.imwrite(f'capture{i}.png', frame, params = [cv2.IMWRITE_PNG_COMPRESSION, 0])\n",
    "        i += 1\n",
    "        \n",
    "        \n",
    "        \n",
    "cap.release()\n",
    "cv2.destroyAllWindows()\n"
   ],
   "id": "684cd282a7f5910c",
   "outputs": [],
   "execution_count": 5
  },
  {
   "metadata": {},
   "cell_type": "code",
   "outputs": [],
   "execution_count": null,
   "source": "",
   "id": "4fc42444a564eaf9"
  }
 ],
 "metadata": {
  "kernelspec": {
   "display_name": "Python 3",
   "language": "python",
   "name": "python3"
  },
  "language_info": {
   "codemirror_mode": {
    "name": "ipython",
    "version": 2
   },
   "file_extension": ".py",
   "mimetype": "text/x-python",
   "name": "python",
   "nbconvert_exporter": "python",
   "pygments_lexer": "ipython2",
   "version": "2.7.6"
  }
 },
 "nbformat": 4,
 "nbformat_minor": 5
}
