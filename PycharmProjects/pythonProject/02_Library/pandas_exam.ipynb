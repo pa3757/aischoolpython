{
 "cells": [
  {
   "metadata": {},
   "cell_type": "markdown",
   "source": [
    "### Pandas\n",
    "- 행과 열을 가지는 표와같은 형태의 데이터를 다루는 라이브러리\n",
    "    - 데이터프레임(DataFrame) : 2차원 배열 형태의 데이터 구조\n",
    "    - 시리즈(Series) : 1차원 배열 형태의 데이터 구조 "
   ],
   "id": "560f84cde33814c"
  },
  {
   "metadata": {
    "ExecuteTime": {
     "end_time": "2024-06-24T03:18:30.942609Z",
     "start_time": "2024-06-24T03:18:30.559402Z"
    }
   },
   "cell_type": "code",
   "source": "import pandas as pd",
   "id": "e494799e20f28297",
   "outputs": [],
   "execution_count": 1
  },
  {
   "metadata": {
    "ExecuteTime": {
     "end_time": "2024-06-24T03:18:45.446475Z",
     "start_time": "2024-06-24T03:18:45.435298Z"
    }
   },
   "cell_type": "code",
   "source": "pd.Series([9668465,3391946,2942828,1450062])",
   "id": "844f55cecb2ee2",
   "outputs": [
    {
     "data": {
      "text/plain": [
       "0    9668465\n",
       "1    3391946\n",
       "2    2942828\n",
       "3    1450062\n",
       "dtype: int64"
      ]
     },
     "execution_count": 2,
     "metadata": {},
     "output_type": "execute_result"
    }
   ],
   "execution_count": 2
  },
  {
   "metadata": {
    "ExecuteTime": {
     "end_time": "2024-06-24T03:20:49.162364Z",
     "start_time": "2024-06-24T03:20:49.156374Z"
    }
   },
   "cell_type": "code",
   "source": [
    "# Series 생성시 데이터만 넣으면 인덱스 자동 배정\n",
    "# 인덱스명 지정도 가능\n",
    "population = pd.Series([9668465,3391946,2942828,1450062], \n",
    "                       index = ['서울','부산','인천','광주'])\n",
    "population"
   ],
   "id": "89e359b1a2bca3dc",
   "outputs": [
    {
     "data": {
      "text/plain": [
       "서울    9668465\n",
       "부산    3391946\n",
       "인천    2942828\n",
       "광주    1450062\n",
       "dtype: int64"
      ]
     },
     "execution_count": 5,
     "metadata": {},
     "output_type": "execute_result"
    }
   ],
   "execution_count": 5
  },
  {
   "metadata": {},
   "cell_type": "markdown",
   "source": "### Series 데이터 확인",
   "id": "1a0b04e7115b0f4a"
  },
  {
   "metadata": {
    "ExecuteTime": {
     "end_time": "2024-06-24T03:21:28.250999Z",
     "start_time": "2024-06-24T03:21:28.245388Z"
    }
   },
   "cell_type": "code",
   "source": [
    "# Series의 값만 확인\n",
    "population.values\n",
    "# 넘파이 배열 형태로 출력 -> 요소별 연산 가능"
   ],
   "id": "3b5f78aaa602cc93",
   "outputs": [
    {
     "data": {
      "text/plain": [
       "array([9668465, 3391946, 2942828, 1450062], dtype=int64)"
      ]
     },
     "execution_count": 6,
     "metadata": {},
     "output_type": "execute_result"
    }
   ],
   "execution_count": 6
  },
  {
   "metadata": {
    "ExecuteTime": {
     "end_time": "2024-06-24T03:25:12.434294Z",
     "start_time": "2024-06-24T03:25:12.428440Z"
    }
   },
   "cell_type": "code",
   "source": [
    "# 인덱스만 확인\n",
    "population.index"
   ],
   "id": "b1fccb88b4d9db9",
   "outputs": [
    {
     "data": {
      "text/plain": [
       "Index(['서울', '부산', '인천', '광주'], dtype='object')"
      ]
     },
     "execution_count": 7,
     "metadata": {},
     "output_type": "execute_result"
    }
   ],
   "execution_count": 7
  },
  {
   "metadata": {
    "ExecuteTime": {
     "end_time": "2024-06-24T03:25:29.913308Z",
     "start_time": "2024-06-24T03:25:29.908326Z"
    }
   },
   "cell_type": "code",
   "source": [
    "# 데이터 타입 확인\n",
    "population.dtype\n",
    "# index는 데이터가 아님! -> 실제 value 의 타입만 출력"
   ],
   "id": "d417e592dfc60c88",
   "outputs": [
    {
     "data": {
      "text/plain": [
       "dtype('int64')"
      ]
     },
     "execution_count": 8,
     "metadata": {},
     "output_type": "execute_result"
    }
   ],
   "execution_count": 8
  },
  {
   "metadata": {
    "ExecuteTime": {
     "end_time": "2024-06-24T03:26:56.290058Z",
     "start_time": "2024-06-24T03:26:56.282905Z"
    }
   },
   "cell_type": "code",
   "source": [
    "# Series 데이터 이름 지정\n",
    "# 값에 이름달기\n",
    "population.name = '인구'\n",
    "# 인덱스에 이름달기\n",
    "population.index.name = '도시'\n",
    "population"
   ],
   "id": "4b436c8ab07b6b6c",
   "outputs": [
    {
     "data": {
      "text/plain": [
       "도시\n",
       "서울    9668465\n",
       "부산    3391946\n",
       "인천    2942828\n",
       "광주    1450062\n",
       "Name: 인구, dtype: int64"
      ]
     },
     "execution_count": 11,
     "metadata": {},
     "output_type": "execute_result"
    }
   ],
   "execution_count": 11
  },
  {
   "metadata": {},
   "cell_type": "markdown",
   "source": "### 인덱싱 슬라이싱",
   "id": "aedad46e695ca0d5"
  },
  {
   "metadata": {
    "ExecuteTime": {
     "end_time": "2024-06-24T03:28:37.355978Z",
     "start_time": "2024-06-24T03:28:37.351115Z"
    }
   },
   "cell_type": "code",
   "source": [
    "# 부산의 인구수 추출\n",
    "population['부산']"
   ],
   "id": "5b2a6fd1f1749c36",
   "outputs": [
    {
     "data": {
      "text/plain": [
       "3391946"
      ]
     },
     "execution_count": 12,
     "metadata": {},
     "output_type": "execute_result"
    }
   ],
   "execution_count": 12
  },
  {
   "metadata": {
    "ExecuteTime": {
     "end_time": "2024-06-24T03:30:32.285278Z",
     "start_time": "2024-06-24T03:30:32.278790Z"
    }
   },
   "cell_type": "code",
   "source": [
    "# 부산~광주\n",
    "population[1:]"
   ],
   "id": "9c3e3e24b51d558f",
   "outputs": [
    {
     "data": {
      "text/plain": [
       "도시\n",
       "부산    3391946\n",
       "인천    2942828\n",
       "광주    1450062\n",
       "Name: 인구, dtype: int64"
      ]
     },
     "execution_count": 14,
     "metadata": {},
     "output_type": "execute_result"
    }
   ],
   "execution_count": 14
  },
  {
   "metadata": {
    "ExecuteTime": {
     "end_time": "2024-06-24T03:31:30.007308Z",
     "start_time": "2024-06-24T03:31:29.999752Z"
    }
   },
   "cell_type": "code",
   "source": [
    "# 부산,서울,광주 -> 인덱싱\n",
    "# 인덱싱 -> 여러개의 인덱스 번호를 리스트로 묶어서 출력\n",
    "population[['부산','서울','광주']]"
   ],
   "id": "b897c134c087cc59",
   "outputs": [
    {
     "data": {
      "text/plain": [
       "도시\n",
       "부산    3391946\n",
       "서울    9668465\n",
       "광주    1450062\n",
       "Name: 인구, dtype: int64"
      ]
     },
     "execution_count": 15,
     "metadata": {},
     "output_type": "execute_result"
    }
   ],
   "execution_count": 15
  },
  {
   "metadata": {
    "ExecuteTime": {
     "end_time": "2024-06-24T03:38:04.256834Z",
     "start_time": "2024-06-24T03:38:04.249940Z"
    }
   },
   "cell_type": "code",
   "source": [
    "# 불리언 인덱싱\n",
    "# 인구가 300만 이상인 도시를 출력\n",
    "population[population >= 3000000]"
   ],
   "id": "b18e5557e822a819",
   "outputs": [
    {
     "data": {
      "text/plain": [
       "도시\n",
       "서울    9668465\n",
       "부산    3391946\n",
       "Name: 인구, dtype: int64"
      ]
     },
     "execution_count": 16,
     "metadata": {},
     "output_type": "execute_result"
    }
   ],
   "execution_count": 16
  },
  {
   "metadata": {},
   "cell_type": "markdown",
   "source": "### 딕셔너리를 사용하여 Series 생성하기",
   "id": "6e61ef518fa6a0b2"
  },
  {
   "metadata": {
    "ExecuteTime": {
     "end_time": "2024-06-24T03:43:29.467158Z",
     "start_time": "2024-06-24T03:43:29.461527Z"
    }
   },
   "cell_type": "code",
   "source": [
    "data = {'서울': 9668465, '부산': 3391946, '인천': 2942828, '광주': 1450062}\n",
    "pd.Series(data)"
   ],
   "id": "183516ec443e98d1",
   "outputs": [
    {
     "data": {
      "text/plain": [
       "서울    9668465\n",
       "부산    3391946\n",
       "인천    2942828\n",
       "광주    1450062\n",
       "dtype: int64"
      ]
     },
     "execution_count": 17,
     "metadata": {},
     "output_type": "execute_result"
    }
   ],
   "execution_count": 17
  },
  {
   "metadata": {
    "ExecuteTime": {
     "end_time": "2024-06-24T03:45:58.337727Z",
     "start_time": "2024-06-24T03:45:58.331078Z"
    }
   },
   "cell_type": "code",
   "source": [
    "# Series에서 비어있지 않은 값들만 확인\n",
    "population.notnull()"
   ],
   "id": "5abc474b74abc947",
   "outputs": [
    {
     "data": {
      "text/plain": [
       "도시\n",
       "서울    True\n",
       "부산    True\n",
       "인천    True\n",
       "광주    True\n",
       "Name: 인구, dtype: bool"
      ]
     },
     "execution_count": 18,
     "metadata": {},
     "output_type": "execute_result"
    }
   ],
   "execution_count": 18
  },
  {
   "metadata": {
    "ExecuteTime": {
     "end_time": "2024-06-24T03:46:45.557788Z",
     "start_time": "2024-06-24T03:46:45.552550Z"
    }
   },
   "cell_type": "code",
   "source": [
    "# Series에서 비어있는 값들만 확인\n",
    "population.isnull()"
   ],
   "id": "256ee384f42d7a08",
   "outputs": [
    {
     "data": {
      "text/plain": [
       "도시\n",
       "서울    False\n",
       "부산    False\n",
       "인천    False\n",
       "광주    False\n",
       "Name: 인구, dtype: bool"
      ]
     },
     "execution_count": 19,
     "metadata": {},
     "output_type": "execute_result"
    }
   ],
   "execution_count": 19
  },
  {
   "metadata": {
    "ExecuteTime": {
     "end_time": "2024-06-24T05:06:05.258933Z",
     "start_time": "2024-06-24T05:06:05.255679Z"
    }
   },
   "cell_type": "code",
   "source": [
    "# 값이 비어있을 때 특정 값으로 채워주는 함수\n",
    "# fillna(값)"
   ],
   "id": "240f61a0192649f1",
   "outputs": [],
   "execution_count": 20
  },
  {
   "metadata": {},
   "cell_type": "markdown",
   "source": [
    "### DataFrame\n",
    "- 행과 열로 구성되어있는 2차원의 자료구조!"
   ],
   "id": "542b9748cb3f214a"
  },
  {
   "metadata": {
    "ExecuteTime": {
     "end_time": "2024-06-24T05:10:57.349147Z",
     "start_time": "2024-06-24T05:10:57.341854Z"
    }
   },
   "cell_type": "code",
   "source": [
    "# DataFrame 생성\n",
    "data = {'2020':[9668465,3391946,2942828,1450062],\n",
    "        '2010' :[10312545,3567910,2758296,1454636]\n",
    "        }\n",
    "df = pd.DataFrame(data, index = ['서울','부산','인천','광주'])\n",
    "# key -> column\n",
    "# value -> row\n",
    "# 인덱스 자동배정!\n",
    "df"
   ],
   "id": "a9ffc64abc6aa9d4",
   "outputs": [
    {
     "data": {
      "text/plain": [
       "       2020      2010\n",
       "서울  9668465  10312545\n",
       "부산  3391946   3567910\n",
       "인천  2942828   2758296\n",
       "광주  1450062   1454636"
      ],
      "text/html": [
       "<div>\n",
       "<style scoped>\n",
       "    .dataframe tbody tr th:only-of-type {\n",
       "        vertical-align: middle;\n",
       "    }\n",
       "\n",
       "    .dataframe tbody tr th {\n",
       "        vertical-align: top;\n",
       "    }\n",
       "\n",
       "    .dataframe thead th {\n",
       "        text-align: right;\n",
       "    }\n",
       "</style>\n",
       "<table border=\"1\" class=\"dataframe\">\n",
       "  <thead>\n",
       "    <tr style=\"text-align: right;\">\n",
       "      <th></th>\n",
       "      <th>2020</th>\n",
       "      <th>2010</th>\n",
       "    </tr>\n",
       "  </thead>\n",
       "  <tbody>\n",
       "    <tr>\n",
       "      <th>서울</th>\n",
       "      <td>9668465</td>\n",
       "      <td>10312545</td>\n",
       "    </tr>\n",
       "    <tr>\n",
       "      <th>부산</th>\n",
       "      <td>3391946</td>\n",
       "      <td>3567910</td>\n",
       "    </tr>\n",
       "    <tr>\n",
       "      <th>인천</th>\n",
       "      <td>2942828</td>\n",
       "      <td>2758296</td>\n",
       "    </tr>\n",
       "    <tr>\n",
       "      <th>광주</th>\n",
       "      <td>1450062</td>\n",
       "      <td>1454636</td>\n",
       "    </tr>\n",
       "  </tbody>\n",
       "</table>\n",
       "</div>"
      ]
     },
     "execution_count": 30,
     "metadata": {},
     "output_type": "execute_result"
    }
   ],
   "execution_count": 30
  },
  {
   "metadata": {
    "ExecuteTime": {
     "end_time": "2024-06-24T05:11:25.623149Z",
     "start_time": "2024-06-24T05:11:25.615021Z"
    }
   },
   "cell_type": "code",
   "source": [
    "# 리스트로 생성\n",
    "data2 = [[9668465,3391946,2942828,1450062],\n",
    "         [10312545,3567910,2758296,1454636]]\n",
    "df2 = pd.DataFrame(data2)\n",
    "df2"
   ],
   "id": "15e8316f30e74d27",
   "outputs": [
    {
     "data": {
      "text/plain": [
       "          0        1        2        3\n",
       "0   9668465  3391946  2942828  1450062\n",
       "1  10312545  3567910  2758296  1454636"
      ],
      "text/html": [
       "<div>\n",
       "<style scoped>\n",
       "    .dataframe tbody tr th:only-of-type {\n",
       "        vertical-align: middle;\n",
       "    }\n",
       "\n",
       "    .dataframe tbody tr th {\n",
       "        vertical-align: top;\n",
       "    }\n",
       "\n",
       "    .dataframe thead th {\n",
       "        text-align: right;\n",
       "    }\n",
       "</style>\n",
       "<table border=\"1\" class=\"dataframe\">\n",
       "  <thead>\n",
       "    <tr style=\"text-align: right;\">\n",
       "      <th></th>\n",
       "      <th>0</th>\n",
       "      <th>1</th>\n",
       "      <th>2</th>\n",
       "      <th>3</th>\n",
       "    </tr>\n",
       "  </thead>\n",
       "  <tbody>\n",
       "    <tr>\n",
       "      <th>0</th>\n",
       "      <td>9668465</td>\n",
       "      <td>3391946</td>\n",
       "      <td>2942828</td>\n",
       "      <td>1450062</td>\n",
       "    </tr>\n",
       "    <tr>\n",
       "      <th>1</th>\n",
       "      <td>10312545</td>\n",
       "      <td>3567910</td>\n",
       "      <td>2758296</td>\n",
       "      <td>1454636</td>\n",
       "    </tr>\n",
       "  </tbody>\n",
       "</table>\n",
       "</div>"
      ]
     },
     "execution_count": 33,
     "metadata": {},
     "output_type": "execute_result"
    }
   ],
   "execution_count": 33
  },
  {
   "metadata": {
    "ExecuteTime": {
     "end_time": "2024-06-24T05:11:51.742509Z",
     "start_time": "2024-06-24T05:11:51.732868Z"
    }
   },
   "cell_type": "code",
   "source": [
    "data2 = [[9668465,3391946,2942828,1450062],\n",
    "         [10312545,3567910,2758296,1454636]]\n",
    "index = ['2020','2010']\n",
    "col = ['서울','부산','인천','광주']\n",
    "df2 = pd.DataFrame(data2, index = index, columns = col)\n",
    "df2"
   ],
   "id": "160d5804b5799cbf",
   "outputs": [
    {
     "data": {
      "text/plain": [
       "            서울       부산       인천       광주\n",
       "2020   9668465  3391946  2942828  1450062\n",
       "2010  10312545  3567910  2758296  1454636"
      ],
      "text/html": [
       "<div>\n",
       "<style scoped>\n",
       "    .dataframe tbody tr th:only-of-type {\n",
       "        vertical-align: middle;\n",
       "    }\n",
       "\n",
       "    .dataframe tbody tr th {\n",
       "        vertical-align: top;\n",
       "    }\n",
       "\n",
       "    .dataframe thead th {\n",
       "        text-align: right;\n",
       "    }\n",
       "</style>\n",
       "<table border=\"1\" class=\"dataframe\">\n",
       "  <thead>\n",
       "    <tr style=\"text-align: right;\">\n",
       "      <th></th>\n",
       "      <th>서울</th>\n",
       "      <th>부산</th>\n",
       "      <th>인천</th>\n",
       "      <th>광주</th>\n",
       "    </tr>\n",
       "  </thead>\n",
       "  <tbody>\n",
       "    <tr>\n",
       "      <th>2020</th>\n",
       "      <td>9668465</td>\n",
       "      <td>3391946</td>\n",
       "      <td>2942828</td>\n",
       "      <td>1450062</td>\n",
       "    </tr>\n",
       "    <tr>\n",
       "      <th>2010</th>\n",
       "      <td>10312545</td>\n",
       "      <td>3567910</td>\n",
       "      <td>2758296</td>\n",
       "      <td>1454636</td>\n",
       "    </tr>\n",
       "  </tbody>\n",
       "</table>\n",
       "</div>"
      ]
     },
     "execution_count": 35,
     "metadata": {},
     "output_type": "execute_result"
    }
   ],
   "execution_count": 35
  },
  {
   "metadata": {
    "ExecuteTime": {
     "end_time": "2024-06-24T05:13:05.246623Z",
     "start_time": "2024-06-24T05:13:05.239383Z"
    }
   },
   "cell_type": "code",
   "source": [
    "# 행과 열을 바꿔주는 기능\n",
    "df2.T"
   ],
   "id": "885b34cb7914302",
   "outputs": [
    {
     "data": {
      "text/plain": [
       "       2020      2010\n",
       "서울  9668465  10312545\n",
       "부산  3391946   3567910\n",
       "인천  2942828   2758296\n",
       "광주  1450062   1454636"
      ],
      "text/html": [
       "<div>\n",
       "<style scoped>\n",
       "    .dataframe tbody tr th:only-of-type {\n",
       "        vertical-align: middle;\n",
       "    }\n",
       "\n",
       "    .dataframe tbody tr th {\n",
       "        vertical-align: top;\n",
       "    }\n",
       "\n",
       "    .dataframe thead th {\n",
       "        text-align: right;\n",
       "    }\n",
       "</style>\n",
       "<table border=\"1\" class=\"dataframe\">\n",
       "  <thead>\n",
       "    <tr style=\"text-align: right;\">\n",
       "      <th></th>\n",
       "      <th>2020</th>\n",
       "      <th>2010</th>\n",
       "    </tr>\n",
       "  </thead>\n",
       "  <tbody>\n",
       "    <tr>\n",
       "      <th>서울</th>\n",
       "      <td>9668465</td>\n",
       "      <td>10312545</td>\n",
       "    </tr>\n",
       "    <tr>\n",
       "      <th>부산</th>\n",
       "      <td>3391946</td>\n",
       "      <td>3567910</td>\n",
       "    </tr>\n",
       "    <tr>\n",
       "      <th>인천</th>\n",
       "      <td>2942828</td>\n",
       "      <td>2758296</td>\n",
       "    </tr>\n",
       "    <tr>\n",
       "      <th>광주</th>\n",
       "      <td>1450062</td>\n",
       "      <td>1454636</td>\n",
       "    </tr>\n",
       "  </tbody>\n",
       "</table>\n",
       "</div>"
      ]
     },
     "execution_count": 37,
     "metadata": {},
     "output_type": "execute_result"
    }
   ],
   "execution_count": 37
  },
  {
   "metadata": {
    "ExecuteTime": {
     "end_time": "2024-06-24T05:14:24.181988Z",
     "start_time": "2024-06-24T05:14:24.176796Z"
    }
   },
   "cell_type": "code",
   "source": [
    "# 데이터 구조 파악\n",
    "# values -> 데이터만 출력\n",
    "print(df2.values)\n",
    "# index -> 행 이름 출력\n",
    "print(df2.index)\n",
    "# columns -> 열 이름 출력\n",
    "print(df2.columns)"
   ],
   "id": "e558ff1524a44095",
   "outputs": [
    {
     "name": "stdout",
     "output_type": "stream",
     "text": [
      "[[ 9668465  3391946  2942828  1450062]\n",
      " [10312545  3567910  2758296  1454636]]\n",
      "Index(['2020', '2010'], dtype='object')\n",
      "Index(['서울', '부산', '인천', '광주'], dtype='object')\n"
     ]
    }
   ],
   "execution_count": 39
  },
  {
   "metadata": {},
   "cell_type": "markdown",
   "source": "### DataFrame 인덱싱, 슬라이싱\n",
   "id": "7a335e04b7bc614f"
  },
  {
   "metadata": {
    "ExecuteTime": {
     "end_time": "2024-06-24T05:17:53.072978Z",
     "start_time": "2024-06-24T05:17:53.066175Z"
    }
   },
   "cell_type": "code",
   "source": "df",
   "id": "f66b249a4ddd710",
   "outputs": [
    {
     "data": {
      "text/plain": [
       "       2020      2010\n",
       "서울  9668465  10312545\n",
       "부산  3391946   3567910\n",
       "인천  2942828   2758296\n",
       "광주  1450062   1454636"
      ],
      "text/html": [
       "<div>\n",
       "<style scoped>\n",
       "    .dataframe tbody tr th:only-of-type {\n",
       "        vertical-align: middle;\n",
       "    }\n",
       "\n",
       "    .dataframe tbody tr th {\n",
       "        vertical-align: top;\n",
       "    }\n",
       "\n",
       "    .dataframe thead th {\n",
       "        text-align: right;\n",
       "    }\n",
       "</style>\n",
       "<table border=\"1\" class=\"dataframe\">\n",
       "  <thead>\n",
       "    <tr style=\"text-align: right;\">\n",
       "      <th></th>\n",
       "      <th>2020</th>\n",
       "      <th>2010</th>\n",
       "    </tr>\n",
       "  </thead>\n",
       "  <tbody>\n",
       "    <tr>\n",
       "      <th>서울</th>\n",
       "      <td>9668465</td>\n",
       "      <td>10312545</td>\n",
       "    </tr>\n",
       "    <tr>\n",
       "      <th>부산</th>\n",
       "      <td>3391946</td>\n",
       "      <td>3567910</td>\n",
       "    </tr>\n",
       "    <tr>\n",
       "      <th>인천</th>\n",
       "      <td>2942828</td>\n",
       "      <td>2758296</td>\n",
       "    </tr>\n",
       "    <tr>\n",
       "      <th>광주</th>\n",
       "      <td>1450062</td>\n",
       "      <td>1454636</td>\n",
       "    </tr>\n",
       "  </tbody>\n",
       "</table>\n",
       "</div>"
      ]
     },
     "execution_count": 44,
     "metadata": {},
     "output_type": "execute_result"
    }
   ],
   "execution_count": 44
  },
  {
   "metadata": {
    "ExecuteTime": {
     "end_time": "2024-06-24T05:18:02.272456Z",
     "start_time": "2024-06-24T05:18:02.266019Z"
    }
   },
   "cell_type": "code",
   "source": [
    "# 열 인덱싱\n",
    "# 2020년도 출력\n",
    "df['2020']"
   ],
   "id": "25f6c9496a3933af",
   "outputs": [
    {
     "data": {
      "text/plain": [
       "서울    9668465\n",
       "부산    3391946\n",
       "인천    2942828\n",
       "광주    1450062\n",
       "Name: 2020, dtype: int64"
      ]
     },
     "execution_count": 45,
     "metadata": {},
     "output_type": "execute_result"
    }
   ],
   "execution_count": 45
  },
  {
   "metadata": {
    "ExecuteTime": {
     "end_time": "2024-06-24T05:21:32.099288Z",
     "start_time": "2024-06-24T05:21:32.089960Z"
    }
   },
   "cell_type": "code",
   "source": [
    "# DataFrame 형태로 출력하기\n",
    "df[['2020']]"
   ],
   "id": "aeee78532f75eb58",
   "outputs": [
    {
     "data": {
      "text/plain": [
       "       2020\n",
       "서울  9668465\n",
       "부산  3391946\n",
       "인천  2942828\n",
       "광주  1450062"
      ],
      "text/html": [
       "<div>\n",
       "<style scoped>\n",
       "    .dataframe tbody tr th:only-of-type {\n",
       "        vertical-align: middle;\n",
       "    }\n",
       "\n",
       "    .dataframe tbody tr th {\n",
       "        vertical-align: top;\n",
       "    }\n",
       "\n",
       "    .dataframe thead th {\n",
       "        text-align: right;\n",
       "    }\n",
       "</style>\n",
       "<table border=\"1\" class=\"dataframe\">\n",
       "  <thead>\n",
       "    <tr style=\"text-align: right;\">\n",
       "      <th></th>\n",
       "      <th>2020</th>\n",
       "    </tr>\n",
       "  </thead>\n",
       "  <tbody>\n",
       "    <tr>\n",
       "      <th>서울</th>\n",
       "      <td>9668465</td>\n",
       "    </tr>\n",
       "    <tr>\n",
       "      <th>부산</th>\n",
       "      <td>3391946</td>\n",
       "    </tr>\n",
       "    <tr>\n",
       "      <th>인천</th>\n",
       "      <td>2942828</td>\n",
       "    </tr>\n",
       "    <tr>\n",
       "      <th>광주</th>\n",
       "      <td>1450062</td>\n",
       "    </tr>\n",
       "  </tbody>\n",
       "</table>\n",
       "</div>"
      ]
     },
     "execution_count": 46,
     "metadata": {},
     "output_type": "execute_result"
    }
   ],
   "execution_count": 46
  },
  {
   "metadata": {
    "ExecuteTime": {
     "end_time": "2024-06-24T05:23:05.416545Z",
     "start_time": "2024-06-24T05:23:05.405786Z"
    }
   },
   "cell_type": "code",
   "source": [
    "# DataFrame 추가\n",
    "df['2005'] = [9762546,3512547,2517680,1456016]\n",
    "df"
   ],
   "id": "8bda97a4e149aa8a",
   "outputs": [
    {
     "data": {
      "text/plain": [
       "       2020      2010     2005\n",
       "서울  9668465  10312545  9762546\n",
       "부산  3391946   3567910  3512547\n",
       "인천  2942828   2758296  2517680\n",
       "광주  1450062   1454636  1456016"
      ],
      "text/html": [
       "<div>\n",
       "<style scoped>\n",
       "    .dataframe tbody tr th:only-of-type {\n",
       "        vertical-align: middle;\n",
       "    }\n",
       "\n",
       "    .dataframe tbody tr th {\n",
       "        vertical-align: top;\n",
       "    }\n",
       "\n",
       "    .dataframe thead th {\n",
       "        text-align: right;\n",
       "    }\n",
       "</style>\n",
       "<table border=\"1\" class=\"dataframe\">\n",
       "  <thead>\n",
       "    <tr style=\"text-align: right;\">\n",
       "      <th></th>\n",
       "      <th>2020</th>\n",
       "      <th>2010</th>\n",
       "      <th>2005</th>\n",
       "    </tr>\n",
       "  </thead>\n",
       "  <tbody>\n",
       "    <tr>\n",
       "      <th>서울</th>\n",
       "      <td>9668465</td>\n",
       "      <td>10312545</td>\n",
       "      <td>9762546</td>\n",
       "    </tr>\n",
       "    <tr>\n",
       "      <th>부산</th>\n",
       "      <td>3391946</td>\n",
       "      <td>3567910</td>\n",
       "      <td>3512547</td>\n",
       "    </tr>\n",
       "    <tr>\n",
       "      <th>인천</th>\n",
       "      <td>2942828</td>\n",
       "      <td>2758296</td>\n",
       "      <td>2517680</td>\n",
       "    </tr>\n",
       "    <tr>\n",
       "      <th>광주</th>\n",
       "      <td>1450062</td>\n",
       "      <td>1454636</td>\n",
       "      <td>1456016</td>\n",
       "    </tr>\n",
       "  </tbody>\n",
       "</table>\n",
       "</div>"
      ]
     },
     "execution_count": 47,
     "metadata": {},
     "output_type": "execute_result"
    }
   ],
   "execution_count": 47
  },
  {
   "metadata": {
    "ExecuteTime": {
     "end_time": "2024-06-24T05:24:30.572508Z",
     "start_time": "2024-06-24T05:24:30.564770Z"
    }
   },
   "cell_type": "code",
   "source": [
    "# DataFrame 수정\n",
    "# 2005년도 데이터 수정\n",
    "df['2005'] = [0,0,0,0]\n",
    "df"
   ],
   "id": "f74c97363a39b59c",
   "outputs": [
    {
     "data": {
      "text/plain": [
       "       2020      2010  2005\n",
       "서울  9668465  10312545     0\n",
       "부산  3391946   3567910     0\n",
       "인천  2942828   2758296     0\n",
       "광주  1450062   1454636     0"
      ],
      "text/html": [
       "<div>\n",
       "<style scoped>\n",
       "    .dataframe tbody tr th:only-of-type {\n",
       "        vertical-align: middle;\n",
       "    }\n",
       "\n",
       "    .dataframe tbody tr th {\n",
       "        vertical-align: top;\n",
       "    }\n",
       "\n",
       "    .dataframe thead th {\n",
       "        text-align: right;\n",
       "    }\n",
       "</style>\n",
       "<table border=\"1\" class=\"dataframe\">\n",
       "  <thead>\n",
       "    <tr style=\"text-align: right;\">\n",
       "      <th></th>\n",
       "      <th>2020</th>\n",
       "      <th>2010</th>\n",
       "      <th>2005</th>\n",
       "    </tr>\n",
       "  </thead>\n",
       "  <tbody>\n",
       "    <tr>\n",
       "      <th>서울</th>\n",
       "      <td>9668465</td>\n",
       "      <td>10312545</td>\n",
       "      <td>0</td>\n",
       "    </tr>\n",
       "    <tr>\n",
       "      <th>부산</th>\n",
       "      <td>3391946</td>\n",
       "      <td>3567910</td>\n",
       "      <td>0</td>\n",
       "    </tr>\n",
       "    <tr>\n",
       "      <th>인천</th>\n",
       "      <td>2942828</td>\n",
       "      <td>2758296</td>\n",
       "      <td>0</td>\n",
       "    </tr>\n",
       "    <tr>\n",
       "      <th>광주</th>\n",
       "      <td>1450062</td>\n",
       "      <td>1454636</td>\n",
       "      <td>0</td>\n",
       "    </tr>\n",
       "  </tbody>\n",
       "</table>\n",
       "</div>"
      ]
     },
     "execution_count": 50,
     "metadata": {},
     "output_type": "execute_result"
    }
   ],
   "execution_count": 50
  },
  {
   "metadata": {},
   "cell_type": "markdown",
   "source": [
    "#### DataFrame 삭제\n",
    "- drop()"
   ],
   "id": "1413cb8956d92442"
  },
  {
   "metadata": {
    "ExecuteTime": {
     "end_time": "2024-06-24T05:30:22.511268Z",
     "start_time": "2024-06-24T05:30:22.455551Z"
    }
   },
   "cell_type": "code",
   "source": [
    "# inplace : 삭제는 신중해야 하는 작업이기때문에 저장하겠다는 의\n",
    "df.drop('2005', axis = 1, inplace = True)\n",
    "# drop이라는 기능은 기본 축설정이 axis = 0"
   ],
   "id": "97874bf177b1bf9d",
   "outputs": [
    {
     "ename": "KeyError",
     "evalue": "\"['2005'] not found in axis\"",
     "output_type": "error",
     "traceback": [
      "\u001B[1;31m---------------------------------------------------------------------------\u001B[0m",
      "\u001B[1;31mKeyError\u001B[0m                                  Traceback (most recent call last)",
      "Cell \u001B[1;32mIn[56], line 2\u001B[0m\n\u001B[0;32m      1\u001B[0m \u001B[38;5;66;03m# inplace : 삭제는 신중해야 하는 작업이기때문에 저장하겠다는 의\u001B[39;00m\n\u001B[1;32m----> 2\u001B[0m df\u001B[38;5;241m.\u001B[39mdrop(\u001B[38;5;124m'\u001B[39m\u001B[38;5;124m2005\u001B[39m\u001B[38;5;124m'\u001B[39m, axis \u001B[38;5;241m=\u001B[39m \u001B[38;5;241m1\u001B[39m, inplace \u001B[38;5;241m=\u001B[39m \u001B[38;5;28;01mTrue\u001B[39;00m)\n",
      "File \u001B[1;32m~\\anaconda3\\envs\\pythonProject\\Lib\\site-packages\\pandas\\core\\frame.py:5581\u001B[0m, in \u001B[0;36mDataFrame.drop\u001B[1;34m(self, labels, axis, index, columns, level, inplace, errors)\u001B[0m\n\u001B[0;32m   5433\u001B[0m \u001B[38;5;28;01mdef\u001B[39;00m \u001B[38;5;21mdrop\u001B[39m(\n\u001B[0;32m   5434\u001B[0m     \u001B[38;5;28mself\u001B[39m,\n\u001B[0;32m   5435\u001B[0m     labels: IndexLabel \u001B[38;5;241m|\u001B[39m \u001B[38;5;28;01mNone\u001B[39;00m \u001B[38;5;241m=\u001B[39m \u001B[38;5;28;01mNone\u001B[39;00m,\n\u001B[1;32m   (...)\u001B[0m\n\u001B[0;32m   5442\u001B[0m     errors: IgnoreRaise \u001B[38;5;241m=\u001B[39m \u001B[38;5;124m\"\u001B[39m\u001B[38;5;124mraise\u001B[39m\u001B[38;5;124m\"\u001B[39m,\n\u001B[0;32m   5443\u001B[0m ) \u001B[38;5;241m-\u001B[39m\u001B[38;5;241m>\u001B[39m DataFrame \u001B[38;5;241m|\u001B[39m \u001B[38;5;28;01mNone\u001B[39;00m:\n\u001B[0;32m   5444\u001B[0m \u001B[38;5;250m    \u001B[39m\u001B[38;5;124;03m\"\"\"\u001B[39;00m\n\u001B[0;32m   5445\u001B[0m \u001B[38;5;124;03m    Drop specified labels from rows or columns.\u001B[39;00m\n\u001B[0;32m   5446\u001B[0m \n\u001B[1;32m   (...)\u001B[0m\n\u001B[0;32m   5579\u001B[0m \u001B[38;5;124;03m            weight  1.0     0.8\u001B[39;00m\n\u001B[0;32m   5580\u001B[0m \u001B[38;5;124;03m    \"\"\"\u001B[39;00m\n\u001B[1;32m-> 5581\u001B[0m     \u001B[38;5;28;01mreturn\u001B[39;00m \u001B[38;5;28msuper\u001B[39m()\u001B[38;5;241m.\u001B[39mdrop(\n\u001B[0;32m   5582\u001B[0m         labels\u001B[38;5;241m=\u001B[39mlabels,\n\u001B[0;32m   5583\u001B[0m         axis\u001B[38;5;241m=\u001B[39maxis,\n\u001B[0;32m   5584\u001B[0m         index\u001B[38;5;241m=\u001B[39mindex,\n\u001B[0;32m   5585\u001B[0m         columns\u001B[38;5;241m=\u001B[39mcolumns,\n\u001B[0;32m   5586\u001B[0m         level\u001B[38;5;241m=\u001B[39mlevel,\n\u001B[0;32m   5587\u001B[0m         inplace\u001B[38;5;241m=\u001B[39minplace,\n\u001B[0;32m   5588\u001B[0m         errors\u001B[38;5;241m=\u001B[39merrors,\n\u001B[0;32m   5589\u001B[0m     )\n",
      "File \u001B[1;32m~\\anaconda3\\envs\\pythonProject\\Lib\\site-packages\\pandas\\core\\generic.py:4788\u001B[0m, in \u001B[0;36mNDFrame.drop\u001B[1;34m(self, labels, axis, index, columns, level, inplace, errors)\u001B[0m\n\u001B[0;32m   4786\u001B[0m \u001B[38;5;28;01mfor\u001B[39;00m axis, labels \u001B[38;5;129;01min\u001B[39;00m axes\u001B[38;5;241m.\u001B[39mitems():\n\u001B[0;32m   4787\u001B[0m     \u001B[38;5;28;01mif\u001B[39;00m labels \u001B[38;5;129;01mis\u001B[39;00m \u001B[38;5;129;01mnot\u001B[39;00m \u001B[38;5;28;01mNone\u001B[39;00m:\n\u001B[1;32m-> 4788\u001B[0m         obj \u001B[38;5;241m=\u001B[39m obj\u001B[38;5;241m.\u001B[39m_drop_axis(labels, axis, level\u001B[38;5;241m=\u001B[39mlevel, errors\u001B[38;5;241m=\u001B[39merrors)\n\u001B[0;32m   4790\u001B[0m \u001B[38;5;28;01mif\u001B[39;00m inplace:\n\u001B[0;32m   4791\u001B[0m     \u001B[38;5;28mself\u001B[39m\u001B[38;5;241m.\u001B[39m_update_inplace(obj)\n",
      "File \u001B[1;32m~\\anaconda3\\envs\\pythonProject\\Lib\\site-packages\\pandas\\core\\generic.py:4830\u001B[0m, in \u001B[0;36mNDFrame._drop_axis\u001B[1;34m(self, labels, axis, level, errors, only_slice)\u001B[0m\n\u001B[0;32m   4828\u001B[0m         new_axis \u001B[38;5;241m=\u001B[39m axis\u001B[38;5;241m.\u001B[39mdrop(labels, level\u001B[38;5;241m=\u001B[39mlevel, errors\u001B[38;5;241m=\u001B[39merrors)\n\u001B[0;32m   4829\u001B[0m     \u001B[38;5;28;01melse\u001B[39;00m:\n\u001B[1;32m-> 4830\u001B[0m         new_axis \u001B[38;5;241m=\u001B[39m axis\u001B[38;5;241m.\u001B[39mdrop(labels, errors\u001B[38;5;241m=\u001B[39merrors)\n\u001B[0;32m   4831\u001B[0m     indexer \u001B[38;5;241m=\u001B[39m axis\u001B[38;5;241m.\u001B[39mget_indexer(new_axis)\n\u001B[0;32m   4833\u001B[0m \u001B[38;5;66;03m# Case for non-unique axis\u001B[39;00m\n\u001B[0;32m   4834\u001B[0m \u001B[38;5;28;01melse\u001B[39;00m:\n",
      "File \u001B[1;32m~\\anaconda3\\envs\\pythonProject\\Lib\\site-packages\\pandas\\core\\indexes\\base.py:7070\u001B[0m, in \u001B[0;36mIndex.drop\u001B[1;34m(self, labels, errors)\u001B[0m\n\u001B[0;32m   7068\u001B[0m \u001B[38;5;28;01mif\u001B[39;00m mask\u001B[38;5;241m.\u001B[39many():\n\u001B[0;32m   7069\u001B[0m     \u001B[38;5;28;01mif\u001B[39;00m errors \u001B[38;5;241m!=\u001B[39m \u001B[38;5;124m\"\u001B[39m\u001B[38;5;124mignore\u001B[39m\u001B[38;5;124m\"\u001B[39m:\n\u001B[1;32m-> 7070\u001B[0m         \u001B[38;5;28;01mraise\u001B[39;00m \u001B[38;5;167;01mKeyError\u001B[39;00m(\u001B[38;5;124mf\u001B[39m\u001B[38;5;124m\"\u001B[39m\u001B[38;5;132;01m{\u001B[39;00mlabels[mask]\u001B[38;5;241m.\u001B[39mtolist()\u001B[38;5;132;01m}\u001B[39;00m\u001B[38;5;124m not found in axis\u001B[39m\u001B[38;5;124m\"\u001B[39m)\n\u001B[0;32m   7071\u001B[0m     indexer \u001B[38;5;241m=\u001B[39m indexer[\u001B[38;5;241m~\u001B[39mmask]\n\u001B[0;32m   7072\u001B[0m \u001B[38;5;28;01mreturn\u001B[39;00m \u001B[38;5;28mself\u001B[39m\u001B[38;5;241m.\u001B[39mdelete(indexer)\n",
      "\u001B[1;31mKeyError\u001B[0m: \"['2005'] not found in axis\""
     ]
    }
   ],
   "execution_count": 56
  },
  {
   "metadata": {
    "ExecuteTime": {
     "end_time": "2024-06-24T05:30:24.658579Z",
     "start_time": "2024-06-24T05:30:24.651280Z"
    }
   },
   "cell_type": "code",
   "source": [
    "# 행삭제\n",
    "df.drop('서울', inplace=True)"
   ],
   "id": "e3b3fb9c847a6b07",
   "outputs": [
    {
     "data": {
      "text/plain": [
       "       2020      2010\n",
       "서울  9668465  10312545\n",
       "부산  3391946   3567910\n",
       "인천  2942828   2758296\n",
       "광주  1450062   1454636"
      ],
      "text/html": [
       "<div>\n",
       "<style scoped>\n",
       "    .dataframe tbody tr th:only-of-type {\n",
       "        vertical-align: middle;\n",
       "    }\n",
       "\n",
       "    .dataframe tbody tr th {\n",
       "        vertical-align: top;\n",
       "    }\n",
       "\n",
       "    .dataframe thead th {\n",
       "        text-align: right;\n",
       "    }\n",
       "</style>\n",
       "<table border=\"1\" class=\"dataframe\">\n",
       "  <thead>\n",
       "    <tr style=\"text-align: right;\">\n",
       "      <th></th>\n",
       "      <th>2020</th>\n",
       "      <th>2010</th>\n",
       "    </tr>\n",
       "  </thead>\n",
       "  <tbody>\n",
       "    <tr>\n",
       "      <th>서울</th>\n",
       "      <td>9668465</td>\n",
       "      <td>10312545</td>\n",
       "    </tr>\n",
       "    <tr>\n",
       "      <th>부산</th>\n",
       "      <td>3391946</td>\n",
       "      <td>3567910</td>\n",
       "    </tr>\n",
       "    <tr>\n",
       "      <th>인천</th>\n",
       "      <td>2942828</td>\n",
       "      <td>2758296</td>\n",
       "    </tr>\n",
       "    <tr>\n",
       "      <th>광주</th>\n",
       "      <td>1450062</td>\n",
       "      <td>1454636</td>\n",
       "    </tr>\n",
       "  </tbody>\n",
       "</table>\n",
       "</div>"
      ]
     },
     "execution_count": 57,
     "metadata": {},
     "output_type": "execute_result"
    }
   ],
   "execution_count": 57
  },
  {
   "metadata": {
    "ExecuteTime": {
     "end_time": "2024-06-24T05:33:22.755388Z",
     "start_time": "2024-06-24T05:33:22.745826Z"
    }
   },
   "cell_type": "code",
   "source": [
    "data3 = {'2020':[9668465,3391946,2942828,1450062],\n",
    "        '2010' :[10312545,3567910,2758296,1454636],\n",
    "         '2005':[9762546,3512547,2517680,1456016]\n",
    "        }\n",
    "df3 = pd.DataFrame(data3,index = ['서울','부산','인천','광주'])\n",
    "df3"
   ],
   "id": "87150ef5485b1bcc",
   "outputs": [
    {
     "data": {
      "text/plain": [
       "       2020      2010     2005\n",
       "서울  9668465  10312545  9762546\n",
       "부산  3391946   3567910  3512547\n",
       "인천  2942828   2758296  2517680\n",
       "광주  1450062   1454636  1456016"
      ],
      "text/html": [
       "<div>\n",
       "<style scoped>\n",
       "    .dataframe tbody tr th:only-of-type {\n",
       "        vertical-align: middle;\n",
       "    }\n",
       "\n",
       "    .dataframe tbody tr th {\n",
       "        vertical-align: top;\n",
       "    }\n",
       "\n",
       "    .dataframe thead th {\n",
       "        text-align: right;\n",
       "    }\n",
       "</style>\n",
       "<table border=\"1\" class=\"dataframe\">\n",
       "  <thead>\n",
       "    <tr style=\"text-align: right;\">\n",
       "      <th></th>\n",
       "      <th>2020</th>\n",
       "      <th>2010</th>\n",
       "      <th>2005</th>\n",
       "    </tr>\n",
       "  </thead>\n",
       "  <tbody>\n",
       "    <tr>\n",
       "      <th>서울</th>\n",
       "      <td>9668465</td>\n",
       "      <td>10312545</td>\n",
       "      <td>9762546</td>\n",
       "    </tr>\n",
       "    <tr>\n",
       "      <th>부산</th>\n",
       "      <td>3391946</td>\n",
       "      <td>3567910</td>\n",
       "      <td>3512547</td>\n",
       "    </tr>\n",
       "    <tr>\n",
       "      <th>인천</th>\n",
       "      <td>2942828</td>\n",
       "      <td>2758296</td>\n",
       "      <td>2517680</td>\n",
       "    </tr>\n",
       "    <tr>\n",
       "      <th>광주</th>\n",
       "      <td>1450062</td>\n",
       "      <td>1454636</td>\n",
       "      <td>1456016</td>\n",
       "    </tr>\n",
       "  </tbody>\n",
       "</table>\n",
       "</div>"
      ]
     },
     "execution_count": 58,
     "metadata": {},
     "output_type": "execute_result"
    }
   ],
   "execution_count": 58
  },
  {
   "metadata": {
    "ExecuteTime": {
     "end_time": "2024-06-24T05:36:27.989510Z",
     "start_time": "2024-06-24T05:36:27.980888Z"
    }
   },
   "cell_type": "code",
   "source": "df3.loc['부산':'인천','2010':'2005']",
   "id": "e442c8be02b0d970",
   "outputs": [
    {
     "data": {
      "text/plain": [
       "       2005     2010\n",
       "부산  3512547  3567910\n",
       "인천  2517680  2758296"
      ],
      "text/html": [
       "<div>\n",
       "<style scoped>\n",
       "    .dataframe tbody tr th:only-of-type {\n",
       "        vertical-align: middle;\n",
       "    }\n",
       "\n",
       "    .dataframe tbody tr th {\n",
       "        vertical-align: top;\n",
       "    }\n",
       "\n",
       "    .dataframe thead th {\n",
       "        text-align: right;\n",
       "    }\n",
       "</style>\n",
       "<table border=\"1\" class=\"dataframe\">\n",
       "  <thead>\n",
       "    <tr style=\"text-align: right;\">\n",
       "      <th></th>\n",
       "      <th>2005</th>\n",
       "      <th>2010</th>\n",
       "    </tr>\n",
       "  </thead>\n",
       "  <tbody>\n",
       "    <tr>\n",
       "      <th>부산</th>\n",
       "      <td>3512547</td>\n",
       "      <td>3567910</td>\n",
       "    </tr>\n",
       "    <tr>\n",
       "      <th>인천</th>\n",
       "      <td>2517680</td>\n",
       "      <td>2758296</td>\n",
       "    </tr>\n",
       "  </tbody>\n",
       "</table>\n",
       "</div>"
      ]
     },
     "execution_count": 64,
     "metadata": {},
     "output_type": "execute_result"
    }
   ],
   "execution_count": 64
  },
  {
   "metadata": {},
   "cell_type": "markdown",
   "source": [
    "### 인덱서\n",
    "- loc : 이름 기반의 2차원 인덱싱\n",
    "- iloc : 인덱스 기반 인덱싱\n",
    "### 활용방법\n",
    "- df.loc[행,열]\n",
    "- df.iloc[행,열]"
   ],
   "id": "e58c6c76106a0938"
  },
  {
   "metadata": {
    "ExecuteTime": {
     "end_time": "2024-06-24T05:41:15.453824Z",
     "start_time": "2024-06-24T05:41:15.446634Z"
    }
   },
   "cell_type": "code",
   "source": [
    "df3.loc['부산':'인천','2010':]\n",
    "# df3.iloc[1:3,1:]"
   ],
   "id": "913ade260fa7353f",
   "outputs": [
    {
     "data": {
      "text/plain": [
       "       2010     2005\n",
       "부산  3567910  3512547\n",
       "인천  2758296  2517680"
      ],
      "text/html": [
       "<div>\n",
       "<style scoped>\n",
       "    .dataframe tbody tr th:only-of-type {\n",
       "        vertical-align: middle;\n",
       "    }\n",
       "\n",
       "    .dataframe tbody tr th {\n",
       "        vertical-align: top;\n",
       "    }\n",
       "\n",
       "    .dataframe thead th {\n",
       "        text-align: right;\n",
       "    }\n",
       "</style>\n",
       "<table border=\"1\" class=\"dataframe\">\n",
       "  <thead>\n",
       "    <tr style=\"text-align: right;\">\n",
       "      <th></th>\n",
       "      <th>2010</th>\n",
       "      <th>2005</th>\n",
       "    </tr>\n",
       "  </thead>\n",
       "  <tbody>\n",
       "    <tr>\n",
       "      <th>부산</th>\n",
       "      <td>3567910</td>\n",
       "      <td>3512547</td>\n",
       "    </tr>\n",
       "    <tr>\n",
       "      <th>인천</th>\n",
       "      <td>2758296</td>\n",
       "      <td>2517680</td>\n",
       "    </tr>\n",
       "  </tbody>\n",
       "</table>\n",
       "</div>"
      ]
     },
     "execution_count": 69,
     "metadata": {},
     "output_type": "execute_result"
    }
   ],
   "execution_count": 69
  },
  {
   "metadata": {
    "ExecuteTime": {
     "end_time": "2024-06-24T05:45:55.653409Z",
     "start_time": "2024-06-24T05:45:55.648095Z"
    }
   },
   "cell_type": "code",
   "source": [
    "# 행 인덱싱\n",
    "# 인덱서를 쓰고 하나의 값만 적으면 행우선 인덱싱    \n",
    "df3.iloc[0]\n",
    "# 인덱서를 쓰지 않으면 열인덱싱 -> 반드시 컬럼명으로 작성\n",
    "# df3['2005']"
   ],
   "id": "a9aac6e9939be5d",
   "outputs": [
    {
     "data": {
      "text/plain": [
       "2020     9668465\n",
       "2010    10312545\n",
       "2005     9762546\n",
       "Name: 서울, dtype: int64"
      ]
     },
     "execution_count": 71,
     "metadata": {},
     "output_type": "execute_result"
    }
   ],
   "execution_count": 71
  },
  {
   "metadata": {},
   "cell_type": "markdown",
   "source": [
    "### 인덱싱, 슬라이싱 규칙\n",
    "- df['컬럼명'] -> 기본 인덱싱은 열인덱싱\n",
    "- 슬라이싱 -> 반드시 인덱서 사용(loc,iloc)\n",
    "    - df.loc['행','열'] -> 실제 인덱스명, 컬럼명\n",
    "    - df.iloc['행','열'] -> 인덱스 번호\n",
    "- 행인덱싱 -> df.loc['행'] or df.iloc['행'] -> 인덱서를 사용했을 때 하나만 써주면 행에 대한 정보"
   ],
   "id": "323e963ea0ecdaa9"
  },
  {
   "metadata": {
    "ExecuteTime": {
     "end_time": "2024-06-24T06:10:59.369275Z",
     "start_time": "2024-06-24T06:10:59.353982Z"
    }
   },
   "cell_type": "code",
   "source": [
    "# DataFrame의 형태로 데이터 불러오기\n",
    "df = pd.read_csv('data/population_number.csv', encoding = 'utf-8', index_col='도시')\n",
    "df.head()"
   ],
   "id": "98a2586cdeeb026",
   "outputs": [
    {
     "data": {
      "text/plain": [
       "     지역     2020        2015        2010      2005\n",
       "도시                                                \n",
       "서울  수도권  9668465  10022181.0  10312545.0  10167344\n",
       "부산  경상권  3391946         NaN         NaN   3628293\n",
       "인천  경기권  2942828   2925815.0         NaN   2600495\n",
       "광주  전라권  1450062   1474636.0   1454636.0   1401745"
      ],
      "text/html": [
       "<div>\n",
       "<style scoped>\n",
       "    .dataframe tbody tr th:only-of-type {\n",
       "        vertical-align: middle;\n",
       "    }\n",
       "\n",
       "    .dataframe tbody tr th {\n",
       "        vertical-align: top;\n",
       "    }\n",
       "\n",
       "    .dataframe thead th {\n",
       "        text-align: right;\n",
       "    }\n",
       "</style>\n",
       "<table border=\"1\" class=\"dataframe\">\n",
       "  <thead>\n",
       "    <tr style=\"text-align: right;\">\n",
       "      <th></th>\n",
       "      <th>지역</th>\n",
       "      <th>2020</th>\n",
       "      <th>2015</th>\n",
       "      <th>2010</th>\n",
       "      <th>2005</th>\n",
       "    </tr>\n",
       "    <tr>\n",
       "      <th>도시</th>\n",
       "      <th></th>\n",
       "      <th></th>\n",
       "      <th></th>\n",
       "      <th></th>\n",
       "      <th></th>\n",
       "    </tr>\n",
       "  </thead>\n",
       "  <tbody>\n",
       "    <tr>\n",
       "      <th>서울</th>\n",
       "      <td>수도권</td>\n",
       "      <td>9668465</td>\n",
       "      <td>10022181.0</td>\n",
       "      <td>10312545.0</td>\n",
       "      <td>10167344</td>\n",
       "    </tr>\n",
       "    <tr>\n",
       "      <th>부산</th>\n",
       "      <td>경상권</td>\n",
       "      <td>3391946</td>\n",
       "      <td>NaN</td>\n",
       "      <td>NaN</td>\n",
       "      <td>3628293</td>\n",
       "    </tr>\n",
       "    <tr>\n",
       "      <th>인천</th>\n",
       "      <td>경기권</td>\n",
       "      <td>2942828</td>\n",
       "      <td>2925815.0</td>\n",
       "      <td>NaN</td>\n",
       "      <td>2600495</td>\n",
       "    </tr>\n",
       "    <tr>\n",
       "      <th>광주</th>\n",
       "      <td>전라권</td>\n",
       "      <td>1450062</td>\n",
       "      <td>1474636.0</td>\n",
       "      <td>1454636.0</td>\n",
       "      <td>1401745</td>\n",
       "    </tr>\n",
       "  </tbody>\n",
       "</table>\n",
       "</div>"
      ]
     },
     "execution_count": 80,
     "metadata": {},
     "output_type": "execute_result"
    }
   ],
   "execution_count": 80
  },
  {
   "metadata": {
    "ExecuteTime": {
     "end_time": "2024-06-24T06:11:58.512788Z",
     "start_time": "2024-06-24T06:11:58.502851Z"
    }
   },
   "cell_type": "code",
   "source": [
    "# 정렬(인덱스) - 오름차순\n",
    "df.sort_index()"
   ],
   "id": "c9f4b0419b1cf57a",
   "outputs": [
    {
     "data": {
      "text/plain": [
       "     지역     2020        2015        2010      2005\n",
       "도시                                                \n",
       "광주  전라권  1450062   1474636.0   1454636.0   1401745\n",
       "부산  경상권  3391946         NaN         NaN   3628293\n",
       "서울  수도권  9668465  10022181.0  10312545.0  10167344\n",
       "인천  경기권  2942828   2925815.0         NaN   2600495"
      ],
      "text/html": [
       "<div>\n",
       "<style scoped>\n",
       "    .dataframe tbody tr th:only-of-type {\n",
       "        vertical-align: middle;\n",
       "    }\n",
       "\n",
       "    .dataframe tbody tr th {\n",
       "        vertical-align: top;\n",
       "    }\n",
       "\n",
       "    .dataframe thead th {\n",
       "        text-align: right;\n",
       "    }\n",
       "</style>\n",
       "<table border=\"1\" class=\"dataframe\">\n",
       "  <thead>\n",
       "    <tr style=\"text-align: right;\">\n",
       "      <th></th>\n",
       "      <th>지역</th>\n",
       "      <th>2020</th>\n",
       "      <th>2015</th>\n",
       "      <th>2010</th>\n",
       "      <th>2005</th>\n",
       "    </tr>\n",
       "    <tr>\n",
       "      <th>도시</th>\n",
       "      <th></th>\n",
       "      <th></th>\n",
       "      <th></th>\n",
       "      <th></th>\n",
       "      <th></th>\n",
       "    </tr>\n",
       "  </thead>\n",
       "  <tbody>\n",
       "    <tr>\n",
       "      <th>광주</th>\n",
       "      <td>전라권</td>\n",
       "      <td>1450062</td>\n",
       "      <td>1474636.0</td>\n",
       "      <td>1454636.0</td>\n",
       "      <td>1401745</td>\n",
       "    </tr>\n",
       "    <tr>\n",
       "      <th>부산</th>\n",
       "      <td>경상권</td>\n",
       "      <td>3391946</td>\n",
       "      <td>NaN</td>\n",
       "      <td>NaN</td>\n",
       "      <td>3628293</td>\n",
       "    </tr>\n",
       "    <tr>\n",
       "      <th>서울</th>\n",
       "      <td>수도권</td>\n",
       "      <td>9668465</td>\n",
       "      <td>10022181.0</td>\n",
       "      <td>10312545.0</td>\n",
       "      <td>10167344</td>\n",
       "    </tr>\n",
       "    <tr>\n",
       "      <th>인천</th>\n",
       "      <td>경기권</td>\n",
       "      <td>2942828</td>\n",
       "      <td>2925815.0</td>\n",
       "      <td>NaN</td>\n",
       "      <td>2600495</td>\n",
       "    </tr>\n",
       "  </tbody>\n",
       "</table>\n",
       "</div>"
      ]
     },
     "execution_count": 81,
     "metadata": {},
     "output_type": "execute_result"
    }
   ],
   "execution_count": 81
  },
  {
   "metadata": {
    "ExecuteTime": {
     "end_time": "2024-06-24T06:13:42.415245Z",
     "start_time": "2024-06-24T06:13:42.403083Z"
    }
   },
   "cell_type": "code",
   "source": [
    "# 내림차순\n",
    "df.sort_index(ascending=False)"
   ],
   "id": "a09374bc8b9828fc",
   "outputs": [
    {
     "data": {
      "text/plain": [
       "     지역     2020        2015        2010      2005\n",
       "도시                                                \n",
       "인천  경기권  2942828   2925815.0         NaN   2600495\n",
       "서울  수도권  9668465  10022181.0  10312545.0  10167344\n",
       "부산  경상권  3391946         NaN         NaN   3628293\n",
       "광주  전라권  1450062   1474636.0   1454636.0   1401745"
      ],
      "text/html": [
       "<div>\n",
       "<style scoped>\n",
       "    .dataframe tbody tr th:only-of-type {\n",
       "        vertical-align: middle;\n",
       "    }\n",
       "\n",
       "    .dataframe tbody tr th {\n",
       "        vertical-align: top;\n",
       "    }\n",
       "\n",
       "    .dataframe thead th {\n",
       "        text-align: right;\n",
       "    }\n",
       "</style>\n",
       "<table border=\"1\" class=\"dataframe\">\n",
       "  <thead>\n",
       "    <tr style=\"text-align: right;\">\n",
       "      <th></th>\n",
       "      <th>지역</th>\n",
       "      <th>2020</th>\n",
       "      <th>2015</th>\n",
       "      <th>2010</th>\n",
       "      <th>2005</th>\n",
       "    </tr>\n",
       "    <tr>\n",
       "      <th>도시</th>\n",
       "      <th></th>\n",
       "      <th></th>\n",
       "      <th></th>\n",
       "      <th></th>\n",
       "      <th></th>\n",
       "    </tr>\n",
       "  </thead>\n",
       "  <tbody>\n",
       "    <tr>\n",
       "      <th>인천</th>\n",
       "      <td>경기권</td>\n",
       "      <td>2942828</td>\n",
       "      <td>2925815.0</td>\n",
       "      <td>NaN</td>\n",
       "      <td>2600495</td>\n",
       "    </tr>\n",
       "    <tr>\n",
       "      <th>서울</th>\n",
       "      <td>수도권</td>\n",
       "      <td>9668465</td>\n",
       "      <td>10022181.0</td>\n",
       "      <td>10312545.0</td>\n",
       "      <td>10167344</td>\n",
       "    </tr>\n",
       "    <tr>\n",
       "      <th>부산</th>\n",
       "      <td>경상권</td>\n",
       "      <td>3391946</td>\n",
       "      <td>NaN</td>\n",
       "      <td>NaN</td>\n",
       "      <td>3628293</td>\n",
       "    </tr>\n",
       "    <tr>\n",
       "      <th>광주</th>\n",
       "      <td>전라권</td>\n",
       "      <td>1450062</td>\n",
       "      <td>1474636.0</td>\n",
       "      <td>1454636.0</td>\n",
       "      <td>1401745</td>\n",
       "    </tr>\n",
       "  </tbody>\n",
       "</table>\n",
       "</div>"
      ]
     },
     "execution_count": 82,
     "metadata": {},
     "output_type": "execute_result"
    }
   ],
   "execution_count": 82
  },
  {
   "metadata": {
    "ExecuteTime": {
     "end_time": "2024-06-24T06:14:56.139655Z",
     "start_time": "2024-06-24T06:14:56.129529Z"
    }
   },
   "cell_type": "code",
   "source": [
    "# 데이터를 기준으로 정렬\n",
    "df.sort_values(by='2010')"
   ],
   "id": "440762fe867b0e83",
   "outputs": [
    {
     "data": {
      "text/plain": [
       "     지역     2020        2015        2010      2005\n",
       "도시                                                \n",
       "광주  전라권  1450062   1474636.0   1454636.0   1401745\n",
       "서울  수도권  9668465  10022181.0  10312545.0  10167344\n",
       "부산  경상권  3391946         NaN         NaN   3628293\n",
       "인천  경기권  2942828   2925815.0         NaN   2600495"
      ],
      "text/html": [
       "<div>\n",
       "<style scoped>\n",
       "    .dataframe tbody tr th:only-of-type {\n",
       "        vertical-align: middle;\n",
       "    }\n",
       "\n",
       "    .dataframe tbody tr th {\n",
       "        vertical-align: top;\n",
       "    }\n",
       "\n",
       "    .dataframe thead th {\n",
       "        text-align: right;\n",
       "    }\n",
       "</style>\n",
       "<table border=\"1\" class=\"dataframe\">\n",
       "  <thead>\n",
       "    <tr style=\"text-align: right;\">\n",
       "      <th></th>\n",
       "      <th>지역</th>\n",
       "      <th>2020</th>\n",
       "      <th>2015</th>\n",
       "      <th>2010</th>\n",
       "      <th>2005</th>\n",
       "    </tr>\n",
       "    <tr>\n",
       "      <th>도시</th>\n",
       "      <th></th>\n",
       "      <th></th>\n",
       "      <th></th>\n",
       "      <th></th>\n",
       "      <th></th>\n",
       "    </tr>\n",
       "  </thead>\n",
       "  <tbody>\n",
       "    <tr>\n",
       "      <th>광주</th>\n",
       "      <td>전라권</td>\n",
       "      <td>1450062</td>\n",
       "      <td>1474636.0</td>\n",
       "      <td>1454636.0</td>\n",
       "      <td>1401745</td>\n",
       "    </tr>\n",
       "    <tr>\n",
       "      <th>서울</th>\n",
       "      <td>수도권</td>\n",
       "      <td>9668465</td>\n",
       "      <td>10022181.0</td>\n",
       "      <td>10312545.0</td>\n",
       "      <td>10167344</td>\n",
       "    </tr>\n",
       "    <tr>\n",
       "      <th>부산</th>\n",
       "      <td>경상권</td>\n",
       "      <td>3391946</td>\n",
       "      <td>NaN</td>\n",
       "      <td>NaN</td>\n",
       "      <td>3628293</td>\n",
       "    </tr>\n",
       "    <tr>\n",
       "      <th>인천</th>\n",
       "      <td>경기권</td>\n",
       "      <td>2942828</td>\n",
       "      <td>2925815.0</td>\n",
       "      <td>NaN</td>\n",
       "      <td>2600495</td>\n",
       "    </tr>\n",
       "  </tbody>\n",
       "</table>\n",
       "</div>"
      ]
     },
     "execution_count": 84,
     "metadata": {},
     "output_type": "execute_result"
    }
   ],
   "execution_count": 84
  },
  {
   "metadata": {
    "ExecuteTime": {
     "end_time": "2024-06-24T06:16:56.896962Z",
     "start_time": "2024-06-24T06:16:56.890110Z"
    }
   },
   "cell_type": "code",
   "source": [
    "# 데이터의 개수를 세어주는 함수\n",
    "# 결측치의 유무 판단\n",
    "df.count()"
   ],
   "id": "e08cf23c467c67d3",
   "outputs": [
    {
     "data": {
      "text/plain": [
       "지역      4\n",
       "2020    4\n",
       "2015    3\n",
       "2010    2\n",
       "2005    4\n",
       "dtype: int64"
      ]
     },
     "execution_count": 86,
     "metadata": {},
     "output_type": "execute_result"
    }
   ],
   "execution_count": 86
  },
  {
   "metadata": {
    "ExecuteTime": {
     "end_time": "2024-06-24T06:18:42.954473Z",
     "start_time": "2024-06-24T06:18:42.945680Z"
    }
   },
   "cell_type": "code",
   "source": [
    "# 결측치를 특정값으로 채워줌\n",
    "df.fillna(0, inplace=True)\n",
    "df"
   ],
   "id": "b5c067c1881be208",
   "outputs": [
    {
     "data": {
      "text/plain": [
       "     지역     2020        2015        2010      2005\n",
       "도시                                                \n",
       "서울  수도권  9668465  10022181.0  10312545.0  10167344\n",
       "부산  경상권  3391946         0.0         0.0   3628293\n",
       "인천  경기권  2942828   2925815.0         0.0   2600495\n",
       "광주  전라권  1450062   1474636.0   1454636.0   1401745"
      ],
      "text/html": [
       "<div>\n",
       "<style scoped>\n",
       "    .dataframe tbody tr th:only-of-type {\n",
       "        vertical-align: middle;\n",
       "    }\n",
       "\n",
       "    .dataframe tbody tr th {\n",
       "        vertical-align: top;\n",
       "    }\n",
       "\n",
       "    .dataframe thead th {\n",
       "        text-align: right;\n",
       "    }\n",
       "</style>\n",
       "<table border=\"1\" class=\"dataframe\">\n",
       "  <thead>\n",
       "    <tr style=\"text-align: right;\">\n",
       "      <th></th>\n",
       "      <th>지역</th>\n",
       "      <th>2020</th>\n",
       "      <th>2015</th>\n",
       "      <th>2010</th>\n",
       "      <th>2005</th>\n",
       "    </tr>\n",
       "    <tr>\n",
       "      <th>도시</th>\n",
       "      <th></th>\n",
       "      <th></th>\n",
       "      <th></th>\n",
       "      <th></th>\n",
       "      <th></th>\n",
       "    </tr>\n",
       "  </thead>\n",
       "  <tbody>\n",
       "    <tr>\n",
       "      <th>서울</th>\n",
       "      <td>수도권</td>\n",
       "      <td>9668465</td>\n",
       "      <td>10022181.0</td>\n",
       "      <td>10312545.0</td>\n",
       "      <td>10167344</td>\n",
       "    </tr>\n",
       "    <tr>\n",
       "      <th>부산</th>\n",
       "      <td>경상권</td>\n",
       "      <td>3391946</td>\n",
       "      <td>0.0</td>\n",
       "      <td>0.0</td>\n",
       "      <td>3628293</td>\n",
       "    </tr>\n",
       "    <tr>\n",
       "      <th>인천</th>\n",
       "      <td>경기권</td>\n",
       "      <td>2942828</td>\n",
       "      <td>2925815.0</td>\n",
       "      <td>0.0</td>\n",
       "      <td>2600495</td>\n",
       "    </tr>\n",
       "    <tr>\n",
       "      <th>광주</th>\n",
       "      <td>전라권</td>\n",
       "      <td>1450062</td>\n",
       "      <td>1474636.0</td>\n",
       "      <td>1454636.0</td>\n",
       "      <td>1401745</td>\n",
       "    </tr>\n",
       "  </tbody>\n",
       "</table>\n",
       "</div>"
      ]
     },
     "execution_count": 91,
     "metadata": {},
     "output_type": "execute_result"
    }
   ],
   "execution_count": 91
  },
  {
   "metadata": {
    "ExecuteTime": {
     "end_time": "2024-06-24T06:24:46.099350Z",
     "start_time": "2024-06-24T06:24:46.090091Z"
    }
   },
   "cell_type": "code",
   "source": [
    "score = pd.read_csv('data/score.csv', encoding = 'euc-kr',index_col='과목')\n",
    "score.head()"
   ],
   "id": "bede3e1808583646",
   "outputs": [
    {
     "data": {
      "text/plain": [
       "     1반  2반  3반  4반\n",
       "과목                 \n",
       "파이썬  45  44  73  39\n",
       "DB   76  92  45  69\n",
       "자바   47  92  45  69\n",
       "크롤링  92  81  85  40\n",
       "Web  11  79  47  26"
      ],
      "text/html": [
       "<div>\n",
       "<style scoped>\n",
       "    .dataframe tbody tr th:only-of-type {\n",
       "        vertical-align: middle;\n",
       "    }\n",
       "\n",
       "    .dataframe tbody tr th {\n",
       "        vertical-align: top;\n",
       "    }\n",
       "\n",
       "    .dataframe thead th {\n",
       "        text-align: right;\n",
       "    }\n",
       "</style>\n",
       "<table border=\"1\" class=\"dataframe\">\n",
       "  <thead>\n",
       "    <tr style=\"text-align: right;\">\n",
       "      <th></th>\n",
       "      <th>1반</th>\n",
       "      <th>2반</th>\n",
       "      <th>3반</th>\n",
       "      <th>4반</th>\n",
       "    </tr>\n",
       "    <tr>\n",
       "      <th>과목</th>\n",
       "      <th></th>\n",
       "      <th></th>\n",
       "      <th></th>\n",
       "      <th></th>\n",
       "    </tr>\n",
       "  </thead>\n",
       "  <tbody>\n",
       "    <tr>\n",
       "      <th>파이썬</th>\n",
       "      <td>45</td>\n",
       "      <td>44</td>\n",
       "      <td>73</td>\n",
       "      <td>39</td>\n",
       "    </tr>\n",
       "    <tr>\n",
       "      <th>DB</th>\n",
       "      <td>76</td>\n",
       "      <td>92</td>\n",
       "      <td>45</td>\n",
       "      <td>69</td>\n",
       "    </tr>\n",
       "    <tr>\n",
       "      <th>자바</th>\n",
       "      <td>47</td>\n",
       "      <td>92</td>\n",
       "      <td>45</td>\n",
       "      <td>69</td>\n",
       "    </tr>\n",
       "    <tr>\n",
       "      <th>크롤링</th>\n",
       "      <td>92</td>\n",
       "      <td>81</td>\n",
       "      <td>85</td>\n",
       "      <td>40</td>\n",
       "    </tr>\n",
       "    <tr>\n",
       "      <th>Web</th>\n",
       "      <td>11</td>\n",
       "      <td>79</td>\n",
       "      <td>47</td>\n",
       "      <td>26</td>\n",
       "    </tr>\n",
       "  </tbody>\n",
       "</table>\n",
       "</div>"
      ]
     },
     "execution_count": 98,
     "metadata": {},
     "output_type": "execute_result"
    }
   ],
   "execution_count": 98
  },
  {
   "metadata": {
    "ExecuteTime": {
     "end_time": "2024-06-24T06:24:48.483132Z",
     "start_time": "2024-06-24T06:24:48.475599Z"
    }
   },
   "cell_type": "code",
   "source": [
    "score['합계'] = score.sum(axis=1)\n",
    "score"
   ],
   "id": "ff5a708486439d8a",
   "outputs": [
    {
     "data": {
      "text/plain": [
       "     1반  2반  3반  4반   합계\n",
       "과목                      \n",
       "파이썬  45  44  73  39  201\n",
       "DB   76  92  45  69  282\n",
       "자바   47  92  45  69  253\n",
       "크롤링  92  81  85  40  298\n",
       "Web  11  79  47  26  163"
      ],
      "text/html": [
       "<div>\n",
       "<style scoped>\n",
       "    .dataframe tbody tr th:only-of-type {\n",
       "        vertical-align: middle;\n",
       "    }\n",
       "\n",
       "    .dataframe tbody tr th {\n",
       "        vertical-align: top;\n",
       "    }\n",
       "\n",
       "    .dataframe thead th {\n",
       "        text-align: right;\n",
       "    }\n",
       "</style>\n",
       "<table border=\"1\" class=\"dataframe\">\n",
       "  <thead>\n",
       "    <tr style=\"text-align: right;\">\n",
       "      <th></th>\n",
       "      <th>1반</th>\n",
       "      <th>2반</th>\n",
       "      <th>3반</th>\n",
       "      <th>4반</th>\n",
       "      <th>합계</th>\n",
       "    </tr>\n",
       "    <tr>\n",
       "      <th>과목</th>\n",
       "      <th></th>\n",
       "      <th></th>\n",
       "      <th></th>\n",
       "      <th></th>\n",
       "      <th></th>\n",
       "    </tr>\n",
       "  </thead>\n",
       "  <tbody>\n",
       "    <tr>\n",
       "      <th>파이썬</th>\n",
       "      <td>45</td>\n",
       "      <td>44</td>\n",
       "      <td>73</td>\n",
       "      <td>39</td>\n",
       "      <td>201</td>\n",
       "    </tr>\n",
       "    <tr>\n",
       "      <th>DB</th>\n",
       "      <td>76</td>\n",
       "      <td>92</td>\n",
       "      <td>45</td>\n",
       "      <td>69</td>\n",
       "      <td>282</td>\n",
       "    </tr>\n",
       "    <tr>\n",
       "      <th>자바</th>\n",
       "      <td>47</td>\n",
       "      <td>92</td>\n",
       "      <td>45</td>\n",
       "      <td>69</td>\n",
       "      <td>253</td>\n",
       "    </tr>\n",
       "    <tr>\n",
       "      <th>크롤링</th>\n",
       "      <td>92</td>\n",
       "      <td>81</td>\n",
       "      <td>85</td>\n",
       "      <td>40</td>\n",
       "      <td>298</td>\n",
       "    </tr>\n",
       "    <tr>\n",
       "      <th>Web</th>\n",
       "      <td>11</td>\n",
       "      <td>79</td>\n",
       "      <td>47</td>\n",
       "      <td>26</td>\n",
       "      <td>163</td>\n",
       "    </tr>\n",
       "  </tbody>\n",
       "</table>\n",
       "</div>"
      ]
     },
     "execution_count": 99,
     "metadata": {},
     "output_type": "execute_result"
    }
   ],
   "execution_count": 99
  },
  {
   "metadata": {
    "ExecuteTime": {
     "end_time": "2024-06-24T06:36:01.567337Z",
     "start_time": "2024-06-24T06:36:01.556653Z"
    }
   },
   "cell_type": "code",
   "source": [
    "# 1~4반 평균을 구해서 '평균'이라는 컬럼으로 추가\n",
    "# 과목만 잘라와서 평균(합계안더함)\n",
    "score['평균'] = score.iloc[:,0:4].mean(axis=1)\n",
    "score"
   ],
   "id": "9b5fc8f14744b72d",
   "outputs": [
    {
     "data": {
      "text/plain": [
       "     1반  2반  3반  4반   합계     평균\n",
       "과목                             \n",
       "파이썬  45  44  73  39  201  50.25\n",
       "DB   76  92  45  69  282  70.50\n",
       "자바   47  92  45  69  253  63.25\n",
       "크롤링  92  81  85  40  298  74.50\n",
       "Web  11  79  47  26  163  40.75"
      ],
      "text/html": [
       "<div>\n",
       "<style scoped>\n",
       "    .dataframe tbody tr th:only-of-type {\n",
       "        vertical-align: middle;\n",
       "    }\n",
       "\n",
       "    .dataframe tbody tr th {\n",
       "        vertical-align: top;\n",
       "    }\n",
       "\n",
       "    .dataframe thead th {\n",
       "        text-align: right;\n",
       "    }\n",
       "</style>\n",
       "<table border=\"1\" class=\"dataframe\">\n",
       "  <thead>\n",
       "    <tr style=\"text-align: right;\">\n",
       "      <th></th>\n",
       "      <th>1반</th>\n",
       "      <th>2반</th>\n",
       "      <th>3반</th>\n",
       "      <th>4반</th>\n",
       "      <th>합계</th>\n",
       "      <th>평균</th>\n",
       "    </tr>\n",
       "    <tr>\n",
       "      <th>과목</th>\n",
       "      <th></th>\n",
       "      <th></th>\n",
       "      <th></th>\n",
       "      <th></th>\n",
       "      <th></th>\n",
       "      <th></th>\n",
       "    </tr>\n",
       "  </thead>\n",
       "  <tbody>\n",
       "    <tr>\n",
       "      <th>파이썬</th>\n",
       "      <td>45</td>\n",
       "      <td>44</td>\n",
       "      <td>73</td>\n",
       "      <td>39</td>\n",
       "      <td>201</td>\n",
       "      <td>50.25</td>\n",
       "    </tr>\n",
       "    <tr>\n",
       "      <th>DB</th>\n",
       "      <td>76</td>\n",
       "      <td>92</td>\n",
       "      <td>45</td>\n",
       "      <td>69</td>\n",
       "      <td>282</td>\n",
       "      <td>70.50</td>\n",
       "    </tr>\n",
       "    <tr>\n",
       "      <th>자바</th>\n",
       "      <td>47</td>\n",
       "      <td>92</td>\n",
       "      <td>45</td>\n",
       "      <td>69</td>\n",
       "      <td>253</td>\n",
       "      <td>63.25</td>\n",
       "    </tr>\n",
       "    <tr>\n",
       "      <th>크롤링</th>\n",
       "      <td>92</td>\n",
       "      <td>81</td>\n",
       "      <td>85</td>\n",
       "      <td>40</td>\n",
       "      <td>298</td>\n",
       "      <td>74.50</td>\n",
       "    </tr>\n",
       "    <tr>\n",
       "      <th>Web</th>\n",
       "      <td>11</td>\n",
       "      <td>79</td>\n",
       "      <td>47</td>\n",
       "      <td>26</td>\n",
       "      <td>163</td>\n",
       "      <td>40.75</td>\n",
       "    </tr>\n",
       "  </tbody>\n",
       "</table>\n",
       "</div>"
      ]
     },
     "execution_count": 113,
     "metadata": {},
     "output_type": "execute_result"
    }
   ],
   "execution_count": 113
  },
  {
   "metadata": {
    "ExecuteTime": {
     "end_time": "2024-06-24T06:47:55.477587Z",
     "start_time": "2024-06-24T06:47:55.463264Z"
    }
   },
   "cell_type": "code",
   "source": [
    "# 반별 평균을 구하여 행추가 ('반평균')\n",
    "score.loc['반평균'] = score.loc[:,'1반':'4반'].mean(axis=0)\n",
    "score"
   ],
   "id": "5509dca01e7417aa",
   "outputs": [
    {
     "data": {
      "text/plain": [
       "       1반    2반    3반    4반     합계     평균\n",
       "과목                                       \n",
       "파이썬  45.0  44.0  73.0  39.0  201.0  50.25\n",
       "DB   76.0  92.0  45.0  69.0  282.0  70.50\n",
       "자바   47.0  92.0  45.0  69.0  253.0  63.25\n",
       "크롤링  92.0  81.0  85.0  40.0  298.0  74.50\n",
       "Web  11.0  79.0  47.0  26.0  163.0  40.75\n",
       "반평균  54.2  77.6  59.0  48.6    NaN    NaN"
      ],
      "text/html": [
       "<div>\n",
       "<style scoped>\n",
       "    .dataframe tbody tr th:only-of-type {\n",
       "        vertical-align: middle;\n",
       "    }\n",
       "\n",
       "    .dataframe tbody tr th {\n",
       "        vertical-align: top;\n",
       "    }\n",
       "\n",
       "    .dataframe thead th {\n",
       "        text-align: right;\n",
       "    }\n",
       "</style>\n",
       "<table border=\"1\" class=\"dataframe\">\n",
       "  <thead>\n",
       "    <tr style=\"text-align: right;\">\n",
       "      <th></th>\n",
       "      <th>1반</th>\n",
       "      <th>2반</th>\n",
       "      <th>3반</th>\n",
       "      <th>4반</th>\n",
       "      <th>합계</th>\n",
       "      <th>평균</th>\n",
       "    </tr>\n",
       "    <tr>\n",
       "      <th>과목</th>\n",
       "      <th></th>\n",
       "      <th></th>\n",
       "      <th></th>\n",
       "      <th></th>\n",
       "      <th></th>\n",
       "      <th></th>\n",
       "    </tr>\n",
       "  </thead>\n",
       "  <tbody>\n",
       "    <tr>\n",
       "      <th>파이썬</th>\n",
       "      <td>45.0</td>\n",
       "      <td>44.0</td>\n",
       "      <td>73.0</td>\n",
       "      <td>39.0</td>\n",
       "      <td>201.0</td>\n",
       "      <td>50.25</td>\n",
       "    </tr>\n",
       "    <tr>\n",
       "      <th>DB</th>\n",
       "      <td>76.0</td>\n",
       "      <td>92.0</td>\n",
       "      <td>45.0</td>\n",
       "      <td>69.0</td>\n",
       "      <td>282.0</td>\n",
       "      <td>70.50</td>\n",
       "    </tr>\n",
       "    <tr>\n",
       "      <th>자바</th>\n",
       "      <td>47.0</td>\n",
       "      <td>92.0</td>\n",
       "      <td>45.0</td>\n",
       "      <td>69.0</td>\n",
       "      <td>253.0</td>\n",
       "      <td>63.25</td>\n",
       "    </tr>\n",
       "    <tr>\n",
       "      <th>크롤링</th>\n",
       "      <td>92.0</td>\n",
       "      <td>81.0</td>\n",
       "      <td>85.0</td>\n",
       "      <td>40.0</td>\n",
       "      <td>298.0</td>\n",
       "      <td>74.50</td>\n",
       "    </tr>\n",
       "    <tr>\n",
       "      <th>Web</th>\n",
       "      <td>11.0</td>\n",
       "      <td>79.0</td>\n",
       "      <td>47.0</td>\n",
       "      <td>26.0</td>\n",
       "      <td>163.0</td>\n",
       "      <td>40.75</td>\n",
       "    </tr>\n",
       "    <tr>\n",
       "      <th>반평균</th>\n",
       "      <td>54.2</td>\n",
       "      <td>77.6</td>\n",
       "      <td>59.0</td>\n",
       "      <td>48.6</td>\n",
       "      <td>NaN</td>\n",
       "      <td>NaN</td>\n",
       "    </tr>\n",
       "  </tbody>\n",
       "</table>\n",
       "</div>"
      ]
     },
     "execution_count": 118,
     "metadata": {},
     "output_type": "execute_result"
    }
   ],
   "execution_count": 118
  },
  {
   "metadata": {
    "ExecuteTime": {
     "end_time": "2024-06-24T07:08:09.869063Z",
     "start_time": "2024-06-24T07:08:09.857887Z"
    }
   },
   "cell_type": "code",
   "source": "score.loc['반평균','합계':'평균'] = '-'\n",
   "id": "1447483434e28656",
   "outputs": [
    {
     "name": "stderr",
     "output_type": "stream",
     "text": [
      "C:\\Users\\USER\\AppData\\Local\\Temp\\ipykernel_6516\\676522735.py:1: FutureWarning: Setting an item of incompatible dtype is deprecated and will raise an error in a future version of pandas. Value '-' has dtype incompatible with float64, please explicitly cast to a compatible dtype first.\n",
      "  score.loc['반평균','합계':'평균'] = \"-\"\n",
      "C:\\Users\\USER\\AppData\\Local\\Temp\\ipykernel_6516\\676522735.py:1: FutureWarning: Setting an item of incompatible dtype is deprecated and will raise an error in a future version of pandas. Value '-' has dtype incompatible with float64, please explicitly cast to a compatible dtype first.\n",
      "  score.loc['반평균','합계':'평균'] = \"-\"\n"
     ]
    },
    {
     "data": {
      "text/plain": [
       "       1반    2반    3반    4반     합계     평균\n",
       "과목                                       \n",
       "파이썬  45.0  44.0  73.0  39.0  201.0  50.25\n",
       "DB   76.0  92.0  45.0  69.0  282.0   70.5\n",
       "자바   47.0  92.0  45.0  69.0  253.0  63.25\n",
       "크롤링  92.0  81.0  85.0  40.0  298.0   74.5\n",
       "Web  11.0  79.0  47.0  26.0  163.0  40.75\n",
       "반평균  54.2  77.6  59.0  48.6      -      -"
      ],
      "text/html": [
       "<div>\n",
       "<style scoped>\n",
       "    .dataframe tbody tr th:only-of-type {\n",
       "        vertical-align: middle;\n",
       "    }\n",
       "\n",
       "    .dataframe tbody tr th {\n",
       "        vertical-align: top;\n",
       "    }\n",
       "\n",
       "    .dataframe thead th {\n",
       "        text-align: right;\n",
       "    }\n",
       "</style>\n",
       "<table border=\"1\" class=\"dataframe\">\n",
       "  <thead>\n",
       "    <tr style=\"text-align: right;\">\n",
       "      <th></th>\n",
       "      <th>1반</th>\n",
       "      <th>2반</th>\n",
       "      <th>3반</th>\n",
       "      <th>4반</th>\n",
       "      <th>합계</th>\n",
       "      <th>평균</th>\n",
       "    </tr>\n",
       "    <tr>\n",
       "      <th>과목</th>\n",
       "      <th></th>\n",
       "      <th></th>\n",
       "      <th></th>\n",
       "      <th></th>\n",
       "      <th></th>\n",
       "      <th></th>\n",
       "    </tr>\n",
       "  </thead>\n",
       "  <tbody>\n",
       "    <tr>\n",
       "      <th>파이썬</th>\n",
       "      <td>45.0</td>\n",
       "      <td>44.0</td>\n",
       "      <td>73.0</td>\n",
       "      <td>39.0</td>\n",
       "      <td>201.0</td>\n",
       "      <td>50.25</td>\n",
       "    </tr>\n",
       "    <tr>\n",
       "      <th>DB</th>\n",
       "      <td>76.0</td>\n",
       "      <td>92.0</td>\n",
       "      <td>45.0</td>\n",
       "      <td>69.0</td>\n",
       "      <td>282.0</td>\n",
       "      <td>70.5</td>\n",
       "    </tr>\n",
       "    <tr>\n",
       "      <th>자바</th>\n",
       "      <td>47.0</td>\n",
       "      <td>92.0</td>\n",
       "      <td>45.0</td>\n",
       "      <td>69.0</td>\n",
       "      <td>253.0</td>\n",
       "      <td>63.25</td>\n",
       "    </tr>\n",
       "    <tr>\n",
       "      <th>크롤링</th>\n",
       "      <td>92.0</td>\n",
       "      <td>81.0</td>\n",
       "      <td>85.0</td>\n",
       "      <td>40.0</td>\n",
       "      <td>298.0</td>\n",
       "      <td>74.5</td>\n",
       "    </tr>\n",
       "    <tr>\n",
       "      <th>Web</th>\n",
       "      <td>11.0</td>\n",
       "      <td>79.0</td>\n",
       "      <td>47.0</td>\n",
       "      <td>26.0</td>\n",
       "      <td>163.0</td>\n",
       "      <td>40.75</td>\n",
       "    </tr>\n",
       "    <tr>\n",
       "      <th>반평균</th>\n",
       "      <td>54.2</td>\n",
       "      <td>77.6</td>\n",
       "      <td>59.0</td>\n",
       "      <td>48.6</td>\n",
       "      <td>-</td>\n",
       "      <td>-</td>\n",
       "    </tr>\n",
       "  </tbody>\n",
       "</table>\n",
       "</div>"
      ]
     },
     "execution_count": 120,
     "metadata": {},
     "output_type": "execute_result"
    }
   ],
   "execution_count": 120
  },
  {
   "metadata": {
    "ExecuteTime": {
     "end_time": "2024-06-24T07:11:17.610634Z",
     "start_time": "2024-06-24T07:11:17.595154Z"
    }
   },
   "cell_type": "code",
   "source": [
    "# 과목별 가장 높은 점수와 낮은 점수의 차이를 구하여 '차이'라는 컬럼으로 추가\n",
    "max_score = score.loc[:'Web',:'4반'].max(axis=1)\n",
    "min_score = score.loc[:'Web',:'4반'].min(axis=1)\n",
    "score['차이'] = max_score - min_score\n",
    "score"
   ],
   "id": "f28bd5203133ffb1",
   "outputs": [
    {
     "data": {
      "text/plain": [
       "       1반    2반    3반    4반     합계     평균    차이\n",
       "과목                                             \n",
       "파이썬  45.0  44.0  73.0  39.0  201.0  50.25  34.0\n",
       "DB   76.0  92.0  45.0  69.0  282.0   70.5  47.0\n",
       "자바   47.0  92.0  45.0  69.0  253.0  63.25  47.0\n",
       "크롤링  92.0  81.0  85.0  40.0  298.0   74.5  52.0\n",
       "Web  11.0  79.0  47.0  26.0  163.0  40.75  68.0\n",
       "반평균  54.2  77.6  59.0  48.6      -      -   NaN"
      ],
      "text/html": [
       "<div>\n",
       "<style scoped>\n",
       "    .dataframe tbody tr th:only-of-type {\n",
       "        vertical-align: middle;\n",
       "    }\n",
       "\n",
       "    .dataframe tbody tr th {\n",
       "        vertical-align: top;\n",
       "    }\n",
       "\n",
       "    .dataframe thead th {\n",
       "        text-align: right;\n",
       "    }\n",
       "</style>\n",
       "<table border=\"1\" class=\"dataframe\">\n",
       "  <thead>\n",
       "    <tr style=\"text-align: right;\">\n",
       "      <th></th>\n",
       "      <th>1반</th>\n",
       "      <th>2반</th>\n",
       "      <th>3반</th>\n",
       "      <th>4반</th>\n",
       "      <th>합계</th>\n",
       "      <th>평균</th>\n",
       "      <th>차이</th>\n",
       "    </tr>\n",
       "    <tr>\n",
       "      <th>과목</th>\n",
       "      <th></th>\n",
       "      <th></th>\n",
       "      <th></th>\n",
       "      <th></th>\n",
       "      <th></th>\n",
       "      <th></th>\n",
       "      <th></th>\n",
       "    </tr>\n",
       "  </thead>\n",
       "  <tbody>\n",
       "    <tr>\n",
       "      <th>파이썬</th>\n",
       "      <td>45.0</td>\n",
       "      <td>44.0</td>\n",
       "      <td>73.0</td>\n",
       "      <td>39.0</td>\n",
       "      <td>201.0</td>\n",
       "      <td>50.25</td>\n",
       "      <td>34.0</td>\n",
       "    </tr>\n",
       "    <tr>\n",
       "      <th>DB</th>\n",
       "      <td>76.0</td>\n",
       "      <td>92.0</td>\n",
       "      <td>45.0</td>\n",
       "      <td>69.0</td>\n",
       "      <td>282.0</td>\n",
       "      <td>70.5</td>\n",
       "      <td>47.0</td>\n",
       "    </tr>\n",
       "    <tr>\n",
       "      <th>자바</th>\n",
       "      <td>47.0</td>\n",
       "      <td>92.0</td>\n",
       "      <td>45.0</td>\n",
       "      <td>69.0</td>\n",
       "      <td>253.0</td>\n",
       "      <td>63.25</td>\n",
       "      <td>47.0</td>\n",
       "    </tr>\n",
       "    <tr>\n",
       "      <th>크롤링</th>\n",
       "      <td>92.0</td>\n",
       "      <td>81.0</td>\n",
       "      <td>85.0</td>\n",
       "      <td>40.0</td>\n",
       "      <td>298.0</td>\n",
       "      <td>74.5</td>\n",
       "      <td>52.0</td>\n",
       "    </tr>\n",
       "    <tr>\n",
       "      <th>Web</th>\n",
       "      <td>11.0</td>\n",
       "      <td>79.0</td>\n",
       "      <td>47.0</td>\n",
       "      <td>26.0</td>\n",
       "      <td>163.0</td>\n",
       "      <td>40.75</td>\n",
       "      <td>68.0</td>\n",
       "    </tr>\n",
       "    <tr>\n",
       "      <th>반평균</th>\n",
       "      <td>54.2</td>\n",
       "      <td>77.6</td>\n",
       "      <td>59.0</td>\n",
       "      <td>48.6</td>\n",
       "      <td>-</td>\n",
       "      <td>-</td>\n",
       "      <td>NaN</td>\n",
       "    </tr>\n",
       "  </tbody>\n",
       "</table>\n",
       "</div>"
      ]
     },
     "execution_count": 122,
     "metadata": {},
     "output_type": "execute_result"
    }
   ],
   "execution_count": 122
  },
  {
   "metadata": {
    "ExecuteTime": {
     "end_time": "2024-06-24T07:12:38.000736Z",
     "start_time": "2024-06-24T07:12:37.989589Z"
    }
   },
   "cell_type": "code",
   "source": [
    "score.loc['반평균','차이'] = '-'\n",
    "score"
   ],
   "id": "1a7fa4c93974d0c8",
   "outputs": [
    {
     "name": "stderr",
     "output_type": "stream",
     "text": [
      "C:\\Users\\USER\\AppData\\Local\\Temp\\ipykernel_6516\\3468578431.py:1: FutureWarning: Setting an item of incompatible dtype is deprecated and will raise an error in a future version of pandas. Value '-' has dtype incompatible with float64, please explicitly cast to a compatible dtype first.\n",
      "  score.loc['반평균','차이'] = '-'\n"
     ]
    },
    {
     "data": {
      "text/plain": [
       "       1반    2반    3반    4반     합계     평균    차이\n",
       "과목                                             \n",
       "파이썬  45.0  44.0  73.0  39.0  201.0  50.25  34.0\n",
       "DB   76.0  92.0  45.0  69.0  282.0   70.5  47.0\n",
       "자바   47.0  92.0  45.0  69.0  253.0  63.25  47.0\n",
       "크롤링  92.0  81.0  85.0  40.0  298.0   74.5  52.0\n",
       "Web  11.0  79.0  47.0  26.0  163.0  40.75  68.0\n",
       "반평균  54.2  77.6  59.0  48.6      -      -     -"
      ],
      "text/html": [
       "<div>\n",
       "<style scoped>\n",
       "    .dataframe tbody tr th:only-of-type {\n",
       "        vertical-align: middle;\n",
       "    }\n",
       "\n",
       "    .dataframe tbody tr th {\n",
       "        vertical-align: top;\n",
       "    }\n",
       "\n",
       "    .dataframe thead th {\n",
       "        text-align: right;\n",
       "    }\n",
       "</style>\n",
       "<table border=\"1\" class=\"dataframe\">\n",
       "  <thead>\n",
       "    <tr style=\"text-align: right;\">\n",
       "      <th></th>\n",
       "      <th>1반</th>\n",
       "      <th>2반</th>\n",
       "      <th>3반</th>\n",
       "      <th>4반</th>\n",
       "      <th>합계</th>\n",
       "      <th>평균</th>\n",
       "      <th>차이</th>\n",
       "    </tr>\n",
       "    <tr>\n",
       "      <th>과목</th>\n",
       "      <th></th>\n",
       "      <th></th>\n",
       "      <th></th>\n",
       "      <th></th>\n",
       "      <th></th>\n",
       "      <th></th>\n",
       "      <th></th>\n",
       "    </tr>\n",
       "  </thead>\n",
       "  <tbody>\n",
       "    <tr>\n",
       "      <th>파이썬</th>\n",
       "      <td>45.0</td>\n",
       "      <td>44.0</td>\n",
       "      <td>73.0</td>\n",
       "      <td>39.0</td>\n",
       "      <td>201.0</td>\n",
       "      <td>50.25</td>\n",
       "      <td>34.0</td>\n",
       "    </tr>\n",
       "    <tr>\n",
       "      <th>DB</th>\n",
       "      <td>76.0</td>\n",
       "      <td>92.0</td>\n",
       "      <td>45.0</td>\n",
       "      <td>69.0</td>\n",
       "      <td>282.0</td>\n",
       "      <td>70.5</td>\n",
       "      <td>47.0</td>\n",
       "    </tr>\n",
       "    <tr>\n",
       "      <th>자바</th>\n",
       "      <td>47.0</td>\n",
       "      <td>92.0</td>\n",
       "      <td>45.0</td>\n",
       "      <td>69.0</td>\n",
       "      <td>253.0</td>\n",
       "      <td>63.25</td>\n",
       "      <td>47.0</td>\n",
       "    </tr>\n",
       "    <tr>\n",
       "      <th>크롤링</th>\n",
       "      <td>92.0</td>\n",
       "      <td>81.0</td>\n",
       "      <td>85.0</td>\n",
       "      <td>40.0</td>\n",
       "      <td>298.0</td>\n",
       "      <td>74.5</td>\n",
       "      <td>52.0</td>\n",
       "    </tr>\n",
       "    <tr>\n",
       "      <th>Web</th>\n",
       "      <td>11.0</td>\n",
       "      <td>79.0</td>\n",
       "      <td>47.0</td>\n",
       "      <td>26.0</td>\n",
       "      <td>163.0</td>\n",
       "      <td>40.75</td>\n",
       "      <td>68.0</td>\n",
       "    </tr>\n",
       "    <tr>\n",
       "      <th>반평균</th>\n",
       "      <td>54.2</td>\n",
       "      <td>77.6</td>\n",
       "      <td>59.0</td>\n",
       "      <td>48.6</td>\n",
       "      <td>-</td>\n",
       "      <td>-</td>\n",
       "      <td>-</td>\n",
       "    </tr>\n",
       "  </tbody>\n",
       "</table>\n",
       "</div>"
      ]
     },
     "execution_count": 124,
     "metadata": {},
     "output_type": "execute_result"
    }
   ],
   "execution_count": 124
  },
  {
   "metadata": {
    "ExecuteTime": {
     "end_time": "2024-06-24T07:18:24.675464Z",
     "start_time": "2024-06-24T07:18:24.672210Z"
    }
   },
   "cell_type": "code",
   "source": [
    "# 최대값에서 최소값을 빼주는 함수 생성\n",
    "def max_min(x):\n",
    "    return x.max() - x.min()"
   ],
   "id": "b59795081951786a",
   "outputs": [],
   "execution_count": 125
  },
  {
   "metadata": {},
   "cell_type": "markdown",
   "source": [
    "### apply() 함수\n",
    "- DataFrame에 또다른 함수를 적용할 때 사용\n",
    "- 적용할df.apply(적용할함수, axis= 0 or 1)"
   ],
   "id": "901a575148bfd8da"
  },
  {
   "metadata": {
    "ExecuteTime": {
     "end_time": "2024-06-24T07:20:34.728013Z",
     "start_time": "2024-06-24T07:20:34.720420Z"
    }
   },
   "cell_type": "code",
   "source": "score.loc[:'Web',:'4반'].apply(max_min, axis=1)",
   "id": "12a7ca7ede348998",
   "outputs": [
    {
     "data": {
      "text/plain": [
       "과목\n",
       "파이썬    34.0\n",
       "DB     47.0\n",
       "자바     47.0\n",
       "크롤링    52.0\n",
       "Web    68.0\n",
       "dtype: float64"
      ]
     },
     "execution_count": 127,
     "metadata": {},
     "output_type": "execute_result"
    }
   ],
   "execution_count": 127
  },
  {
   "metadata": {},
   "cell_type": "markdown",
   "source": [
    "### 데이터 프레임 병합하기\n",
    "- pd.concat([df1,df2,df3]) \n"
   ],
   "id": "e43b719a6ad5c877"
  },
  {
   "metadata": {
    "ExecuteTime": {
     "end_time": "2024-06-24T07:22:51.387413Z",
     "start_time": "2024-06-24T07:22:51.381282Z"
    }
   },
   "cell_type": "code",
   "source": [
    "df1 = pd.DataFrame({'A':['A0','A1','A2','A3'],\n",
    "                    'B':['B0','B1','B2','B3'],\n",
    "                    'C':['C0','C1','C2','C3']\n",
    "                   }, index = [0,1,2,3])\n",
    "\n",
    "df2 = pd.DataFrame({'A':['A4','A5','A6','A7'],\n",
    "                    'B':['B4','B5','B6','B7'],\n",
    "                    'C':['C4','C5','C6','C7']},\n",
    "                  index = [0,1,2,3])\n",
    "\n",
    "df3 = pd.DataFrame({'A':['A8','A9','A10','A11'],\n",
    "                    'B':['B8','B9','B10','B11'],\n",
    "                    'C':['C8','C9','C10','C11']},\n",
    "                  index = [0,1,2,3])"
   ],
   "id": "f33da866144fbc98",
   "outputs": [],
   "execution_count": 128
  },
  {
   "metadata": {
    "ExecuteTime": {
     "end_time": "2024-06-24T07:24:29.805415Z",
     "start_time": "2024-06-24T07:24:29.793975Z"
    }
   },
   "cell_type": "code",
   "source": [
    "concat_df = pd.concat([df1,df2,df3], axis=1)\n",
    "concat_df"
   ],
   "id": "6c98cbb37c3113d0",
   "outputs": [
    {
     "data": {
      "text/plain": [
       "    A   B   C   A   B   C    A    B    C\n",
       "0  A0  B0  C0  A4  B4  C4   A8   B8   C8\n",
       "1  A1  B1  C1  A5  B5  C5   A9   B9   C9\n",
       "2  A2  B2  C2  A6  B6  C6  A10  B10  C10\n",
       "3  A3  B3  C3  A7  B7  C7  A11  B11  C11"
      ],
      "text/html": [
       "<div>\n",
       "<style scoped>\n",
       "    .dataframe tbody tr th:only-of-type {\n",
       "        vertical-align: middle;\n",
       "    }\n",
       "\n",
       "    .dataframe tbody tr th {\n",
       "        vertical-align: top;\n",
       "    }\n",
       "\n",
       "    .dataframe thead th {\n",
       "        text-align: right;\n",
       "    }\n",
       "</style>\n",
       "<table border=\"1\" class=\"dataframe\">\n",
       "  <thead>\n",
       "    <tr style=\"text-align: right;\">\n",
       "      <th></th>\n",
       "      <th>A</th>\n",
       "      <th>B</th>\n",
       "      <th>C</th>\n",
       "      <th>A</th>\n",
       "      <th>B</th>\n",
       "      <th>C</th>\n",
       "      <th>A</th>\n",
       "      <th>B</th>\n",
       "      <th>C</th>\n",
       "    </tr>\n",
       "  </thead>\n",
       "  <tbody>\n",
       "    <tr>\n",
       "      <th>0</th>\n",
       "      <td>A0</td>\n",
       "      <td>B0</td>\n",
       "      <td>C0</td>\n",
       "      <td>A4</td>\n",
       "      <td>B4</td>\n",
       "      <td>C4</td>\n",
       "      <td>A8</td>\n",
       "      <td>B8</td>\n",
       "      <td>C8</td>\n",
       "    </tr>\n",
       "    <tr>\n",
       "      <th>1</th>\n",
       "      <td>A1</td>\n",
       "      <td>B1</td>\n",
       "      <td>C1</td>\n",
       "      <td>A5</td>\n",
       "      <td>B5</td>\n",
       "      <td>C5</td>\n",
       "      <td>A9</td>\n",
       "      <td>B9</td>\n",
       "      <td>C9</td>\n",
       "    </tr>\n",
       "    <tr>\n",
       "      <th>2</th>\n",
       "      <td>A2</td>\n",
       "      <td>B2</td>\n",
       "      <td>C2</td>\n",
       "      <td>A6</td>\n",
       "      <td>B6</td>\n",
       "      <td>C6</td>\n",
       "      <td>A10</td>\n",
       "      <td>B10</td>\n",
       "      <td>C10</td>\n",
       "    </tr>\n",
       "    <tr>\n",
       "      <th>3</th>\n",
       "      <td>A3</td>\n",
       "      <td>B3</td>\n",
       "      <td>C3</td>\n",
       "      <td>A7</td>\n",
       "      <td>B7</td>\n",
       "      <td>C7</td>\n",
       "      <td>A11</td>\n",
       "      <td>B11</td>\n",
       "      <td>C11</td>\n",
       "    </tr>\n",
       "  </tbody>\n",
       "</table>\n",
       "</div>"
      ]
     },
     "execution_count": 130,
     "metadata": {},
     "output_type": "execute_result"
    }
   ],
   "execution_count": 130
  },
  {
   "metadata": {},
   "cell_type": "markdown",
   "source": [
    "### 최종실습\n",
    "- 범죄데이터를 활용하여 각 연도별 범죄 증감율 구하기\n",
    "- 범죄 증감율 = (금년-작년)/작년 *100 "
   ],
   "id": "ae5cd2b07fa18541"
  },
  {
   "metadata": {
    "ExecuteTime": {
     "end_time": "2024-06-24T08:48:27.680759Z",
     "start_time": "2024-06-24T08:48:27.671051Z"
    }
   },
   "cell_type": "code",
   "source": [
    "data2019 = pd.read_csv('data/2019.csv', encoding = 'euc-kr', index_col='관서명')\n",
    "data2020 = pd.read_csv('data/2020.csv', encoding = 'euc-kr', index_col='관서명')\n",
    "data2021 = pd.read_csv('data/2021.csv', encoding = 'euc-kr', index_col='관서명')\n",
    "# 컬럼중 '관서명' -> 인덱스 설정\n",
    "# 인코딩 euc-kr\n",
    "# 21년 '광주지방경찰정' drop"
   ],
   "id": "85a2a871ca770bf4",
   "outputs": [],
   "execution_count": 198
  },
  {
   "metadata": {
    "ExecuteTime": {
     "end_time": "2024-06-24T08:48:27.892753Z",
     "start_time": "2024-06-24T08:48:27.888490Z"
    }
   },
   "cell_type": "code",
   "source": "data2021.drop('광주지방경찰청', inplace=True)",
   "id": "9f47ca6b0cfe1218",
   "outputs": [],
   "execution_count": 199
  },
  {
   "metadata": {
    "ExecuteTime": {
     "end_time": "2024-06-24T08:48:28.144387Z",
     "start_time": "2024-06-24T08:48:28.134521Z"
    }
   },
   "cell_type": "code",
   "source": [
    "# 19년, 20년, 21년 데이터 확인\n",
    "data2019"
   ],
   "id": "27d890d212a9139b",
   "outputs": [
    {
     "data": {
      "text/plain": [
       "            구분  살인  강도  강간·강제추행    절도     폭력\n",
       "관서명                                         \n",
       "광주지방경찰청계  발생건수  18  44      750  8425   9593\n",
       "광주지방경찰청계  검거건수  18  47      758  5409   8301\n",
       "광주지방경찰청계  검거인원  17  66      776  3433  11774\n",
       "광주지방경찰청계    구속   9  33       42   104     58\n",
       "광주지방경찰청계   불구속   1  26      511  2781   5618\n",
       "광주지방경찰청계    기타   7   7      223   548   6098\n",
       "광주동부경찰서   발생건수   3   5       92  1100   1155\n",
       "광주동부경찰서   검거건수   4   6       86   583    970\n",
       "광주동부경찰서   검거인원   4   7       98   447   1483\n",
       "광주동부경찰서     구속   3   2        8    13     10\n",
       "광주동부경찰서    불구속   0   4       63   379    703\n",
       "광주동부경찰서     기타   1   1       27    55    770\n",
       "광주서부경찰서   발생건수   5  10      172  2050   2483\n",
       "광주서부경찰서   검거건수   4   8      153  1471   2124\n",
       "광주서부경찰서   검거인원   4  15      167   876   3080\n",
       "광주서부경찰서     구속   3  10        7    27     19\n",
       "광주서부경찰서    불구속   0   5       91   665   1366\n",
       "광주서부경찰서     기타   1   0       69   184   1695\n",
       "광주남부경찰서   발생건수   1   3       70   962   1081\n",
       "광주남부경찰서   검거건수   1   3       53   506    941\n",
       "광주남부경찰서   검거인원   1   3       52   418   1260\n",
       "광주남부경찰서     구속   0   3        3    19      3\n",
       "광주남부경찰서    불구속   1   0       39   325    675\n",
       "광주남부경찰서     기타   0   0       10    74    582\n",
       "광주북부경찰서   발생건수   5  14      256  2570   2621\n",
       "광주북부경찰서   검거건수   5  18      212  1852   2319\n",
       "광주북부경찰서   검거인원   5  28      216   948   3168\n",
       "광주북부경찰서     구속   3  11       11    30     10\n",
       "광주북부경찰서    불구속   0  12      153   770   1544\n",
       "광주북부경찰서     기타   2   5       52   148   1614\n",
       "광주광산경찰서   발생건수   4  12      160  1743   2253\n",
       "광주광산경찰서   검거건수   4  10      135   996   1922\n",
       "광주광산경찰서   검거인원   3   8      129   736   2585\n",
       "광주광산경찰서     구속   0   4        5    12      6\n",
       "광주광산경찰서    불구속   0   4       81   639   1181\n",
       "광주광산경찰서     기타   3   0       43    85   1398"
      ],
      "text/html": [
       "<div>\n",
       "<style scoped>\n",
       "    .dataframe tbody tr th:only-of-type {\n",
       "        vertical-align: middle;\n",
       "    }\n",
       "\n",
       "    .dataframe tbody tr th {\n",
       "        vertical-align: top;\n",
       "    }\n",
       "\n",
       "    .dataframe thead th {\n",
       "        text-align: right;\n",
       "    }\n",
       "</style>\n",
       "<table border=\"1\" class=\"dataframe\">\n",
       "  <thead>\n",
       "    <tr style=\"text-align: right;\">\n",
       "      <th></th>\n",
       "      <th>구분</th>\n",
       "      <th>살인</th>\n",
       "      <th>강도</th>\n",
       "      <th>강간·강제추행</th>\n",
       "      <th>절도</th>\n",
       "      <th>폭력</th>\n",
       "    </tr>\n",
       "    <tr>\n",
       "      <th>관서명</th>\n",
       "      <th></th>\n",
       "      <th></th>\n",
       "      <th></th>\n",
       "      <th></th>\n",
       "      <th></th>\n",
       "      <th></th>\n",
       "    </tr>\n",
       "  </thead>\n",
       "  <tbody>\n",
       "    <tr>\n",
       "      <th>광주지방경찰청계</th>\n",
       "      <td>발생건수</td>\n",
       "      <td>18</td>\n",
       "      <td>44</td>\n",
       "      <td>750</td>\n",
       "      <td>8425</td>\n",
       "      <td>9593</td>\n",
       "    </tr>\n",
       "    <tr>\n",
       "      <th>광주지방경찰청계</th>\n",
       "      <td>검거건수</td>\n",
       "      <td>18</td>\n",
       "      <td>47</td>\n",
       "      <td>758</td>\n",
       "      <td>5409</td>\n",
       "      <td>8301</td>\n",
       "    </tr>\n",
       "    <tr>\n",
       "      <th>광주지방경찰청계</th>\n",
       "      <td>검거인원</td>\n",
       "      <td>17</td>\n",
       "      <td>66</td>\n",
       "      <td>776</td>\n",
       "      <td>3433</td>\n",
       "      <td>11774</td>\n",
       "    </tr>\n",
       "    <tr>\n",
       "      <th>광주지방경찰청계</th>\n",
       "      <td>구속</td>\n",
       "      <td>9</td>\n",
       "      <td>33</td>\n",
       "      <td>42</td>\n",
       "      <td>104</td>\n",
       "      <td>58</td>\n",
       "    </tr>\n",
       "    <tr>\n",
       "      <th>광주지방경찰청계</th>\n",
       "      <td>불구속</td>\n",
       "      <td>1</td>\n",
       "      <td>26</td>\n",
       "      <td>511</td>\n",
       "      <td>2781</td>\n",
       "      <td>5618</td>\n",
       "    </tr>\n",
       "    <tr>\n",
       "      <th>광주지방경찰청계</th>\n",
       "      <td>기타</td>\n",
       "      <td>7</td>\n",
       "      <td>7</td>\n",
       "      <td>223</td>\n",
       "      <td>548</td>\n",
       "      <td>6098</td>\n",
       "    </tr>\n",
       "    <tr>\n",
       "      <th>광주동부경찰서</th>\n",
       "      <td>발생건수</td>\n",
       "      <td>3</td>\n",
       "      <td>5</td>\n",
       "      <td>92</td>\n",
       "      <td>1100</td>\n",
       "      <td>1155</td>\n",
       "    </tr>\n",
       "    <tr>\n",
       "      <th>광주동부경찰서</th>\n",
       "      <td>검거건수</td>\n",
       "      <td>4</td>\n",
       "      <td>6</td>\n",
       "      <td>86</td>\n",
       "      <td>583</td>\n",
       "      <td>970</td>\n",
       "    </tr>\n",
       "    <tr>\n",
       "      <th>광주동부경찰서</th>\n",
       "      <td>검거인원</td>\n",
       "      <td>4</td>\n",
       "      <td>7</td>\n",
       "      <td>98</td>\n",
       "      <td>447</td>\n",
       "      <td>1483</td>\n",
       "    </tr>\n",
       "    <tr>\n",
       "      <th>광주동부경찰서</th>\n",
       "      <td>구속</td>\n",
       "      <td>3</td>\n",
       "      <td>2</td>\n",
       "      <td>8</td>\n",
       "      <td>13</td>\n",
       "      <td>10</td>\n",
       "    </tr>\n",
       "    <tr>\n",
       "      <th>광주동부경찰서</th>\n",
       "      <td>불구속</td>\n",
       "      <td>0</td>\n",
       "      <td>4</td>\n",
       "      <td>63</td>\n",
       "      <td>379</td>\n",
       "      <td>703</td>\n",
       "    </tr>\n",
       "    <tr>\n",
       "      <th>광주동부경찰서</th>\n",
       "      <td>기타</td>\n",
       "      <td>1</td>\n",
       "      <td>1</td>\n",
       "      <td>27</td>\n",
       "      <td>55</td>\n",
       "      <td>770</td>\n",
       "    </tr>\n",
       "    <tr>\n",
       "      <th>광주서부경찰서</th>\n",
       "      <td>발생건수</td>\n",
       "      <td>5</td>\n",
       "      <td>10</td>\n",
       "      <td>172</td>\n",
       "      <td>2050</td>\n",
       "      <td>2483</td>\n",
       "    </tr>\n",
       "    <tr>\n",
       "      <th>광주서부경찰서</th>\n",
       "      <td>검거건수</td>\n",
       "      <td>4</td>\n",
       "      <td>8</td>\n",
       "      <td>153</td>\n",
       "      <td>1471</td>\n",
       "      <td>2124</td>\n",
       "    </tr>\n",
       "    <tr>\n",
       "      <th>광주서부경찰서</th>\n",
       "      <td>검거인원</td>\n",
       "      <td>4</td>\n",
       "      <td>15</td>\n",
       "      <td>167</td>\n",
       "      <td>876</td>\n",
       "      <td>3080</td>\n",
       "    </tr>\n",
       "    <tr>\n",
       "      <th>광주서부경찰서</th>\n",
       "      <td>구속</td>\n",
       "      <td>3</td>\n",
       "      <td>10</td>\n",
       "      <td>7</td>\n",
       "      <td>27</td>\n",
       "      <td>19</td>\n",
       "    </tr>\n",
       "    <tr>\n",
       "      <th>광주서부경찰서</th>\n",
       "      <td>불구속</td>\n",
       "      <td>0</td>\n",
       "      <td>5</td>\n",
       "      <td>91</td>\n",
       "      <td>665</td>\n",
       "      <td>1366</td>\n",
       "    </tr>\n",
       "    <tr>\n",
       "      <th>광주서부경찰서</th>\n",
       "      <td>기타</td>\n",
       "      <td>1</td>\n",
       "      <td>0</td>\n",
       "      <td>69</td>\n",
       "      <td>184</td>\n",
       "      <td>1695</td>\n",
       "    </tr>\n",
       "    <tr>\n",
       "      <th>광주남부경찰서</th>\n",
       "      <td>발생건수</td>\n",
       "      <td>1</td>\n",
       "      <td>3</td>\n",
       "      <td>70</td>\n",
       "      <td>962</td>\n",
       "      <td>1081</td>\n",
       "    </tr>\n",
       "    <tr>\n",
       "      <th>광주남부경찰서</th>\n",
       "      <td>검거건수</td>\n",
       "      <td>1</td>\n",
       "      <td>3</td>\n",
       "      <td>53</td>\n",
       "      <td>506</td>\n",
       "      <td>941</td>\n",
       "    </tr>\n",
       "    <tr>\n",
       "      <th>광주남부경찰서</th>\n",
       "      <td>검거인원</td>\n",
       "      <td>1</td>\n",
       "      <td>3</td>\n",
       "      <td>52</td>\n",
       "      <td>418</td>\n",
       "      <td>1260</td>\n",
       "    </tr>\n",
       "    <tr>\n",
       "      <th>광주남부경찰서</th>\n",
       "      <td>구속</td>\n",
       "      <td>0</td>\n",
       "      <td>3</td>\n",
       "      <td>3</td>\n",
       "      <td>19</td>\n",
       "      <td>3</td>\n",
       "    </tr>\n",
       "    <tr>\n",
       "      <th>광주남부경찰서</th>\n",
       "      <td>불구속</td>\n",
       "      <td>1</td>\n",
       "      <td>0</td>\n",
       "      <td>39</td>\n",
       "      <td>325</td>\n",
       "      <td>675</td>\n",
       "    </tr>\n",
       "    <tr>\n",
       "      <th>광주남부경찰서</th>\n",
       "      <td>기타</td>\n",
       "      <td>0</td>\n",
       "      <td>0</td>\n",
       "      <td>10</td>\n",
       "      <td>74</td>\n",
       "      <td>582</td>\n",
       "    </tr>\n",
       "    <tr>\n",
       "      <th>광주북부경찰서</th>\n",
       "      <td>발생건수</td>\n",
       "      <td>5</td>\n",
       "      <td>14</td>\n",
       "      <td>256</td>\n",
       "      <td>2570</td>\n",
       "      <td>2621</td>\n",
       "    </tr>\n",
       "    <tr>\n",
       "      <th>광주북부경찰서</th>\n",
       "      <td>검거건수</td>\n",
       "      <td>5</td>\n",
       "      <td>18</td>\n",
       "      <td>212</td>\n",
       "      <td>1852</td>\n",
       "      <td>2319</td>\n",
       "    </tr>\n",
       "    <tr>\n",
       "      <th>광주북부경찰서</th>\n",
       "      <td>검거인원</td>\n",
       "      <td>5</td>\n",
       "      <td>28</td>\n",
       "      <td>216</td>\n",
       "      <td>948</td>\n",
       "      <td>3168</td>\n",
       "    </tr>\n",
       "    <tr>\n",
       "      <th>광주북부경찰서</th>\n",
       "      <td>구속</td>\n",
       "      <td>3</td>\n",
       "      <td>11</td>\n",
       "      <td>11</td>\n",
       "      <td>30</td>\n",
       "      <td>10</td>\n",
       "    </tr>\n",
       "    <tr>\n",
       "      <th>광주북부경찰서</th>\n",
       "      <td>불구속</td>\n",
       "      <td>0</td>\n",
       "      <td>12</td>\n",
       "      <td>153</td>\n",
       "      <td>770</td>\n",
       "      <td>1544</td>\n",
       "    </tr>\n",
       "    <tr>\n",
       "      <th>광주북부경찰서</th>\n",
       "      <td>기타</td>\n",
       "      <td>2</td>\n",
       "      <td>5</td>\n",
       "      <td>52</td>\n",
       "      <td>148</td>\n",
       "      <td>1614</td>\n",
       "    </tr>\n",
       "    <tr>\n",
       "      <th>광주광산경찰서</th>\n",
       "      <td>발생건수</td>\n",
       "      <td>4</td>\n",
       "      <td>12</td>\n",
       "      <td>160</td>\n",
       "      <td>1743</td>\n",
       "      <td>2253</td>\n",
       "    </tr>\n",
       "    <tr>\n",
       "      <th>광주광산경찰서</th>\n",
       "      <td>검거건수</td>\n",
       "      <td>4</td>\n",
       "      <td>10</td>\n",
       "      <td>135</td>\n",
       "      <td>996</td>\n",
       "      <td>1922</td>\n",
       "    </tr>\n",
       "    <tr>\n",
       "      <th>광주광산경찰서</th>\n",
       "      <td>검거인원</td>\n",
       "      <td>3</td>\n",
       "      <td>8</td>\n",
       "      <td>129</td>\n",
       "      <td>736</td>\n",
       "      <td>2585</td>\n",
       "    </tr>\n",
       "    <tr>\n",
       "      <th>광주광산경찰서</th>\n",
       "      <td>구속</td>\n",
       "      <td>0</td>\n",
       "      <td>4</td>\n",
       "      <td>5</td>\n",
       "      <td>12</td>\n",
       "      <td>6</td>\n",
       "    </tr>\n",
       "    <tr>\n",
       "      <th>광주광산경찰서</th>\n",
       "      <td>불구속</td>\n",
       "      <td>0</td>\n",
       "      <td>4</td>\n",
       "      <td>81</td>\n",
       "      <td>639</td>\n",
       "      <td>1181</td>\n",
       "    </tr>\n",
       "    <tr>\n",
       "      <th>광주광산경찰서</th>\n",
       "      <td>기타</td>\n",
       "      <td>3</td>\n",
       "      <td>0</td>\n",
       "      <td>43</td>\n",
       "      <td>85</td>\n",
       "      <td>1398</td>\n",
       "    </tr>\n",
       "  </tbody>\n",
       "</table>\n",
       "</div>"
      ]
     },
     "execution_count": 200,
     "metadata": {},
     "output_type": "execute_result"
    }
   ],
   "execution_count": 200
  },
  {
   "metadata": {
    "ExecuteTime": {
     "end_time": "2024-06-24T08:48:29.082667Z",
     "start_time": "2024-06-24T08:48:29.071851Z"
    }
   },
   "cell_type": "code",
   "source": [
    "# 각 연도별로 발생건수의 합계를 구하여 '총합' 컬럼추가\n",
    "data2019['총합']=data2019[data2019['구분'] == '발생건수'].loc[:,'살인':].sum(axis=1)\n",
    "data2020['총합']=data2020[data2020['구분'] == '발생건수'].loc[:,'살인':].sum(axis=1)\n",
    "data2021['총합']=data2021[data2021['구분'] == '발생건수'].loc[:,'살인':].sum(axis=1)"
   ],
   "id": "32bd1d5a202cdabb",
   "outputs": [],
   "execution_count": 201
  },
  {
   "metadata": {
    "ExecuteTime": {
     "end_time": "2024-06-24T08:48:29.844731Z",
     "start_time": "2024-06-24T08:48:29.839642Z"
    }
   },
   "cell_type": "code",
   "source": [
    "# 각 연도별로 '구분' 컬럼의 값이 '발생건수'인 데이터만 추출하여 변수에 담기\n",
    "data2019 = data2019[data2019['구분'] == '발생건수']\n",
    "data2020= data2020[data2020['구분'] == '발생건수']\n",
    "data2021 = data2021[data2021['구분'] == '발생건수']"
   ],
   "id": "c9f6c14df9434a70",
   "outputs": [],
   "execution_count": 202
  },
  {
   "metadata": {
    "ExecuteTime": {
     "end_time": "2024-06-24T08:48:30.020839Z",
     "start_time": "2024-06-24T08:48:30.016122Z"
    }
   },
   "cell_type": "code",
   "source": [
    "# 각 연도별로 총합 데이터만 추출\n",
    "data2019 = data2019.loc[:,'총합']\n",
    "data2020 = data2020.loc[:,'총합']\n",
    "data2021 = data2021.loc[:,'총합']"
   ],
   "id": "2687e4123a82ef0b",
   "outputs": [],
   "execution_count": 203
  },
  {
   "metadata": {
    "ExecuteTime": {
     "end_time": "2024-06-24T08:48:30.559097Z",
     "start_time": "2024-06-24T08:48:30.556147Z"
    }
   },
   "cell_type": "code",
   "source": [
    "# 총합데이터 이름 변경해주기(2019총계,2020총계,2021총계)\n",
    "data2019.name = '2019총계'\n",
    "data2020.name = '2020총계'\n",
    "data2021.name = '2021총계'"
   ],
   "id": "802c0cf5c996eba1",
   "outputs": [],
   "execution_count": 204
  },
  {
   "metadata": {},
   "cell_type": "code",
   "outputs": [],
   "execution_count": null,
   "source": [
    "# 증감율 계산\n",
    "data['2019-2020 증감율'] = (data['2020총계']-data['2019총계'])/data['2019총계']*100\n",
    "data['2020-2021 증감율'] = (data['2021총계']-data['2020총계'])/data['2020총계']*100"
   ],
   "id": "d98cae272072fae8"
  },
  {
   "metadata": {
    "ExecuteTime": {
     "end_time": "2024-06-24T08:48:47.623810Z",
     "start_time": "2024-06-24T08:48:47.613702Z"
    }
   },
   "cell_type": "code",
   "source": [
    "# 병합하여 DataFrame 생성\n",
    "data = pd.concat([data2019,data['2019-2020 증감율'],data2020,data['2020-2021 증감율'],data2021], axis=1)\n",
    "data"
   ],
   "id": "af52f72ac85367e6",
   "outputs": [
    {
     "data": {
      "text/plain": [
       "          2019총계  2019-2020 증감율  2020총계  2020-2021 증감율  2021총계\n",
       "관서명                                                           \n",
       "광주지방경찰청계   18830     -18.130643   15416      -9.516087   13949\n",
       "광주동부경찰서     2355     -12.186837    2068     -13.007737    1799\n",
       "광주서부경찰서     4720     -17.542373    3892      -6.526208    3638\n",
       "광주남부경찰서     2117     -11.903637    1865     -17.050938    1547\n",
       "광주북부경찰서     5466     -24.112697    4148      -4.893925    3945\n",
       "광주광산경찰서     4172     -17.473634    3443     -12.285797    3020"
      ],
      "text/html": [
       "<div>\n",
       "<style scoped>\n",
       "    .dataframe tbody tr th:only-of-type {\n",
       "        vertical-align: middle;\n",
       "    }\n",
       "\n",
       "    .dataframe tbody tr th {\n",
       "        vertical-align: top;\n",
       "    }\n",
       "\n",
       "    .dataframe thead th {\n",
       "        text-align: right;\n",
       "    }\n",
       "</style>\n",
       "<table border=\"1\" class=\"dataframe\">\n",
       "  <thead>\n",
       "    <tr style=\"text-align: right;\">\n",
       "      <th></th>\n",
       "      <th>2019총계</th>\n",
       "      <th>2019-2020 증감율</th>\n",
       "      <th>2020총계</th>\n",
       "      <th>2020-2021 증감율</th>\n",
       "      <th>2021총계</th>\n",
       "    </tr>\n",
       "    <tr>\n",
       "      <th>관서명</th>\n",
       "      <th></th>\n",
       "      <th></th>\n",
       "      <th></th>\n",
       "      <th></th>\n",
       "      <th></th>\n",
       "    </tr>\n",
       "  </thead>\n",
       "  <tbody>\n",
       "    <tr>\n",
       "      <th>광주지방경찰청계</th>\n",
       "      <td>18830</td>\n",
       "      <td>-18.130643</td>\n",
       "      <td>15416</td>\n",
       "      <td>-9.516087</td>\n",
       "      <td>13949</td>\n",
       "    </tr>\n",
       "    <tr>\n",
       "      <th>광주동부경찰서</th>\n",
       "      <td>2355</td>\n",
       "      <td>-12.186837</td>\n",
       "      <td>2068</td>\n",
       "      <td>-13.007737</td>\n",
       "      <td>1799</td>\n",
       "    </tr>\n",
       "    <tr>\n",
       "      <th>광주서부경찰서</th>\n",
       "      <td>4720</td>\n",
       "      <td>-17.542373</td>\n",
       "      <td>3892</td>\n",
       "      <td>-6.526208</td>\n",
       "      <td>3638</td>\n",
       "    </tr>\n",
       "    <tr>\n",
       "      <th>광주남부경찰서</th>\n",
       "      <td>2117</td>\n",
       "      <td>-11.903637</td>\n",
       "      <td>1865</td>\n",
       "      <td>-17.050938</td>\n",
       "      <td>1547</td>\n",
       "    </tr>\n",
       "    <tr>\n",
       "      <th>광주북부경찰서</th>\n",
       "      <td>5466</td>\n",
       "      <td>-24.112697</td>\n",
       "      <td>4148</td>\n",
       "      <td>-4.893925</td>\n",
       "      <td>3945</td>\n",
       "    </tr>\n",
       "    <tr>\n",
       "      <th>광주광산경찰서</th>\n",
       "      <td>4172</td>\n",
       "      <td>-17.473634</td>\n",
       "      <td>3443</td>\n",
       "      <td>-12.285797</td>\n",
       "      <td>3020</td>\n",
       "    </tr>\n",
       "  </tbody>\n",
       "</table>\n",
       "</div>"
      ]
     },
     "execution_count": 206,
     "metadata": {},
     "output_type": "execute_result"
    }
   ],
   "execution_count": 206
  },
  {
   "metadata": {},
   "cell_type": "code",
   "outputs": [],
   "execution_count": null,
   "source": [
    "# '2019-2020 증감율' 컬럼이름을 '2019-2020 증감율(%)'로 변경\n",
    "data.rename(columns = {'2019-2020 증감율':'2019-2020 증감율(%)'}, inplace=True)"
   ],
   "id": "ab75ce4f779f0f6a"
  }
 ],
 "metadata": {
  "kernelspec": {
   "display_name": "Python 3",
   "language": "python",
   "name": "python3"
  },
  "language_info": {
   "codemirror_mode": {
    "name": "ipython",
    "version": 2
   },
   "file_extension": ".py",
   "mimetype": "text/x-python",
   "name": "python",
   "nbconvert_exporter": "python",
   "pygments_lexer": "ipython2",
   "version": "2.7.6"
  }
 },
 "nbformat": 4,
 "nbformat_minor": 5
}
