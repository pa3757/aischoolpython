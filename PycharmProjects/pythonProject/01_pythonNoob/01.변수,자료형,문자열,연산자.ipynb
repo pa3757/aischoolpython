{
 "cells": [
  {
   "metadata": {},
   "cell_type": "markdown",
   "source": [
    "# 마크다운\n",
    "## 마크다운\n",
    "### 마크다운\n",
    "#### 마크다운\n",
    "##### 마크다운\n",
    "\n",
    "- 이미지나 표 등 다양한 형태로 메모하고자 할 때 사용\n",
    "- 프로그래밍 상에 영향을 주지 않음!"
   ],
   "id": "5c5e1ce57f144a1f"
  },
  {
   "metadata": {},
   "cell_type": "code",
   "source": "\"hello world\"",
   "id": "898c616c80220bb8",
   "outputs": [],
   "execution_count": null
  },
  {
   "metadata": {},
   "cell_type": "code",
   "source": [
    "import keyword\n",
    "print(keyword.kwlist)"
   ],
   "id": "ca7a771ef4146e6",
   "outputs": [],
   "execution_count": null
  },
  {
   "metadata": {},
   "cell_type": "code",
   "source": [
    "x, y = 100, 200\n",
    "print(sum([x,y]))"
   ],
   "id": "48440dc7fc6ee401",
   "outputs": [],
   "execution_count": null
  },
  {
   "metadata": {},
   "cell_type": "code",
   "source": [
    "s = \"she's gone\"\n",
    "s"
   ],
   "id": "dc0479717456159b",
   "outputs": [],
   "execution_count": null
  },
  {
   "metadata": {},
   "cell_type": "code",
   "source": [
    "# 이스케이프 코드 : 이미 약속된 문자열 조합\n",
    "s = \"she\\'s gone\"\n",
    "s"
   ],
   "id": "6307a77fede25a71",
   "outputs": [],
   "execution_count": null
  },
  {
   "metadata": {},
   "cell_type": "code",
   "source": [
    "# 1. f포매팅\n",
    "day = 19\n",
    "s= f\"오늘은 6월 {day}일 입니다.\"\n",
    "s"
   ],
   "id": "ab54289c31a4f62c",
   "outputs": [],
   "execution_count": null
  },
  {
   "metadata": {},
   "cell_type": "markdown",
   "source": [
    "### 문자열 함수\n",
    "| 함수 | 사용법 | 설명 | 반환값 |\n",
    "|------|--------|------|-------|\n",
    "| replace | `str.replace(old, new[, count])` | 문자열에서 `old`를 `new`로 대체 | 새 문자열 |\n",
    "| upper | `str.upper()` | 문자열의 모든 문자를 대문자로 변환 | 새 문자열 |\n",
    "| lower | `str.lower()` | 문자열의 모든 문자를 소문자로 변환 | 새 문자열 |\n",
    "| strip | `str.strip([chars])` | 문자열 양쪽 끝의 공백이나 `chars`에 지정된 문자 제거 | 새 문자열 |\n",
    "| lstrip | `str.lstrip([chars])` | 문자열 왼쪽 끝의 공백이나 `chars`에 지정된 문자 제거 | 새 문자열 |\n",
    "| rstrip | `str.rstrip([chars])` | 문자열 오른쪽 끝의 공백이나 `chars`에 지정된 문자 제거 | 새 문자열 |\n",
    "| find | `str.find(sub[, start[, end]])` | 부분 문자열 `sub`이 처음 나타나는 위치 탐색 | 위치 인덱스 또는 -1 |\n",
    "| rfind | `str.rfind(sub[, start[, end]])` | 부분 문자열 `sub`이 마지막으로 나타나는 위치 탐색 | 위치 인덱스 또는 -1 |\n",
    "| split | `str.split([sep[, maxsplit]])` | `sep`을 기준으로 문자열을 나눔 | 문자열 리스트 |\n",
    "| rsplit | `str.rsplit([sep[, maxsplit]])` | `sep`을 기준으로 문자열을 오른쪽에서부터 나눔 | 문자열 리스트 |\n",
    "| join | `str.join(iterable)` | `iterable`의 각 요소를 문자열로 연결 | 새 문자열 |\n",
    "| count | `str.count(sub[, start[, end]])` | 문자열에서 부분 문자열 `sub`의 출현 횟수 계산 | 정수 |\n",
    "| index | `str.index(sub[, start[, end]])` | 부분 문자열 `sub`이 처음 나타나는 위치 탐색(찾지 못하면 예외 발생) | 위치 인덱스 |\n",
    "| rindex | `str.rindex(sub[, start[, end]])` | 부분 문자열 `sub`이 마지막으로 나타나는 위치 탐색(찾지 못하면 예외 발생) | 위치 인덱스 |\n",
    "| startswith | `str.startswith(prefix[, start[, end]])` | 문자열이 지정된 접두어로 시작하는지 여부 | 불리언 |\n",
    "| endswith | `str.endswith(suffix[, start[, end]])` | 문자열이 지정된 접미어로 끝나는지 여부 | 불리언 |\n",
    "| isdigit | `str.isdigit()` | 문자열이 숫자로만 구성되어 있는지 여부 | 불리언 |\n",
    "| isalpha | `str.isalpha()` | 문자열이 알파벳 문자로만 구성되어 있는지 여부 | 불리언 |\n",
    "| isalnum | `str.isalnum()` | 문자열이 알파벳 문자와 숫자로만 구성되어 있는지 여부 | 불리언 |\n",
    "| isspace | `str.isspace()` | 문자열이 공백 문자로만 구성되어 있는지 여부 | 불리언 |\n",
    "| istitle | `str.istitle()` | 문자열이 타이틀 케이스(각 단어의 첫 글자가 대문자)인지 여부 | 불리언 |\n",
    "| capitalize | `str.capitalize()` | 문자열의 첫 글자를 대문자로, 나머지는 소문자로 변환 | 새 문자열 |\n",
    "| title | `str.title()` | 각 단어의 첫 글자를 대문자로, 나머지는 소문자로 변환 | 새 문자열 |\n",
    "| zfill | `str.zfill(width)` | 문자열의 왼쪽을 '0'으로 채워 지정된 너비에 맞춤 | 새 문자열 |\n",
    "| ljust | `str.ljust(width[, fillchar])` | 문자열을 지정된 너비로 왼쪽 정렬 | 새 문자열 |\n",
    "| rjust | `str.rjust(width[, fillchar])` | 문자열을 지정된 너비로 오른쪽 정렬 | 새 문자열 |\n",
    "| center | `str.center(width[, fillchar])` | 문자열을 지정된 너비로 중앙 정렬 | 새 문자열 |\n",
    "| encode | `str.encode(encoding='utf-8', errors='strict')` | 문자열을 지정된 인코딩으로 인코딩 | 바이트 객체 |\n",
    "| format | `str.format(*args, **kwargs)` | 문자열의 형식을 지정된 값으로 채움 | 새 문자열 |"
   ],
   "id": "41c0181f6a37e79e"
  },
  {
   "metadata": {},
   "cell_type": "code",
   "source": "",
   "id": "b682303af3740407",
   "outputs": [],
   "execution_count": null
  }
 ],
 "metadata": {
  "kernelspec": {
   "display_name": "Python 3",
   "language": "python",
   "name": "python3"
  },
  "language_info": {
   "codemirror_mode": {
    "name": "ipython",
    "version": 2
   },
   "file_extension": ".py",
   "mimetype": "text/x-python",
   "name": "python",
   "nbconvert_exporter": "python",
   "pygments_lexer": "ipython2",
   "version": "2.7.6"
  }
 },
 "nbformat": 4,
 "nbformat_minor": 5
}
