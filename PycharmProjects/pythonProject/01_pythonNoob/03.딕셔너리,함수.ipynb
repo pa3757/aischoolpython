{
 "cells": [
  {
   "metadata": {},
   "cell_type": "markdown",
   "source": [
    "## 딕셔너리(Dictionary)\n",
    "- key와 value의 쌍으로 이루어진 자료형\n",
    "- {key1:value1, key2:value2, key3:value3, ...}\n",
    "- key는 중복되지 않으며, immutable한 자료형만 가능\n",
    "- value는 중복되어도 상관없으며, 모든 자료형 가능\n",
    "- 순서가 없음\n",
    "- key를 통해 value를 얻음\n",
    "- key로 인덱싱 불가능\n"
   ],
   "id": "cb0579c6ae4063fd"
  },
  {
   "metadata": {
    "ExecuteTime": {
     "end_time": "2024-06-20T02:11:58.886504Z",
     "start_time": "2024-06-20T02:11:58.881663Z"
    }
   },
   "cell_type": "code",
   "source": [
    "# 딕셔너리 생성\n",
    "dic = {'name':'홍길동', 'age':20, 'address':'서울','phone':'010-1234-5678'}\n",
    "dic"
   ],
   "id": "8b4584a892271e5e",
   "outputs": [
    {
     "data": {
      "text/plain": [
       "{'name': '홍길동', 'age': 20, 'address': '서울', 'phone': '010-1234-5678'}"
      ]
     },
     "execution_count": 7,
     "metadata": {},
     "output_type": "execute_result"
    }
   ],
   "execution_count": 7
  },
  {
   "metadata": {
    "ExecuteTime": {
     "end_time": "2024-06-20T02:10:38.425241Z",
     "start_time": "2024-06-20T02:10:38.419985Z"
    }
   },
   "cell_type": "code",
   "source": [
    "# 딕셔너리 요소 접근\n",
    "print(dic['name'])"
   ],
   "id": "fc900f1bfefdb788",
   "outputs": [
    {
     "name": "stdout",
     "output_type": "stream",
     "text": [
      "홍길동\n"
     ]
    }
   ],
   "execution_count": 2
  },
  {
   "metadata": {
    "ExecuteTime": {
     "end_time": "2024-06-20T02:10:43.052996Z",
     "start_time": "2024-06-20T02:10:43.048731Z"
    }
   },
   "cell_type": "code",
   "source": [
    "# 딕셔너리 요소 변경\n",
    "dic['age'] = 30"
   ],
   "id": "5bda79e17a9c1b93",
   "outputs": [],
   "execution_count": 3
  },
  {
   "metadata": {
    "ExecuteTime": {
     "end_time": "2024-06-20T02:11:02.156332Z",
     "start_time": "2024-06-20T02:11:02.150906Z"
    }
   },
   "cell_type": "code",
   "source": [
    "# 딕셔너리 요소 추가\n",
    "dic['email'] = 'pa375744@gmail.com'\n",
    "dic"
   ],
   "id": "ac709ac0b672967a",
   "outputs": [
    {
     "data": {
      "text/plain": [
       "{'name': '홍길동',\n",
       " 'age': 30,\n",
       " 'address': '서울',\n",
       " 'phone': '010-1234-5678',\n",
       " 'email': 'pa375744@gmail.com'}"
      ]
     },
     "execution_count": 4,
     "metadata": {},
     "output_type": "execute_result"
    }
   ],
   "execution_count": 4
  },
  {
   "metadata": {
    "ExecuteTime": {
     "end_time": "2024-06-20T02:11:42.971973Z",
     "start_time": "2024-06-20T02:11:42.966887Z"
    }
   },
   "cell_type": "code",
   "source": [
    "# 딕셔너리 요소 삭제\n",
    "dic.pop('email')\n",
    "dic"
   ],
   "id": "765add41b886eda6",
   "outputs": [
    {
     "data": {
      "text/plain": [
       "{'name': '홍길동', 'age': 30, 'address': '서울', 'phone': '010-1234-5678'}"
      ]
     },
     "execution_count": 5,
     "metadata": {},
     "output_type": "execute_result"
    }
   ],
   "execution_count": 5
  },
  {
   "metadata": {
    "ExecuteTime": {
     "end_time": "2024-06-20T02:11:52.009311Z",
     "start_time": "2024-06-20T02:11:52.004514Z"
    }
   },
   "cell_type": "code",
   "source": [
    "# 딕셔너리 요소 모두 삭제\n",
    "dic.clear()\n",
    "dic"
   ],
   "id": "a800809cd322388e",
   "outputs": [
    {
     "data": {
      "text/plain": [
       "{}"
      ]
     },
     "execution_count": 6,
     "metadata": {},
     "output_type": "execute_result"
    }
   ],
   "execution_count": 6
  },
  {
   "metadata": {
    "ExecuteTime": {
     "end_time": "2024-06-20T02:12:22.039687Z",
     "start_time": "2024-06-20T02:12:22.034256Z"
    }
   },
   "cell_type": "code",
   "source": [
    "# 딕셔너리 길이\n",
    "len(dic)"
   ],
   "id": "57fc22f4d38e0bb3",
   "outputs": [
    {
     "data": {
      "text/plain": [
       "4"
      ]
     },
     "execution_count": 8,
     "metadata": {},
     "output_type": "execute_result"
    }
   ],
   "execution_count": 8
  },
  {
   "metadata": {
    "ExecuteTime": {
     "end_time": "2024-06-20T02:12:35.127938Z",
     "start_time": "2024-06-20T02:12:35.123079Z"
    }
   },
   "cell_type": "code",
   "source": [
    "# 딕셔너리 key만 출력\n",
    "dic.keys()"
   ],
   "id": "575a47a93d143395",
   "outputs": [
    {
     "data": {
      "text/plain": [
       "dict_keys(['name', 'age', 'address', 'phone'])"
      ]
     },
     "execution_count": 9,
     "metadata": {},
     "output_type": "execute_result"
    }
   ],
   "execution_count": 9
  },
  {
   "metadata": {
    "ExecuteTime": {
     "end_time": "2024-06-20T02:12:39.527981Z",
     "start_time": "2024-06-20T02:12:39.523060Z"
    }
   },
   "cell_type": "code",
   "source": [
    "# 딕셔너리 value만 출력\n",
    "dic.values()"
   ],
   "id": "3d636c498bf60ebe",
   "outputs": [
    {
     "data": {
      "text/plain": [
       "dict_values(['홍길동', 20, '서울', '010-1234-5678'])"
      ]
     },
     "execution_count": 10,
     "metadata": {},
     "output_type": "execute_result"
    }
   ],
   "execution_count": 10
  },
  {
   "metadata": {
    "ExecuteTime": {
     "end_time": "2024-06-20T02:12:43.509474Z",
     "start_time": "2024-06-20T02:12:43.504968Z"
    }
   },
   "cell_type": "code",
   "source": [
    "# 딕셔너리 key, value 쌍으로 출력\n",
    "dic.items()"
   ],
   "id": "84ea66beb019fbd9",
   "outputs": [
    {
     "data": {
      "text/plain": [
       "dict_items([('name', '홍길동'), ('age', 20), ('address', '서울'), ('phone', '010-1234-5678')])"
      ]
     },
     "execution_count": 11,
     "metadata": {},
     "output_type": "execute_result"
    }
   ],
   "execution_count": 11
  },
  {
   "metadata": {
    "ExecuteTime": {
     "end_time": "2024-06-20T02:12:59.021485Z",
     "start_time": "2024-06-20T02:12:59.015626Z"
    }
   },
   "cell_type": "code",
   "source": [
    "# 딕셔너리 병합\n",
    "dic1 = {'name':'홍길동', 'age':20}\n",
    "dic2 = {'address':'서울','phone':'010-1234-5678'}\n",
    "dic1.update(dic2)\n",
    "dic"
   ],
   "id": "29df3b6ff3605fc7",
   "outputs": [
    {
     "data": {
      "text/plain": [
       "{'name': '홍길동', 'age': 20, 'address': '서울', 'phone': '010-1234-5678'}"
      ]
     },
     "execution_count": 13,
     "metadata": {},
     "output_type": "execute_result"
    }
   ],
   "execution_count": 13
  },
  {
   "metadata": {},
   "cell_type": "markdown",
   "source": [
    "## 함수(Function)\n",
    "- 특정 기능을 수행하는 재사용가능한 코드 블록\n",
    "- 함수를 정의하고 호출\n",
    "```python\n",
    "def 함수명(매개변수):\n",
    "    수행문장\n",
    "    return 반환값\n",
    "```\n",
    "- 매개변수와 반환값이 없을 수도 있음\n"
   ],
   "id": "c33e26d7462247c6"
  },
  {
   "metadata": {
    "ExecuteTime": {
     "end_time": "2024-06-20T02:40:59.732099Z",
     "start_time": "2024-06-20T02:40:59.729268Z"
    }
   },
   "cell_type": "code",
   "source": [
    "def add(a, b):\n",
    "    print(f\"a = {a},b = {b}\")\n",
    "    return a + b\n"
   ],
   "id": "866fd74ea020d3e4",
   "outputs": [],
   "execution_count": 16
  },
  {
   "metadata": {
    "ExecuteTime": {
     "end_time": "2024-06-20T02:41:01.659520Z",
     "start_time": "2024-06-20T02:41:01.654249Z"
    }
   },
   "cell_type": "code",
   "source": [
    "num1 = 10\n",
    "num2 = 20\n",
    "add(num1, num2)"
   ],
   "id": "4a75471b4f61bf2d",
   "outputs": [
    {
     "name": "stdout",
     "output_type": "stream",
     "text": [
      "a = 10,b = 20\n"
     ]
    },
    {
     "data": {
      "text/plain": [
       "30"
      ]
     },
     "execution_count": 17,
     "metadata": {},
     "output_type": "execute_result"
    }
   ],
   "execution_count": 17
  },
  {
   "metadata": {},
   "cell_type": "markdown",
   "source": [
    "### 함수의 특성\n",
    "1. 매개변수의 순서대로 인자 전달\n",
    "2. 매개변수를 지정해서 호출 시 순서 상관없이 인자 전달\n",
    "3. 매개변수의 기본값 설정 가능\n",
    "4. return의 결과값은 하나\n",
    "5. 입력값이나 결과값이 있을 수도 있고 없을 수도 있음"
   ],
   "id": "b575a87c9d6b8f3"
  },
  {
   "metadata": {
    "ExecuteTime": {
     "end_time": "2024-06-20T03:09:57.197012Z",
     "start_time": "2024-06-20T03:09:57.192462Z"
    }
   },
   "cell_type": "code",
   "source": [
    "# 입력값이 없고, 결과값이 있는 함수\n",
    "def say():\n",
    "    return 'Hello'"
   ],
   "id": "e36121e848e1c056",
   "outputs": [],
   "execution_count": 18
  },
  {
   "metadata": {
    "ExecuteTime": {
     "end_time": "2024-06-20T03:09:59.018677Z",
     "start_time": "2024-06-20T03:09:59.010968Z"
    }
   },
   "cell_type": "code",
   "source": "say()",
   "id": "beefeee75584c58d",
   "outputs": [
    {
     "data": {
      "text/plain": [
       "'Hello'"
      ]
     },
     "execution_count": 19,
     "metadata": {},
     "output_type": "execute_result"
    }
   ],
   "execution_count": 19
  },
  {
   "metadata": {
    "ExecuteTime": {
     "end_time": "2024-06-20T03:10:15.266208Z",
     "start_time": "2024-06-20T03:10:15.262635Z"
    }
   },
   "cell_type": "code",
   "source": [
    "# 입력값과 결과값이 없는 함수\n",
    "def say():\n",
    "    print('Hello')"
   ],
   "id": "6c88b28756fdc434",
   "outputs": [],
   "execution_count": 20
  },
  {
   "metadata": {
    "ExecuteTime": {
     "end_time": "2024-06-20T03:10:18.377845Z",
     "start_time": "2024-06-20T03:10:18.373102Z"
    }
   },
   "cell_type": "code",
   "source": "say()",
   "id": "a017c9b98d99e18",
   "outputs": [
    {
     "name": "stdout",
     "output_type": "stream",
     "text": [
      "Hello\n"
     ]
    }
   ],
   "execution_count": 21
  },
  {
   "metadata": {
    "ExecuteTime": {
     "end_time": "2024-06-20T03:20:17.310328Z",
     "start_time": "2024-06-20T03:20:17.304381Z"
    }
   },
   "cell_type": "code",
   "source": [
    "# 만약 내가 만든 함수를 다른 개발자가 보고 이해할 수 없다면?\n",
    "# Docstring을 활용 : 함수에 대한 설명\n",
    "def add(a, b):\n",
    "    \"\"\"독스트링 : 이 함수는 a와 b를 더한 결과를 반환하는 함수입니다.\"\"\"\n",
    "    return a + b\n"
   ],
   "id": "968c3e42d6054f3e",
   "outputs": [],
   "execution_count": 22
  },
  {
   "metadata": {
    "ExecuteTime": {
     "end_time": "2024-06-20T03:21:19.563516Z",
     "start_time": "2024-06-20T03:21:19.559327Z"
    }
   },
   "cell_type": "code",
   "source": [
    "# 입력값의 개수가 정해져 있지 않다면?\n",
    "# 가변매개변수(*)\n",
    "def add(*args):\n",
    "    print(args)\n",
    "    return sum(args)"
   ],
   "id": "3b877407315cf851",
   "outputs": [],
   "execution_count": 23
  },
  {
   "metadata": {
    "ExecuteTime": {
     "end_time": "2024-06-20T03:21:21.958779Z",
     "start_time": "2024-06-20T03:21:21.951642Z"
    }
   },
   "cell_type": "code",
   "source": "add(1,2,3,4,5)",
   "id": "b41d5a54e65376b8",
   "outputs": [
    {
     "name": "stdout",
     "output_type": "stream",
     "text": [
      "(1, 2, 3, 4, 5)\n"
     ]
    },
    {
     "data": {
      "text/plain": [
       "15"
      ]
     },
     "execution_count": 24,
     "metadata": {},
     "output_type": "execute_result"
    }
   ],
   "execution_count": 24
  },
  {
   "metadata": {},
   "cell_type": "code",
   "outputs": [],
   "execution_count": null,
   "source": "",
   "id": "2660f654dc4359ef"
  }
 ],
 "metadata": {
  "kernelspec": {
   "display_name": "Python 3",
   "language": "python",
   "name": "python3"
  },
  "language_info": {
   "codemirror_mode": {
    "name": "ipython",
    "version": 2
   },
   "file_extension": ".py",
   "mimetype": "text/x-python",
   "name": "python",
   "nbconvert_exporter": "python",
   "pygments_lexer": "ipython2",
   "version": "2.7.6"
  }
 },
 "nbformat": 4,
 "nbformat_minor": 5
}
