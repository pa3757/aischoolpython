{
 "cells": [
  {
   "metadata": {},
   "cell_type": "markdown",
   "source": [
    "### 조건문\n",
    "- 상황에 따라 실행 흐름을 다르게 하는 문법\n",
    "```javascript\n",
    "if(조건문){ }\n",
    "```\n",
    "```python\n",
    "if True :\n",
    "    code\n",
    "```\n",
    "- :, 들여쓰기 \"space*4\" or Tab 중요!"
   ],
   "id": "276d61487a0ef426"
  },
  {
   "metadata": {
    "ExecuteTime": {
     "end_time": "2024-06-19T03:48:38.646507Z",
     "start_time": "2024-06-19T03:48:37.734596Z"
    }
   },
   "cell_type": "code",
   "source": [
    "# 잘못된 점수가 입력되면, 잘못 입력하였습니다! 출력\n",
    "score = int(input(\"점수 입력 >>\"))\n",
    "if 0<=score<100: \n",
    "    if score < 60:\n",
    "        grade = 'F'\n",
    "    elif score < 70:\n",
    "        grade = 'D'\n",
    "    elif score < 80:\n",
    "        grade = 'C'\n",
    "    elif score < 90:\n",
    "        grade = 'B'\n",
    "    elif score < 100:\n",
    "        grade = 'A'\n",
    "    print(f\"{score}점은 {grade}학점 입니다.\")\n",
    "else:\n",
    "    print(\"잘 못 입력하였습니다\")"
   ],
   "id": "995b886be8b9ff7c",
   "outputs": [
    {
     "name": "stdout",
     "output_type": "stream",
     "text": [
      "90점은 A학점 입니다.\n"
     ]
    }
   ],
   "execution_count": 8
  },
  {
   "metadata": {
    "ExecuteTime": {
     "end_time": "2024-06-20T00:20:08.019839Z",
     "start_time": "2024-06-20T00:20:08.014376Z"
    }
   },
   "cell_type": "code",
   "source": [
    "# 논리 연산자 : and, or, not -> 단일 값에 대해서 논리 연산 수행\n",
    "# 비트 연산자 : &, | -> 다중 값에 대해 논리 연산 수행\n",
    "import numpy as np\n",
    "\n",
    "arr1 = np.array([1,2,3,4,5,6,7])\n",
    "arr1[(arr1 >= 3) & (arr1<=5)]\n"
   ],
   "id": "77aea52a5439a89f",
   "outputs": [
    {
     "data": {
      "text/plain": [
       "array([3, 4, 5])"
      ]
     },
     "execution_count": 20,
     "metadata": {},
     "output_type": "execute_result"
    }
   ],
   "execution_count": 20
  },
  {
   "metadata": {},
   "cell_type": "markdown",
   "source": [
    "### 리스트(list)\n",
    "- 파이썬에서 제공되는 자료형 중 하나\n",
    "- 순서가 있는 수정가능한 객체의 집합\n",
    "- '[]'로 작성되어지며, 내부요소는 ','로 구분\n",
    "\n",
    "### 튜플(tuple)\n",
    "- 파이썬에서 제공되는 자료형 중 하나\n",
    "- 순서가 있는 수정불가능한 객체의 집합\n",
    "- '()'로 작성되어지며, 내부요소는 ','로 구분"
   ],
   "id": "30b724076ccac99d"
  },
  {
   "metadata": {
    "ExecuteTime": {
     "end_time": "2024-06-20T00:39:09.334801Z",
     "start_time": "2024-06-20T00:39:09.329172Z"
    }
   },
   "cell_type": "code",
   "source": [
    "list1 = [1,2,'3',[1,2,3]]\n",
    "list1[3][0]"
   ],
   "id": "ad2dd70eca17d4d9",
   "outputs": [
    {
     "data": {
      "text/plain": [
       "1"
      ]
     },
     "execution_count": 26,
     "metadata": {},
     "output_type": "execute_result"
    }
   ],
   "execution_count": 26
  },
  {
   "metadata": {
    "ExecuteTime": {
     "end_time": "2024-06-20T00:39:55.787393Z",
     "start_time": "2024-06-20T00:39:55.781749Z"
    }
   },
   "cell_type": "code",
   "source": "list1[3][1:]",
   "id": "9bc004f5bf6443b3",
   "outputs": [
    {
     "data": {
      "text/plain": [
       "[2, 3]"
      ]
     },
     "execution_count": 31,
     "metadata": {},
     "output_type": "execute_result"
    }
   ],
   "execution_count": 31
  },
  {
   "metadata": {
    "ExecuteTime": {
     "end_time": "2024-06-20T00:42:31.624766Z",
     "start_time": "2024-06-20T00:42:31.619610Z"
    }
   },
   "cell_type": "code",
   "source": [
    "# 추가\n",
    "# list1.append([4,5,6])\n",
    "list1.insert(0,[7,8,9])\n",
    "list1"
   ],
   "id": "d4ed9e23de0ad193",
   "outputs": [
    {
     "data": {
      "text/plain": [
       "[[7, 8, 9], 1, 2, '3', [1, 2, 3], [4, 5, 6]]"
      ]
     },
     "execution_count": 35,
     "metadata": {},
     "output_type": "execute_result"
    }
   ],
   "execution_count": 35
  },
  {
   "metadata": {
    "ExecuteTime": {
     "end_time": "2024-06-20T00:41:34.952025Z",
     "start_time": "2024-06-20T00:41:34.946235Z"
    }
   },
   "cell_type": "code",
   "source": [
    "# 삭제\n",
    "list1.remove([4,5,6])\n",
    "list1"
   ],
   "id": "624d52b37ed16a0d",
   "outputs": [
    {
     "data": {
      "text/plain": [
       "[1, 2, '3', [1, 2, 3], [4, 5, 6]]"
      ]
     },
     "execution_count": 34,
     "metadata": {},
     "output_type": "execute_result"
    }
   ],
   "execution_count": 34
  },
  {
   "metadata": {
    "ExecuteTime": {
     "end_time": "2024-06-20T00:47:06.909577Z",
     "start_time": "2024-06-20T00:47:06.904452Z"
    }
   },
   "cell_type": "code",
   "source": [
    "# 수정\n",
    "list1[5] = 5\n",
    "list1"
   ],
   "id": "ee75adcaabb05941",
   "outputs": [
    {
     "data": {
      "text/plain": [
       "[0, 1, 2, 3, 4, 5]"
      ]
     },
     "execution_count": 40,
     "metadata": {},
     "output_type": "execute_result"
    }
   ],
   "execution_count": 40
  },
  {
   "metadata": {
    "ExecuteTime": {
     "end_time": "2024-06-20T01:03:25.003407Z",
     "start_time": "2024-06-20T01:03:24.997415Z"
    }
   },
   "cell_type": "code",
   "source": [
    "list1.reverse()\n",
    "list1\n",
    "len(list1)"
   ],
   "id": "d15740433d2aadc2",
   "outputs": [
    {
     "data": {
      "text/plain": [
       "6"
      ]
     },
     "execution_count": 47,
     "metadata": {},
     "output_type": "execute_result"
    }
   ],
   "execution_count": 47
  },
  {
   "metadata": {
    "ExecuteTime": {
     "end_time": "2024-06-20T01:05:38.468968Z",
     "start_time": "2024-06-20T01:05:38.462428Z"
    }
   },
   "cell_type": "code",
   "source": [
    "tuple1 = (1,2,\"3\",(1,2,3),[4,5,6])\n",
    "tuple1"
   ],
   "id": "f258c3dc8f6cfb70",
   "outputs": [
    {
     "data": {
      "text/plain": [
       "(1, 2, '3', (1, 2, 3), [4, 5, 6])"
      ]
     },
     "execution_count": 48,
     "metadata": {},
     "output_type": "execute_result"
    }
   ],
   "execution_count": 48
  },
  {
   "metadata": {
    "ExecuteTime": {
     "end_time": "2024-06-20T01:07:15.656176Z",
     "start_time": "2024-06-20T01:07:15.651843Z"
    }
   },
   "cell_type": "code",
   "source": [
    "tuple1[4][0] = 10\n",
    "tuple1"
   ],
   "id": "d40dc6a6bcb7aea1",
   "outputs": [
    {
     "data": {
      "text/plain": [
       "(1, 2, '3', (1, 2, 3), [10, 5, 6])"
      ]
     },
     "execution_count": 52,
     "metadata": {},
     "output_type": "execute_result"
    }
   ],
   "execution_count": 52
  },
  {
   "metadata": {},
   "cell_type": "code",
   "outputs": [],
   "execution_count": null,
   "source": "",
   "id": "9011a5bd970ffe19"
  }
 ],
 "metadata": {
  "kernelspec": {
   "display_name": "Python 3",
   "language": "python",
   "name": "python3"
  },
  "language_info": {
   "codemirror_mode": {
    "name": "ipython",
    "version": 2
   },
   "file_extension": ".py",
   "mimetype": "text/x-python",
   "name": "python",
   "nbconvert_exporter": "python",
   "pygments_lexer": "ipython2",
   "version": "2.7.6"
  }
 },
 "nbformat": 4,
 "nbformat_minor": 5
}
