{
 "cells": [
  {
   "metadata": {
    "ExecuteTime": {
     "end_time": "2024-07-05T08:10:01.535133Z",
     "start_time": "2024-07-05T08:09:38.709899Z"
    }
   },
   "cell_type": "code",
   "source": [
    "import requests\n",
    "import time\n",
    "from tqdm import tqdm\n",
    "\n",
    "url = \"https://api.freepik.com/v1/resources\"\n",
    "\n",
    "querystring = {\n",
    "    \"term\": \"fried rice\",\n",
    "    \"page\": \"1\",\n",
    "    \"limit\": \"20\",\n",
    "    \"order\": \"relevance\",\n",
    "    \"filters[license][freemium]\": \"1\",\n",
    "    \"filters[content_type][photo]\": \"1\"\n",
    "}\n",
    "\n",
    "headers = {\n",
    "    \"x-freepik-api-key\": \"FPSX5139d1cc9b094395ac2f53a4d2749dc8\",\n",
    "    \"Accept-Language\": \"en-US\",\n",
    "    \"Accept\": \"application/json\",\n",
    "    \"Content-Type\": \"application/json\"\n",
    "}\n",
    "\n",
    "response = requests.get(url, headers=headers, params=querystring)\n",
    "\n",
    "image_urls =[]\n",
    "\n",
    "for page in tqdm(range(1, 100), desc=\"Fetching pages\"):\n",
    "    querystring[\"page\"] = str(page)\n",
    "    \n",
    "    response = requests.request(\"GET\", url, headers=headers, params=querystring)\n",
    "    \n",
    "    if response.status_code == 200:\n",
    "        data = response.json()\n",
    "        page_urls = [item['image']['source']['url'] for item in data['data']]\n",
    "        image_urls.extend(page_urls)\n",
    "        \n",
    "        if len(data['data']) < int(querystring[\"limit\"]):\n",
    "            # 마지막 페이지에 도달했으면 루프를 종료합니다\n",
    "            break\n",
    "    else:\n",
    "        print(f\"Error on page {page}: Status code {response.status_code}\")\n",
    "        break\n",
    "    \n",
    "    time.sleep(1)  # 각 요청 사이에 1초 지연\n",
    "\n",
    "print(f\"Total images found: {len(image_urls)}\")\n",
    "print(image_urls)"
   ],
   "id": "43d40ab577b39cfa",
   "outputs": [
    {
     "name": "stderr",
     "output_type": "stream",
     "text": [
      "Fetching pages:  14%|█▍        | 14/99 [00:22<02:14,  1.58s/it]"
     ]
    },
    {
     "name": "stdout",
     "output_type": "stream",
     "text": [
      "Error on page 15: Status code 429\n",
      "Total images found: 280\n",
      "['https://img.b2bpic.net/free-photo/american-shrimp-fried-rice-served-with-chili-fish-sauce-thai-food_1150-26584.jpg', 'https://img.b2bpic.net/free-photo/appetizing-healthy-rice-with-vegetables-white-plate-wooden-table_2829-19764.jpg', 'https://img.b2bpic.net/free-photo/fried-rice-with-crab-meat-white-plate_74190-2589.jpg', 'https://img.b2bpic.net/free-photo/american-shrimp-fried-rice-served-with-chili-fish-sauce-thai-food_1150-26585.jpg', 'https://img.b2bpic.net/free-photo/appetizing-healthy-rice-with-vegetables-white-plate-wooden-table_2829-19773.jpg', 'https://img.b2bpic.net/free-photo/high-angle-traditional-asian-meal-with-chopsticks_23-2148694371.jpg', 'https://img.b2bpic.net/free-photo/sausage-fried-rice-with-tomatoes-carrots-shiitake-mushrooms-plate_1150-27196.jpg', 'https://img.b2bpic.net/free-photo/sausage-fried-rice-with-tomatoes-carrots-shiitake-mushrooms-plate_1150-27183.jpg', 'https://img.b2bpic.net/free-photo/homemade-noodle-with-slice-pepper-plate-blue-background_114579-39798.jpg', 'https://img.b2bpic.net/free-photo/american-fried-rice_1339-4752.jpg', 'https://img.b2bpic.net/free-photo/american-shrimp-fried-rice-served-with-chili-fish-sauce-thai-food_1150-26580.jpg', 'https://img.b2bpic.net/free-photo/rice-with-egg-plate-variously-materials-pieces-fabric-marble_114579-42517.jpg', 'https://img.b2bpic.net/free-photo/fried-rice-with-prawn-top_1203-9169.jpg', 'https://img.b2bpic.net/free-photo/mimosa-salad-with-ornate-carrot-cucumber_140725-1177.jpg', 'https://img.b2bpic.net/free-photo/fried-rice-with-minced-pork-tomato-carrot-cucumber-plate_1150-27180.jpg', 'https://img.b2bpic.net/free-photo/fried-rice-with-prawn-top_1203-9168.jpg', 'https://img.b2bpic.net/free-photo/appetizing-healthy-rice-with-vegetables-white-plate-wooden-table_2829-19782.jpg', 'https://img.b2bpic.net/free-photo/style-still-life-with-noodles-bowl_1150-19795.jpg', 'https://img.b2bpic.net/free-photo/side-view-delicious-rice-meal-served-with-green-wooden-chopstics-black-plate-purple-stripped-towel-different-spices-garlic-tomatoes-dark-background_140725-130415.jpg', 'https://img.b2bpic.net/free-photo/appetizing-healthy-rice-with-vegetables-white-plate-wooden-table_2829-19761.jpg', 'https://img.b2bpic.net/free-photo/traditional-asian-dish-with-chopsticks_23-2148694361.jpg', 'https://img.b2bpic.net/free-photo/appetizing-healthy-rice-with-vegetables-white-plate-wooden-table_2829-19768.jpg', 'https://img.b2bpic.net/free-photo/close-up-bulgur-with-tomatoes_141793-1348.jpg', 'https://img.b2bpic.net/free-photo/appetizing-healthy-rice-with-vegetables-white-plate-wooden-table_2829-19762.jpg', 'https://img.b2bpic.net/free-photo/side-view-crab-salad-cucumber-rice-crab-meat-tobiko-caviar-mayo-slice-lime-plate_141793-4873.jpg', 'https://img.b2bpic.net/free-photo/caesar-salad-with-mixed-ingredients-chopped-cheese-top-white-background_114579-2963.jpg', 'https://img.b2bpic.net/free-photo/sausage-fried-rice-with-tomatoes-carrots-shiitake-mushrooms-plate_1150-27184.jpg', 'https://img.b2bpic.net/free-photo/fried-rice-with-sausage_1339-8075.jpg', 'https://img.b2bpic.net/free-photo/american-fried-rice_1339-4008.jpg', 'https://img.b2bpic.net/free-photo/top-view-tasty-boiled-rice-with-green-beans-inside-plate-dark-desk_179666-27269.jpg', 'https://img.b2bpic.net/free-photo/fried-rice-with-eggs-white-plate-wood-surface_1150-20710.jpg', 'https://img.b2bpic.net/free-photo/thai-snack-kao-tan-rice-cracker-white-bowl_1150-35264.jpg', 'https://img.b2bpic.net/free-photo/appetizing-healthy-rice-with-vegetables-white-plate-wooden-table_2829-19774.jpg', 'https://img.b2bpic.net/free-photo/style-still-life-with-noodles-bowl_1150-19793.jpg', 'https://img.b2bpic.net/free-photo/noodles-spicy-bowl-with-ingredients-black-cement-surface-top-view_1150-19812.jpg', 'https://img.b2bpic.net/free-photo/fried-rice-with-shrimp_74190-3573.jpg', 'https://img.b2bpic.net/free-photo/fried-rice_1203-9359.jpg', 'https://img.b2bpic.net/free-photo/style-still-life-with-noodles-bowl_1150-19791.jpg', 'https://img.b2bpic.net/free-photo/top-view-tasty-boiled-rice-with-beans-meat-inside-plate-dark-desk_179666-27245.jpg', 'https://img.b2bpic.net/free-photo/fried-rice-with-minced-pork-tomato-carrot-cucumber-plate_1150-27177.jpg', 'https://img.b2bpic.net/free-photo/close-up-pilaf-with-beans-green-fried-onions_141793-1349.jpg', 'https://img.b2bpic.net/free-photo/fried-rice_1203-9360.jpg', 'https://img.b2bpic.net/free-photo/noodles-spicy-bowl-with-ingredients-black-cement-surface_1150-19807.jpg', 'https://img.b2bpic.net/free-photo/top-view-cabbage-with-carrots-bowl-cabbage-with-carrots_140725-73595.jpg', 'https://img.b2bpic.net/free-photo/fried-rice_1203-7461.jpg', 'https://img.b2bpic.net/free-photo/fried-chicken-pop-with-chili-scallions-tomatoes_1150-25918.jpg', 'https://img.b2bpic.net/free-photo/side-view-rice-garnish-with-grilled-chicken-cucumber-carrot-bell-pepper-spring-onion_141793-5070.jpg', 'https://img.b2bpic.net/free-photo/fried-rice-with-minced-pork-tomato-carrot-cucumber-plate_1150-27178.jpg', 'https://img.b2bpic.net/free-photo/leaf-green-thailand-delicious-basil_1203-5876.jpg', 'https://img.b2bpic.net/free-photo/fried-rice-with-shrimp-prawn-top-white-plate_1203-7537.jpg', 'https://img.b2bpic.net/free-photo/front-view-fresh-vegetable-salad-inside-plate-with-greens-dark-photo-healthy-life-food-diet-color-meal_140725-144111.jpg', 'https://img.b2bpic.net/free-photo/bottom-view-rotini-pasta-round-plate-dark-table_140725-102781.jpg', 'https://img.b2bpic.net/free-photo/thai-food-noodles-spicy-boil-with-pork-boil-egg_1150-27969.jpg', 'https://img.b2bpic.net/free-photo/fried-rice_74190-5161.jpg', 'https://img.b2bpic.net/free-photo/some-delicious-meal-with-green-onions-pepper-blue-plate-wood-red-cloth-white-textured-background-top-view_176474-3914.jpg', 'https://img.b2bpic.net/free-photo/white-rice-with-vegetables-black-bowl-black-background_123827-31356.jpg', 'https://img.b2bpic.net/free-photo/close-up-with-mama-with-minced-pork_1150-22074.jpg', 'https://img.b2bpic.net/free-photo/stir-fried-noodle-pork-basil_1339-5607.jpg', 'https://img.b2bpic.net/free-photo/flavorful-vermicelli-pasta-with-green-vegetable-bowl-marble-surface_114579-63702.jpg', 'https://img.b2bpic.net/free-photo/spicy-minced-pork-salad-white-plate-with-red-onion-lemon-grass-garlic-yardlong-beans-kaffir-lime-leaves-spring-onion_1150-21326.jpg', 'https://img.b2bpic.net/free-photo/fried-rice_1232-1918.jpg', 'https://img.b2bpic.net/free-photo/top-view-fried-japanese-rice-with-vegetables-soy-sauce-plate-wooden-surface_141793-8517.jpg', 'https://img.b2bpic.net/free-photo/shrimp-noodle-plate-marble-background_114579-46321.jpg', 'https://img.b2bpic.net/free-photo/fried-rice-with-sausage-fried-egg_1339-8072.jpg', 'https://img.b2bpic.net/free-photo/delicious-seafood-fried-rice-with-shrimp-eggs-spring-onions-with-soup_1150-22895.jpg', 'https://img.b2bpic.net/free-photo/spicy-fried-basil-leaf-with-chicken-rice_1203-6764.jpg', 'https://img.b2bpic.net/free-photo/raisins-bowl-rice-pudding-blue-background-high-quality-photo_114579-75386.jpg', 'https://img.b2bpic.net/free-photo/front-view-delicious-vegetable-salad-inside-tray-grey-table_140725-131699.jpg', 'https://img.b2bpic.net/free-photo/basil-minced-pork-with-rice-fried-egg_1150-27368.jpg', 'https://img.b2bpic.net/free-photo/mama-shrimp-white-plate_1150-22085.jpg', 'https://img.b2bpic.net/free-photo/appetizing-healthy-rice-with-vegetables-white-plate-wooden-table_2829-19786.jpg', 'https://img.b2bpic.net/free-photo/thai-food-stir-fried-egg-with-papaya-cooked-serve-with-rice_1150-26148.jpg', 'https://img.b2bpic.net/free-photo/fried-rice_74190-2082.jpg', 'https://img.b2bpic.net/free-photo/appetizing-healthy-rice-with-vegetables-white-plate-wooden-table_2829-19788.jpg', 'https://img.b2bpic.net/free-photo/fried-rice_74190-5162.jpg', 'https://img.b2bpic.net/free-photo/sausage-fried-rice-with-tomatoes-carrots-shiitake-mushrooms-plate_1150-27185.jpg', 'https://img.b2bpic.net/free-photo/top-view-vegetable-salad-with-different-ingredients-dark-salad-ripe-food_140725-123902.jpg', 'https://img.b2bpic.net/free-photo/american-fried-rice_1339-4010.jpg', 'https://img.b2bpic.net/free-photo/spicy-fried-basil-leaf-with-chicken-rice_74190-1568.jpg', 'https://img.b2bpic.net/free-photo/noodles-spicy-bowl-with-ingredients-black-cement-surface_1150-19806.jpg', 'https://img.b2bpic.net/free-photo/homemade-tasty-noodle-bowl-blue-table_114579-90201.jpg', 'https://img.b2bpic.net/free-photo/style-still-life-with-noodles-bowl_1150-19766.jpg', 'https://img.b2bpic.net/free-photo/onions-supper-meal-plain-garlic-sauce_1428-732.jpg', 'https://img.b2bpic.net/free-photo/delicious-bulgur-pilaf-white-plate_114579-39129.jpg', 'https://img.b2bpic.net/free-photo/side-view-plate-with-cooked-rice-with-parsley-table_140725-12126.jpg', 'https://img.b2bpic.net/free-photo/pre-prepared-food-showcasing-ready-eat-delicious-meals-go_23-2151431661.jpg', 'https://img.b2bpic.net/free-photo/homemade-noodle-with-slice-pepper-plate-blue-table_114579-90096.jpg', 'https://img.b2bpic.net/free-photo/white-fried-rice-with-vegetables-wooden-table-top-view-copy-space_123827-32331.jpg', 'https://img.b2bpic.net/free-photo/high-angle-view-vegetable-rice-turmeric-powder-red-chili-pepper-dry-spices-wooden-backdrop_23-2148097282.jpg', 'https://img.b2bpic.net/free-photo/pad-thai-fresh-shrimp-white-plate_1150-22355.jpg', 'https://img.b2bpic.net/free-photo/mimosa-salad-with-chopped-parmesan-top_114579-1875.jpg', 'https://img.b2bpic.net/free-photo/white-rice-with-vegetables-black-bowl-wooden-table_123827-31645.jpg', 'https://img.b2bpic.net/free-photo/fried-rice-with-sausage-fried-egg_1339-7570.jpg', 'https://img.b2bpic.net/free-photo/top-view-pearl-barley-with-tasty-cooked-vegetables-grey-table_140725-134975.jpg', 'https://img.b2bpic.net/free-photo/top-view-tasty-cooked-buckwheat-inside-white-plate-with-greens-light-grey-table-color_140725-143619.jpg', 'https://img.b2bpic.net/free-photo/hot-pepper-egg-cooking_1253-502.jpg', 'https://img.b2bpic.net/free-photo/top-view-tasty-boiled-rice-with-beans-meat-inside-plate-dark-desk_179666-27247.jpg', 'https://img.b2bpic.net/free-photo/fried-noodle-with-pork-soy-sauce-vegetable_1150-27401.jpg', 'https://img.b2bpic.net/free-photo/pilaf-with-carrot-meat_141793-907.jpg', 'https://img.b2bpic.net/free-photo/top-view-delicious-boiled-rice-inside-little-plate-dark-desk_179666-27197.jpg', 'https://img.b2bpic.net/free-photo/overhead-shot-dish-with-rice-sliced-vegetable-round-white-plate_181624-5171.jpg', 'https://img.b2bpic.net/free-photo/fried-rice-with-minced-pork-tomato-carrot-cucumber-plate_1150-27197.jpg', 'https://img.b2bpic.net/free-photo/american-fried-rice_1339-6685.jpg', 'https://img.b2bpic.net/free-photo/front-view-tasty-salad-with-fresh-vegetables-grey-table_140725-137103.jpg', 'https://img.b2bpic.net/free-photo/stir-fry-noodles-thai-style_1339-6163.jpg', 'https://img.b2bpic.net/free-photo/fried-rice-with-shrimp-prawn-top-white-plate_1203-7538.jpg', 'https://img.b2bpic.net/free-photo/fresh-homemade-uncooked-pizza-with-ingredients-baking-tray_23-2148090986.jpg', 'https://img.b2bpic.net/free-photo/rice-with-basil-minced-pork_1150-26771.jpg', 'https://img.b2bpic.net/free-photo/spicy-minced-pork-salad-white-plate-with-red-onion-lemon-grass-garlic-yardlong-beans-kaffir-lime-leaves-spring-onion_1150-21333.jpg', 'https://img.b2bpic.net/free-photo/flavorful-vermicelli-pasta-with-green-vegetable-bowl-marble_114579-65214.jpg', 'https://img.b2bpic.net/free-photo/high-angle-asian-rice-dish-with-meat_23-2148694343.jpg', 'https://img.b2bpic.net/free-photo/thai-food-noodles-spicy-boil-with-pork-boil-egg_1150-27970.jpg', 'https://img.b2bpic.net/free-photo/top-view-tasty-cooked-buckwheat-with-greens-vegetables-grey_140725-35971.jpg', 'https://img.b2bpic.net/free-photo/traditional-nasi-lemak-meal-assortment_23-2149056812.jpg', 'https://img.b2bpic.net/free-photo/flat-lay-tasty-composition-noodles-table_23-2148803863.jpg', 'https://img.b2bpic.net/free-photo/overhead-view-delicious-rice-meal-with-pisum-carrot-purple-towel-cutlery-set-blue-background_140725-160508.jpg', 'https://img.b2bpic.net/free-photo/thai-food-stir-fried-egg-with-papaya-cooked-serve-with-rice_1150-26152.jpg', 'https://img.b2bpic.net/free-photo/fried-rice-with-prawn-top_74190-6024.jpg', 'https://img.b2bpic.net/free-photo/pre-prepared-food-showcasing-ready-eat-delicious-meals-go_23-2151431710.jpg', 'https://img.b2bpic.net/free-photo/smoked-sausages-macaroni-black-pan_114579-68350.jpg', 'https://img.b2bpic.net/free-photo/tasty-rice-dish-chopsticks_23-2148585696.jpg', 'https://img.b2bpic.net/free-photo/close-up-healthy-rice-basil-leaves-plate-with-parsley-chili-peppers-blurred-background_23-2148097277.jpg', 'https://img.b2bpic.net/free-photo/close-up-steamed-rice-meal-plate_140725-114595.jpg', 'https://img.b2bpic.net/free-photo/brazilian-food-with-shrimp-bowl_23-2148875213.jpg', 'https://img.b2bpic.net/free-photo/crispy-omelet-topped-with-minced-pork-mixed-vegetables-sauce_1150-27786.jpg', 'https://img.b2bpic.net/free-photo/close-up-azerbaijani-rice-dish-served-with-safran-crispy-flatbread_140725-4967.jpg', 'https://img.b2bpic.net/free-photo/spicy-minced-pork-rice-black-plate_1150-23726.jpg', 'https://img.b2bpic.net/free-photo/fried-chicken-pop-with-chili-scallions-tomatoes_1150-25916.jpg', 'https://img.b2bpic.net/free-photo/delicious-thai-food-still-life_23-2149508916.jpg', 'https://img.b2bpic.net/free-photo/fried-rice-with-sausage-fried-egg_1339-8078.jpg', 'https://img.b2bpic.net/free-photo/beans-rice-basil-leaves-plate-with-organic-ingredients-table_23-2148097280.jpg', 'https://img.b2bpic.net/free-photo/mama-with-minced-pork-frying-pan_1150-22054.jpg', 'https://img.b2bpic.net/free-photo/delicious-brazilian-dish-water-glass_23-2148875279.jpg', 'https://img.b2bpic.net/free-photo/instant-noodles-stir-fried-with-shrimp-pork_1150-23901.jpg', 'https://img.b2bpic.net/free-photo/high-angle-rice-with-vegetables-plate-chopsticks-with-copy-space_23-2148377498.jpg', 'https://img.b2bpic.net/free-photo/shrimp-fried-rice-with-tomatoes-carrots-scallions-plate_1150-27188.jpg', 'https://img.b2bpic.net/free-photo/roasted-chicken-drumsticks-white-rice-vegetables_114579-26.jpg', 'https://img.b2bpic.net/free-photo/rice-with-basil-minced-pork_1150-26774.jpg', 'https://img.b2bpic.net/free-photo/slice-carrot-rice-salad-board-marble-background_114579-67045.jpg', 'https://img.b2bpic.net/free-photo/appetizing-healthy-rice-with-vegetables-white-plate-wooden-table_2829-19781.jpg', 'https://img.b2bpic.net/free-photo/noodles-spicy-bowl-with-ingredients-black-cement-surface-top-view_1150-19813.jpg', 'https://img.b2bpic.net/free-photo/chicken-dinner-thai-red-food_1203-4415.jpg', 'https://img.b2bpic.net/free-photo/spicy-minced-pork-rice-black-plate_1150-23721.jpg', 'https://img.b2bpic.net/free-photo/front-view-pearl-barley-with-tasty-cooked-vegetable_140725-103322.jpg', 'https://img.b2bpic.net/free-photo/top-view-mimosa-salad-inside-plate-dark-blue-background_179666-22628.jpg', 'https://img.b2bpic.net/free-photo/female-hand-holding-spoon-bulgur-pilaf-white-plate_114579-39134.jpg', 'https://img.b2bpic.net/free-photo/carrot-rice-wooden-plate-marble_114579-65123.jpg', 'https://img.b2bpic.net/free-photo/fragrant-potato-pancakes-herring-with-beetroot_2829-13673.jpg', 'https://img.b2bpic.net/free-photo/salad-with-chopped-carrot-cauliflowers_114579-70206.jpg', 'https://img.b2bpic.net/free-photo/spicy-minced-pork-salad-white-plate-with-lentils-kaffir-lime-leaves-spring-onions_1150-21318.jpg', 'https://img.b2bpic.net/free-photo/basil-minced-pork-with-rice-fried-egg_1150-27367.jpg', 'https://img.b2bpic.net/free-photo/spicy-fried-basil-leaf-with-seafood-rice_1203-6765.jpg', 'https://img.b2bpic.net/free-photo/fried-rice_74190-2525.jpg', 'https://img.b2bpic.net/free-photo/top-view-tasty-composition-noodles-table_23-2148803861.jpg', 'https://img.b2bpic.net/free-photo/mixed-boiled-rice-with-chilli-basil-dietary-menu_2829-6712.jpg', 'https://img.b2bpic.net/free-photo/top-view-chinese-hot-pot_23-2149529838.jpg', 'https://img.b2bpic.net/free-photo/thai-food-shrimp-squid-fried-cooked-with-long-beans-rice_1150-26164.jpg', 'https://img.b2bpic.net/free-photo/spicy-minced-pork-salad-with-chili-flakes_1150-28548.jpg', 'https://img.b2bpic.net/free-photo/top-view-fresh-vegetable-salad-with-sliced-carrot-cabbage-bell-peppers-dark-table_140725-143027.jpg', 'https://img.b2bpic.net/free-photo/top-view-tasty-boiled-rice-with-beans-meat-inside-plate-dark-desk_179666-27241.jpg', 'https://img.b2bpic.net/free-photo/copy-space-rice-with-vegetables-plate-chopsticks-with-copy-space_23-2148377497.jpg', 'https://img.b2bpic.net/free-photo/instant-noodles-stir-fried-with-shrimp-pork_1150-23897.jpg', 'https://img.b2bpic.net/free-photo/chinese-fried-steamed-rice-wooden-plate-blue-placemat_23-2147901722.jpg', 'https://img.b2bpic.net/free-photo/high-angle-traditional-asian-dish-with-chopsticks_23-2148694367.jpg', 'https://img.b2bpic.net/free-photo/top-view-tasty-noodles-with-prawns_1203-1769.jpg', 'https://img.b2bpic.net/free-photo/chicken-cheesy-pizza-blue-with-fresh-vegetables_114579-15610.jpg', 'https://img.b2bpic.net/free-photo/white-rice-with-vegetables-black-bowl-black-background_123827-31339.jpg', 'https://img.b2bpic.net/free-photo/thai-food-shrimp-squid-fried-cooked-with-long-beans-rice_1150-26157.jpg', 'https://img.b2bpic.net/free-photo/fried-rice_1203-2505.jpg', 'https://img.b2bpic.net/free-photo/japanese-food-bowl-rice-boiled-white-fish-wakame-chuka-seaweed-salad_2829-17335.jpg', 'https://img.b2bpic.net/free-photo/pad-thai-fresh-shrimp-pan_1150-22344.jpg', 'https://img.b2bpic.net/free-photo/front-view-delicious-mimosa-salad-inside-plate-dark-blue-surface-kitchen-photo-food-cuisine-meat-holiday-meal-color-birthday_179666-24502.jpg', 'https://img.b2bpic.net/free-photo/pile-sauerkraut-green-plate-grey-table_114579-91935.jpg', 'https://img.b2bpic.net/free-photo/top-view-cooked-rice-with-dough-slices-dark-surface-photo-dish-meal-food-dark_140725-82251.jpg', 'https://img.b2bpic.net/free-photo/mexican-spicy-plate-overhead_23-2148224137.jpg', 'https://img.b2bpic.net/free-photo/rice-mushrooms-with-cheese-top_140725-6312.jpg', 'https://img.b2bpic.net/free-photo/high-angle-arrangement-delicious-indonesian-bakso_23-2148933322.jpg', 'https://img.b2bpic.net/free-photo/spicy-minced-pork-salad-white-plate-with-lentils-kaffir-lime-leaves-spring-onions_1150-21311.jpg', 'https://img.b2bpic.net/free-photo/top-view-macaroni-pasta-sliced-tomato-plate-wooden-surface_141793-10042.jpg', 'https://img.b2bpic.net/free-photo/fried-chicken-legs-rice-blue-plate_114579-72425.jpg', 'https://img.b2bpic.net/free-photo/top-view-tasty-salad-with-seasonings-grey-health-salad-food-diet_140725-123755.jpg', 'https://img.b2bpic.net/free-photo/thai-food-with-spicy-minced-pork-serve-with-side-dishes_1150-34603.jpg', 'https://img.b2bpic.net/free-photo/front-view-cooked-rice-with-dough-slices-dark-surface-dish-meal-dark-food-photo_140725-81864.jpg', 'https://img.b2bpic.net/free-photo/top-view-delicious-rice-meal-served-with-green-black-plate-purple-stripped-towel-wooden-chopstics-right-side-dark-background_140725-130589.jpg', 'https://img.b2bpic.net/free-photo/front-view-pearl-barley-with-tasty-cooked-vegetable_140725-103317.jpg', 'https://img.b2bpic.net/free-photo/fried-pork-with-dried-chili-salt-dark-background_1150-45516.jpg', 'https://img.b2bpic.net/free-photo/appetizing-healthy-rice-with-vegetables-white-plate-wooden-table_2829-19783.jpg', 'https://img.b2bpic.net/free-photo/rice-with-tomatoes-onions_661915-61.jpg', 'https://img.b2bpic.net/free-photo/closeup-spicy-cooked-rice-with-meat-vegetables-chips-plate-table_181624-45112.jpg', 'https://img.b2bpic.net/free-photo/front-view-tasty-salad-with-fresh-vegetables-grey-table_140725-137101.jpg', 'https://img.b2bpic.net/free-photo/crispy-omelet-topped-with-minced-pork-mixed-vegetables-sauce_1150-27789.jpg', 'https://img.b2bpic.net/free-photo/side-view-caesar-salad-with-grilled-chicken-bread-rusk-cherry-tomatoes-parmesan-cheese-top_141793-4788.jpg', 'https://img.b2bpic.net/free-photo/top-view-vegetable-chicken-salad-inside-plate-grey-diet-health-salad_140725-123869.jpg', 'https://img.b2bpic.net/free-photo/front-view-vegetable-salad-with-seasonings-dark-table-health-salad-diet-food_140725-125299.jpg', 'https://img.b2bpic.net/free-photo/appetizing-healthy-rice-with-vegetables-white-plate-wooden-table_2829-19784.jpg', 'https://img.b2bpic.net/free-photo/flat-lay-rice-with-vegetables-plate-chopsticks-with-copy-space_23-2148377496.jpg', 'https://img.b2bpic.net/free-photo/side-view-delicious-rice-meal-served-with-green-chopsticks-black-plate-dark-background_140725-130413.jpg', 'https://img.b2bpic.net/free-photo/rice-with-chinese-pork-stewed-pork-beautiful-side-dishes-thai-food_1150-24212.jpg', 'https://img.b2bpic.net/free-photo/pad-thai-fresh-shrimp-white-plate_1150-22378.jpg', 'https://img.b2bpic.net/free-photo/delicious-pasta-with-eggs-ceramic-bowl_114579-69667.jpg', 'https://img.b2bpic.net/free-photo/diced-carrots-vegetable-salad-wooden-bowl_114579-69613.jpg', 'https://img.b2bpic.net/free-photo/side-view-rice-garnish-with-fried-onion-carrot-greens-chili-pepper-table_141793-5069.jpg', 'https://img.b2bpic.net/free-photo/top-view-delicious-rice-meal-served-with-green-chopsticks-black-plate-peppers-garlic-tomatoes-dark-background_140725-130581.jpg', 'https://img.b2bpic.net/free-photo/front-view-cooked-rice-with-dough-slices-dark-floor-photo-dish-meal-dark-food_140725-81867.jpg', 'https://img.b2bpic.net/free-photo/front-view-minced-vegetables-rice-colored-bright-surface_140725-14450.jpg', 'https://img.b2bpic.net/free-photo/top-view-cooked-rice-with-seasonings-dark-surface-dish-meal-dark-food-spice_140725-82261.jpg', 'https://img.b2bpic.net/free-photo/fried-pork-with-dried-chili-salt-dark-background_1150-45513.jpg', 'https://img.b2bpic.net/free-photo/thai-food-shrimp-squid-fried-cooked-with-long-beans-rice_1150-26155.jpg', 'https://img.b2bpic.net/free-photo/closeup-delicious-cooked-rice-with-vegetables-sauce-plate-table_181624-34969.jpg', 'https://img.b2bpic.net/free-photo/fried-noodles_1203-2429.jpg', 'https://img.b2bpic.net/free-photo/ong-chili-paste-mortar-decorated-with-beautiful-side-dishes_1150-24466.jpg', 'https://img.b2bpic.net/free-photo/front-view-cooked-pearl-barley-with-cooked-vegetable_140725-103179.jpg', 'https://img.b2bpic.net/free-photo/spicy-pork-with-basil-leaf-rice_74190-7646.jpg', 'https://img.b2bpic.net/free-photo/fried-rice-plate-white-wooden-floor_1150-28473.jpg', 'https://img.b2bpic.net/free-photo/front-view-cooked-rice-with-dough-slices-dark-floor-dish-meal-dark-food-photo_140725-81866.jpg', 'https://img.b2bpic.net/free-photo/thai-food-noodles-spicy-boil-with-seafood-pork-hot-pot_1150-27869.jpg', 'https://img.b2bpic.net/free-photo/spicy-minced-pork-salad-white-plate-with-lentils-kaffir-lime-leaves-spring-onions_1150-21319.jpg', 'https://img.b2bpic.net/free-photo/front-view-delicious-mimosa-salad-inside-plate-dark-blue-surface-kitchen-photo-cuisine-birthday-holiday-meal-color-food-meat_179666-24499.jpg', 'https://img.b2bpic.net/free-photo/korean-food-fried-rice-with-kimchi-serve-with-fried-egg_1150-42922.jpg', 'https://img.b2bpic.net/free-photo/dry-chamomile-flowers-black-bowl_114579-84368.jpg', 'https://img.b2bpic.net/free-photo/spicy-minced-chicken-salad_74190-599.jpg', 'https://img.b2bpic.net/free-photo/spicy-minced-pork-salad-white-plate-with-red-onion-lemon-grass-garlic-yardlong-beans-kaffir-lime-leaves-spring-onion_1150-21335.jpg', 'https://img.b2bpic.net/free-photo/stir-fried-crab-with-curry-powder-beautiful-side-dishes_1150-24292.jpg', 'https://img.b2bpic.net/free-photo/spicy-minced-pork-salad-white-plate-with-lentils-kaffir-lime-leaves-spring-onions_1150-21323.jpg', 'https://img.b2bpic.net/free-photo/high-angle-tasty-composition-noodles-table_23-2148803859.jpg', 'https://img.b2bpic.net/free-photo/crab-tom-yum-mama-with-lemon-chili-tomato-garlic-lemongrass-kaffir-lime-leaves-plate_1150-25801.jpg', 'https://img.b2bpic.net/free-photo/white-rice-with-vegetables-black-bowl-isolated-white-background_123827-31234.jpg', 'https://img.b2bpic.net/free-photo/plate-pad-thai-with-rice-beans-it_188544-33238.jpg', 'https://img.b2bpic.net/free-photo/high-angle-tasty-composition-noodles-table_23-2148803860.jpg', 'https://img.b2bpic.net/free-photo/crab-tom-yum-mama-with-lemon-chili-tomato-garlic-lemongrass-kaffir-lime-leaves-plate_1150-25798.jpg', 'https://img.b2bpic.net/free-photo/steam-fried-rice-backdrop_23-2147901867.jpg', 'https://img.b2bpic.net/free-photo/front-view-tasty-boiled-rice-with-dried-pepper-garlic_179666-25779.jpg', 'https://img.b2bpic.net/free-photo/tasty-bowl-rice-with-tomatoes_23-2148294967.jpg', 'https://img.b2bpic.net/free-photo/top-view-tasty-boiled-rice-with-green-beans-dark-desk_179666-27275.jpg', 'https://img.b2bpic.net/free-photo/top-close-up-view-dish-with-spices-appetizing-stuffed-cabbage-with-herbs-lemon-sauce-bowls-colorful-spices-rice-black-pepper-dark-surface_140725-117207.jpg', 'https://img.b2bpic.net/free-photo/high-angle-asian-rice-with-meat_23-2148694332.jpg', 'https://img.b2bpic.net/free-photo/rice-with-chinese-pork-stewed-pork-beautiful-side-dishes-thai-food_1150-24214.jpg', 'https://img.b2bpic.net/free-photo/steamed-chicken-with-rice_1339-5671.jpg', 'https://img.b2bpic.net/free-photo/dish-with-rice_144627-18114.jpg', 'https://img.b2bpic.net/free-photo/shrimp-fried-rice-with-tomatoes-carrots-scallions-plate_1150-27195.jpg', 'https://img.b2bpic.net/free-photo/close-shot-soup-with-shrimps-rice-vegetables-leaves-bowl-wooden-surface_181624-2797.jpg', 'https://img.b2bpic.net/free-photo/fermented-pork-fried-rice-served-with-fresh-cucumber_1150-27380.jpg', 'https://img.b2bpic.net/free-photo/crispy-omelet-topped-with-minced-pork-mixed-vegetables-sauce_1150-27788.jpg', 'https://img.b2bpic.net/free-photo/korean-food-fried-rice-with-kimchi-serve-with-fried-egg_1150-42950.jpg', 'https://img.b2bpic.net/free-photo/pork-panning-curry-with-berry-rice-omelet_1339-3280.jpg', 'https://img.b2bpic.net/free-photo/spicy-minced-pork-salad-white-plate-with-red-onion-lemon-grass-garlic-yardlong-beans-kaffir-lime-leaves-spring-onion_1150-21328.jpg', 'https://img.b2bpic.net/free-photo/rice-with-vegetables_501050-436.jpg', 'https://img.b2bpic.net/free-photo/smoked-sausages-macaroni-black-pan_114579-68539.jpg', 'https://img.b2bpic.net/free-photo/close-up-chicken-with-rice-cooked-indian-style_23-2148294965.jpg', 'https://img.b2bpic.net/free-photo/fried-rice-fried-egg-served-with-fish-sauce-cucumber_1150-27761.jpg', 'https://img.b2bpic.net/free-photo/spicy-minced-pork-white-plate-sticky-rice-box_1150-21336.jpg', 'https://img.b2bpic.net/free-photo/spicy-minced-pork-white-plate-sticky-rice-box_1150-21337.jpg', 'https://img.b2bpic.net/free-photo/spicy-minced-pork-salad-white-plate-wooden-table_1150-21331.jpg', 'https://img.b2bpic.net/free-photo/vertical-view-delicious-vegan-salad-various-vegetables_140725-135335.jpg', 'https://img.b2bpic.net/free-photo/grilled-legs-seasoned-rice-orange-plate_114579-72376.jpg', 'https://img.b2bpic.net/free-photo/padthai-shrimp-black-bowl-with-eggs-spring-onion-seasoning-wooden-table_1150-21117.jpg', 'https://img.b2bpic.net/free-photo/chicken-meat-noodle-plate-trivet-vegetables-marble-background_114579-46310.jpg', 'https://img.b2bpic.net/free-photo/close-up-rice-with-vegetables-soy-sauce-chopsticks_23-2148377509.jpg', 'https://img.b2bpic.net/free-photo/spicy-crispy-morning-glory-salad-with-shrimp-spicy-fresh-shrimp-thai-food_1150-26591.jpg', 'https://img.b2bpic.net/free-photo/cooked-rice-with-vegetables-parsley-plate-wooden-table_23-2148014721.jpg', 'https://img.b2bpic.net/free-photo/high-angle-brazilian-food-with-shrimp_23-2148875211.jpg', 'https://img.b2bpic.net/free-photo/yellow-rice-with-chicken-vegetables-isolated-white-background_123827-31601.jpg', 'https://img.b2bpic.net/free-photo/hand-holding-plate-minced-pork-with-basil-rice_1150-26775.jpg', 'https://img.b2bpic.net/free-photo/rice-with-basil-minced-pork_1150-26773.jpg', 'https://img.b2bpic.net/free-photo/side-view-caesar-salad-with-fried-shrimp_176474-3000.jpg', 'https://img.b2bpic.net/free-photo/close-up-view-seasoned-split-peas-rice-sauerkraut-salad-dark_140725-56791.jpg', 'https://img.b2bpic.net/free-photo/asian-food-restaurant_7939-2013.jpg', 'https://img.b2bpic.net/free-photo/delicious-thai-food-still-life_23-2149508960.jpg', 'https://img.b2bpic.net/free-photo/stir-fried-noodle-pork-basil_1339-5604.jpg', 'https://img.b2bpic.net/free-photo/front-view-vegetable-salad-with-peppers-grey-table-health-salad-food-diet_140725-125296.jpg', 'https://img.b2bpic.net/free-photo/mama-canned-fish-white-dish_1150-22084.jpg', 'https://img.b2bpic.net/free-photo/front-view-delicious-mimosa-salad-inside-plate-dark-blue-surface-kitchen-photo-birthday-color-food-meat-holiday-meal-cuisine_179666-24500.jpg', 'https://img.b2bpic.net/free-photo/pan-with-rice-dish-near-spices_23-2147894732.jpg', 'https://img.b2bpic.net/free-photo/front-view-vegetable-salad-with-fresh-vegetables-grey-table-diet-food-salad-health_140725-125282.jpg', 'https://img.b2bpic.net/free-photo/spicy-fresh-oyster-salad-thai-food-ingredients_1150-24359.jpg', 'https://img.b2bpic.net/free-photo/top-view-cooked-rice-along-with-seasonings-dark-floor-food-dish-photo-meal_140725-82232.jpg', 'https://img.b2bpic.net/free-photo/padthai-shrimp-white-dish-with-lime-eggs-wooden-table_1150-21125.jpg', 'https://img.b2bpic.net/free-photo/noodles-spicy-wooden-tray-frying-pans-bowl-with-ingredients-black-cement-surface_1150-19780.jpg', 'https://img.b2bpic.net/free-photo/slovak-potato-dumplings-halusky-with-steamed-sauerkraut-bacon-black-background_123827-31921.jpg', 'https://img.b2bpic.net/free-photo/style-still-life-with-noodles-bowl_1150-19792.jpg']\n"
     ]
    },
    {
     "name": "stderr",
     "output_type": "stream",
     "text": [
      "\n"
     ]
    }
   ],
   "execution_count": 20
  },
  {
   "metadata": {
    "ExecuteTime": {
     "end_time": "2024-07-05T08:10:04.570593Z",
     "start_time": "2024-07-05T08:10:04.565138Z"
    }
   },
   "cell_type": "code",
   "source": "len(image_urls)",
   "id": "4ed6e32b565caf68",
   "outputs": [
    {
     "data": {
      "text/plain": [
       "280"
      ]
     },
     "execution_count": 21,
     "metadata": {},
     "output_type": "execute_result"
    }
   ],
   "execution_count": 21
  },
  {
   "metadata": {
    "ExecuteTime": {
     "end_time": "2024-07-05T08:17:44.898294Z",
     "start_time": "2024-07-05T08:10:17.630671Z"
    }
   },
   "cell_type": "code",
   "source": [
    "import os\n",
    "import requests\n",
    "\n",
    "# 저장할 폴더 경로\n",
    "folder_path = \"noodleimg_data\"\n",
    "\n",
    "# 폴더가 존재하지 않으면 생성\n",
    "if not os.path.exists(folder_path):\n",
    "    os.makedirs(folder_path)\n",
    "\n",
    "# 이미지 다운로드 및 저장\n",
    "for i, url in enumerate(tqdm(image_urls), start=1):\n",
    "    response = requests.get(url)\n",
    "    if response.status_code == 200:\n",
    "        file_name = f\"rice{i}.jpg\"\n",
    "        file_path = os.path.join(folder_path, file_name)\n",
    "        with open(file_path, 'wb') as file:\n",
    "            file.write(response.content)\n",
    "    else:\n",
    "        print(f\"Failed to download image {i} from {url}\")\n",
    "\n",
    "print(\"All images downloaded successfully.\")\n"
   ],
   "id": "e84d9727f27526ef",
   "outputs": [
    {
     "name": "stderr",
     "output_type": "stream",
     "text": [
      "100%|██████████| 280/280 [07:27<00:00,  1.60s/it]"
     ]
    },
    {
     "name": "stdout",
     "output_type": "stream",
     "text": [
      "All images downloaded successfully.\n"
     ]
    },
    {
     "name": "stderr",
     "output_type": "stream",
     "text": [
      "\n"
     ]
    }
   ],
   "execution_count": 22
  },
  {
   "metadata": {
    "ExecuteTime": {
     "end_time": "2024-07-09T05:35:53.531557Z",
     "start_time": "2024-07-09T05:35:53.498682Z"
    }
   },
   "cell_type": "code",
   "source": "",
   "id": "8c93d7621dc588d1",
   "outputs": [
    {
     "name": "stdout",
     "output_type": "stream",
     "text": [
      "Writing templates/main2.html\n"
     ]
    },
    {
     "ename": "FileNotFoundError",
     "evalue": "[Errno 2] No such file or directory: 'templates/main2.html'",
     "output_type": "error",
     "traceback": [
      "\u001B[1;31m---------------------------------------------------------------------------\u001B[0m",
      "\u001B[1;31mFileNotFoundError\u001B[0m                         Traceback (most recent call last)",
      "Cell \u001B[1;32mIn[28], line 1\u001B[0m\n\u001B[1;32m----> 1\u001B[0m get_ipython()\u001B[38;5;241m.\u001B[39mrun_cell_magic(\u001B[38;5;124m'\u001B[39m\u001B[38;5;124mwritefile\u001B[39m\u001B[38;5;124m'\u001B[39m, \u001B[38;5;124m'\u001B[39m\u001B[38;5;124mtemplates/main2.html\u001B[39m\u001B[38;5;124m'\u001B[39m, \u001B[38;5;124m'\u001B[39m\u001B[38;5;124m<html>\u001B[39m\u001B[38;5;130;01m\\n\u001B[39;00m\u001B[38;5;124m<body>\u001B[39m\u001B[38;5;130;01m\\n\u001B[39;00m\u001B[38;5;124m    <img src=\u001B[39m\u001B[38;5;124m{{\u001B[39m\u001B[38;5;124m url_for(\u001B[39m\u001B[38;5;124m\"\u001B[39m\u001B[38;5;124mstatic\u001B[39m\u001B[38;5;124m\"\u001B[39m\u001B[38;5;124m, filename=\u001B[39m\u001B[38;5;124m\"\u001B[39m\u001B[38;5;124mdrink1120.jpg\u001B[39m\u001B[38;5;124m\"\u001B[39m\u001B[38;5;124m}} alt=\u001B[39m\u001B[38;5;124m\"\u001B[39m\u001B[38;5;124m\"\u001B[39m\u001B[38;5;124m>\u001B[39m\u001B[38;5;130;01m\\n\u001B[39;00m\u001B[38;5;124m</body>\u001B[39m\u001B[38;5;130;01m\\n\u001B[39;00m\u001B[38;5;124m</html>\u001B[39m\u001B[38;5;130;01m\\n\u001B[39;00m\u001B[38;5;124m'\u001B[39m)\n",
      "File \u001B[1;32m~\\anaconda3\\Lib\\site-packages\\IPython\\core\\interactiveshell.py:2517\u001B[0m, in \u001B[0;36mInteractiveShell.run_cell_magic\u001B[1;34m(self, magic_name, line, cell)\u001B[0m\n\u001B[0;32m   2515\u001B[0m \u001B[38;5;28;01mwith\u001B[39;00m \u001B[38;5;28mself\u001B[39m\u001B[38;5;241m.\u001B[39mbuiltin_trap:\n\u001B[0;32m   2516\u001B[0m     args \u001B[38;5;241m=\u001B[39m (magic_arg_s, cell)\n\u001B[1;32m-> 2517\u001B[0m     result \u001B[38;5;241m=\u001B[39m fn(\u001B[38;5;241m*\u001B[39margs, \u001B[38;5;241m*\u001B[39m\u001B[38;5;241m*\u001B[39mkwargs)\n\u001B[0;32m   2519\u001B[0m \u001B[38;5;66;03m# The code below prevents the output from being displayed\u001B[39;00m\n\u001B[0;32m   2520\u001B[0m \u001B[38;5;66;03m# when using magics with decorator @output_can_be_silenced\u001B[39;00m\n\u001B[0;32m   2521\u001B[0m \u001B[38;5;66;03m# when the last Python token in the expression is a ';'.\u001B[39;00m\n\u001B[0;32m   2522\u001B[0m \u001B[38;5;28;01mif\u001B[39;00m \u001B[38;5;28mgetattr\u001B[39m(fn, magic\u001B[38;5;241m.\u001B[39mMAGIC_OUTPUT_CAN_BE_SILENCED, \u001B[38;5;28;01mFalse\u001B[39;00m):\n",
      "File \u001B[1;32m~\\anaconda3\\Lib\\site-packages\\IPython\\core\\magics\\osm.py:854\u001B[0m, in \u001B[0;36mOSMagics.writefile\u001B[1;34m(self, line, cell)\u001B[0m\n\u001B[0;32m    851\u001B[0m     \u001B[38;5;28mprint\u001B[39m(\u001B[38;5;124m\"\u001B[39m\u001B[38;5;124mWriting \u001B[39m\u001B[38;5;132;01m%s\u001B[39;00m\u001B[38;5;124m\"\u001B[39m \u001B[38;5;241m%\u001B[39m filename)\n\u001B[0;32m    853\u001B[0m mode \u001B[38;5;241m=\u001B[39m \u001B[38;5;124m'\u001B[39m\u001B[38;5;124ma\u001B[39m\u001B[38;5;124m'\u001B[39m \u001B[38;5;28;01mif\u001B[39;00m args\u001B[38;5;241m.\u001B[39mappend \u001B[38;5;28;01melse\u001B[39;00m \u001B[38;5;124m'\u001B[39m\u001B[38;5;124mw\u001B[39m\u001B[38;5;124m'\u001B[39m\n\u001B[1;32m--> 854\u001B[0m \u001B[38;5;28;01mwith\u001B[39;00m io\u001B[38;5;241m.\u001B[39mopen(filename, mode, encoding\u001B[38;5;241m=\u001B[39m\u001B[38;5;124m'\u001B[39m\u001B[38;5;124mutf-8\u001B[39m\u001B[38;5;124m'\u001B[39m) \u001B[38;5;28;01mas\u001B[39;00m f:\n\u001B[0;32m    855\u001B[0m     f\u001B[38;5;241m.\u001B[39mwrite(cell)\n",
      "\u001B[1;31mFileNotFoundError\u001B[0m: [Errno 2] No such file or directory: 'templates/main2.html'"
     ]
    }
   ],
   "execution_count": 28
  },
  {
   "metadata": {},
   "cell_type": "code",
   "outputs": [],
   "execution_count": null,
   "source": "",
   "id": "fa96d8d1c5d7089b"
  }
 ],
 "metadata": {
  "kernelspec": {
   "display_name": "Python 3",
   "language": "python",
   "name": "python3"
  },
  "language_info": {
   "codemirror_mode": {
    "name": "ipython",
    "version": 2
   },
   "file_extension": ".py",
   "mimetype": "text/x-python",
   "name": "python",
   "nbconvert_exporter": "python",
   "pygments_lexer": "ipython2",
   "version": "2.7.6"
  }
 },
 "nbformat": 4,
 "nbformat_minor": 5
}
