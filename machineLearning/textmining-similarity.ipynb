{
 "cells": [
  {
   "metadata": {},
   "cell_type": "markdown",
   "source": [
    "### 유클리디안 거리공식\n",
    "- 피타고라스의 정리를 기반으로 두 점사이의 거리를 계산하는 알고리즘\n",
    "- 데이터 스케일에 민감하다\n",
    "- 희소 데이터(Sparse)에는 잘 동작하지 않음"
   ],
   "id": "544fe9f5e7278a68"
  },
  {
   "metadata": {},
   "cell_type": "markdown",
   "source": [
    "### 코사인 유사도\n",
    "- 두 벡터의 방향이 완전히 동일하면 1, 90도의 각을 이루면 0, 180도로 반대의 방향을 가지면 -1\n",
    "- 코사인 유사도는 -1 ~ 1 사이의 값을 가지며 1에 가까울수록 유사도가 높다\n",
    "- 코사인 유사도는 두 벡터간의 유사도를 계산할 때 가장 널리 사용되는 방법 중 하나이다\n",
    "- 코사인 유사도는 두 벡터간의 크기가 아닌 방향에 초점을 두기 때문에 벡터의 크기가 중요하지 않은 경우에 자주 사용된다\n",
    "- 코사인 유사도는 두 벡터간의 각도를 이용하여 구할 수 있는 두 벡터의 유사도를 계산한다\n",
    "- 코사인 유사도는 데이터의 스케일에 영향을 받지 않는다\n",
    "- 코사인 유사도는 희소 데이터에도 잘 동작한다\n",
    "- 코사인 유사도는 두 벡터간의 내적을 이용하여 계산할 수 있다"
   ],
   "id": "84c143557699fe5a"
  },
  {
   "metadata": {
    "ExecuteTime": {
     "end_time": "2024-08-27T06:22:22.149119Z",
     "start_time": "2024-08-27T06:22:22.139466Z"
    }
   },
   "cell_type": "code",
   "source": [
    "import numpy as np\n",
    "from numpy import dot\n",
    "from numpy.linalg import norm\n",
    "\n",
    "def cos_sim(A, B):\n",
    "         return dot(A, B)/(norm(A)*norm(B))\n",
    "\n",
    "doc1 = np.array([0, 1, 1, 1])\n",
    "doc2 = np.array([1, 0, 1, 1])\n",
    "doc3 = np.array([2, 0, 2, 2])\n",
    "\n",
    "print(cos_sim(doc1, doc2)) # 0.6666666666666667\n",
    "print(cos_sim(doc1, doc3)) # 0.6666666666666667\n",
    "print(cos_sim(doc2, doc3)) # 1.0"
   ],
   "id": "8d107f0b1aec1d1",
   "outputs": [
    {
     "name": "stdout",
     "output_type": "stream",
     "text": [
      "0.6666666666666667\n",
      "0.6666666666666667\n",
      "1.0000000000000002\n"
     ]
    }
   ],
   "execution_count": 1
  },
  {
   "metadata": {
    "ExecuteTime": {
     "end_time": "2024-08-27T06:39:34.640175Z",
     "start_time": "2024-08-27T06:39:33.892008Z"
    }
   },
   "cell_type": "code",
   "source": [
    "import pandas as pd\n",
    "\n",
    "data = pd.read_csv('data/naver_shopping.txt', delimiter='\\t', header=None)"
   ],
   "id": "290d9ef827cdaae",
   "outputs": [],
   "execution_count": 4
  },
  {
   "metadata": {
    "ExecuteTime": {
     "end_time": "2024-08-27T06:39:50.901208Z",
     "start_time": "2024-08-27T06:39:50.890207Z"
    }
   },
   "cell_type": "code",
   "source": [
    "data.columns = ['평점','리뷰']\n",
    "data"
   ],
   "id": "3c64a97f4bc6926f",
   "outputs": [
    {
     "data": {
      "text/plain": [
       "        평점                                                 리뷰\n",
       "0        5                                            배공빠르고 굿\n",
       "1        2                      택배가 엉망이네용 저희집 밑에층에 말도없이 놔두고가고\n",
       "2        5  아주좋아요 바지 정말 좋아서2개 더 구매했어요 이가격에 대박입니다. 바느질이 조금 ...\n",
       "3        2  선물용으로 빨리 받아서 전달했어야 하는 상품이었는데 머그컵만 와서 당황했습니다. 전...\n",
       "4        5                  민트색상 예뻐요. 옆 손잡이는 거는 용도로도 사용되네요 ㅎㅎ\n",
       "...     ..                                                ...\n",
       "199995   2                                    장마라그런가!!! 달지않아요\n",
       "199996   5  다이슨 케이스 구매했어요 다이슨 슈퍼소닉 드라이기 케이스 구매했어요가격 괜찮고 배송...\n",
       "199997   5                    로드샾에서 사는것보다 세배 저렴하네요 ㅜㅜ 자주이용할께요\n",
       "199998   5                                      넘이쁘고 쎄련되보이네요~\n",
       "199999   5   아직 사용해보지도않았고 다른 제품을 써본적이없어서 잘 모르겠지만 ㅎㅎ 배송은 빨랐습니다\n",
       "\n",
       "[200000 rows x 2 columns]"
      ],
      "text/html": [
       "<div>\n",
       "<style scoped>\n",
       "    .dataframe tbody tr th:only-of-type {\n",
       "        vertical-align: middle;\n",
       "    }\n",
       "\n",
       "    .dataframe tbody tr th {\n",
       "        vertical-align: top;\n",
       "    }\n",
       "\n",
       "    .dataframe thead th {\n",
       "        text-align: right;\n",
       "    }\n",
       "</style>\n",
       "<table border=\"1\" class=\"dataframe\">\n",
       "  <thead>\n",
       "    <tr style=\"text-align: right;\">\n",
       "      <th></th>\n",
       "      <th>평점</th>\n",
       "      <th>리뷰</th>\n",
       "    </tr>\n",
       "  </thead>\n",
       "  <tbody>\n",
       "    <tr>\n",
       "      <th>0</th>\n",
       "      <td>5</td>\n",
       "      <td>배공빠르고 굿</td>\n",
       "    </tr>\n",
       "    <tr>\n",
       "      <th>1</th>\n",
       "      <td>2</td>\n",
       "      <td>택배가 엉망이네용 저희집 밑에층에 말도없이 놔두고가고</td>\n",
       "    </tr>\n",
       "    <tr>\n",
       "      <th>2</th>\n",
       "      <td>5</td>\n",
       "      <td>아주좋아요 바지 정말 좋아서2개 더 구매했어요 이가격에 대박입니다. 바느질이 조금 ...</td>\n",
       "    </tr>\n",
       "    <tr>\n",
       "      <th>3</th>\n",
       "      <td>2</td>\n",
       "      <td>선물용으로 빨리 받아서 전달했어야 하는 상품이었는데 머그컵만 와서 당황했습니다. 전...</td>\n",
       "    </tr>\n",
       "    <tr>\n",
       "      <th>4</th>\n",
       "      <td>5</td>\n",
       "      <td>민트색상 예뻐요. 옆 손잡이는 거는 용도로도 사용되네요 ㅎㅎ</td>\n",
       "    </tr>\n",
       "    <tr>\n",
       "      <th>...</th>\n",
       "      <td>...</td>\n",
       "      <td>...</td>\n",
       "    </tr>\n",
       "    <tr>\n",
       "      <th>199995</th>\n",
       "      <td>2</td>\n",
       "      <td>장마라그런가!!! 달지않아요</td>\n",
       "    </tr>\n",
       "    <tr>\n",
       "      <th>199996</th>\n",
       "      <td>5</td>\n",
       "      <td>다이슨 케이스 구매했어요 다이슨 슈퍼소닉 드라이기 케이스 구매했어요가격 괜찮고 배송...</td>\n",
       "    </tr>\n",
       "    <tr>\n",
       "      <th>199997</th>\n",
       "      <td>5</td>\n",
       "      <td>로드샾에서 사는것보다 세배 저렴하네요 ㅜㅜ 자주이용할께요</td>\n",
       "    </tr>\n",
       "    <tr>\n",
       "      <th>199998</th>\n",
       "      <td>5</td>\n",
       "      <td>넘이쁘고 쎄련되보이네요~</td>\n",
       "    </tr>\n",
       "    <tr>\n",
       "      <th>199999</th>\n",
       "      <td>5</td>\n",
       "      <td>아직 사용해보지도않았고 다른 제품을 써본적이없어서 잘 모르겠지만 ㅎㅎ 배송은 빨랐습니다</td>\n",
       "    </tr>\n",
       "  </tbody>\n",
       "</table>\n",
       "<p>200000 rows × 2 columns</p>\n",
       "</div>"
      ]
     },
     "execution_count": 6,
     "metadata": {},
     "output_type": "execute_result"
    }
   ],
   "execution_count": 6
  },
  {
   "metadata": {
    "ExecuteTime": {
     "end_time": "2024-08-27T07:03:43.850383Z",
     "start_time": "2024-08-27T07:03:43.203395Z"
    }
   },
   "cell_type": "code",
   "source": [
    "from eunjeon import Mecab\n",
    "mecab = Mecab()"
   ],
   "id": "e314c433a15d696a",
   "outputs": [],
   "execution_count": 8
  },
  {
   "metadata": {
    "ExecuteTime": {
     "end_time": "2024-08-27T07:03:58.586544Z",
     "start_time": "2024-08-27T07:03:58.568295Z"
    }
   },
   "cell_type": "code",
   "source": "mecab.pos(data['리뷰'].iloc[0])",
   "id": "940d6e3f774b977a",
   "outputs": [
    {
     "data": {
      "text/plain": [
       "[('배공', 'NNG'), ('빠르', 'VA'), ('고', 'EC'), ('굿', 'NNG')]"
      ]
     },
     "execution_count": 9,
     "metadata": {},
     "output_type": "execute_result"
    }
   ],
   "execution_count": 9
  },
  {
   "metadata": {
    "ExecuteTime": {
     "end_time": "2024-08-27T07:04:23.451219Z",
     "start_time": "2024-08-27T07:04:23.442674Z"
    }
   },
   "cell_type": "code",
   "source": "mecab.tagset",
   "id": "d213307d3c32b62b",
   "outputs": [
    {
     "data": {
      "text/plain": [
       "{'EC': '연결 어미',\n",
       " 'EF': '종결 어미',\n",
       " 'EP': '선어말어미',\n",
       " 'ETM': '관형형 전성 어미',\n",
       " 'ETN': '명사형 전성 어미',\n",
       " 'IC': '감탄사',\n",
       " 'JC': '접속 조사',\n",
       " 'JKB': '부사격 조사',\n",
       " 'JKC': '보격 조사',\n",
       " 'JKG': '관형격 조사',\n",
       " 'JKO': '목적격 조사',\n",
       " 'JKQ': '인용격 조사',\n",
       " 'JKS': '주격 조사',\n",
       " 'JKV': '호격 조사',\n",
       " 'JX': '보조사',\n",
       " 'MAG': '일반 부사',\n",
       " 'MAJ': '접속 부사',\n",
       " 'MM': '관형사',\n",
       " 'NNB': '의존 명사',\n",
       " 'NNBC': '단위를 나타내는 명사',\n",
       " 'NNG': '일반 명사',\n",
       " 'NNP': '고유 명사',\n",
       " 'NP': '대명사',\n",
       " 'NR': '수사',\n",
       " 'SC': '구분자 , · / :',\n",
       " 'SE': '줄임표 …',\n",
       " 'SF': '마침표, 물음표, 느낌표',\n",
       " 'SH': '한자',\n",
       " 'SL': '외국어',\n",
       " 'SN': '숫자',\n",
       " 'SSC': '닫는 괄호 ), ]',\n",
       " 'SSO': '여는 괄호 (, [',\n",
       " 'SY': '기타 기호',\n",
       " 'VA': '형용사',\n",
       " 'VCN': '부정 지정사',\n",
       " 'VCP': '긍정 지정사',\n",
       " 'VV': '동사',\n",
       " 'VX': '보조 용언',\n",
       " 'XPN': '체언 접두사',\n",
       " 'XR': '어근',\n",
       " 'XSA': '형용사 파생 접미사',\n",
       " 'XSN': '명사파생 접미사',\n",
       " 'XSV': '동사 파생 접미사'}"
      ]
     },
     "execution_count": 11,
     "metadata": {},
     "output_type": "execute_result"
    }
   ],
   "execution_count": 11
  },
  {
   "metadata": {
    "ExecuteTime": {
     "end_time": "2024-08-27T07:11:22.418493Z",
     "start_time": "2024-08-27T07:11:08.917430Z"
    }
   },
   "cell_type": "code",
   "source": [
    "# 명사와 형용사만 추출\n",
    "from tqdm import tqdm\n",
    "total = []\n",
    "for doc in tqdm(data['리뷰']):\n",
    "    rs = mecab.pos(doc)\n",
    "    temp = [t[0] for t in rs if t[1] in ['NNG', 'VA']]\n",
    "    total.append(' '.join(temp))"
   ],
   "id": "a9fad05183201fb5",
   "outputs": [
    {
     "name": "stderr",
     "output_type": "stream",
     "text": [
      "100%|██████████| 200000/200000 [00:13<00:00, 14846.53it/s]\n"
     ]
    }
   ],
   "execution_count": 13
  },
  {
   "metadata": {
    "ExecuteTime": {
     "end_time": "2024-08-27T07:16:51.859152Z",
     "start_time": "2024-08-27T07:16:46.265712Z"
    }
   },
   "cell_type": "code",
   "source": [
    "# Word2Vec\n",
    "from gensim.models import Word2Vec\n",
    "\n",
    "w2v = Word2Vec(window=3,\n",
    "         min_count=5,\n",
    "         sg=1,\n",
    "         vector_size=50,\n",
    "         sentences = [doc.split(\" \") for doc in total]\n",
    "         )\n"
   ],
   "id": "5631a53293192e3f",
   "outputs": [],
   "execution_count": 15
  },
  {
   "metadata": {
    "ExecuteTime": {
     "end_time": "2024-08-27T07:18:03.567269Z",
     "start_time": "2024-08-27T07:18:03.518627Z"
    }
   },
   "cell_type": "code",
   "source": "w2v.wv.most_similar(\"배송\", topn=20)",
   "id": "445cf9dad034891b",
   "outputs": [
    {
     "data": {
      "text/plain": [
       "[('배소', 0.8027704358100891),\n",
       " ('도착', 0.7831131219863892),\n",
       " ('배달', 0.7441121935844421),\n",
       " ('초특급', 0.7409233450889587),\n",
       " ('추후', 0.7335488796234131),\n",
       " ('대처', 0.7327854633331299),\n",
       " ('시국', 0.731043815612793),\n",
       " ('직구', 0.7290823459625244),\n",
       " ('일주일', 0.7260314226150513),\n",
       " ('통운', 0.723820686340332),\n",
       " ('양호', 0.7230178713798523),\n",
       " ('주심', 0.7227557301521301),\n",
       " ('당시', 0.7208669185638428),\n",
       " ('제때', 0.7198733687400818),\n",
       " ('어제', 0.7180609703063965),\n",
       " ('발송', 0.7151322364807129),\n",
       " ('연휴', 0.7137156128883362),\n",
       " ('휴일', 0.7105827331542969),\n",
       " ('양품', 0.7084255814552307),\n",
       " ('재품', 0.70804363489151)]"
      ]
     },
     "execution_count": 16,
     "metadata": {},
     "output_type": "execute_result"
    }
   ],
   "execution_count": 16
  },
  {
   "metadata": {},
   "cell_type": "markdown",
   "source": "### 긍정/부정 정답 데이터 생성",
   "id": "642b6f59e811e5c"
  },
  {
   "metadata": {
    "ExecuteTime": {
     "end_time": "2024-08-27T07:28:19.765696Z",
     "start_time": "2024-08-27T07:28:19.761069Z"
    }
   },
   "cell_type": "code",
   "source": [
    "def labeling(row):\n",
    "    if row['평점'] >= 4:\n",
    "        return 1\n",
    "    elif row['평점'] <= 2:\n",
    "        return 0\n",
    "        "
   ],
   "id": "42f4dae5bdf65c0d",
   "outputs": [],
   "execution_count": 20
  },
  {
   "metadata": {
    "ExecuteTime": {
     "end_time": "2024-08-27T07:28:21.573391Z",
     "start_time": "2024-08-27T07:28:20.026675Z"
    }
   },
   "cell_type": "code",
   "source": "data['label'] = data.apply(labeling, axis=1)",
   "id": "d8a459670b4c9ea0",
   "outputs": [],
   "execution_count": 21
  },
  {
   "metadata": {
    "ExecuteTime": {
     "end_time": "2024-08-27T07:28:21.589758Z",
     "start_time": "2024-08-27T07:28:21.575403Z"
    }
   },
   "cell_type": "code",
   "source": "data",
   "id": "d79730eeb1110bae",
   "outputs": [
    {
     "data": {
      "text/plain": [
       "        평점                                                 리뷰  label\n",
       "0        5                                            배공빠르고 굿      1\n",
       "1        2                      택배가 엉망이네용 저희집 밑에층에 말도없이 놔두고가고      0\n",
       "2        5  아주좋아요 바지 정말 좋아서2개 더 구매했어요 이가격에 대박입니다. 바느질이 조금 ...      1\n",
       "3        2  선물용으로 빨리 받아서 전달했어야 하는 상품이었는데 머그컵만 와서 당황했습니다. 전...      0\n",
       "4        5                  민트색상 예뻐요. 옆 손잡이는 거는 용도로도 사용되네요 ㅎㅎ      1\n",
       "...     ..                                                ...    ...\n",
       "199995   2                                    장마라그런가!!! 달지않아요      0\n",
       "199996   5  다이슨 케이스 구매했어요 다이슨 슈퍼소닉 드라이기 케이스 구매했어요가격 괜찮고 배송...      1\n",
       "199997   5                    로드샾에서 사는것보다 세배 저렴하네요 ㅜㅜ 자주이용할께요      1\n",
       "199998   5                                      넘이쁘고 쎄련되보이네요~      1\n",
       "199999   5   아직 사용해보지도않았고 다른 제품을 써본적이없어서 잘 모르겠지만 ㅎㅎ 배송은 빨랐습니다      1\n",
       "\n",
       "[200000 rows x 3 columns]"
      ],
      "text/html": [
       "<div>\n",
       "<style scoped>\n",
       "    .dataframe tbody tr th:only-of-type {\n",
       "        vertical-align: middle;\n",
       "    }\n",
       "\n",
       "    .dataframe tbody tr th {\n",
       "        vertical-align: top;\n",
       "    }\n",
       "\n",
       "    .dataframe thead th {\n",
       "        text-align: right;\n",
       "    }\n",
       "</style>\n",
       "<table border=\"1\" class=\"dataframe\">\n",
       "  <thead>\n",
       "    <tr style=\"text-align: right;\">\n",
       "      <th></th>\n",
       "      <th>평점</th>\n",
       "      <th>리뷰</th>\n",
       "      <th>label</th>\n",
       "    </tr>\n",
       "  </thead>\n",
       "  <tbody>\n",
       "    <tr>\n",
       "      <th>0</th>\n",
       "      <td>5</td>\n",
       "      <td>배공빠르고 굿</td>\n",
       "      <td>1</td>\n",
       "    </tr>\n",
       "    <tr>\n",
       "      <th>1</th>\n",
       "      <td>2</td>\n",
       "      <td>택배가 엉망이네용 저희집 밑에층에 말도없이 놔두고가고</td>\n",
       "      <td>0</td>\n",
       "    </tr>\n",
       "    <tr>\n",
       "      <th>2</th>\n",
       "      <td>5</td>\n",
       "      <td>아주좋아요 바지 정말 좋아서2개 더 구매했어요 이가격에 대박입니다. 바느질이 조금 ...</td>\n",
       "      <td>1</td>\n",
       "    </tr>\n",
       "    <tr>\n",
       "      <th>3</th>\n",
       "      <td>2</td>\n",
       "      <td>선물용으로 빨리 받아서 전달했어야 하는 상품이었는데 머그컵만 와서 당황했습니다. 전...</td>\n",
       "      <td>0</td>\n",
       "    </tr>\n",
       "    <tr>\n",
       "      <th>4</th>\n",
       "      <td>5</td>\n",
       "      <td>민트색상 예뻐요. 옆 손잡이는 거는 용도로도 사용되네요 ㅎㅎ</td>\n",
       "      <td>1</td>\n",
       "    </tr>\n",
       "    <tr>\n",
       "      <th>...</th>\n",
       "      <td>...</td>\n",
       "      <td>...</td>\n",
       "      <td>...</td>\n",
       "    </tr>\n",
       "    <tr>\n",
       "      <th>199995</th>\n",
       "      <td>2</td>\n",
       "      <td>장마라그런가!!! 달지않아요</td>\n",
       "      <td>0</td>\n",
       "    </tr>\n",
       "    <tr>\n",
       "      <th>199996</th>\n",
       "      <td>5</td>\n",
       "      <td>다이슨 케이스 구매했어요 다이슨 슈퍼소닉 드라이기 케이스 구매했어요가격 괜찮고 배송...</td>\n",
       "      <td>1</td>\n",
       "    </tr>\n",
       "    <tr>\n",
       "      <th>199997</th>\n",
       "      <td>5</td>\n",
       "      <td>로드샾에서 사는것보다 세배 저렴하네요 ㅜㅜ 자주이용할께요</td>\n",
       "      <td>1</td>\n",
       "    </tr>\n",
       "    <tr>\n",
       "      <th>199998</th>\n",
       "      <td>5</td>\n",
       "      <td>넘이쁘고 쎄련되보이네요~</td>\n",
       "      <td>1</td>\n",
       "    </tr>\n",
       "    <tr>\n",
       "      <th>199999</th>\n",
       "      <td>5</td>\n",
       "      <td>아직 사용해보지도않았고 다른 제품을 써본적이없어서 잘 모르겠지만 ㅎㅎ 배송은 빨랐습니다</td>\n",
       "      <td>1</td>\n",
       "    </tr>\n",
       "  </tbody>\n",
       "</table>\n",
       "<p>200000 rows × 3 columns</p>\n",
       "</div>"
      ]
     },
     "execution_count": 22,
     "metadata": {},
     "output_type": "execute_result"
    }
   ],
   "execution_count": 22
  },
  {
   "metadata": {
    "ExecuteTime": {
     "end_time": "2024-08-27T07:29:27.377352Z",
     "start_time": "2024-08-27T07:29:26.871900Z"
    }
   },
   "cell_type": "code",
   "source": [
    "from sklearn.feature_extraction.text import TfidfVectorizer\n",
    "from sklearn.linear_model import LogisticRegression\n",
    "from sklearn.model_selection import train_test_split\n",
    "from sklearn.pipeline import Pipeline\n"
   ],
   "id": "742845318d7cc206",
   "outputs": [],
   "execution_count": 23
  },
  {
   "metadata": {
    "ExecuteTime": {
     "end_time": "2024-08-27T07:32:36.831480Z",
     "start_time": "2024-08-27T07:32:36.764026Z"
    }
   },
   "cell_type": "code",
   "source": "X_train, X_test, y_train, y_test = train_test_split(total, data['label'])",
   "id": "d962ced85b5d154e",
   "outputs": [],
   "execution_count": 24
  },
  {
   "metadata": {
    "ExecuteTime": {
     "end_time": "2024-08-27T07:33:03.966966Z",
     "start_time": "2024-08-27T07:33:03.961792Z"
    }
   },
   "cell_type": "code",
   "source": [
    "naver_sentiment_model = Pipeline([\n",
    "    ('naver_tfidf', TfidfVectorizer()),\n",
    "    ('naver_lr', LogisticRegression())\n",
    "])\n"
   ],
   "id": "2908ccecd1277174",
   "outputs": [],
   "execution_count": 25
  },
  {
   "metadata": {
    "ExecuteTime": {
     "end_time": "2024-08-27T07:34:32.515045Z",
     "start_time": "2024-08-27T07:34:30.063554Z"
    }
   },
   "cell_type": "code",
   "source": "naver_sentiment_model.fit(X_train, y_train)",
   "id": "9fe468d046487309",
   "outputs": [
    {
     "name": "stderr",
     "output_type": "stream",
     "text": [
      "C:\\Users\\USER\\anaconda3\\Lib\\site-packages\\sklearn\\linear_model\\_logistic.py:458: ConvergenceWarning: lbfgs failed to converge (status=1):\n",
      "STOP: TOTAL NO. of ITERATIONS REACHED LIMIT.\n",
      "\n",
      "Increase the number of iterations (max_iter) or scale the data as shown in:\n",
      "    https://scikit-learn.org/stable/modules/preprocessing.html\n",
      "Please also refer to the documentation for alternative solver options:\n",
      "    https://scikit-learn.org/stable/modules/linear_model.html#logistic-regression\n",
      "  n_iter_i = _check_optimize_result(\n"
     ]
    },
    {
     "data": {
      "text/plain": [
       "Pipeline(steps=[('naver_tfidf', TfidfVectorizer()),\n",
       "                ('naver_lr', LogisticRegression())])"
      ],
      "text/html": [
       "<style>#sk-container-id-1 {color: black;background-color: white;}#sk-container-id-1 pre{padding: 0;}#sk-container-id-1 div.sk-toggleable {background-color: white;}#sk-container-id-1 label.sk-toggleable__label {cursor: pointer;display: block;width: 100%;margin-bottom: 0;padding: 0.3em;box-sizing: border-box;text-align: center;}#sk-container-id-1 label.sk-toggleable__label-arrow:before {content: \"▸\";float: left;margin-right: 0.25em;color: #696969;}#sk-container-id-1 label.sk-toggleable__label-arrow:hover:before {color: black;}#sk-container-id-1 div.sk-estimator:hover label.sk-toggleable__label-arrow:before {color: black;}#sk-container-id-1 div.sk-toggleable__content {max-height: 0;max-width: 0;overflow: hidden;text-align: left;background-color: #f0f8ff;}#sk-container-id-1 div.sk-toggleable__content pre {margin: 0.2em;color: black;border-radius: 0.25em;background-color: #f0f8ff;}#sk-container-id-1 input.sk-toggleable__control:checked~div.sk-toggleable__content {max-height: 200px;max-width: 100%;overflow: auto;}#sk-container-id-1 input.sk-toggleable__control:checked~label.sk-toggleable__label-arrow:before {content: \"▾\";}#sk-container-id-1 div.sk-estimator input.sk-toggleable__control:checked~label.sk-toggleable__label {background-color: #d4ebff;}#sk-container-id-1 div.sk-label input.sk-toggleable__control:checked~label.sk-toggleable__label {background-color: #d4ebff;}#sk-container-id-1 input.sk-hidden--visually {border: 0;clip: rect(1px 1px 1px 1px);clip: rect(1px, 1px, 1px, 1px);height: 1px;margin: -1px;overflow: hidden;padding: 0;position: absolute;width: 1px;}#sk-container-id-1 div.sk-estimator {font-family: monospace;background-color: #f0f8ff;border: 1px dotted black;border-radius: 0.25em;box-sizing: border-box;margin-bottom: 0.5em;}#sk-container-id-1 div.sk-estimator:hover {background-color: #d4ebff;}#sk-container-id-1 div.sk-parallel-item::after {content: \"\";width: 100%;border-bottom: 1px solid gray;flex-grow: 1;}#sk-container-id-1 div.sk-label:hover label.sk-toggleable__label {background-color: #d4ebff;}#sk-container-id-1 div.sk-serial::before {content: \"\";position: absolute;border-left: 1px solid gray;box-sizing: border-box;top: 0;bottom: 0;left: 50%;z-index: 0;}#sk-container-id-1 div.sk-serial {display: flex;flex-direction: column;align-items: center;background-color: white;padding-right: 0.2em;padding-left: 0.2em;position: relative;}#sk-container-id-1 div.sk-item {position: relative;z-index: 1;}#sk-container-id-1 div.sk-parallel {display: flex;align-items: stretch;justify-content: center;background-color: white;position: relative;}#sk-container-id-1 div.sk-item::before, #sk-container-id-1 div.sk-parallel-item::before {content: \"\";position: absolute;border-left: 1px solid gray;box-sizing: border-box;top: 0;bottom: 0;left: 50%;z-index: -1;}#sk-container-id-1 div.sk-parallel-item {display: flex;flex-direction: column;z-index: 1;position: relative;background-color: white;}#sk-container-id-1 div.sk-parallel-item:first-child::after {align-self: flex-end;width: 50%;}#sk-container-id-1 div.sk-parallel-item:last-child::after {align-self: flex-start;width: 50%;}#sk-container-id-1 div.sk-parallel-item:only-child::after {width: 0;}#sk-container-id-1 div.sk-dashed-wrapped {border: 1px dashed gray;margin: 0 0.4em 0.5em 0.4em;box-sizing: border-box;padding-bottom: 0.4em;background-color: white;}#sk-container-id-1 div.sk-label label {font-family: monospace;font-weight: bold;display: inline-block;line-height: 1.2em;}#sk-container-id-1 div.sk-label-container {text-align: center;}#sk-container-id-1 div.sk-container {/* jupyter's `normalize.less` sets `[hidden] { display: none; }` but bootstrap.min.css set `[hidden] { display: none !important; }` so we also need the `!important` here to be able to override the default hidden behavior on the sphinx rendered scikit-learn.org. See: https://github.com/scikit-learn/scikit-learn/issues/21755 */display: inline-block !important;position: relative;}#sk-container-id-1 div.sk-text-repr-fallback {display: none;}</style><div id=\"sk-container-id-1\" class=\"sk-top-container\"><div class=\"sk-text-repr-fallback\"><pre>Pipeline(steps=[(&#x27;naver_tfidf&#x27;, TfidfVectorizer()),\n",
       "                (&#x27;naver_lr&#x27;, LogisticRegression())])</pre><b>In a Jupyter environment, please rerun this cell to show the HTML representation or trust the notebook. <br />On GitHub, the HTML representation is unable to render, please try loading this page with nbviewer.org.</b></div><div class=\"sk-container\" hidden><div class=\"sk-item sk-dashed-wrapped\"><div class=\"sk-label-container\"><div class=\"sk-label sk-toggleable\"><input class=\"sk-toggleable__control sk-hidden--visually\" id=\"sk-estimator-id-1\" type=\"checkbox\" ><label for=\"sk-estimator-id-1\" class=\"sk-toggleable__label sk-toggleable__label-arrow\">Pipeline</label><div class=\"sk-toggleable__content\"><pre>Pipeline(steps=[(&#x27;naver_tfidf&#x27;, TfidfVectorizer()),\n",
       "                (&#x27;naver_lr&#x27;, LogisticRegression())])</pre></div></div></div><div class=\"sk-serial\"><div class=\"sk-item\"><div class=\"sk-estimator sk-toggleable\"><input class=\"sk-toggleable__control sk-hidden--visually\" id=\"sk-estimator-id-2\" type=\"checkbox\" ><label for=\"sk-estimator-id-2\" class=\"sk-toggleable__label sk-toggleable__label-arrow\">TfidfVectorizer</label><div class=\"sk-toggleable__content\"><pre>TfidfVectorizer()</pre></div></div></div><div class=\"sk-item\"><div class=\"sk-estimator sk-toggleable\"><input class=\"sk-toggleable__control sk-hidden--visually\" id=\"sk-estimator-id-3\" type=\"checkbox\" ><label for=\"sk-estimator-id-3\" class=\"sk-toggleable__label sk-toggleable__label-arrow\">LogisticRegression</label><div class=\"sk-toggleable__content\"><pre>LogisticRegression()</pre></div></div></div></div></div></div></div>"
      ]
     },
     "execution_count": 26,
     "metadata": {},
     "output_type": "execute_result"
    }
   ],
   "execution_count": 26
  },
  {
   "metadata": {
    "ExecuteTime": {
     "end_time": "2024-08-27T07:34:38.063837Z",
     "start_time": "2024-08-27T07:34:37.797553Z"
    }
   },
   "cell_type": "code",
   "source": "naver_sentiment_model.score(X_test, y_test)",
   "id": "6daf4ccf08800e4d",
   "outputs": [
    {
     "data": {
      "text/plain": [
       "0.7707"
      ]
     },
     "execution_count": 27,
     "metadata": {},
     "output_type": "execute_result"
    }
   ],
   "execution_count": 27
  },
  {
   "metadata": {
    "ExecuteTime": {
     "end_time": "2024-08-27T07:37:37.305218Z",
     "start_time": "2024-08-27T07:37:37.298099Z"
    }
   },
   "cell_type": "code",
   "source": "naver_sentiment_model.steps",
   "id": "940acaa1d53a11f5",
   "outputs": [
    {
     "data": {
      "text/plain": [
       "[('naver_tfidf', TfidfVectorizer()), ('naver_lr', LogisticRegression())]"
      ]
     },
     "execution_count": 28,
     "metadata": {},
     "output_type": "execute_result"
    }
   ],
   "execution_count": 28
  },
  {
   "metadata": {
    "ExecuteTime": {
     "end_time": "2024-08-27T07:39:49.575659Z",
     "start_time": "2024-08-27T07:39:49.570610Z"
    }
   },
   "cell_type": "code",
   "source": [
    "# 단어사전 추출\n",
    "naver_vocab = naver_sentiment_model.steps[0][1].vocabulary_\n",
    "# 단어 가중치 추출\n",
    "naver_weight = naver_sentiment_model.steps[1][1].coef_"
   ],
   "id": "a8e2c81ef65a6c51",
   "outputs": [],
   "execution_count": 29
  },
  {
   "metadata": {
    "ExecuteTime": {
     "end_time": "2024-08-27T07:43:46.714280Z",
     "start_time": "2024-08-27T07:43:46.196662Z"
    }
   },
   "cell_type": "code",
   "source": [
    "naver_df = pd.DataFrame([naver_vocab.keys(), naver_vocab.values()]).T\n",
    "naver_df.sort_values(by=1, ascending=False, inplace=True)\n",
    "naver_df[2] = naver_weight[0]\n",
    "naver_df.columns = ['단어', '인덱스', '가중치']\n",
    "naver_df"
   ],
   "id": "c2b5245e09d6a87f",
   "outputs": [
    {
     "data": {
      "text/plain": [
       "       단어    인덱스       가중치\n",
       "12616  힙합  16451  0.536783\n",
       "8241   힘줄  16450 -0.052675\n",
       "6944   힘있  16449  0.565619\n",
       "3437   힘없  16448  0.153773\n",
       "10288  힘세  16447  0.486352\n",
       "...    ..    ...       ...\n",
       "13651  가감      4 -0.350780\n",
       "15285  가간      3 -0.594371\n",
       "4307   가가      2  0.423156\n",
       "15831  大王      1 -1.663468\n",
       "5566   ㅣㅆ      0 -0.590303\n",
       "\n",
       "[16452 rows x 3 columns]"
      ],
      "text/html": [
       "<div>\n",
       "<style scoped>\n",
       "    .dataframe tbody tr th:only-of-type {\n",
       "        vertical-align: middle;\n",
       "    }\n",
       "\n",
       "    .dataframe tbody tr th {\n",
       "        vertical-align: top;\n",
       "    }\n",
       "\n",
       "    .dataframe thead th {\n",
       "        text-align: right;\n",
       "    }\n",
       "</style>\n",
       "<table border=\"1\" class=\"dataframe\">\n",
       "  <thead>\n",
       "    <tr style=\"text-align: right;\">\n",
       "      <th></th>\n",
       "      <th>단어</th>\n",
       "      <th>인덱스</th>\n",
       "      <th>가중치</th>\n",
       "    </tr>\n",
       "  </thead>\n",
       "  <tbody>\n",
       "    <tr>\n",
       "      <th>12616</th>\n",
       "      <td>힙합</td>\n",
       "      <td>16451</td>\n",
       "      <td>0.536783</td>\n",
       "    </tr>\n",
       "    <tr>\n",
       "      <th>8241</th>\n",
       "      <td>힘줄</td>\n",
       "      <td>16450</td>\n",
       "      <td>-0.052675</td>\n",
       "    </tr>\n",
       "    <tr>\n",
       "      <th>6944</th>\n",
       "      <td>힘있</td>\n",
       "      <td>16449</td>\n",
       "      <td>0.565619</td>\n",
       "    </tr>\n",
       "    <tr>\n",
       "      <th>3437</th>\n",
       "      <td>힘없</td>\n",
       "      <td>16448</td>\n",
       "      <td>0.153773</td>\n",
       "    </tr>\n",
       "    <tr>\n",
       "      <th>10288</th>\n",
       "      <td>힘세</td>\n",
       "      <td>16447</td>\n",
       "      <td>0.486352</td>\n",
       "    </tr>\n",
       "    <tr>\n",
       "      <th>...</th>\n",
       "      <td>...</td>\n",
       "      <td>...</td>\n",
       "      <td>...</td>\n",
       "    </tr>\n",
       "    <tr>\n",
       "      <th>13651</th>\n",
       "      <td>가감</td>\n",
       "      <td>4</td>\n",
       "      <td>-0.350780</td>\n",
       "    </tr>\n",
       "    <tr>\n",
       "      <th>15285</th>\n",
       "      <td>가간</td>\n",
       "      <td>3</td>\n",
       "      <td>-0.594371</td>\n",
       "    </tr>\n",
       "    <tr>\n",
       "      <th>4307</th>\n",
       "      <td>가가</td>\n",
       "      <td>2</td>\n",
       "      <td>0.423156</td>\n",
       "    </tr>\n",
       "    <tr>\n",
       "      <th>15831</th>\n",
       "      <td>大王</td>\n",
       "      <td>1</td>\n",
       "      <td>-1.663468</td>\n",
       "    </tr>\n",
       "    <tr>\n",
       "      <th>5566</th>\n",
       "      <td>ㅣㅆ</td>\n",
       "      <td>0</td>\n",
       "      <td>-0.590303</td>\n",
       "    </tr>\n",
       "  </tbody>\n",
       "</table>\n",
       "<p>16452 rows × 3 columns</p>\n",
       "</div>"
      ]
     },
     "execution_count": 34,
     "metadata": {},
     "output_type": "execute_result"
    }
   ],
   "execution_count": 34
  },
  {
   "metadata": {
    "ExecuteTime": {
     "end_time": "2024-08-27T07:46:20.571932Z",
     "start_time": "2024-08-27T07:46:20.562018Z"
    }
   },
   "cell_type": "code",
   "source": "naver_pos = naver_df.sort_values(by='가중치', ascending=False).head(30)",
   "id": "cf6cc1cf10f92f8b",
   "outputs": [],
   "execution_count": 35
  },
  {
   "metadata": {
    "ExecuteTime": {
     "end_time": "2024-08-27T07:46:34.644509Z",
     "start_time": "2024-08-27T07:46:34.635770Z"
    }
   },
   "cell_type": "code",
   "source": "naver_neg = naver_df.sort_values(by='가중치', ascending=True).tail(30)",
   "id": "6e9349252af12776",
   "outputs": [],
   "execution_count": 36
  },
  {
   "metadata": {
    "ExecuteTime": {
     "end_time": "2024-08-27T07:46:38.330579Z",
     "start_time": "2024-08-27T07:46:38.321552Z"
    }
   },
   "cell_type": "code",
   "source": "naver_pos",
   "id": "df013431dd9c4f83",
   "outputs": [
    {
     "data": {
      "text/plain": [
       "         단어    인덱스       가중치\n",
       "5888     놀람   2596  5.099257\n",
       "9346     내비   2383  4.962470\n",
       "14406   전전날  12186  4.528673\n",
       "13333    혼방  16057  4.354743\n",
       "7271     연말   9809  4.198462\n",
       "2615     절반  12239  3.854694\n",
       "15303    생동   7208  3.829249\n",
       "6258     구구   1378  3.805241\n",
       "11706    화차  16145  3.695514\n",
       "12782   선입견   7391  3.674003\n",
       "2052    방수포   5552  3.423402\n",
       "164      머리   4393  3.308579\n",
       "14347    병기   5902  3.217250\n",
       "10592    구녕   1387  3.170293\n",
       "14699    향조  15854  3.129875\n",
       "6688     파기  14848  3.064033\n",
       "7869    확대경  16154  3.029491\n",
       "7344    브랜디   6445  2.996778\n",
       "1797    마이크   4117  2.980321\n",
       "11255  도리도리   3247  2.952512\n",
       "10424   바자회   5270  2.936377\n",
       "9929   전지분유  12194  2.912320\n",
       "9496     집시  13275  2.870828\n",
       "3298     구가   1369  2.865561\n",
       "5795     정말  12339  2.862476\n",
       "8191     원격  10669  2.809173\n",
       "9795     서하   7333  2.760710\n",
       "10593    고아    988  2.685169\n",
       "6672     미소   5085  2.650864\n",
       "5619     중계  12850  2.631896"
      ],
      "text/html": [
       "<div>\n",
       "<style scoped>\n",
       "    .dataframe tbody tr th:only-of-type {\n",
       "        vertical-align: middle;\n",
       "    }\n",
       "\n",
       "    .dataframe tbody tr th {\n",
       "        vertical-align: top;\n",
       "    }\n",
       "\n",
       "    .dataframe thead th {\n",
       "        text-align: right;\n",
       "    }\n",
       "</style>\n",
       "<table border=\"1\" class=\"dataframe\">\n",
       "  <thead>\n",
       "    <tr style=\"text-align: right;\">\n",
       "      <th></th>\n",
       "      <th>단어</th>\n",
       "      <th>인덱스</th>\n",
       "      <th>가중치</th>\n",
       "    </tr>\n",
       "  </thead>\n",
       "  <tbody>\n",
       "    <tr>\n",
       "      <th>5888</th>\n",
       "      <td>놀람</td>\n",
       "      <td>2596</td>\n",
       "      <td>5.099257</td>\n",
       "    </tr>\n",
       "    <tr>\n",
       "      <th>9346</th>\n",
       "      <td>내비</td>\n",
       "      <td>2383</td>\n",
       "      <td>4.962470</td>\n",
       "    </tr>\n",
       "    <tr>\n",
       "      <th>14406</th>\n",
       "      <td>전전날</td>\n",
       "      <td>12186</td>\n",
       "      <td>4.528673</td>\n",
       "    </tr>\n",
       "    <tr>\n",
       "      <th>13333</th>\n",
       "      <td>혼방</td>\n",
       "      <td>16057</td>\n",
       "      <td>4.354743</td>\n",
       "    </tr>\n",
       "    <tr>\n",
       "      <th>7271</th>\n",
       "      <td>연말</td>\n",
       "      <td>9809</td>\n",
       "      <td>4.198462</td>\n",
       "    </tr>\n",
       "    <tr>\n",
       "      <th>2615</th>\n",
       "      <td>절반</td>\n",
       "      <td>12239</td>\n",
       "      <td>3.854694</td>\n",
       "    </tr>\n",
       "    <tr>\n",
       "      <th>15303</th>\n",
       "      <td>생동</td>\n",
       "      <td>7208</td>\n",
       "      <td>3.829249</td>\n",
       "    </tr>\n",
       "    <tr>\n",
       "      <th>6258</th>\n",
       "      <td>구구</td>\n",
       "      <td>1378</td>\n",
       "      <td>3.805241</td>\n",
       "    </tr>\n",
       "    <tr>\n",
       "      <th>11706</th>\n",
       "      <td>화차</td>\n",
       "      <td>16145</td>\n",
       "      <td>3.695514</td>\n",
       "    </tr>\n",
       "    <tr>\n",
       "      <th>12782</th>\n",
       "      <td>선입견</td>\n",
       "      <td>7391</td>\n",
       "      <td>3.674003</td>\n",
       "    </tr>\n",
       "    <tr>\n",
       "      <th>2052</th>\n",
       "      <td>방수포</td>\n",
       "      <td>5552</td>\n",
       "      <td>3.423402</td>\n",
       "    </tr>\n",
       "    <tr>\n",
       "      <th>164</th>\n",
       "      <td>머리</td>\n",
       "      <td>4393</td>\n",
       "      <td>3.308579</td>\n",
       "    </tr>\n",
       "    <tr>\n",
       "      <th>14347</th>\n",
       "      <td>병기</td>\n",
       "      <td>5902</td>\n",
       "      <td>3.217250</td>\n",
       "    </tr>\n",
       "    <tr>\n",
       "      <th>10592</th>\n",
       "      <td>구녕</td>\n",
       "      <td>1387</td>\n",
       "      <td>3.170293</td>\n",
       "    </tr>\n",
       "    <tr>\n",
       "      <th>14699</th>\n",
       "      <td>향조</td>\n",
       "      <td>15854</td>\n",
       "      <td>3.129875</td>\n",
       "    </tr>\n",
       "    <tr>\n",
       "      <th>6688</th>\n",
       "      <td>파기</td>\n",
       "      <td>14848</td>\n",
       "      <td>3.064033</td>\n",
       "    </tr>\n",
       "    <tr>\n",
       "      <th>7869</th>\n",
       "      <td>확대경</td>\n",
       "      <td>16154</td>\n",
       "      <td>3.029491</td>\n",
       "    </tr>\n",
       "    <tr>\n",
       "      <th>7344</th>\n",
       "      <td>브랜디</td>\n",
       "      <td>6445</td>\n",
       "      <td>2.996778</td>\n",
       "    </tr>\n",
       "    <tr>\n",
       "      <th>1797</th>\n",
       "      <td>마이크</td>\n",
       "      <td>4117</td>\n",
       "      <td>2.980321</td>\n",
       "    </tr>\n",
       "    <tr>\n",
       "      <th>11255</th>\n",
       "      <td>도리도리</td>\n",
       "      <td>3247</td>\n",
       "      <td>2.952512</td>\n",
       "    </tr>\n",
       "    <tr>\n",
       "      <th>10424</th>\n",
       "      <td>바자회</td>\n",
       "      <td>5270</td>\n",
       "      <td>2.936377</td>\n",
       "    </tr>\n",
       "    <tr>\n",
       "      <th>9929</th>\n",
       "      <td>전지분유</td>\n",
       "      <td>12194</td>\n",
       "      <td>2.912320</td>\n",
       "    </tr>\n",
       "    <tr>\n",
       "      <th>9496</th>\n",
       "      <td>집시</td>\n",
       "      <td>13275</td>\n",
       "      <td>2.870828</td>\n",
       "    </tr>\n",
       "    <tr>\n",
       "      <th>3298</th>\n",
       "      <td>구가</td>\n",
       "      <td>1369</td>\n",
       "      <td>2.865561</td>\n",
       "    </tr>\n",
       "    <tr>\n",
       "      <th>5795</th>\n",
       "      <td>정말</td>\n",
       "      <td>12339</td>\n",
       "      <td>2.862476</td>\n",
       "    </tr>\n",
       "    <tr>\n",
       "      <th>8191</th>\n",
       "      <td>원격</td>\n",
       "      <td>10669</td>\n",
       "      <td>2.809173</td>\n",
       "    </tr>\n",
       "    <tr>\n",
       "      <th>9795</th>\n",
       "      <td>서하</td>\n",
       "      <td>7333</td>\n",
       "      <td>2.760710</td>\n",
       "    </tr>\n",
       "    <tr>\n",
       "      <th>10593</th>\n",
       "      <td>고아</td>\n",
       "      <td>988</td>\n",
       "      <td>2.685169</td>\n",
       "    </tr>\n",
       "    <tr>\n",
       "      <th>6672</th>\n",
       "      <td>미소</td>\n",
       "      <td>5085</td>\n",
       "      <td>2.650864</td>\n",
       "    </tr>\n",
       "    <tr>\n",
       "      <th>5619</th>\n",
       "      <td>중계</td>\n",
       "      <td>12850</td>\n",
       "      <td>2.631896</td>\n",
       "    </tr>\n",
       "  </tbody>\n",
       "</table>\n",
       "</div>"
      ]
     },
     "execution_count": 37,
     "metadata": {},
     "output_type": "execute_result"
    }
   ],
   "execution_count": 37
  },
  {
   "metadata": {
    "ExecuteTime": {
     "end_time": "2024-08-27T07:46:40.705107Z",
     "start_time": "2024-08-27T07:46:40.694301Z"
    }
   },
   "cell_type": "code",
   "source": "naver_neg",
   "id": "15c11b1500b9290e",
   "outputs": [
    {
     "data": {
      "text/plain": [
       "         단어    인덱스       가중치\n",
       "5619     중계  12850  2.631896\n",
       "6672     미소   5085  2.650864\n",
       "10593    고아    988  2.685169\n",
       "9795     서하   7333  2.760710\n",
       "8191     원격  10669  2.809173\n",
       "5795     정말  12339  2.862476\n",
       "3298     구가   1369  2.865561\n",
       "9496     집시  13275  2.870828\n",
       "9929   전지분유  12194  2.912320\n",
       "10424   바자회   5270  2.936377\n",
       "11255  도리도리   3247  2.952512\n",
       "1797    마이크   4117  2.980321\n",
       "7344    브랜디   6445  2.996778\n",
       "7869    확대경  16154  3.029491\n",
       "6688     파기  14848  3.064033\n",
       "14699    향조  15854  3.129875\n",
       "10592    구녕   1387  3.170293\n",
       "14347    병기   5902  3.217250\n",
       "164      머리   4393  3.308579\n",
       "2052    방수포   5552  3.423402\n",
       "12782   선입견   7391  3.674003\n",
       "11706    화차  16145  3.695514\n",
       "6258     구구   1378  3.805241\n",
       "15303    생동   7208  3.829249\n",
       "2615     절반  12239  3.854694\n",
       "7271     연말   9809  4.198462\n",
       "13333    혼방  16057  4.354743\n",
       "14406   전전날  12186  4.528673\n",
       "9346     내비   2383  4.962470\n",
       "5888     놀람   2596  5.099257"
      ],
      "text/html": [
       "<div>\n",
       "<style scoped>\n",
       "    .dataframe tbody tr th:only-of-type {\n",
       "        vertical-align: middle;\n",
       "    }\n",
       "\n",
       "    .dataframe tbody tr th {\n",
       "        vertical-align: top;\n",
       "    }\n",
       "\n",
       "    .dataframe thead th {\n",
       "        text-align: right;\n",
       "    }\n",
       "</style>\n",
       "<table border=\"1\" class=\"dataframe\">\n",
       "  <thead>\n",
       "    <tr style=\"text-align: right;\">\n",
       "      <th></th>\n",
       "      <th>단어</th>\n",
       "      <th>인덱스</th>\n",
       "      <th>가중치</th>\n",
       "    </tr>\n",
       "  </thead>\n",
       "  <tbody>\n",
       "    <tr>\n",
       "      <th>5619</th>\n",
       "      <td>중계</td>\n",
       "      <td>12850</td>\n",
       "      <td>2.631896</td>\n",
       "    </tr>\n",
       "    <tr>\n",
       "      <th>6672</th>\n",
       "      <td>미소</td>\n",
       "      <td>5085</td>\n",
       "      <td>2.650864</td>\n",
       "    </tr>\n",
       "    <tr>\n",
       "      <th>10593</th>\n",
       "      <td>고아</td>\n",
       "      <td>988</td>\n",
       "      <td>2.685169</td>\n",
       "    </tr>\n",
       "    <tr>\n",
       "      <th>9795</th>\n",
       "      <td>서하</td>\n",
       "      <td>7333</td>\n",
       "      <td>2.760710</td>\n",
       "    </tr>\n",
       "    <tr>\n",
       "      <th>8191</th>\n",
       "      <td>원격</td>\n",
       "      <td>10669</td>\n",
       "      <td>2.809173</td>\n",
       "    </tr>\n",
       "    <tr>\n",
       "      <th>5795</th>\n",
       "      <td>정말</td>\n",
       "      <td>12339</td>\n",
       "      <td>2.862476</td>\n",
       "    </tr>\n",
       "    <tr>\n",
       "      <th>3298</th>\n",
       "      <td>구가</td>\n",
       "      <td>1369</td>\n",
       "      <td>2.865561</td>\n",
       "    </tr>\n",
       "    <tr>\n",
       "      <th>9496</th>\n",
       "      <td>집시</td>\n",
       "      <td>13275</td>\n",
       "      <td>2.870828</td>\n",
       "    </tr>\n",
       "    <tr>\n",
       "      <th>9929</th>\n",
       "      <td>전지분유</td>\n",
       "      <td>12194</td>\n",
       "      <td>2.912320</td>\n",
       "    </tr>\n",
       "    <tr>\n",
       "      <th>10424</th>\n",
       "      <td>바자회</td>\n",
       "      <td>5270</td>\n",
       "      <td>2.936377</td>\n",
       "    </tr>\n",
       "    <tr>\n",
       "      <th>11255</th>\n",
       "      <td>도리도리</td>\n",
       "      <td>3247</td>\n",
       "      <td>2.952512</td>\n",
       "    </tr>\n",
       "    <tr>\n",
       "      <th>1797</th>\n",
       "      <td>마이크</td>\n",
       "      <td>4117</td>\n",
       "      <td>2.980321</td>\n",
       "    </tr>\n",
       "    <tr>\n",
       "      <th>7344</th>\n",
       "      <td>브랜디</td>\n",
       "      <td>6445</td>\n",
       "      <td>2.996778</td>\n",
       "    </tr>\n",
       "    <tr>\n",
       "      <th>7869</th>\n",
       "      <td>확대경</td>\n",
       "      <td>16154</td>\n",
       "      <td>3.029491</td>\n",
       "    </tr>\n",
       "    <tr>\n",
       "      <th>6688</th>\n",
       "      <td>파기</td>\n",
       "      <td>14848</td>\n",
       "      <td>3.064033</td>\n",
       "    </tr>\n",
       "    <tr>\n",
       "      <th>14699</th>\n",
       "      <td>향조</td>\n",
       "      <td>15854</td>\n",
       "      <td>3.129875</td>\n",
       "    </tr>\n",
       "    <tr>\n",
       "      <th>10592</th>\n",
       "      <td>구녕</td>\n",
       "      <td>1387</td>\n",
       "      <td>3.170293</td>\n",
       "    </tr>\n",
       "    <tr>\n",
       "      <th>14347</th>\n",
       "      <td>병기</td>\n",
       "      <td>5902</td>\n",
       "      <td>3.217250</td>\n",
       "    </tr>\n",
       "    <tr>\n",
       "      <th>164</th>\n",
       "      <td>머리</td>\n",
       "      <td>4393</td>\n",
       "      <td>3.308579</td>\n",
       "    </tr>\n",
       "    <tr>\n",
       "      <th>2052</th>\n",
       "      <td>방수포</td>\n",
       "      <td>5552</td>\n",
       "      <td>3.423402</td>\n",
       "    </tr>\n",
       "    <tr>\n",
       "      <th>12782</th>\n",
       "      <td>선입견</td>\n",
       "      <td>7391</td>\n",
       "      <td>3.674003</td>\n",
       "    </tr>\n",
       "    <tr>\n",
       "      <th>11706</th>\n",
       "      <td>화차</td>\n",
       "      <td>16145</td>\n",
       "      <td>3.695514</td>\n",
       "    </tr>\n",
       "    <tr>\n",
       "      <th>6258</th>\n",
       "      <td>구구</td>\n",
       "      <td>1378</td>\n",
       "      <td>3.805241</td>\n",
       "    </tr>\n",
       "    <tr>\n",
       "      <th>15303</th>\n",
       "      <td>생동</td>\n",
       "      <td>7208</td>\n",
       "      <td>3.829249</td>\n",
       "    </tr>\n",
       "    <tr>\n",
       "      <th>2615</th>\n",
       "      <td>절반</td>\n",
       "      <td>12239</td>\n",
       "      <td>3.854694</td>\n",
       "    </tr>\n",
       "    <tr>\n",
       "      <th>7271</th>\n",
       "      <td>연말</td>\n",
       "      <td>9809</td>\n",
       "      <td>4.198462</td>\n",
       "    </tr>\n",
       "    <tr>\n",
       "      <th>13333</th>\n",
       "      <td>혼방</td>\n",
       "      <td>16057</td>\n",
       "      <td>4.354743</td>\n",
       "    </tr>\n",
       "    <tr>\n",
       "      <th>14406</th>\n",
       "      <td>전전날</td>\n",
       "      <td>12186</td>\n",
       "      <td>4.528673</td>\n",
       "    </tr>\n",
       "    <tr>\n",
       "      <th>9346</th>\n",
       "      <td>내비</td>\n",
       "      <td>2383</td>\n",
       "      <td>4.962470</td>\n",
       "    </tr>\n",
       "    <tr>\n",
       "      <th>5888</th>\n",
       "      <td>놀람</td>\n",
       "      <td>2596</td>\n",
       "      <td>5.099257</td>\n",
       "    </tr>\n",
       "  </tbody>\n",
       "</table>\n",
       "</div>"
      ]
     },
     "execution_count": 38,
     "metadata": {},
     "output_type": "execute_result"
    }
   ],
   "execution_count": 38
  },
  {
   "metadata": {
    "ExecuteTime": {
     "end_time": "2024-08-27T07:49:26.378684Z",
     "start_time": "2024-08-27T07:49:26.374211Z"
    }
   },
   "cell_type": "code",
   "source": [
    "import matplotlib.pyplot as plt\n",
    "import matplotlib.font_manager as fm\n",
    "\n",
    "font_path = 'C:/Windows/Fonts/malgun.ttf'\n",
    "fontprop = fm.FontProperties(fname=font_path, size=18)"
   ],
   "id": "af700197cb8ba740",
   "outputs": [],
   "execution_count": 40
  },
  {
   "metadata": {
    "ExecuteTime": {
     "end_time": "2024-08-27T07:51:47.500626Z",
     "start_time": "2024-08-27T07:51:47.447969Z"
    }
   },
   "cell_type": "code",
   "source": [
    "# 필요한 라이브러리 임포트\n",
    "import pandas as pd\n",
    "import matplotlib.pyplot as plt\n",
    "import matplotlib.font_manager as fm\n",
    "\n",
    "# 폰트 설정\n",
    "font_path = 'C:/Windows/Fonts/malgun.ttf'\n",
    "fontprop = fm.FontProperties(fname=font_path, size=18)\n",
    "\n",
    "# 데이터프레임 결합 및 그래프 그리기\n",
    "pd.concat([naver_pos, naver_neg]).set_index('단어')['가중치'].plot(kind='bar', figsize=(20, 10))\n",
    "plt.show()"
   ],
   "id": "f2dce462d72ce67",
   "outputs": [
    {
     "name": "stdout",
     "output_type": "stream",
     "text": [
      "Unexpected exception formatting exception. Falling back to standard exception\n"
     ]
    },
    {
     "name": "stderr",
     "output_type": "stream",
     "text": [
      "Traceback (most recent call last):\n",
      "  File \"C:\\Users\\USER\\anaconda3\\Lib\\site-packages\\IPython\\core\\interactiveshell.py\", line 3553, in run_code\n",
      "    exec(code_obj, self.user_global_ns, self.user_ns)\n",
      "  File \"C:\\Users\\USER\\AppData\\Local\\Temp\\ipykernel_13912\\454252428.py\", line 11, in <module>\n",
      "    pd.concat([naver_pos, naver_neg]).set_index('단어')['가중치'].plot(kind='bar', figsize=(20, 10))\n",
      "  File \"C:\\Users\\USER\\anaconda3\\Lib\\site-packages\\pandas\\plotting\\_core.py\", line 951, in __call__\n",
      "    raise ValueError(\n",
      "       ^^^^^^^^^^^^^^^\n",
      "  File \"C:\\Users\\USER\\anaconda3\\Lib\\site-packages\\pandas\\plotting\\_core.py\", line 1947, in _get_plot_backend\n",
      "  File \"C:\\Users\\USER\\anaconda3\\Lib\\site-packages\\pandas\\plotting\\_core.py\", line 1877, in _load_backend\n",
      "    Notes\n",
      "          \n",
      "ImportError: matplotlib is required for plotting when the default backend \"matplotlib\" is selected.\n",
      "\n",
      "During handling of the above exception, another exception occurred:\n",
      "\n",
      "Traceback (most recent call last):\n",
      "  File \"C:\\Users\\USER\\anaconda3\\Lib\\site-packages\\IPython\\core\\interactiveshell.py\", line 2144, in showtraceback\n",
      "    stb = self.InteractiveTB.structured_traceback(\n",
      "          ^^^^^^^^^^^^^^^^^^^^^^^^^^^^^^^^^^^^^^^^\n",
      "  File \"C:\\Users\\USER\\anaconda3\\Lib\\site-packages\\IPython\\core\\ultratb.py\", line 1435, in structured_traceback\n",
      "    return FormattedTB.structured_traceback(\n",
      "           ^^^^^^^^^^^^^^^^^^^^^^^^^^^^^^^^^\n",
      "  File \"C:\\Users\\USER\\anaconda3\\Lib\\site-packages\\IPython\\core\\ultratb.py\", line 1326, in structured_traceback\n",
      "    return VerboseTB.structured_traceback(\n",
      "           ^^^^^^^^^^^^^^^^^^^^^^^^^^^^^^^\n",
      "  File \"C:\\Users\\USER\\anaconda3\\Lib\\site-packages\\IPython\\core\\ultratb.py\", line 1173, in structured_traceback\n",
      "    formatted_exception = self.format_exception_as_a_whole(etype, evalue, etb, number_of_lines_of_context,\n",
      "                          ^^^^^^^^^^^^^^^^^^^^^^^^^^^^^^^^^^^^^^^^^^^^^^^^^^^^^^^^^^^^^^^^^^^^^^^^^^^^^^^^\n",
      "  File \"C:\\Users\\USER\\anaconda3\\Lib\\site-packages\\IPython\\core\\ultratb.py\", line 1088, in format_exception_as_a_whole\n",
      "    frames.append(self.format_record(record))\n",
      "                  ^^^^^^^^^^^^^^^^^^^^^^^^^^\n",
      "  File \"C:\\Users\\USER\\anaconda3\\Lib\\site-packages\\IPython\\core\\ultratb.py\", line 970, in format_record\n",
      "    frame_info.lines, Colors, self.has_colors, lvals\n",
      "    ^^^^^^^^^^^^^^^^\n",
      "  File \"C:\\Users\\USER\\anaconda3\\Lib\\site-packages\\IPython\\core\\ultratb.py\", line 792, in lines\n",
      "    return self._sd.lines\n",
      "           ^^^^^^^^^^^^^^\n",
      "  File \"C:\\Users\\USER\\anaconda3\\Lib\\site-packages\\stack_data\\utils.py\", line 145, in cached_property_wrapper\n",
      "    value = obj.__dict__[self.func.__name__] = self.func(obj)\n",
      "                                               ^^^^^^^^^^^^^^\n",
      "  File \"C:\\Users\\USER\\anaconda3\\Lib\\site-packages\\stack_data\\core.py\", line 698, in lines\n",
      "    pieces = self.included_pieces\n",
      "             ^^^^^^^^^^^^^^^^^^^^\n",
      "  File \"C:\\Users\\USER\\anaconda3\\Lib\\site-packages\\stack_data\\utils.py\", line 145, in cached_property_wrapper\n",
      "    value = obj.__dict__[self.func.__name__] = self.func(obj)\n",
      "                                               ^^^^^^^^^^^^^^\n",
      "  File \"C:\\Users\\USER\\anaconda3\\Lib\\site-packages\\stack_data\\core.py\", line 649, in included_pieces\n",
      "    pos = scope_pieces.index(self.executing_piece)\n",
      "                             ^^^^^^^^^^^^^^^^^^^^\n",
      "  File \"C:\\Users\\USER\\anaconda3\\Lib\\site-packages\\stack_data\\utils.py\", line 145, in cached_property_wrapper\n",
      "    value = obj.__dict__[self.func.__name__] = self.func(obj)\n",
      "                                               ^^^^^^^^^^^^^^\n",
      "  File \"C:\\Users\\USER\\anaconda3\\Lib\\site-packages\\stack_data\\core.py\", line 628, in executing_piece\n",
      "    return only(\n",
      "           ^^^^^\n",
      "  File \"C:\\Users\\USER\\anaconda3\\Lib\\site-packages\\executing\\executing.py\", line 164, in only\n",
      "    raise NotOneValueFound('Expected one value, found 0')\n",
      "executing.executing.NotOneValueFound: Expected one value, found 0\n"
     ]
    }
   ],
   "execution_count": 44
  },
  {
   "metadata": {},
   "cell_type": "code",
   "outputs": [],
   "execution_count": null,
   "source": "",
   "id": "f0278f28a5204855"
  }
 ],
 "metadata": {
  "kernelspec": {
   "display_name": "Python 3",
   "language": "python",
   "name": "python3"
  },
  "language_info": {
   "codemirror_mode": {
    "name": "ipython",
    "version": 2
   },
   "file_extension": ".py",
   "mimetype": "text/x-python",
   "name": "python",
   "nbconvert_exporter": "python",
   "pygments_lexer": "ipython2",
   "version": "2.7.6"
  }
 },
 "nbformat": 4,
 "nbformat_minor": 5
}
