{
 "cells": [
  {
   "cell_type": "code",
   "id": "initial_id",
   "metadata": {
    "collapsed": true,
    "ExecuteTime": {
     "end_time": "2024-08-19T01:10:59.807521Z",
     "start_time": "2024-08-19T01:10:59.802446Z"
    }
   },
   "source": [
    "import numpy as np\n",
    "import pandas as pd\n",
    "import matplotlib.pyplot as plt\n",
    "import seaborn as sns\n",
    "import warnings\n",
    "warnings.filterwarnings('ignore')"
   ],
   "outputs": [],
   "execution_count": 1
  },
  {
   "metadata": {
    "ExecuteTime": {
     "end_time": "2024-08-19T01:10:59.908139Z",
     "start_time": "2024-08-19T01:10:59.809517Z"
    }
   },
   "cell_type": "code",
   "source": [
    "house_data = pd.read_csv('./data/melb_data.csv')\n",
    "house_data.info()\n",
    "# 결측치 확인가능\n",
    "# Dtype 확인(범주형, 문자열 형태의 데이터는 학습이 안됨 -> 수치형으로 변경 : 인코딩)\n",
    "# Price 컬럼 : 정답\n"
   ],
   "id": "4114b0bfe0ff1d99",
   "outputs": [
    {
     "name": "stdout",
     "output_type": "stream",
     "text": [
      "<class 'pandas.core.frame.DataFrame'>\n",
      "RangeIndex: 13580 entries, 0 to 13579\n",
      "Data columns (total 21 columns):\n",
      " #   Column         Non-Null Count  Dtype  \n",
      "---  ------         --------------  -----  \n",
      " 0   Suburb         13580 non-null  object \n",
      " 1   Address        13580 non-null  object \n",
      " 2   Rooms          13580 non-null  int64  \n",
      " 3   Type           13580 non-null  object \n",
      " 4   Price          13580 non-null  float64\n",
      " 5   Method         13580 non-null  object \n",
      " 6   SellerG        13580 non-null  object \n",
      " 7   Date           13580 non-null  object \n",
      " 8   Distance       13580 non-null  float64\n",
      " 9   Postcode       13580 non-null  float64\n",
      " 10  Bedroom2       13580 non-null  float64\n",
      " 11  Bathroom       13580 non-null  float64\n",
      " 12  Car            13518 non-null  float64\n",
      " 13  Landsize       13580 non-null  float64\n",
      " 14  BuildingArea   7130 non-null   float64\n",
      " 15  YearBuilt      8205 non-null   float64\n",
      " 16  CouncilArea    12211 non-null  object \n",
      " 17  Lattitude      13580 non-null  float64\n",
      " 18  Longtitude     13580 non-null  float64\n",
      " 19  Regionname     13580 non-null  object \n",
      " 20  Propertycount  13580 non-null  float64\n",
      "dtypes: float64(12), int64(1), object(8)\n",
      "memory usage: 2.2+ MB\n"
     ]
    }
   ],
   "execution_count": 2
  },
  {
   "metadata": {
    "ExecuteTime": {
     "end_time": "2024-08-19T01:10:59.957562Z",
     "start_time": "2024-08-19T01:10:59.909134Z"
    }
   },
   "cell_type": "code",
   "source": "house_data",
   "id": "e385c3ff6f3a823b",
   "outputs": [
    {
     "data": {
      "text/plain": [
       "              Suburb           Address  Rooms Type      Price Method  \\\n",
       "0         Abbotsford      85 Turner St      2    h  1480000.0      S   \n",
       "1         Abbotsford   25 Bloomburg St      2    h  1035000.0      S   \n",
       "2         Abbotsford      5 Charles St      3    h  1465000.0     SP   \n",
       "3         Abbotsford  40 Federation La      3    h   850000.0     PI   \n",
       "4         Abbotsford       55a Park St      4    h  1600000.0     VB   \n",
       "...              ...               ...    ...  ...        ...    ...   \n",
       "13575  Wheelers Hill      12 Strada Cr      4    h  1245000.0      S   \n",
       "13576   Williamstown     77 Merrett Dr      3    h  1031000.0     SP   \n",
       "13577   Williamstown       83 Power St      3    h  1170000.0      S   \n",
       "13578   Williamstown      96 Verdon St      4    h  2500000.0     PI   \n",
       "13579     Yarraville        6 Agnes St      4    h  1285000.0     SP   \n",
       "\n",
       "        SellerG        Date  Distance  Postcode  ...  Bathroom  Car  Landsize  \\\n",
       "0        Biggin   3/12/2016       2.5    3067.0  ...       1.0  1.0     202.0   \n",
       "1        Biggin   4/02/2016       2.5    3067.0  ...       1.0  0.0     156.0   \n",
       "2        Biggin   4/03/2017       2.5    3067.0  ...       2.0  0.0     134.0   \n",
       "3        Biggin   4/03/2017       2.5    3067.0  ...       2.0  1.0      94.0   \n",
       "4        Nelson   4/06/2016       2.5    3067.0  ...       1.0  2.0     120.0   \n",
       "...         ...         ...       ...       ...  ...       ...  ...       ...   \n",
       "13575     Barry  26/08/2017      16.7    3150.0  ...       2.0  2.0     652.0   \n",
       "13576  Williams  26/08/2017       6.8    3016.0  ...       2.0  2.0     333.0   \n",
       "13577     Raine  26/08/2017       6.8    3016.0  ...       2.0  4.0     436.0   \n",
       "13578   Sweeney  26/08/2017       6.8    3016.0  ...       1.0  5.0     866.0   \n",
       "13579   Village  26/08/2017       6.3    3013.0  ...       1.0  1.0     362.0   \n",
       "\n",
       "       BuildingArea  YearBuilt  CouncilArea Lattitude  Longtitude  \\\n",
       "0               NaN        NaN        Yarra -37.79960   144.99840   \n",
       "1              79.0     1900.0        Yarra -37.80790   144.99340   \n",
       "2             150.0     1900.0        Yarra -37.80930   144.99440   \n",
       "3               NaN        NaN        Yarra -37.79690   144.99690   \n",
       "4             142.0     2014.0        Yarra -37.80720   144.99410   \n",
       "...             ...        ...          ...       ...         ...   \n",
       "13575           NaN     1981.0          NaN -37.90562   145.16761   \n",
       "13576         133.0     1995.0          NaN -37.85927   144.87904   \n",
       "13577           NaN     1997.0          NaN -37.85274   144.88738   \n",
       "13578         157.0     1920.0          NaN -37.85908   144.89299   \n",
       "13579         112.0     1920.0          NaN -37.81188   144.88449   \n",
       "\n",
       "                       Regionname Propertycount  \n",
       "0           Northern Metropolitan        4019.0  \n",
       "1           Northern Metropolitan        4019.0  \n",
       "2           Northern Metropolitan        4019.0  \n",
       "3           Northern Metropolitan        4019.0  \n",
       "4           Northern Metropolitan        4019.0  \n",
       "...                           ...           ...  \n",
       "13575  South-Eastern Metropolitan        7392.0  \n",
       "13576        Western Metropolitan        6380.0  \n",
       "13577        Western Metropolitan        6380.0  \n",
       "13578        Western Metropolitan        6380.0  \n",
       "13579        Western Metropolitan        6543.0  \n",
       "\n",
       "[13580 rows x 21 columns]"
      ],
      "text/html": [
       "<div>\n",
       "<style scoped>\n",
       "    .dataframe tbody tr th:only-of-type {\n",
       "        vertical-align: middle;\n",
       "    }\n",
       "\n",
       "    .dataframe tbody tr th {\n",
       "        vertical-align: top;\n",
       "    }\n",
       "\n",
       "    .dataframe thead th {\n",
       "        text-align: right;\n",
       "    }\n",
       "</style>\n",
       "<table border=\"1\" class=\"dataframe\">\n",
       "  <thead>\n",
       "    <tr style=\"text-align: right;\">\n",
       "      <th></th>\n",
       "      <th>Suburb</th>\n",
       "      <th>Address</th>\n",
       "      <th>Rooms</th>\n",
       "      <th>Type</th>\n",
       "      <th>Price</th>\n",
       "      <th>Method</th>\n",
       "      <th>SellerG</th>\n",
       "      <th>Date</th>\n",
       "      <th>Distance</th>\n",
       "      <th>Postcode</th>\n",
       "      <th>...</th>\n",
       "      <th>Bathroom</th>\n",
       "      <th>Car</th>\n",
       "      <th>Landsize</th>\n",
       "      <th>BuildingArea</th>\n",
       "      <th>YearBuilt</th>\n",
       "      <th>CouncilArea</th>\n",
       "      <th>Lattitude</th>\n",
       "      <th>Longtitude</th>\n",
       "      <th>Regionname</th>\n",
       "      <th>Propertycount</th>\n",
       "    </tr>\n",
       "  </thead>\n",
       "  <tbody>\n",
       "    <tr>\n",
       "      <th>0</th>\n",
       "      <td>Abbotsford</td>\n",
       "      <td>85 Turner St</td>\n",
       "      <td>2</td>\n",
       "      <td>h</td>\n",
       "      <td>1480000.0</td>\n",
       "      <td>S</td>\n",
       "      <td>Biggin</td>\n",
       "      <td>3/12/2016</td>\n",
       "      <td>2.5</td>\n",
       "      <td>3067.0</td>\n",
       "      <td>...</td>\n",
       "      <td>1.0</td>\n",
       "      <td>1.0</td>\n",
       "      <td>202.0</td>\n",
       "      <td>NaN</td>\n",
       "      <td>NaN</td>\n",
       "      <td>Yarra</td>\n",
       "      <td>-37.79960</td>\n",
       "      <td>144.99840</td>\n",
       "      <td>Northern Metropolitan</td>\n",
       "      <td>4019.0</td>\n",
       "    </tr>\n",
       "    <tr>\n",
       "      <th>1</th>\n",
       "      <td>Abbotsford</td>\n",
       "      <td>25 Bloomburg St</td>\n",
       "      <td>2</td>\n",
       "      <td>h</td>\n",
       "      <td>1035000.0</td>\n",
       "      <td>S</td>\n",
       "      <td>Biggin</td>\n",
       "      <td>4/02/2016</td>\n",
       "      <td>2.5</td>\n",
       "      <td>3067.0</td>\n",
       "      <td>...</td>\n",
       "      <td>1.0</td>\n",
       "      <td>0.0</td>\n",
       "      <td>156.0</td>\n",
       "      <td>79.0</td>\n",
       "      <td>1900.0</td>\n",
       "      <td>Yarra</td>\n",
       "      <td>-37.80790</td>\n",
       "      <td>144.99340</td>\n",
       "      <td>Northern Metropolitan</td>\n",
       "      <td>4019.0</td>\n",
       "    </tr>\n",
       "    <tr>\n",
       "      <th>2</th>\n",
       "      <td>Abbotsford</td>\n",
       "      <td>5 Charles St</td>\n",
       "      <td>3</td>\n",
       "      <td>h</td>\n",
       "      <td>1465000.0</td>\n",
       "      <td>SP</td>\n",
       "      <td>Biggin</td>\n",
       "      <td>4/03/2017</td>\n",
       "      <td>2.5</td>\n",
       "      <td>3067.0</td>\n",
       "      <td>...</td>\n",
       "      <td>2.0</td>\n",
       "      <td>0.0</td>\n",
       "      <td>134.0</td>\n",
       "      <td>150.0</td>\n",
       "      <td>1900.0</td>\n",
       "      <td>Yarra</td>\n",
       "      <td>-37.80930</td>\n",
       "      <td>144.99440</td>\n",
       "      <td>Northern Metropolitan</td>\n",
       "      <td>4019.0</td>\n",
       "    </tr>\n",
       "    <tr>\n",
       "      <th>3</th>\n",
       "      <td>Abbotsford</td>\n",
       "      <td>40 Federation La</td>\n",
       "      <td>3</td>\n",
       "      <td>h</td>\n",
       "      <td>850000.0</td>\n",
       "      <td>PI</td>\n",
       "      <td>Biggin</td>\n",
       "      <td>4/03/2017</td>\n",
       "      <td>2.5</td>\n",
       "      <td>3067.0</td>\n",
       "      <td>...</td>\n",
       "      <td>2.0</td>\n",
       "      <td>1.0</td>\n",
       "      <td>94.0</td>\n",
       "      <td>NaN</td>\n",
       "      <td>NaN</td>\n",
       "      <td>Yarra</td>\n",
       "      <td>-37.79690</td>\n",
       "      <td>144.99690</td>\n",
       "      <td>Northern Metropolitan</td>\n",
       "      <td>4019.0</td>\n",
       "    </tr>\n",
       "    <tr>\n",
       "      <th>4</th>\n",
       "      <td>Abbotsford</td>\n",
       "      <td>55a Park St</td>\n",
       "      <td>4</td>\n",
       "      <td>h</td>\n",
       "      <td>1600000.0</td>\n",
       "      <td>VB</td>\n",
       "      <td>Nelson</td>\n",
       "      <td>4/06/2016</td>\n",
       "      <td>2.5</td>\n",
       "      <td>3067.0</td>\n",
       "      <td>...</td>\n",
       "      <td>1.0</td>\n",
       "      <td>2.0</td>\n",
       "      <td>120.0</td>\n",
       "      <td>142.0</td>\n",
       "      <td>2014.0</td>\n",
       "      <td>Yarra</td>\n",
       "      <td>-37.80720</td>\n",
       "      <td>144.99410</td>\n",
       "      <td>Northern Metropolitan</td>\n",
       "      <td>4019.0</td>\n",
       "    </tr>\n",
       "    <tr>\n",
       "      <th>...</th>\n",
       "      <td>...</td>\n",
       "      <td>...</td>\n",
       "      <td>...</td>\n",
       "      <td>...</td>\n",
       "      <td>...</td>\n",
       "      <td>...</td>\n",
       "      <td>...</td>\n",
       "      <td>...</td>\n",
       "      <td>...</td>\n",
       "      <td>...</td>\n",
       "      <td>...</td>\n",
       "      <td>...</td>\n",
       "      <td>...</td>\n",
       "      <td>...</td>\n",
       "      <td>...</td>\n",
       "      <td>...</td>\n",
       "      <td>...</td>\n",
       "      <td>...</td>\n",
       "      <td>...</td>\n",
       "      <td>...</td>\n",
       "      <td>...</td>\n",
       "    </tr>\n",
       "    <tr>\n",
       "      <th>13575</th>\n",
       "      <td>Wheelers Hill</td>\n",
       "      <td>12 Strada Cr</td>\n",
       "      <td>4</td>\n",
       "      <td>h</td>\n",
       "      <td>1245000.0</td>\n",
       "      <td>S</td>\n",
       "      <td>Barry</td>\n",
       "      <td>26/08/2017</td>\n",
       "      <td>16.7</td>\n",
       "      <td>3150.0</td>\n",
       "      <td>...</td>\n",
       "      <td>2.0</td>\n",
       "      <td>2.0</td>\n",
       "      <td>652.0</td>\n",
       "      <td>NaN</td>\n",
       "      <td>1981.0</td>\n",
       "      <td>NaN</td>\n",
       "      <td>-37.90562</td>\n",
       "      <td>145.16761</td>\n",
       "      <td>South-Eastern Metropolitan</td>\n",
       "      <td>7392.0</td>\n",
       "    </tr>\n",
       "    <tr>\n",
       "      <th>13576</th>\n",
       "      <td>Williamstown</td>\n",
       "      <td>77 Merrett Dr</td>\n",
       "      <td>3</td>\n",
       "      <td>h</td>\n",
       "      <td>1031000.0</td>\n",
       "      <td>SP</td>\n",
       "      <td>Williams</td>\n",
       "      <td>26/08/2017</td>\n",
       "      <td>6.8</td>\n",
       "      <td>3016.0</td>\n",
       "      <td>...</td>\n",
       "      <td>2.0</td>\n",
       "      <td>2.0</td>\n",
       "      <td>333.0</td>\n",
       "      <td>133.0</td>\n",
       "      <td>1995.0</td>\n",
       "      <td>NaN</td>\n",
       "      <td>-37.85927</td>\n",
       "      <td>144.87904</td>\n",
       "      <td>Western Metropolitan</td>\n",
       "      <td>6380.0</td>\n",
       "    </tr>\n",
       "    <tr>\n",
       "      <th>13577</th>\n",
       "      <td>Williamstown</td>\n",
       "      <td>83 Power St</td>\n",
       "      <td>3</td>\n",
       "      <td>h</td>\n",
       "      <td>1170000.0</td>\n",
       "      <td>S</td>\n",
       "      <td>Raine</td>\n",
       "      <td>26/08/2017</td>\n",
       "      <td>6.8</td>\n",
       "      <td>3016.0</td>\n",
       "      <td>...</td>\n",
       "      <td>2.0</td>\n",
       "      <td>4.0</td>\n",
       "      <td>436.0</td>\n",
       "      <td>NaN</td>\n",
       "      <td>1997.0</td>\n",
       "      <td>NaN</td>\n",
       "      <td>-37.85274</td>\n",
       "      <td>144.88738</td>\n",
       "      <td>Western Metropolitan</td>\n",
       "      <td>6380.0</td>\n",
       "    </tr>\n",
       "    <tr>\n",
       "      <th>13578</th>\n",
       "      <td>Williamstown</td>\n",
       "      <td>96 Verdon St</td>\n",
       "      <td>4</td>\n",
       "      <td>h</td>\n",
       "      <td>2500000.0</td>\n",
       "      <td>PI</td>\n",
       "      <td>Sweeney</td>\n",
       "      <td>26/08/2017</td>\n",
       "      <td>6.8</td>\n",
       "      <td>3016.0</td>\n",
       "      <td>...</td>\n",
       "      <td>1.0</td>\n",
       "      <td>5.0</td>\n",
       "      <td>866.0</td>\n",
       "      <td>157.0</td>\n",
       "      <td>1920.0</td>\n",
       "      <td>NaN</td>\n",
       "      <td>-37.85908</td>\n",
       "      <td>144.89299</td>\n",
       "      <td>Western Metropolitan</td>\n",
       "      <td>6380.0</td>\n",
       "    </tr>\n",
       "    <tr>\n",
       "      <th>13579</th>\n",
       "      <td>Yarraville</td>\n",
       "      <td>6 Agnes St</td>\n",
       "      <td>4</td>\n",
       "      <td>h</td>\n",
       "      <td>1285000.0</td>\n",
       "      <td>SP</td>\n",
       "      <td>Village</td>\n",
       "      <td>26/08/2017</td>\n",
       "      <td>6.3</td>\n",
       "      <td>3013.0</td>\n",
       "      <td>...</td>\n",
       "      <td>1.0</td>\n",
       "      <td>1.0</td>\n",
       "      <td>362.0</td>\n",
       "      <td>112.0</td>\n",
       "      <td>1920.0</td>\n",
       "      <td>NaN</td>\n",
       "      <td>-37.81188</td>\n",
       "      <td>144.88449</td>\n",
       "      <td>Western Metropolitan</td>\n",
       "      <td>6543.0</td>\n",
       "    </tr>\n",
       "  </tbody>\n",
       "</table>\n",
       "<p>13580 rows × 21 columns</p>\n",
       "</div>"
      ]
     },
     "execution_count": 3,
     "metadata": {},
     "output_type": "execute_result"
    }
   ],
   "execution_count": 3
  },
  {
   "metadata": {},
   "cell_type": "markdown",
   "source": [
    "Suburb: 주택이 위치한 교외 지역의 이름  \n",
    "Address: 주택의 주소  \n",
    "Rooms: 주택의 방 개수  \n",
    "Type: 주택 유형 (h: 주택, u: 유닛, t: 타운하우스)  \n",
    "Price: 주택 가격  \n",
    "Method: 판매 방법 (S: 매매, SP: 매매 후 가격 공개, PI: 경매 전에 가격, VB: 경매 후 가격 공개)  \n",
    "SellerG: 판매 대행 부동산 중개인의 이름  \n",
    "Date: 판매 날짜  \n",
    "Distance: 주택이 CBD (중심 업무 지구)에서 떨어진 거리 (킬로미터 단위)  \n",
    "Postcode: 우편번호  \n",
    "Bedroom2: 주택의 침실 개수 (2개의 침실을 갖춘 주택)  \n",
    "Bathroom: 주택의 욕실 개수  \n",
    "Car: 주차 가능한 자동차 수  \n",
    "Landsize: 대지 면적 (평방 미터 단위)  \n",
    "BuildingArea: 건축 면적 (평방 미터 단위)  \n",
    "YearBuilt: 주택이 건축된 연도  \n",
    "CouncilArea: 관할 구역  \n",
    "Lattitude: 주택의 위도  \n",
    "Longtitude: 주택의 경도  \n",
    "Regionname: 지역 이름  \n",
    "Propertycount: 지역 내의 부동산 개수  "
   ],
   "id": "816818ffbc10cfab"
  },
  {
   "metadata": {
    "ExecuteTime": {
     "end_time": "2024-08-19T01:10:59.974497Z",
     "start_time": "2024-08-19T01:10:59.961558Z"
    }
   },
   "cell_type": "code",
   "source": [
    "# 결측치가 있는 특성 확인\n",
    "house_data.isnull().sum().sort_values(ascending=False)"
   ],
   "id": "ea6f936c8f715b1f",
   "outputs": [
    {
     "data": {
      "text/plain": [
       "BuildingArea     6450\n",
       "YearBuilt        5375\n",
       "CouncilArea      1369\n",
       "Car                62\n",
       "Suburb              0\n",
       "Bathroom            0\n",
       "Regionname          0\n",
       "Longtitude          0\n",
       "Lattitude           0\n",
       "Landsize            0\n",
       "Bedroom2            0\n",
       "Address             0\n",
       "Postcode            0\n",
       "Distance            0\n",
       "Date                0\n",
       "SellerG             0\n",
       "Method              0\n",
       "Price               0\n",
       "Type                0\n",
       "Rooms               0\n",
       "Propertycount       0\n",
       "dtype: int64"
      ]
     },
     "execution_count": 4,
     "metadata": {},
     "output_type": "execute_result"
    }
   ],
   "execution_count": 4
  },
  {
   "metadata": {
    "ExecuteTime": {
     "end_time": "2024-08-19T01:11:00.032045Z",
     "start_time": "2024-08-19T01:10:59.976494Z"
    }
   },
   "cell_type": "code",
   "source": "house_data.describe()",
   "id": "4605d57d59442947",
   "outputs": [
    {
     "data": {
      "text/plain": [
       "              Rooms         Price      Distance      Postcode      Bedroom2  \\\n",
       "count  13580.000000  1.358000e+04  13580.000000  13580.000000  13580.000000   \n",
       "mean       2.937997  1.075684e+06     10.137776   3105.301915      2.914728   \n",
       "std        0.955748  6.393107e+05      5.868725     90.676964      0.965921   \n",
       "min        1.000000  8.500000e+04      0.000000   3000.000000      0.000000   \n",
       "25%        2.000000  6.500000e+05      6.100000   3044.000000      2.000000   \n",
       "50%        3.000000  9.030000e+05      9.200000   3084.000000      3.000000   \n",
       "75%        3.000000  1.330000e+06     13.000000   3148.000000      3.000000   \n",
       "max       10.000000  9.000000e+06     48.100000   3977.000000     20.000000   \n",
       "\n",
       "           Bathroom           Car       Landsize  BuildingArea    YearBuilt  \\\n",
       "count  13580.000000  13518.000000   13580.000000   7130.000000  8205.000000   \n",
       "mean       1.534242      1.610075     558.416127    151.967650  1964.684217   \n",
       "std        0.691712      0.962634    3990.669241    541.014538    37.273762   \n",
       "min        0.000000      0.000000       0.000000      0.000000  1196.000000   \n",
       "25%        1.000000      1.000000     177.000000     93.000000  1940.000000   \n",
       "50%        1.000000      2.000000     440.000000    126.000000  1970.000000   \n",
       "75%        2.000000      2.000000     651.000000    174.000000  1999.000000   \n",
       "max        8.000000     10.000000  433014.000000  44515.000000  2018.000000   \n",
       "\n",
       "          Lattitude    Longtitude  Propertycount  \n",
       "count  13580.000000  13580.000000   13580.000000  \n",
       "mean     -37.809203    144.995216    7454.417378  \n",
       "std        0.079260      0.103916    4378.581772  \n",
       "min      -38.182550    144.431810     249.000000  \n",
       "25%      -37.856822    144.929600    4380.000000  \n",
       "50%      -37.802355    145.000100    6555.000000  \n",
       "75%      -37.756400    145.058305   10331.000000  \n",
       "max      -37.408530    145.526350   21650.000000  "
      ],
      "text/html": [
       "<div>\n",
       "<style scoped>\n",
       "    .dataframe tbody tr th:only-of-type {\n",
       "        vertical-align: middle;\n",
       "    }\n",
       "\n",
       "    .dataframe tbody tr th {\n",
       "        vertical-align: top;\n",
       "    }\n",
       "\n",
       "    .dataframe thead th {\n",
       "        text-align: right;\n",
       "    }\n",
       "</style>\n",
       "<table border=\"1\" class=\"dataframe\">\n",
       "  <thead>\n",
       "    <tr style=\"text-align: right;\">\n",
       "      <th></th>\n",
       "      <th>Rooms</th>\n",
       "      <th>Price</th>\n",
       "      <th>Distance</th>\n",
       "      <th>Postcode</th>\n",
       "      <th>Bedroom2</th>\n",
       "      <th>Bathroom</th>\n",
       "      <th>Car</th>\n",
       "      <th>Landsize</th>\n",
       "      <th>BuildingArea</th>\n",
       "      <th>YearBuilt</th>\n",
       "      <th>Lattitude</th>\n",
       "      <th>Longtitude</th>\n",
       "      <th>Propertycount</th>\n",
       "    </tr>\n",
       "  </thead>\n",
       "  <tbody>\n",
       "    <tr>\n",
       "      <th>count</th>\n",
       "      <td>13580.000000</td>\n",
       "      <td>1.358000e+04</td>\n",
       "      <td>13580.000000</td>\n",
       "      <td>13580.000000</td>\n",
       "      <td>13580.000000</td>\n",
       "      <td>13580.000000</td>\n",
       "      <td>13518.000000</td>\n",
       "      <td>13580.000000</td>\n",
       "      <td>7130.000000</td>\n",
       "      <td>8205.000000</td>\n",
       "      <td>13580.000000</td>\n",
       "      <td>13580.000000</td>\n",
       "      <td>13580.000000</td>\n",
       "    </tr>\n",
       "    <tr>\n",
       "      <th>mean</th>\n",
       "      <td>2.937997</td>\n",
       "      <td>1.075684e+06</td>\n",
       "      <td>10.137776</td>\n",
       "      <td>3105.301915</td>\n",
       "      <td>2.914728</td>\n",
       "      <td>1.534242</td>\n",
       "      <td>1.610075</td>\n",
       "      <td>558.416127</td>\n",
       "      <td>151.967650</td>\n",
       "      <td>1964.684217</td>\n",
       "      <td>-37.809203</td>\n",
       "      <td>144.995216</td>\n",
       "      <td>7454.417378</td>\n",
       "    </tr>\n",
       "    <tr>\n",
       "      <th>std</th>\n",
       "      <td>0.955748</td>\n",
       "      <td>6.393107e+05</td>\n",
       "      <td>5.868725</td>\n",
       "      <td>90.676964</td>\n",
       "      <td>0.965921</td>\n",
       "      <td>0.691712</td>\n",
       "      <td>0.962634</td>\n",
       "      <td>3990.669241</td>\n",
       "      <td>541.014538</td>\n",
       "      <td>37.273762</td>\n",
       "      <td>0.079260</td>\n",
       "      <td>0.103916</td>\n",
       "      <td>4378.581772</td>\n",
       "    </tr>\n",
       "    <tr>\n",
       "      <th>min</th>\n",
       "      <td>1.000000</td>\n",
       "      <td>8.500000e+04</td>\n",
       "      <td>0.000000</td>\n",
       "      <td>3000.000000</td>\n",
       "      <td>0.000000</td>\n",
       "      <td>0.000000</td>\n",
       "      <td>0.000000</td>\n",
       "      <td>0.000000</td>\n",
       "      <td>0.000000</td>\n",
       "      <td>1196.000000</td>\n",
       "      <td>-38.182550</td>\n",
       "      <td>144.431810</td>\n",
       "      <td>249.000000</td>\n",
       "    </tr>\n",
       "    <tr>\n",
       "      <th>25%</th>\n",
       "      <td>2.000000</td>\n",
       "      <td>6.500000e+05</td>\n",
       "      <td>6.100000</td>\n",
       "      <td>3044.000000</td>\n",
       "      <td>2.000000</td>\n",
       "      <td>1.000000</td>\n",
       "      <td>1.000000</td>\n",
       "      <td>177.000000</td>\n",
       "      <td>93.000000</td>\n",
       "      <td>1940.000000</td>\n",
       "      <td>-37.856822</td>\n",
       "      <td>144.929600</td>\n",
       "      <td>4380.000000</td>\n",
       "    </tr>\n",
       "    <tr>\n",
       "      <th>50%</th>\n",
       "      <td>3.000000</td>\n",
       "      <td>9.030000e+05</td>\n",
       "      <td>9.200000</td>\n",
       "      <td>3084.000000</td>\n",
       "      <td>3.000000</td>\n",
       "      <td>1.000000</td>\n",
       "      <td>2.000000</td>\n",
       "      <td>440.000000</td>\n",
       "      <td>126.000000</td>\n",
       "      <td>1970.000000</td>\n",
       "      <td>-37.802355</td>\n",
       "      <td>145.000100</td>\n",
       "      <td>6555.000000</td>\n",
       "    </tr>\n",
       "    <tr>\n",
       "      <th>75%</th>\n",
       "      <td>3.000000</td>\n",
       "      <td>1.330000e+06</td>\n",
       "      <td>13.000000</td>\n",
       "      <td>3148.000000</td>\n",
       "      <td>3.000000</td>\n",
       "      <td>2.000000</td>\n",
       "      <td>2.000000</td>\n",
       "      <td>651.000000</td>\n",
       "      <td>174.000000</td>\n",
       "      <td>1999.000000</td>\n",
       "      <td>-37.756400</td>\n",
       "      <td>145.058305</td>\n",
       "      <td>10331.000000</td>\n",
       "    </tr>\n",
       "    <tr>\n",
       "      <th>max</th>\n",
       "      <td>10.000000</td>\n",
       "      <td>9.000000e+06</td>\n",
       "      <td>48.100000</td>\n",
       "      <td>3977.000000</td>\n",
       "      <td>20.000000</td>\n",
       "      <td>8.000000</td>\n",
       "      <td>10.000000</td>\n",
       "      <td>433014.000000</td>\n",
       "      <td>44515.000000</td>\n",
       "      <td>2018.000000</td>\n",
       "      <td>-37.408530</td>\n",
       "      <td>145.526350</td>\n",
       "      <td>21650.000000</td>\n",
       "    </tr>\n",
       "  </tbody>\n",
       "</table>\n",
       "</div>"
      ]
     },
     "execution_count": 5,
     "metadata": {},
     "output_type": "execute_result"
    }
   ],
   "execution_count": 5
  },
  {
   "metadata": {
    "ExecuteTime": {
     "end_time": "2024-08-19T01:11:00.473559Z",
     "start_time": "2024-08-19T01:11:00.034040Z"
    }
   },
   "cell_type": "code",
   "source": [
    "# Rooms - 방의 개수에 따른 주택가격의 분포현황\n",
    "sns.boxplot(x='Rooms', y='Price', data=house_data)\n",
    "plt.figure(figsize=(5, 3))\n",
    "plt.show()\n",
    "# 방 개수가 증가할수록 주택 가격의 중앙값 상승\n",
    "# 하지만 방 6개 이상은 큰 의미가 없어보임\n",
    "# 이상치 확인가능"
   ],
   "id": "5c3e2620983bd92",
   "outputs": [
    {
     "data": {
      "text/plain": [
       "<Figure size 640x480 with 1 Axes>"
      ],
      "image/png": "[encoded data removed]"
     },
     "metadata": {},
     "output_type": "display_data"
    },
    {
     "data": {
      "text/plain": [
       "<Figure size 500x300 with 0 Axes>"
      ]
     },
     "metadata": {},
     "output_type": "display_data"
    }
   ],
   "execution_count": 6
  },
  {
   "metadata": {
    "ExecuteTime": {
     "end_time": "2024-08-19T01:11:00.486081Z",
     "start_time": "2024-08-19T01:11:00.476557Z"
    }
   },
   "cell_type": "code",
   "source": [
    "# Type 특성의 데이터 종류\n",
    "house_data['Type'].unique()"
   ],
   "id": "5f77d584e26c21dc",
   "outputs": [
    {
     "data": {
      "text/plain": [
       "array(['h', 'u', 't'], dtype=object)"
      ]
     },
     "execution_count": 7,
     "metadata": {},
     "output_type": "execute_result"
    }
   ],
   "execution_count": 7
  },
  {
   "metadata": {
    "ExecuteTime": {
     "end_time": "2024-08-19T01:11:00.857336Z",
     "start_time": "2024-08-19T01:11:00.490600Z"
    }
   },
   "cell_type": "code",
   "source": [
    "# 타입별로 주택 평균가격 확인\n",
    "house_data.groupby('Type')['Price'].mean().plot(kind='bar')"
   ],
   "id": "27a77042f0b1c736",
   "outputs": [
    {
     "data": {
      "text/plain": [
       "<Axes: xlabel='Type'>"
      ]
     },
     "execution_count": 8,
     "metadata": {},
     "output_type": "execute_result"
    },
    {
     "data": {
      "text/plain": [
       "<Figure size 640x480 with 1 Axes>"
      ],
      "image/png": "[encoded data removed]"
     },
     "metadata": {},
     "output_type": "display_data"
    }
   ],
   "execution_count": 8
  },
  {
   "metadata": {
    "ExecuteTime": {
     "end_time": "2024-08-19T01:11:19.091430Z",
     "start_time": "2024-08-19T01:11:00.860332Z"
    }
   },
   "cell_type": "code",
   "source": [
    "# 위도와 가격에 따른 밀도 확인\n",
    "# kdeplot : 커널 밀도 추정 그래프\n",
    "sns.kdeplot(data=house_data, x='Lattitude', y='Price', fill=True)\n"
   ],
   "id": "d063ebe6fc969311",
   "outputs": [
    {
     "data": {
      "text/plain": [
       "<Axes: xlabel='Lattitude', ylabel='Price'>"
      ]
     },
     "execution_count": 9,
     "metadata": {},
     "output_type": "execute_result"
    },
    {
     "data": {
      "text/plain": [
       "<Figure size 640x480 with 1 Axes>"
      ],
      "image/png": "[encoded data removed]"
     },
     "metadata": {},
     "output_type": "display_data"
    }
   ],
   "execution_count": 9
  },
  {
   "metadata": {
    "ExecuteTime": {
     "end_time": "2024-08-19T01:11:19.377363Z",
     "start_time": "2024-08-19T01:11:19.092442Z"
    }
   },
   "cell_type": "code",
   "source": [
    "plt.figure(figsize=(10, 5))\n",
    "plt.title(\"kdeplot of Lattitude and price\")\n",
    "sns.scatterplot(data=house_data, x='Lattitude', y='Price')\n",
    "plt.show()"
   ],
   "id": "3cd4616e7a5a6798",
   "outputs": [
    {
     "data": {
      "text/plain": [
       "<Figure size 1000x500 with 1 Axes>"
      ],
      "image/png": "[encoded data removed]"
     },
     "metadata": {},
     "output_type": "display_data"
    }
   ],
   "execution_count": 10
  },
  {
   "metadata": {
    "ExecuteTime": {
     "end_time": "2024-08-19T01:11:36.956627Z",
     "start_time": "2024-08-19T01:11:19.378364Z"
    }
   },
   "cell_type": "code",
   "source": [
    "# 경도와 가격에 따른 밀도 확인\n",
    "# kdeplot : 커널 밀도 추정 그래프\n",
    "sns.kdeplot(data=house_data, x='Longtitude', y='Price', fill=True)\n"
   ],
   "id": "472b4013f25f32d1",
   "outputs": [
    {
     "data": {
      "text/plain": [
       "<Axes: xlabel='Longtitude', ylabel='Price'>"
      ]
     },
     "execution_count": 11,
     "metadata": {},
     "output_type": "execute_result"
    },
    {
     "data": {
      "text/plain": [
       "<Figure size 640x480 with 1 Axes>"
      ],
      "image/png": "[encoded data removed]"
     },
     "metadata": {},
     "output_type": "display_data"
    }
   ],
   "execution_count": 11
  },
  {
   "metadata": {
    "ExecuteTime": {
     "end_time": "2024-08-19T01:11:47.703570Z",
     "start_time": "2024-08-19T01:11:36.957644Z"
    }
   },
   "cell_type": "code",
   "source": [
    "# 위도와 경도에 따른 밀도 확인\n",
    "# kdeplot : 커널 밀도 추정 그래프\n",
    "sns.kdeplot(data=house_data, x='Lattitude', y='Longtitude', fill=True)\n",
    "plt.show()\n"
   ],
   "id": "b5d33b0e874b5d01",
   "outputs": [
    {
     "data": {
      "text/plain": [
       "<Figure size 640x480 with 1 Axes>"
      ],
      "image/png": "[encoded data removed]"
     },
     "metadata": {},
     "output_type": "display_data"
    }
   ],
   "execution_count": 12
  },
  {
   "metadata": {
    "ExecuteTime": {
     "end_time": "2024-08-19T01:11:47.711597Z",
     "start_time": "2024-08-19T01:11:47.704569Z"
    }
   },
   "cell_type": "code",
   "source": [
    "# Councilarea 값 확인\n",
    "house_data['CouncilArea'].unique()"
   ],
   "id": "a323923220ab6c5c",
   "outputs": [
    {
     "data": {
      "text/plain": [
       "array(['Yarra', 'Moonee Valley', 'Port Phillip', 'Darebin', 'Hobsons Bay',\n",
       "       'Stonnington', 'Boroondara', 'Monash', 'Glen Eira', 'Whitehorse',\n",
       "       'Maribyrnong', 'Bayside', 'Moreland', 'Manningham', 'Banyule',\n",
       "       'Melbourne', 'Kingston', 'Brimbank', 'Hume', nan, 'Knox',\n",
       "       'Maroondah', 'Casey', 'Melton', 'Greater Dandenong', 'Nillumbik',\n",
       "       'Whittlesea', 'Frankston', 'Macedon Ranges', 'Yarra Ranges',\n",
       "       'Wyndham', 'Cardinia', 'Unavailable', 'Moorabool'], dtype=object)"
      ]
     },
     "execution_count": 13,
     "metadata": {},
     "output_type": "execute_result"
    }
   ],
   "execution_count": 13
  },
  {
   "metadata": {
    "ExecuteTime": {
     "end_time": "2024-08-19T01:11:47.719602Z",
     "start_time": "2024-08-19T01:11:47.712595Z"
    }
   },
   "cell_type": "code",
   "source": "len(house_data['CouncilArea'].unique())",
   "id": "472dedfc86ba41e3",
   "outputs": [
    {
     "data": {
      "text/plain": [
       "34"
      ]
     },
     "execution_count": 14,
     "metadata": {},
     "output_type": "execute_result"
    }
   ],
   "execution_count": 14
  },
  {
   "metadata": {
    "ExecuteTime": {
     "end_time": "2024-08-19T01:11:48.156299Z",
     "start_time": "2024-08-19T01:11:47.721597Z"
    }
   },
   "cell_type": "code",
   "source": [
    "# 관할구역별 주택 수 분포 현황\n",
    "plt.figure(figsize=(15, 8))\n",
    "sns.countplot(data=house_data, y='CouncilArea')"
   ],
   "id": "fc558f06bac280ed",
   "outputs": [
    {
     "data": {
      "text/plain": [
       "<Axes: xlabel='count', ylabel='CouncilArea'>"
      ]
     },
     "execution_count": 15,
     "metadata": {},
     "output_type": "execute_result"
    },
    {
     "data": {
      "text/plain": [
       "<Figure size 1500x800 with 1 Axes>"
      ],
      "image/png": "[encoded data removed]"
     },
     "metadata": {},
     "output_type": "display_data"
    }
   ],
   "execution_count": 15
  },
  {
   "metadata": {
    "ExecuteTime": {
     "end_time": "2024-08-19T01:11:48.166817Z",
     "start_time": "2024-08-19T01:11:48.160295Z"
    }
   },
   "cell_type": "code",
   "source": "house_data['CouncilArea'].value_counts().index",
   "id": "fc7d5248558a1b11",
   "outputs": [
    {
     "data": {
      "text/plain": [
       "Index(['Moreland', 'Boroondara', 'Moonee Valley', 'Darebin', 'Glen Eira',\n",
       "       'Stonnington', 'Maribyrnong', 'Yarra', 'Port Phillip', 'Banyule',\n",
       "       'Bayside', 'Melbourne', 'Hobsons Bay', 'Brimbank', 'Monash',\n",
       "       'Manningham', 'Whitehorse', 'Kingston', 'Whittlesea', 'Hume', 'Wyndham',\n",
       "       'Knox', 'Maroondah', 'Melton', 'Frankston', 'Greater Dandenong',\n",
       "       'Casey', 'Nillumbik', 'Yarra Ranges', 'Cardinia', 'Macedon Ranges',\n",
       "       'Unavailable', 'Moorabool'],\n",
       "      dtype='object', name='CouncilArea')"
      ]
     },
     "execution_count": 16,
     "metadata": {},
     "output_type": "execute_result"
    }
   ],
   "execution_count": 16
  },
  {
   "metadata": {
    "ExecuteTime": {
     "end_time": "2024-08-19T01:11:48.172646Z",
     "start_time": "2024-08-19T01:11:48.167817Z"
    }
   },
   "cell_type": "code",
   "source": [
    "# 결측치를 특정 값으로 채우기 -> fillna()\n",
    "house_data['CouncilArea'].fillna('Moreland', inplace=True)"
   ],
   "id": "8d6e2d29c7f1d669",
   "outputs": [],
   "execution_count": 17
  },
  {
   "metadata": {
    "ExecuteTime": {
     "end_time": "2024-08-19T01:11:48.180310Z",
     "start_time": "2024-08-19T01:11:48.174633Z"
    }
   },
   "cell_type": "code",
   "source": "house_data['CouncilArea'].isnull().sum()",
   "id": "e59596eaa909bbf3",
   "outputs": [
    {
     "data": {
      "text/plain": [
       "0"
      ]
     },
     "execution_count": 18,
     "metadata": {},
     "output_type": "execute_result"
    }
   ],
   "execution_count": 18
  },
  {
   "metadata": {
    "ExecuteTime": {
     "end_time": "2024-08-19T01:11:48.185634Z",
     "start_time": "2024-08-19T01:11:48.182312Z"
    }
   },
   "cell_type": "code",
   "source": [
    "# 전체 컬럼출력\n",
    "pd.set_option('display.max_columns', None)"
   ],
   "id": "49ca13a47d53391d",
   "outputs": [],
   "execution_count": 19
  },
  {
   "metadata": {
    "ExecuteTime": {
     "end_time": "2024-08-19T01:11:48.193934Z",
     "start_time": "2024-08-19T01:11:48.186634Z"
    }
   },
   "cell_type": "code",
   "source": "house_data.columns",
   "id": "989da0ec49d3b79e",
   "outputs": [
    {
     "data": {
      "text/plain": [
       "Index(['Suburb', 'Address', 'Rooms', 'Type', 'Price', 'Method', 'SellerG',\n",
       "       'Date', 'Distance', 'Postcode', 'Bedroom2', 'Bathroom', 'Car',\n",
       "       'Landsize', 'BuildingArea', 'YearBuilt', 'CouncilArea', 'Lattitude',\n",
       "       'Longtitude', 'Regionname', 'Propertycount'],\n",
       "      dtype='object')"
      ]
     },
     "execution_count": 20,
     "metadata": {},
     "output_type": "execute_result"
    }
   ],
   "execution_count": 20
  },
  {
   "metadata": {
    "ExecuteTime": {
     "end_time": "2024-08-19T01:11:48.216667Z",
     "start_time": "2024-08-19T01:11:48.194931Z"
    }
   },
   "cell_type": "code",
   "source": [
    "# Suburb(지역이름)을 통하여 CouncilArea(관할구역)컬럼 결측치 채우기\n",
    "# 지역에 매칭되어 있는 관할구역 수 확인\n",
    "house_data.pivot_table(index=['Suburb', 'CouncilArea'], values='Rooms', aggfunc='count')"
   ],
   "id": "2bc776d03f8f05c8",
   "outputs": [
    {
     "data": {
      "text/plain": [
       "                            Rooms\n",
       "Suburb       CouncilArea         \n",
       "Abbotsford   Moreland           1\n",
       "             Yarra             55\n",
       "Aberfeldie   Moonee Valley     40\n",
       "             Moreland           4\n",
       "Airport West Moonee Valley     61\n",
       "...                           ...\n",
       "Yallambie    Banyule           23\n",
       "             Moreland           1\n",
       "Yarra Glen   Yarra Ranges       1\n",
       "Yarraville   Maribyrnong      154\n",
       "             Moreland          10\n",
       "\n",
       "[589 rows x 1 columns]"
      ],
      "text/html": [
       "<div>\n",
       "<style scoped>\n",
       "    .dataframe tbody tr th:only-of-type {\n",
       "        vertical-align: middle;\n",
       "    }\n",
       "\n",
       "    .dataframe tbody tr th {\n",
       "        vertical-align: top;\n",
       "    }\n",
       "\n",
       "    .dataframe thead th {\n",
       "        text-align: right;\n",
       "    }\n",
       "</style>\n",
       "<table border=\"1\" class=\"dataframe\">\n",
       "  <thead>\n",
       "    <tr style=\"text-align: right;\">\n",
       "      <th></th>\n",
       "      <th></th>\n",
       "      <th>Rooms</th>\n",
       "    </tr>\n",
       "    <tr>\n",
       "      <th>Suburb</th>\n",
       "      <th>CouncilArea</th>\n",
       "      <th></th>\n",
       "    </tr>\n",
       "  </thead>\n",
       "  <tbody>\n",
       "    <tr>\n",
       "      <th rowspan=\"2\" valign=\"top\">Abbotsford</th>\n",
       "      <th>Moreland</th>\n",
       "      <td>1</td>\n",
       "    </tr>\n",
       "    <tr>\n",
       "      <th>Yarra</th>\n",
       "      <td>55</td>\n",
       "    </tr>\n",
       "    <tr>\n",
       "      <th rowspan=\"2\" valign=\"top\">Aberfeldie</th>\n",
       "      <th>Moonee Valley</th>\n",
       "      <td>40</td>\n",
       "    </tr>\n",
       "    <tr>\n",
       "      <th>Moreland</th>\n",
       "      <td>4</td>\n",
       "    </tr>\n",
       "    <tr>\n",
       "      <th>Airport West</th>\n",
       "      <th>Moonee Valley</th>\n",
       "      <td>61</td>\n",
       "    </tr>\n",
       "    <tr>\n",
       "      <th>...</th>\n",
       "      <th>...</th>\n",
       "      <td>...</td>\n",
       "    </tr>\n",
       "    <tr>\n",
       "      <th rowspan=\"2\" valign=\"top\">Yallambie</th>\n",
       "      <th>Banyule</th>\n",
       "      <td>23</td>\n",
       "    </tr>\n",
       "    <tr>\n",
       "      <th>Moreland</th>\n",
       "      <td>1</td>\n",
       "    </tr>\n",
       "    <tr>\n",
       "      <th>Yarra Glen</th>\n",
       "      <th>Yarra Ranges</th>\n",
       "      <td>1</td>\n",
       "    </tr>\n",
       "    <tr>\n",
       "      <th rowspan=\"2\" valign=\"top\">Yarraville</th>\n",
       "      <th>Maribyrnong</th>\n",
       "      <td>154</td>\n",
       "    </tr>\n",
       "    <tr>\n",
       "      <th>Moreland</th>\n",
       "      <td>10</td>\n",
       "    </tr>\n",
       "  </tbody>\n",
       "</table>\n",
       "<p>589 rows × 1 columns</p>\n",
       "</div>"
      ]
     },
     "execution_count": 21,
     "metadata": {},
     "output_type": "execute_result"
    }
   ],
   "execution_count": 21
  },
  {
   "metadata": {
    "ExecuteTime": {
     "end_time": "2024-08-19T01:11:48.263489Z",
     "start_time": "2024-08-19T01:11:48.217665Z"
    }
   },
   "cell_type": "code",
   "source": [
    "# 최빈값으로 구성된 테이블 생성\n",
    "# mode : 최빈값 구하기\n",
    "mode_data =house_data.groupby('Suburb')['CouncilArea'].agg(pd.Series.mode)\n",
    "mode_data"
   ],
   "id": "5adb7093bc0c5509",
   "outputs": [
    {
     "data": {
      "text/plain": [
       "Suburb\n",
       "Abbotsford              Yarra\n",
       "Aberfeldie      Moonee Valley\n",
       "Airport West    Moonee Valley\n",
       "Albanvale            Brimbank\n",
       "Albert Park      Port Phillip\n",
       "                    ...      \n",
       "Wonga Park         Manningham\n",
       "Wyndham Vale          Wyndham\n",
       "Yallambie             Banyule\n",
       "Yarra Glen       Yarra Ranges\n",
       "Yarraville        Maribyrnong\n",
       "Name: CouncilArea, Length: 314, dtype: object"
      ]
     },
     "execution_count": 22,
     "metadata": {},
     "output_type": "execute_result"
    }
   ],
   "execution_count": 22
  },
  {
   "metadata": {
    "ExecuteTime": {
     "end_time": "2024-08-19T01:11:48.268486Z",
     "start_time": "2024-08-19T01:11:48.264487Z"
    }
   },
   "cell_type": "code",
   "source": [
    "# CouncilArea 결측치 채우기\n",
    "# 단순 기술통계량이 아닌(전체 평균) 연관있는 컬럼을 참고하여 결측 데이터를 채워줌으로써 모델 성능 높이는 것을 기대\n",
    "# 결측치 채우는 함수 생성\n",
    "# CouncilArea에 값이 있으면 그대로 사용, 없다면(결측이라면) Suburb에 매칭된 데이터 사용\n",
    "def fill_councilarea(row):\n",
    "    if pd.isnull(row['CouncilArea']): # 결측치 일경우\n",
    "        return mode_data[row['Suburb']]\n",
    "    return row['CouncilArea']\n"
   ],
   "id": "371a12d8efcc512c",
   "outputs": [],
   "execution_count": 23
  },
  {
   "metadata": {
    "ExecuteTime": {
     "end_time": "2024-08-19T01:11:48.418370Z",
     "start_time": "2024-08-19T01:11:48.269485Z"
    }
   },
   "cell_type": "code",
   "source": [
    "# apply : df에 커스텀 함수 적용\n",
    "house_data['CouncilArea'] = house_data.apply(fill_councilarea, axis=1)"
   ],
   "id": "94fe189cdf3301e8",
   "outputs": [],
   "execution_count": 24
  },
  {
   "metadata": {
    "ExecuteTime": {
     "end_time": "2024-08-19T01:11:48.425608Z",
     "start_time": "2024-08-19T01:11:48.420371Z"
    }
   },
   "cell_type": "code",
   "source": "house_data['CouncilArea'].isnull().sum()",
   "id": "ee5989a0c9c88f39",
   "outputs": [
    {
     "data": {
      "text/plain": [
       "0"
      ]
     },
     "execution_count": 25,
     "metadata": {},
     "output_type": "execute_result"
    }
   ],
   "execution_count": 25
  },
  {
   "metadata": {
    "ExecuteTime": {
     "end_time": "2024-08-19T01:11:48.438606Z",
     "start_time": "2024-08-19T01:11:48.426606Z"
    }
   },
   "cell_type": "code",
   "source": [
    "# corr : 상관계수 확인\n",
    "house_corr = house_data.corr(numeric_only= True)"
   ],
   "id": "bc2bce9958f9d562",
   "outputs": [],
   "execution_count": 26
  },
  {
   "metadata": {
    "ExecuteTime": {
     "end_time": "2024-08-19T01:11:48.447302Z",
     "start_time": "2024-08-19T01:11:48.439607Z"
    }
   },
   "cell_type": "code",
   "source": [
    "# 모델링을 위해 컬럼(입력특성) 선택\n",
    "house_corr['Price'].sort_values(ascending=False)\n",
    "# 절대값(abs)으로 확인 -> 1에 가까울수록 상관관계가 높다"
   ],
   "id": "4e88db92f30946d1",
   "outputs": [
    {
     "data": {
      "text/plain": [
       "Price            1.000000\n",
       "Rooms            0.496634\n",
       "Bedroom2         0.475951\n",
       "Bathroom         0.467038\n",
       "Car              0.238979\n",
       "Longtitude       0.203656\n",
       "Postcode         0.107867\n",
       "BuildingArea     0.090981\n",
       "Landsize         0.037507\n",
       "Propertycount   -0.042153\n",
       "Distance        -0.162522\n",
       "Lattitude       -0.212934\n",
       "YearBuilt       -0.323617\n",
       "Name: Price, dtype: float64"
      ]
     },
     "execution_count": 27,
     "metadata": {},
     "output_type": "execute_result"
    }
   ],
   "execution_count": 27
  },
  {
   "metadata": {
    "ExecuteTime": {
     "end_time": "2024-08-19T01:11:48.453302Z",
     "start_time": "2024-08-19T01:11:48.449298Z"
    }
   },
   "cell_type": "code",
   "source": [
    "# 학습에 사용할 입력특성 선택\n",
    "feature_names = ['Rooms','Bedroom2','Bathroom','Lattitude','Longtitude','Distance','Type','CouncilArea']"
   ],
   "id": "e4b37308ee388407",
   "outputs": [],
   "execution_count": 28
  },
  {
   "metadata": {},
   "cell_type": "markdown",
   "source": [
    "-  모델 학습을 위한 데이터 분리\n",
    "    - 문제데이터(x), 정답데이터(y)\n",
    "      - 머신러닝 학습을 위해 문제 데이터는 2차원형태\n",
    "    - 훈련용, 테스트용 데이터 "
   ],
   "id": "6e4fceadb2dcfdb6"
  },
  {
   "metadata": {
    "ExecuteTime": {
     "end_time": "2024-08-19T01:11:48.459600Z",
     "start_time": "2024-08-19T01:11:48.455299Z"
    }
   },
   "cell_type": "code",
   "source": [
    "# 문제 데이터 추출\n",
    "X = house_data[feature_names]\n",
    "# 정답 데이터 추출\n",
    "y = house_data['Price']"
   ],
   "id": "ad1bfb6d8e33298c",
   "outputs": [],
   "execution_count": 29
  },
  {
   "metadata": {
    "ExecuteTime": {
     "end_time": "2024-08-19T01:11:48.993587Z",
     "start_time": "2024-08-19T01:11:48.460597Z"
    }
   },
   "cell_type": "code",
   "source": [
    "# 훈련과 평가용 데이터 분리\n",
    "from sklearn.model_selection import train_test_split\n",
    "# train_test_split(문제,정답,분리비율,고정키)\n",
    "X_train, X_test, y_train, y_test = train_test_split(X, y, test_size=0.3, random_state=15)"
   ],
   "id": "807e2fcf54d2f822",
   "outputs": [],
   "execution_count": 30
  },
  {
   "metadata": {
    "ExecuteTime": {
     "end_time": "2024-08-19T01:11:49.001526Z",
     "start_time": "2024-08-19T01:11:48.994584Z"
    }
   },
   "cell_type": "code",
   "source": [
    "# 크기 확인\n",
    "X_train.shape, y_train.shape, X_test.shape, y_test.shape"
   ],
   "id": "bcee35b2c9b14ba5",
   "outputs": [
    {
     "data": {
      "text/plain": [
       "((9506, 8), (9506,), (4074, 8), (4074,))"
      ]
     },
     "execution_count": 31,
     "metadata": {},
     "output_type": "execute_result"
    }
   ],
   "execution_count": 31
  },
  {
   "metadata": {
    "ExecuteTime": {
     "end_time": "2024-08-19T01:11:49.006928Z",
     "start_time": "2024-08-19T01:11:49.003526Z"
    }
   },
   "cell_type": "code",
   "source": "",
   "id": "346b5cf1401b68d4",
   "outputs": [],
   "execution_count": 31
  },
  {
   "metadata": {},
   "cell_type": "markdown",
   "source": [
    "### 데이터 전처리\n",
    "- 문자데이터 -> 수치화(인코딩)\n",
    "- 인코딩방법 2가지\n",
    "    1. 원핫인코딩\n",
    "    2. 레이블인코딩"
   ],
   "id": "c12fae4f844a0a2b"
  },
  {
   "metadata": {
    "ExecuteTime": {
     "end_time": "2024-08-19T01:11:49.020528Z",
     "start_time": "2024-08-19T01:11:49.008924Z"
    }
   },
   "cell_type": "code",
   "source": [
    "# 문자열 데이터 확인\n",
    "X_train.info()\n"
   ],
   "id": "b4a8b6c07a967da2",
   "outputs": [
    {
     "name": "stdout",
     "output_type": "stream",
     "text": [
      "<class 'pandas.core.frame.DataFrame'>\n",
      "Index: 9506 entries, 13253 to 7624\n",
      "Data columns (total 8 columns):\n",
      " #   Column       Non-Null Count  Dtype  \n",
      "---  ------       --------------  -----  \n",
      " 0   Rooms        9506 non-null   int64  \n",
      " 1   Bedroom2     9506 non-null   float64\n",
      " 2   Bathroom     9506 non-null   float64\n",
      " 3   Lattitude    9506 non-null   float64\n",
      " 4   Longtitude   9506 non-null   float64\n",
      " 5   Distance     9506 non-null   float64\n",
      " 6   Type         9506 non-null   object \n",
      " 7   CouncilArea  9506 non-null   object \n",
      "dtypes: float64(5), int64(1), object(2)\n",
      "memory usage: 668.4+ KB\n"
     ]
    }
   ],
   "execution_count": 32
  },
  {
   "metadata": {
    "ExecuteTime": {
     "end_time": "2024-08-19T01:11:49.027235Z",
     "start_time": "2024-08-19T01:11:49.023529Z"
    }
   },
   "cell_type": "code",
   "source": [
    "# pd.get_dummies(X)\n",
    "# 오류 : TypeError : unhashable type: 'list' : 'numpy.ndarray'는 해쉬가 불가능\n",
    "# -> 데이터 내에 numpy 배열이 있어서 오류가 발생, 확인후 제거"
   ],
   "id": "6cc4bc8a85546f68",
   "outputs": [],
   "execution_count": 33
  },
  {
   "metadata": {
    "ExecuteTime": {
     "end_time": "2024-08-19T01:11:49.035367Z",
     "start_time": "2024-08-19T01:11:49.029229Z"
    }
   },
   "cell_type": "code",
   "source": [
    "# 데이터 타입 확인\n",
    "X['CouncilArea'] = X['CouncilArea'].astype('str')"
   ],
   "id": "9f19f384bd1ee83a",
   "outputs": [],
   "execution_count": 34
  },
  {
   "metadata": {
    "ExecuteTime": {
     "end_time": "2024-08-19T01:11:49.049342Z",
     "start_time": "2024-08-19T01:11:49.038367Z"
    }
   },
   "cell_type": "code",
   "source": "X['CouncilArea'] == \"[]\"",
   "id": "e78ac10d16ddaf5d",
   "outputs": [
    {
     "data": {
      "text/plain": [
       "0        False\n",
       "1        False\n",
       "2        False\n",
       "3        False\n",
       "4        False\n",
       "         ...  \n",
       "13575    False\n",
       "13576    False\n",
       "13577    False\n",
       "13578    False\n",
       "13579    False\n",
       "Name: CouncilArea, Length: 13580, dtype: bool"
      ]
     },
     "execution_count": 35,
     "metadata": {},
     "output_type": "execute_result"
    }
   ],
   "execution_count": 35
  },
  {
   "metadata": {
    "ExecuteTime": {
     "end_time": "2024-08-19T01:11:49.058944Z",
     "start_time": "2024-08-19T01:11:49.051338Z"
    }
   },
   "cell_type": "code",
   "source": [
    "# 불리언인덱싱\n",
    "arr = X[X['CouncilArea'] == \"[]\"]"
   ],
   "id": "2161bbc2ec84e7c9",
   "outputs": [],
   "execution_count": 36
  },
  {
   "metadata": {
    "ExecuteTime": {
     "end_time": "2024-08-19T01:11:49.066984Z",
     "start_time": "2024-08-19T01:11:49.060940Z"
    }
   },
   "cell_type": "code",
   "source": [
    "# 데이터 삭제\n",
    "X.drop(arr.index, inplace=True)"
   ],
   "id": "e114aaa74668907",
   "outputs": [],
   "execution_count": 37
  },
  {
   "metadata": {
    "ExecuteTime": {
     "end_time": "2024-08-19T01:11:49.075980Z",
     "start_time": "2024-08-19T01:11:49.068982Z"
    }
   },
   "cell_type": "code",
   "source": "X.shape",
   "id": "992831f4a20a7daf",
   "outputs": [
    {
     "data": {
      "text/plain": [
       "(13580, 8)"
      ]
     },
     "execution_count": 38,
     "metadata": {},
     "output_type": "execute_result"
    }
   ],
   "execution_count": 38
  },
  {
   "metadata": {
    "ExecuteTime": {
     "end_time": "2024-08-19T01:11:49.083499Z",
     "start_time": "2024-08-19T01:11:49.077980Z"
    }
   },
   "cell_type": "code",
   "source": "y.drop(arr.index,inplace=True)",
   "id": "a5f3b7cdeb547261",
   "outputs": [],
   "execution_count": 39
  },
  {
   "metadata": {
    "ExecuteTime": {
     "end_time": "2024-08-19T01:11:49.091541Z",
     "start_time": "2024-08-19T01:11:49.084501Z"
    }
   },
   "cell_type": "code",
   "source": "y.shape",
   "id": "613e2156b2217b33",
   "outputs": [
    {
     "data": {
      "text/plain": [
       "(13580,)"
      ]
     },
     "execution_count": 40,
     "metadata": {},
     "output_type": "execute_result"
    }
   ],
   "execution_count": 40
  },
  {
   "metadata": {
    "ExecuteTime": {
     "end_time": "2024-08-19T01:11:49.108649Z",
     "start_time": "2024-08-19T01:11:49.093063Z"
    }
   },
   "cell_type": "code",
   "source": [
    "# 원핫인코딩\n",
    "X_one_hot = pd.get_dummies(X, dtype='int64')\n"
   ],
   "id": "375627fd79884aec",
   "outputs": [],
   "execution_count": 41
  },
  {
   "metadata": {
    "ExecuteTime": {
     "end_time": "2024-08-19T01:11:49.133646Z",
     "start_time": "2024-08-19T01:11:49.110646Z"
    }
   },
   "cell_type": "code",
   "source": "X_one_hot.head()",
   "id": "18a00f10f2dc3601",
   "outputs": [
    {
     "data": {
      "text/plain": [
       "   Rooms  Bedroom2  Bathroom  Lattitude  Longtitude  Distance  Type_h  Type_t  \\\n",
       "0      2       2.0       1.0   -37.7996    144.9984       2.5       1       0   \n",
       "1      2       2.0       1.0   -37.8079    144.9934       2.5       1       0   \n",
       "2      3       3.0       2.0   -37.8093    144.9944       2.5       1       0   \n",
       "3      3       3.0       2.0   -37.7969    144.9969       2.5       1       0   \n",
       "4      4       3.0       1.0   -37.8072    144.9941       2.5       1       0   \n",
       "\n",
       "   Type_u  CouncilArea_Banyule  CouncilArea_Bayside  CouncilArea_Boroondara  \\\n",
       "0       0                    0                    0                       0   \n",
       "1       0                    0                    0                       0   \n",
       "2       0                    0                    0                       0   \n",
       "3       0                    0                    0                       0   \n",
       "4       0                    0                    0                       0   \n",
       "\n",
       "   CouncilArea_Brimbank  CouncilArea_Cardinia  CouncilArea_Casey  \\\n",
       "0                     0                     0                  0   \n",
       "1                     0                     0                  0   \n",
       "2                     0                     0                  0   \n",
       "3                     0                     0                  0   \n",
       "4                     0                     0                  0   \n",
       "\n",
       "   CouncilArea_Darebin  CouncilArea_Frankston  CouncilArea_Glen Eira  \\\n",
       "0                    0                      0                      0   \n",
       "1                    0                      0                      0   \n",
       "2                    0                      0                      0   \n",
       "3                    0                      0                      0   \n",
       "4                    0                      0                      0   \n",
       "\n",
       "   CouncilArea_Greater Dandenong  CouncilArea_Hobsons Bay  CouncilArea_Hume  \\\n",
       "0                              0                        0                 0   \n",
       "1                              0                        0                 0   \n",
       "2                              0                        0                 0   \n",
       "3                              0                        0                 0   \n",
       "4                              0                        0                 0   \n",
       "\n",
       "   CouncilArea_Kingston  CouncilArea_Knox  CouncilArea_Macedon Ranges  \\\n",
       "0                     0                 0                           0   \n",
       "1                     0                 0                           0   \n",
       "2                     0                 0                           0   \n",
       "3                     0                 0                           0   \n",
       "4                     0                 0                           0   \n",
       "\n",
       "   CouncilArea_Manningham  CouncilArea_Maribyrnong  CouncilArea_Maroondah  \\\n",
       "0                       0                        0                      0   \n",
       "1                       0                        0                      0   \n",
       "2                       0                        0                      0   \n",
       "3                       0                        0                      0   \n",
       "4                       0                        0                      0   \n",
       "\n",
       "   CouncilArea_Melbourne  CouncilArea_Melton  CouncilArea_Monash  \\\n",
       "0                      0                   0                   0   \n",
       "1                      0                   0                   0   \n",
       "2                      0                   0                   0   \n",
       "3                      0                   0                   0   \n",
       "4                      0                   0                   0   \n",
       "\n",
       "   CouncilArea_Moonee Valley  CouncilArea_Moorabool  CouncilArea_Moreland  \\\n",
       "0                          0                      0                     0   \n",
       "1                          0                      0                     0   \n",
       "2                          0                      0                     0   \n",
       "3                          0                      0                     0   \n",
       "4                          0                      0                     0   \n",
       "\n",
       "   CouncilArea_Nillumbik  CouncilArea_Port Phillip  CouncilArea_Stonnington  \\\n",
       "0                      0                         0                        0   \n",
       "1                      0                         0                        0   \n",
       "2                      0                         0                        0   \n",
       "3                      0                         0                        0   \n",
       "4                      0                         0                        0   \n",
       "\n",
       "   CouncilArea_Unavailable  CouncilArea_Whitehorse  CouncilArea_Whittlesea  \\\n",
       "0                        0                       0                       0   \n",
       "1                        0                       0                       0   \n",
       "2                        0                       0                       0   \n",
       "3                        0                       0                       0   \n",
       "4                        0                       0                       0   \n",
       "\n",
       "   CouncilArea_Wyndham  CouncilArea_Yarra  CouncilArea_Yarra Ranges  \n",
       "0                    0                  1                         0  \n",
       "1                    0                  1                         0  \n",
       "2                    0                  1                         0  \n",
       "3                    0                  1                         0  \n",
       "4                    0                  1                         0  "
      ],
      "text/html": [
       "<div>\n",
       "<style scoped>\n",
       "    .dataframe tbody tr th:only-of-type {\n",
       "        vertical-align: middle;\n",
       "    }\n",
       "\n",
       "    .dataframe tbody tr th {\n",
       "        vertical-align: top;\n",
       "    }\n",
       "\n",
       "    .dataframe thead th {\n",
       "        text-align: right;\n",
       "    }\n",
       "</style>\n",
       "<table border=\"1\" class=\"dataframe\">\n",
       "  <thead>\n",
       "    <tr style=\"text-align: right;\">\n",
       "      <th></th>\n",
       "      <th>Rooms</th>\n",
       "      <th>Bedroom2</th>\n",
       "      <th>Bathroom</th>\n",
       "      <th>Lattitude</th>\n",
       "      <th>Longtitude</th>\n",
       "      <th>Distance</th>\n",
       "      <th>Type_h</th>\n",
       "      <th>Type_t</th>\n",
       "      <th>Type_u</th>\n",
       "      <th>CouncilArea_Banyule</th>\n",
       "      <th>CouncilArea_Bayside</th>\n",
       "      <th>CouncilArea_Boroondara</th>\n",
       "      <th>CouncilArea_Brimbank</th>\n",
       "      <th>CouncilArea_Cardinia</th>\n",
       "      <th>CouncilArea_Casey</th>\n",
       "      <th>CouncilArea_Darebin</th>\n",
       "      <th>CouncilArea_Frankston</th>\n",
       "      <th>CouncilArea_Glen Eira</th>\n",
       "      <th>CouncilArea_Greater Dandenong</th>\n",
       "      <th>CouncilArea_Hobsons Bay</th>\n",
       "      <th>CouncilArea_Hume</th>\n",
       "      <th>CouncilArea_Kingston</th>\n",
       "      <th>CouncilArea_Knox</th>\n",
       "      <th>CouncilArea_Macedon Ranges</th>\n",
       "      <th>CouncilArea_Manningham</th>\n",
       "      <th>CouncilArea_Maribyrnong</th>\n",
       "      <th>CouncilArea_Maroondah</th>\n",
       "      <th>CouncilArea_Melbourne</th>\n",
       "      <th>CouncilArea_Melton</th>\n",
       "      <th>CouncilArea_Monash</th>\n",
       "      <th>CouncilArea_Moonee Valley</th>\n",
       "      <th>CouncilArea_Moorabool</th>\n",
       "      <th>CouncilArea_Moreland</th>\n",
       "      <th>CouncilArea_Nillumbik</th>\n",
       "      <th>CouncilArea_Port Phillip</th>\n",
       "      <th>CouncilArea_Stonnington</th>\n",
       "      <th>CouncilArea_Unavailable</th>\n",
       "      <th>CouncilArea_Whitehorse</th>\n",
       "      <th>CouncilArea_Whittlesea</th>\n",
       "      <th>CouncilArea_Wyndham</th>\n",
       "      <th>CouncilArea_Yarra</th>\n",
       "      <th>CouncilArea_Yarra Ranges</th>\n",
       "    </tr>\n",
       "  </thead>\n",
       "  <tbody>\n",
       "    <tr>\n",
       "      <th>0</th>\n",
       "      <td>2</td>\n",
       "      <td>2.0</td>\n",
       "      <td>1.0</td>\n",
       "      <td>-37.7996</td>\n",
       "      <td>144.9984</td>\n",
       "      <td>2.5</td>\n",
       "      <td>1</td>\n",
       "      <td>0</td>\n",
       "      <td>0</td>\n",
       "      <td>0</td>\n",
       "      <td>0</td>\n",
       "      <td>0</td>\n",
       "      <td>0</td>\n",
       "      <td>0</td>\n",
       "      <td>0</td>\n",
       "      <td>0</td>\n",
       "      <td>0</td>\n",
       "      <td>0</td>\n",
       "      <td>0</td>\n",
       "      <td>0</td>\n",
       "      <td>0</td>\n",
       "      <td>0</td>\n",
       "      <td>0</td>\n",
       "      <td>0</td>\n",
       "      <td>0</td>\n",
       "      <td>0</td>\n",
       "      <td>0</td>\n",
       "      <td>0</td>\n",
       "      <td>0</td>\n",
       "      <td>0</td>\n",
       "      <td>0</td>\n",
       "      <td>0</td>\n",
       "      <td>0</td>\n",
       "      <td>0</td>\n",
       "      <td>0</td>\n",
       "      <td>0</td>\n",
       "      <td>0</td>\n",
       "      <td>0</td>\n",
       "      <td>0</td>\n",
       "      <td>0</td>\n",
       "      <td>1</td>\n",
       "      <td>0</td>\n",
       "    </tr>\n",
       "    <tr>\n",
       "      <th>1</th>\n",
       "      <td>2</td>\n",
       "      <td>2.0</td>\n",
       "      <td>1.0</td>\n",
       "      <td>-37.8079</td>\n",
       "      <td>144.9934</td>\n",
       "      <td>2.5</td>\n",
       "      <td>1</td>\n",
       "      <td>0</td>\n",
       "      <td>0</td>\n",
       "      <td>0</td>\n",
       "      <td>0</td>\n",
       "      <td>0</td>\n",
       "      <td>0</td>\n",
       "      <td>0</td>\n",
       "      <td>0</td>\n",
       "      <td>0</td>\n",
       "      <td>0</td>\n",
       "      <td>0</td>\n",
       "      <td>0</td>\n",
       "      <td>0</td>\n",
       "      <td>0</td>\n",
       "      <td>0</td>\n",
       "      <td>0</td>\n",
       "      <td>0</td>\n",
       "      <td>0</td>\n",
       "      <td>0</td>\n",
       "      <td>0</td>\n",
       "      <td>0</td>\n",
       "      <td>0</td>\n",
       "      <td>0</td>\n",
       "      <td>0</td>\n",
       "      <td>0</td>\n",
       "      <td>0</td>\n",
       "      <td>0</td>\n",
       "      <td>0</td>\n",
       "      <td>0</td>\n",
       "      <td>0</td>\n",
       "      <td>0</td>\n",
       "      <td>0</td>\n",
       "      <td>0</td>\n",
       "      <td>1</td>\n",
       "      <td>0</td>\n",
       "    </tr>\n",
       "    <tr>\n",
       "      <th>2</th>\n",
       "      <td>3</td>\n",
       "      <td>3.0</td>\n",
       "      <td>2.0</td>\n",
       "      <td>-37.8093</td>\n",
       "      <td>144.9944</td>\n",
       "      <td>2.5</td>\n",
       "      <td>1</td>\n",
       "      <td>0</td>\n",
       "      <td>0</td>\n",
       "      <td>0</td>\n",
       "      <td>0</td>\n",
       "      <td>0</td>\n",
       "      <td>0</td>\n",
       "      <td>0</td>\n",
       "      <td>0</td>\n",
       "      <td>0</td>\n",
       "      <td>0</td>\n",
       "      <td>0</td>\n",
       "      <td>0</td>\n",
       "      <td>0</td>\n",
       "      <td>0</td>\n",
       "      <td>0</td>\n",
       "      <td>0</td>\n",
       "      <td>0</td>\n",
       "      <td>0</td>\n",
       "      <td>0</td>\n",
       "      <td>0</td>\n",
       "      <td>0</td>\n",
       "      <td>0</td>\n",
       "      <td>0</td>\n",
       "      <td>0</td>\n",
       "      <td>0</td>\n",
       "      <td>0</td>\n",
       "      <td>0</td>\n",
       "      <td>0</td>\n",
       "      <td>0</td>\n",
       "      <td>0</td>\n",
       "      <td>0</td>\n",
       "      <td>0</td>\n",
       "      <td>0</td>\n",
       "      <td>1</td>\n",
       "      <td>0</td>\n",
       "    </tr>\n",
       "    <tr>\n",
       "      <th>3</th>\n",
       "      <td>3</td>\n",
       "      <td>3.0</td>\n",
       "      <td>2.0</td>\n",
       "      <td>-37.7969</td>\n",
       "      <td>144.9969</td>\n",
       "      <td>2.5</td>\n",
       "      <td>1</td>\n",
       "      <td>0</td>\n",
       "      <td>0</td>\n",
       "      <td>0</td>\n",
       "      <td>0</td>\n",
       "      <td>0</td>\n",
       "      <td>0</td>\n",
       "      <td>0</td>\n",
       "      <td>0</td>\n",
       "      <td>0</td>\n",
       "      <td>0</td>\n",
       "      <td>0</td>\n",
       "      <td>0</td>\n",
       "      <td>0</td>\n",
       "      <td>0</td>\n",
       "      <td>0</td>\n",
       "      <td>0</td>\n",
       "      <td>0</td>\n",
       "      <td>0</td>\n",
       "      <td>0</td>\n",
       "      <td>0</td>\n",
       "      <td>0</td>\n",
       "      <td>0</td>\n",
       "      <td>0</td>\n",
       "      <td>0</td>\n",
       "      <td>0</td>\n",
       "      <td>0</td>\n",
       "      <td>0</td>\n",
       "      <td>0</td>\n",
       "      <td>0</td>\n",
       "      <td>0</td>\n",
       "      <td>0</td>\n",
       "      <td>0</td>\n",
       "      <td>0</td>\n",
       "      <td>1</td>\n",
       "      <td>0</td>\n",
       "    </tr>\n",
       "    <tr>\n",
       "      <th>4</th>\n",
       "      <td>4</td>\n",
       "      <td>3.0</td>\n",
       "      <td>1.0</td>\n",
       "      <td>-37.8072</td>\n",
       "      <td>144.9941</td>\n",
       "      <td>2.5</td>\n",
       "      <td>1</td>\n",
       "      <td>0</td>\n",
       "      <td>0</td>\n",
       "      <td>0</td>\n",
       "      <td>0</td>\n",
       "      <td>0</td>\n",
       "      <td>0</td>\n",
       "      <td>0</td>\n",
       "      <td>0</td>\n",
       "      <td>0</td>\n",
       "      <td>0</td>\n",
       "      <td>0</td>\n",
       "      <td>0</td>\n",
       "      <td>0</td>\n",
       "      <td>0</td>\n",
       "      <td>0</td>\n",
       "      <td>0</td>\n",
       "      <td>0</td>\n",
       "      <td>0</td>\n",
       "      <td>0</td>\n",
       "      <td>0</td>\n",
       "      <td>0</td>\n",
       "      <td>0</td>\n",
       "      <td>0</td>\n",
       "      <td>0</td>\n",
       "      <td>0</td>\n",
       "      <td>0</td>\n",
       "      <td>0</td>\n",
       "      <td>0</td>\n",
       "      <td>0</td>\n",
       "      <td>0</td>\n",
       "      <td>0</td>\n",
       "      <td>0</td>\n",
       "      <td>0</td>\n",
       "      <td>1</td>\n",
       "      <td>0</td>\n",
       "    </tr>\n",
       "  </tbody>\n",
       "</table>\n",
       "</div>"
      ]
     },
     "execution_count": 42,
     "metadata": {},
     "output_type": "execute_result"
    }
   ],
   "execution_count": 42
  },
  {
   "metadata": {
    "ExecuteTime": {
     "end_time": "2024-08-19T01:12:24.678326Z",
     "start_time": "2024-08-19T01:12:24.666119Z"
    }
   },
   "cell_type": "code",
   "source": "X_train, X_test, y_train, y_test = train_test_split(X_one_hot, y, test_size=0.3, random_state=15)",
   "id": "5844c2eff46723cf",
   "outputs": [],
   "execution_count": 45
  },
  {
   "metadata": {
    "ExecuteTime": {
     "end_time": "2024-08-19T01:12:34.308099Z",
     "start_time": "2024-08-19T01:12:34.300806Z"
    }
   },
   "cell_type": "code",
   "source": "X_train.shape, y_train.shape, X_test.shape, y_test.shape",
   "id": "9a87ecf6d8207afe",
   "outputs": [
    {
     "data": {
      "text/plain": [
       "((9506, 42), (9506,), (4074, 42), (4074,))"
      ]
     },
     "execution_count": 46,
     "metadata": {},
     "output_type": "execute_result"
    }
   ],
   "execution_count": 46
  },
  {
   "metadata": {
    "ExecuteTime": {
     "end_time": "2024-08-19T01:23:13.048143Z",
     "start_time": "2024-08-19T01:23:09.364083Z"
    }
   },
   "cell_type": "code",
   "source": [
    "# 모델 생성\n",
    "from sklearn.linear_model import LinearRegression\n",
    "house_model_linear = LinearRegression()\n"
   ],
   "id": "204c73fdc9a0a007",
   "outputs": [],
   "execution_count": 49
  },
  {
   "metadata": {
    "ExecuteTime": {
     "end_time": "2024-08-19T01:26:42.897021Z",
     "start_time": "2024-08-19T01:26:42.829036Z"
    }
   },
   "cell_type": "code",
   "source": [
    "# 모델 학습\n",
    "house_model_linear.fit(X_train, y_train)"
   ],
   "id": "2554c919736e0de1",
   "outputs": [
    {
     "data": {
      "text/plain": [
       "LinearRegression()"
      ],
      "text/html": [
       "<style>#sk-container-id-1 {color: black;background-color: white;}#sk-container-id-1 pre{padding: 0;}#sk-container-id-1 div.sk-toggleable {background-color: white;}#sk-container-id-1 label.sk-toggleable__label {cursor: pointer;display: block;width: 100%;margin-bottom: 0;padding: 0.3em;box-sizing: border-box;text-align: center;}#sk-container-id-1 label.sk-toggleable__label-arrow:before {content: \"▸\";float: left;margin-right: 0.25em;color: #696969;}#sk-container-id-1 label.sk-toggleable__label-arrow:hover:before {color: black;}#sk-container-id-1 div.sk-estimator:hover label.sk-toggleable__label-arrow:before {color: black;}#sk-container-id-1 div.sk-toggleable__content {max-height: 0;max-width: 0;overflow: hidden;text-align: left;background-color: #f0f8ff;}#sk-container-id-1 div.sk-toggleable__content pre {margin: 0.2em;color: black;border-radius: 0.25em;background-color: #f0f8ff;}#sk-container-id-1 input.sk-toggleable__control:checked~div.sk-toggleable__content {max-height: 200px;max-width: 100%;overflow: auto;}#sk-container-id-1 input.sk-toggleable__control:checked~label.sk-toggleable__label-arrow:before {content: \"▾\";}#sk-container-id-1 div.sk-estimator input.sk-toggleable__control:checked~label.sk-toggleable__label {background-color: #d4ebff;}#sk-container-id-1 div.sk-label input.sk-toggleable__control:checked~label.sk-toggleable__label {background-color: #d4ebff;}#sk-container-id-1 input.sk-hidden--visually {border: 0;clip: rect(1px 1px 1px 1px);clip: rect(1px, 1px, 1px, 1px);height: 1px;margin: -1px;overflow: hidden;padding: 0;position: absolute;width: 1px;}#sk-container-id-1 div.sk-estimator {font-family: monospace;background-color: #f0f8ff;border: 1px dotted black;border-radius: 0.25em;box-sizing: border-box;margin-bottom: 0.5em;}#sk-container-id-1 div.sk-estimator:hover {background-color: #d4ebff;}#sk-container-id-1 div.sk-parallel-item::after {content: \"\";width: 100%;border-bottom: 1px solid gray;flex-grow: 1;}#sk-container-id-1 div.sk-label:hover label.sk-toggleable__label {background-color: #d4ebff;}#sk-container-id-1 div.sk-serial::before {content: \"\";position: absolute;border-left: 1px solid gray;box-sizing: border-box;top: 0;bottom: 0;left: 50%;z-index: 0;}#sk-container-id-1 div.sk-serial {display: flex;flex-direction: column;align-items: center;background-color: white;padding-right: 0.2em;padding-left: 0.2em;position: relative;}#sk-container-id-1 div.sk-item {position: relative;z-index: 1;}#sk-container-id-1 div.sk-parallel {display: flex;align-items: stretch;justify-content: center;background-color: white;position: relative;}#sk-container-id-1 div.sk-item::before, #sk-container-id-1 div.sk-parallel-item::before {content: \"\";position: absolute;border-left: 1px solid gray;box-sizing: border-box;top: 0;bottom: 0;left: 50%;z-index: -1;}#sk-container-id-1 div.sk-parallel-item {display: flex;flex-direction: column;z-index: 1;position: relative;background-color: white;}#sk-container-id-1 div.sk-parallel-item:first-child::after {align-self: flex-end;width: 50%;}#sk-container-id-1 div.sk-parallel-item:last-child::after {align-self: flex-start;width: 50%;}#sk-container-id-1 div.sk-parallel-item:only-child::after {width: 0;}#sk-container-id-1 div.sk-dashed-wrapped {border: 1px dashed gray;margin: 0 0.4em 0.5em 0.4em;box-sizing: border-box;padding-bottom: 0.4em;background-color: white;}#sk-container-id-1 div.sk-label label {font-family: monospace;font-weight: bold;display: inline-block;line-height: 1.2em;}#sk-container-id-1 div.sk-label-container {text-align: center;}#sk-container-id-1 div.sk-container {/* jupyter's `normalize.less` sets `[hidden] { display: none; }` but bootstrap.min.css set `[hidden] { display: none !important; }` so we also need the `!important` here to be able to override the default hidden behavior on the sphinx rendered scikit-learn.org. See: https://github.com/scikit-learn/scikit-learn/issues/21755 */display: inline-block !important;position: relative;}#sk-container-id-1 div.sk-text-repr-fallback {display: none;}</style><div id=\"sk-container-id-1\" class=\"sk-top-container\"><div class=\"sk-text-repr-fallback\"><pre>LinearRegression()</pre><b>In a Jupyter environment, please rerun this cell to show the HTML representation or trust the notebook. <br />On GitHub, the HTML representation is unable to render, please try loading this page with nbviewer.org.</b></div><div class=\"sk-container\" hidden><div class=\"sk-item\"><div class=\"sk-estimator sk-toggleable\"><input class=\"sk-toggleable__control sk-hidden--visually\" id=\"sk-estimator-id-1\" type=\"checkbox\" checked><label for=\"sk-estimator-id-1\" class=\"sk-toggleable__label sk-toggleable__label-arrow\">LinearRegression</label><div class=\"sk-toggleable__content\"><pre>LinearRegression()</pre></div></div></div></div></div>"
      ]
     },
     "execution_count": 50,
     "metadata": {},
     "output_type": "execute_result"
    }
   ],
   "execution_count": 50
  },
  {
   "metadata": {
    "ExecuteTime": {
     "end_time": "2024-08-19T01:27:23.103560Z",
     "start_time": "2024-08-19T01:27:23.097767Z"
    }
   },
   "cell_type": "code",
   "source": [
    "# 가중치, 절편 확인\n",
    "# 선형함수 : y = wx + b\n",
    "print('가중치', house_model_linear.coef_, '절편', house_model_linear.intercept_)"
   ],
   "id": "1fb7cc43cfac2359",
   "outputs": [
    {
     "name": "stdout",
     "output_type": "stream",
     "text": [
      "가중치 [ 1.74428449e+05  1.50002498e+04  1.84066459e+05 -1.88831387e+06\n",
      "  5.86501269e+05 -3.79913187e+04  4.29619464e+16  4.29619464e+16\n",
      "  4.29619464e+16 -2.88755991e+15 -2.88755991e+15 -2.88755991e+15\n",
      " -2.88755991e+15 -2.88755991e+15 -2.88755991e+15 -2.88755991e+15\n",
      " -2.88755991e+15 -2.88755991e+15 -2.88755991e+15 -2.88755991e+15\n",
      " -2.88755991e+15 -2.88755991e+15 -2.88755991e+15 -2.88755991e+15\n",
      " -2.88755991e+15 -2.88755991e+15 -2.88755991e+15 -2.88755991e+15\n",
      " -2.88755991e+15 -2.88755991e+15 -2.88755991e+15 -2.88755991e+15\n",
      " -2.88755991e+15 -2.88755991e+15 -2.88755991e+15 -2.88755991e+15\n",
      " -2.88755991e+15 -2.88755991e+15 -2.88755991e+15 -2.88755991e+15\n",
      " -2.88755991e+15 -2.88755991e+15] 절편 -4.0074386617065064e+16\n"
     ]
    }
   ],
   "execution_count": 51
  },
  {
   "metadata": {
    "ExecuteTime": {
     "end_time": "2024-08-19T01:32:47.215898Z",
     "start_time": "2024-08-19T01:32:47.205646Z"
    }
   },
   "cell_type": "code",
   "source": [
    "# 모델 평가\n",
    "# score로 점수내주기\n",
    "print(\"Linear Score\", house_model_linear.score(X_test, y_test))\n"
   ],
   "id": "818ded5134b5aa52",
   "outputs": [
    {
     "name": "stdout",
     "output_type": "stream",
     "text": [
      "Linear Score 0.5984233741224456\n"
     ]
    }
   ],
   "execution_count": 52
  },
  {
   "metadata": {
    "ExecuteTime": {
     "end_time": "2024-08-19T01:36:37.242618Z",
     "start_time": "2024-08-19T01:36:37.238751Z"
    }
   },
   "cell_type": "code",
   "source": [
    "# 평가지표\n",
    "from sklearn.metrics import mean_squared_error"
   ],
   "id": "6acdb21cf47ea529",
   "outputs": [],
   "execution_count": 55
  },
  {
   "metadata": {
    "ExecuteTime": {
     "end_time": "2024-08-19T01:37:06.624232Z",
     "start_time": "2024-08-19T01:37:06.617447Z"
    }
   },
   "cell_type": "code",
   "source": "linear_pre_test = house_model_linear.predict(X_test)",
   "id": "70908f8ab0aeaf52",
   "outputs": [],
   "execution_count": 57
  },
  {
   "metadata": {
    "ExecuteTime": {
     "end_time": "2024-08-19T01:40:40.353209Z",
     "start_time": "2024-08-19T01:40:40.346244Z"
    }
   },
   "cell_type": "code",
   "source": "mean_squared_error(y_test, linear_pre_test)",
   "id": "6a43bfcef918ae52",
   "outputs": [
    {
     "data": {
      "text/plain": [
       "168296016039.93643"
      ]
     },
     "execution_count": 60,
     "metadata": {},
     "output_type": "execute_result"
    }
   ],
   "execution_count": 60
  },
  {
   "metadata": {
    "ExecuteTime": {
     "end_time": "2024-08-19T01:41:11.001622Z",
     "start_time": "2024-08-19T01:41:10.996485Z"
    }
   },
   "cell_type": "code",
   "source": [
    "# 제곱값에 제곱근 씌우는 계산 - 실제 단위 가늠할 수 있도록\n",
    "mean_squared_error(y_test, linear_pre_test) ** 0.5"
   ],
   "id": "f55f6047740659c2",
   "outputs": [
    {
     "data": {
      "text/plain": [
       "410238.9743063626"
      ]
     },
     "execution_count": 61,
     "metadata": {},
     "output_type": "execute_result"
    }
   ],
   "execution_count": 61
  },
  {
   "metadata": {
    "ExecuteTime": {
     "end_time": "2024-08-19T01:46:46.441820Z",
     "start_time": "2024-08-19T01:46:45.416322Z"
    }
   },
   "cell_type": "code",
   "source": [
    "inputnum = input()\n",
    "numlist = []\n",
    "\n",
    "for i in inputnum:\n",
    "    numlist.append(int(i))\n",
    "    \n",
    "maxresult = 0\n",
    " \n",
    "for i in range(len(numlist)):\n",
    "    if numlist[i] == 0 or numlist[i] == 1 or maxresult <= 1:\n",
    "        maxresult += numlist[i]\n",
    "    else:\n",
    "        maxresult *= numlist[i]\n",
    "\n",
    "print(maxresult)\n",
    "        "
   ],
   "id": "aca74c364b8b9dea",
   "outputs": [
    {
     "name": "stdout",
     "output_type": "stream",
     "text": [
      "210\n"
     ]
    }
   ],
   "execution_count": 74
  },
  {
   "metadata": {},
   "cell_type": "code",
   "outputs": [],
   "execution_count": null,
   "source": "",
   "id": "f576d3de8284b759"
  }
 ],
 "metadata": {
  "kernelspec": {
   "display_name": "Python 3",
   "language": "python",
   "name": "python3"
  },
  "language_info": {
   "codemirror_mode": {
    "name": "ipython",
    "version": 2
   },
   "file_extension": ".py",
   "mimetype": "text/x-python",
   "name": "python",
   "nbconvert_exporter": "python",
   "pygments_lexer": "ipython2",
   "version": "2.7.6"
  }
 },
 "nbformat": 4,
 "nbformat_minor": 5
}
