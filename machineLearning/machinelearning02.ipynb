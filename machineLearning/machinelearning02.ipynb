{
 "cells": [
  {
   "metadata": {},
   "cell_type": "markdown",
   "source": [
    "### 1. 문제 정의\n",
    "- 사내 이직률을 낮춰 다니고 싶은 회사, 떠나기 싫은 회사 이미지를 만들기"
   ],
   "id": "7d9c62e145cdc81b"
  },
  {
   "metadata": {},
   "cell_type": "markdown",
   "source": [
    "### 2. 데이터 수집\n",
    "- 직원 이직 데이터"
   ],
   "id": "6313b1974c68ed70"
  },
  {
   "metadata": {
    "ExecuteTime": {
     "end_time": "2024-08-20T00:30:48.584867Z",
     "start_time": "2024-08-20T00:30:48.580866Z"
    }
   },
   "cell_type": "code",
   "source": [
    "import warnings\n",
    "warnings.filterwarnings('ignore')"
   ],
   "id": "5388da44041e70e3",
   "outputs": [],
   "execution_count": 1
  },
  {
   "metadata": {
    "ExecuteTime": {
     "end_time": "2024-08-20T00:30:48.619286Z",
     "start_time": "2024-08-20T00:30:48.587868Z"
    }
   },
   "cell_type": "code",
   "source": [
    "import pandas as pd\n",
    "df = pd.read_csv('data/job_transfer.csv')"
   ],
   "id": "ac227670298172e3",
   "outputs": [],
   "execution_count": 2
  },
  {
   "metadata": {
    "ExecuteTime": {
     "end_time": "2024-08-20T00:30:48.646910Z",
     "start_time": "2024-08-20T00:30:48.620283Z"
    }
   },
   "cell_type": "code",
   "source": "df.head()",
   "id": "6dd345611f79f3c0",
   "outputs": [
    {
     "data": {
      "text/plain": [
       "   Age Attrition     BusinessTravel  DailyRate              Department  \\\n",
       "0   41       Yes      Travel_Rarely       1102                   Sales   \n",
       "1   49        No  Travel_Frequently        279  Research & Development   \n",
       "2   37       Yes      Travel_Rarely       1373  Research & Development   \n",
       "3   33        No  Travel_Frequently       1392  Research & Development   \n",
       "4   27        No      Travel_Rarely        591  Research & Development   \n",
       "\n",
       "   DistanceFromHome  Education EducationField  EmployeeCount  EmployeeNumber  \\\n",
       "0                 1          2  Life Sciences              1               1   \n",
       "1                 8          1  Life Sciences              1               2   \n",
       "2                 2          2          Other              1               4   \n",
       "3                 3          4  Life Sciences              1               5   \n",
       "4                 2          1        Medical              1               7   \n",
       "\n",
       "   ...  RelationshipSatisfaction StandardHours  StockOptionLevel  \\\n",
       "0  ...                         1            80                 0   \n",
       "1  ...                         4            80                 1   \n",
       "2  ...                         2            80                 0   \n",
       "3  ...                         3            80                 0   \n",
       "4  ...                         4            80                 1   \n",
       "\n",
       "   TotalWorkingYears  TrainingTimesLastYear WorkLifeBalance  YearsAtCompany  \\\n",
       "0                  8                      0               1               6   \n",
       "1                 10                      3               3              10   \n",
       "2                  7                      3               3               0   \n",
       "3                  8                      3               3               8   \n",
       "4                  6                      3               3               2   \n",
       "\n",
       "  YearsInCurrentRole  YearsSinceLastPromotion  YearsWithCurrManager  \n",
       "0                  4                        0                     5  \n",
       "1                  7                        1                     7  \n",
       "2                  0                        0                     0  \n",
       "3                  7                        3                     0  \n",
       "4                  2                        2                     2  \n",
       "\n",
       "[5 rows x 35 columns]"
      ],
      "text/html": [
       "<div>\n",
       "<style scoped>\n",
       "    .dataframe tbody tr th:only-of-type {\n",
       "        vertical-align: middle;\n",
       "    }\n",
       "\n",
       "    .dataframe tbody tr th {\n",
       "        vertical-align: top;\n",
       "    }\n",
       "\n",
       "    .dataframe thead th {\n",
       "        text-align: right;\n",
       "    }\n",
       "</style>\n",
       "<table border=\"1\" class=\"dataframe\">\n",
       "  <thead>\n",
       "    <tr style=\"text-align: right;\">\n",
       "      <th></th>\n",
       "      <th>Age</th>\n",
       "      <th>Attrition</th>\n",
       "      <th>BusinessTravel</th>\n",
       "      <th>DailyRate</th>\n",
       "      <th>Department</th>\n",
       "      <th>DistanceFromHome</th>\n",
       "      <th>Education</th>\n",
       "      <th>EducationField</th>\n",
       "      <th>EmployeeCount</th>\n",
       "      <th>EmployeeNumber</th>\n",
       "      <th>...</th>\n",
       "      <th>RelationshipSatisfaction</th>\n",
       "      <th>StandardHours</th>\n",
       "      <th>StockOptionLevel</th>\n",
       "      <th>TotalWorkingYears</th>\n",
       "      <th>TrainingTimesLastYear</th>\n",
       "      <th>WorkLifeBalance</th>\n",
       "      <th>YearsAtCompany</th>\n",
       "      <th>YearsInCurrentRole</th>\n",
       "      <th>YearsSinceLastPromotion</th>\n",
       "      <th>YearsWithCurrManager</th>\n",
       "    </tr>\n",
       "  </thead>\n",
       "  <tbody>\n",
       "    <tr>\n",
       "      <th>0</th>\n",
       "      <td>41</td>\n",
       "      <td>Yes</td>\n",
       "      <td>Travel_Rarely</td>\n",
       "      <td>1102</td>\n",
       "      <td>Sales</td>\n",
       "      <td>1</td>\n",
       "      <td>2</td>\n",
       "      <td>Life Sciences</td>\n",
       "      <td>1</td>\n",
       "      <td>1</td>\n",
       "      <td>...</td>\n",
       "      <td>1</td>\n",
       "      <td>80</td>\n",
       "      <td>0</td>\n",
       "      <td>8</td>\n",
       "      <td>0</td>\n",
       "      <td>1</td>\n",
       "      <td>6</td>\n",
       "      <td>4</td>\n",
       "      <td>0</td>\n",
       "      <td>5</td>\n",
       "    </tr>\n",
       "    <tr>\n",
       "      <th>1</th>\n",
       "      <td>49</td>\n",
       "      <td>No</td>\n",
       "      <td>Travel_Frequently</td>\n",
       "      <td>279</td>\n",
       "      <td>Research &amp; Development</td>\n",
       "      <td>8</td>\n",
       "      <td>1</td>\n",
       "      <td>Life Sciences</td>\n",
       "      <td>1</td>\n",
       "      <td>2</td>\n",
       "      <td>...</td>\n",
       "      <td>4</td>\n",
       "      <td>80</td>\n",
       "      <td>1</td>\n",
       "      <td>10</td>\n",
       "      <td>3</td>\n",
       "      <td>3</td>\n",
       "      <td>10</td>\n",
       "      <td>7</td>\n",
       "      <td>1</td>\n",
       "      <td>7</td>\n",
       "    </tr>\n",
       "    <tr>\n",
       "      <th>2</th>\n",
       "      <td>37</td>\n",
       "      <td>Yes</td>\n",
       "      <td>Travel_Rarely</td>\n",
       "      <td>1373</td>\n",
       "      <td>Research &amp; Development</td>\n",
       "      <td>2</td>\n",
       "      <td>2</td>\n",
       "      <td>Other</td>\n",
       "      <td>1</td>\n",
       "      <td>4</td>\n",
       "      <td>...</td>\n",
       "      <td>2</td>\n",
       "      <td>80</td>\n",
       "      <td>0</td>\n",
       "      <td>7</td>\n",
       "      <td>3</td>\n",
       "      <td>3</td>\n",
       "      <td>0</td>\n",
       "      <td>0</td>\n",
       "      <td>0</td>\n",
       "      <td>0</td>\n",
       "    </tr>\n",
       "    <tr>\n",
       "      <th>3</th>\n",
       "      <td>33</td>\n",
       "      <td>No</td>\n",
       "      <td>Travel_Frequently</td>\n",
       "      <td>1392</td>\n",
       "      <td>Research &amp; Development</td>\n",
       "      <td>3</td>\n",
       "      <td>4</td>\n",
       "      <td>Life Sciences</td>\n",
       "      <td>1</td>\n",
       "      <td>5</td>\n",
       "      <td>...</td>\n",
       "      <td>3</td>\n",
       "      <td>80</td>\n",
       "      <td>0</td>\n",
       "      <td>8</td>\n",
       "      <td>3</td>\n",
       "      <td>3</td>\n",
       "      <td>8</td>\n",
       "      <td>7</td>\n",
       "      <td>3</td>\n",
       "      <td>0</td>\n",
       "    </tr>\n",
       "    <tr>\n",
       "      <th>4</th>\n",
       "      <td>27</td>\n",
       "      <td>No</td>\n",
       "      <td>Travel_Rarely</td>\n",
       "      <td>591</td>\n",
       "      <td>Research &amp; Development</td>\n",
       "      <td>2</td>\n",
       "      <td>1</td>\n",
       "      <td>Medical</td>\n",
       "      <td>1</td>\n",
       "      <td>7</td>\n",
       "      <td>...</td>\n",
       "      <td>4</td>\n",
       "      <td>80</td>\n",
       "      <td>1</td>\n",
       "      <td>6</td>\n",
       "      <td>3</td>\n",
       "      <td>3</td>\n",
       "      <td>2</td>\n",
       "      <td>2</td>\n",
       "      <td>2</td>\n",
       "      <td>2</td>\n",
       "    </tr>\n",
       "  </tbody>\n",
       "</table>\n",
       "<p>5 rows × 35 columns</p>\n",
       "</div>"
      ]
     },
     "execution_count": 3,
     "metadata": {},
     "output_type": "execute_result"
    }
   ],
   "execution_count": 3
  },
  {
   "metadata": {},
   "cell_type": "markdown",
   "source": "### 3. 데이터 전처리",
   "id": "8799d8de636f2465"
  },
  {
   "metadata": {
    "ExecuteTime": {
     "end_time": "2024-08-20T00:30:48.665921Z",
     "start_time": "2024-08-20T00:30:48.647908Z"
    }
   },
   "cell_type": "code",
   "source": "df.info()",
   "id": "1375dfb55c46786f",
   "outputs": [
    {
     "name": "stdout",
     "output_type": "stream",
     "text": [
      "<class 'pandas.core.frame.DataFrame'>\n",
      "RangeIndex: 1470 entries, 0 to 1469\n",
      "Data columns (total 35 columns):\n",
      " #   Column                    Non-Null Count  Dtype \n",
      "---  ------                    --------------  ----- \n",
      " 0   Age                       1470 non-null   int64 \n",
      " 1   Attrition                 1470 non-null   object\n",
      " 2   BusinessTravel            1470 non-null   object\n",
      " 3   DailyRate                 1470 non-null   int64 \n",
      " 4   Department                1470 non-null   object\n",
      " 5   DistanceFromHome          1470 non-null   int64 \n",
      " 6   Education                 1470 non-null   int64 \n",
      " 7   EducationField            1470 non-null   object\n",
      " 8   EmployeeCount             1470 non-null   int64 \n",
      " 9   EmployeeNumber            1470 non-null   int64 \n",
      " 10  EnvironmentSatisfaction   1470 non-null   int64 \n",
      " 11  Gender                    1470 non-null   object\n",
      " 12  HourlyRate                1470 non-null   int64 \n",
      " 13  JobInvolvement            1470 non-null   int64 \n",
      " 14  JobLevel                  1470 non-null   int64 \n",
      " 15  JobRole                   1470 non-null   object\n",
      " 16  JobSatisfaction           1470 non-null   int64 \n",
      " 17  MaritalStatus             1470 non-null   object\n",
      " 18  MonthlyIncome             1470 non-null   int64 \n",
      " 19  MonthlyRate               1470 non-null   int64 \n",
      " 20  NumCompaniesWorked        1470 non-null   int64 \n",
      " 21  Over18                    1470 non-null   object\n",
      " 22  OverTime                  1470 non-null   object\n",
      " 23  PercentSalaryHike         1470 non-null   int64 \n",
      " 24  PerformanceRating         1470 non-null   int64 \n",
      " 25  RelationshipSatisfaction  1470 non-null   int64 \n",
      " 26  StandardHours             1470 non-null   int64 \n",
      " 27  StockOptionLevel          1470 non-null   int64 \n",
      " 28  TotalWorkingYears         1470 non-null   int64 \n",
      " 29  TrainingTimesLastYear     1470 non-null   int64 \n",
      " 30  WorkLifeBalance           1470 non-null   int64 \n",
      " 31  YearsAtCompany            1470 non-null   int64 \n",
      " 32  YearsInCurrentRole        1470 non-null   int64 \n",
      " 33  YearsSinceLastPromotion   1470 non-null   int64 \n",
      " 34  YearsWithCurrManager      1470 non-null   int64 \n",
      "dtypes: int64(26), object(9)\n",
      "memory usage: 402.1+ KB\n"
     ]
    }
   ],
   "execution_count": 4
  },
  {
   "metadata": {},
   "cell_type": "markdown",
   "source": "### 4. 탐색적 데이터 분석",
   "id": "e1892645c1fa63ad"
  },
  {
   "metadata": {
    "ExecuteTime": {
     "end_time": "2024-08-20T00:30:48.673561Z",
     "start_time": "2024-08-20T00:30:48.666919Z"
    }
   },
   "cell_type": "code",
   "source": [
    "# 이직\n",
    "df['Attrition'].value_counts()"
   ],
   "id": "a8511120d98b10c8",
   "outputs": [
    {
     "data": {
      "text/plain": [
       "Attrition\n",
       "No     1233\n",
       "Yes     237\n",
       "Name: count, dtype: int64"
      ]
     },
     "execution_count": 5,
     "metadata": {},
     "output_type": "execute_result"
    }
   ],
   "execution_count": 5
  },
  {
   "metadata": {
    "ExecuteTime": {
     "end_time": "2024-08-20T00:30:48.683558Z",
     "start_time": "2024-08-20T00:30:48.674558Z"
    }
   },
   "cell_type": "code",
   "source": [
    "# 이직 = 0, 이직 x = 1로 수정\n",
    "import numpy as np\n",
    "df['Attrition'] = np.where(df['Attrition']=='Yes', 1, 0)\n",
    "df['Attrition'].value_counts()"
   ],
   "id": "1ac2f40cd888cb90",
   "outputs": [
    {
     "data": {
      "text/plain": [
       "Attrition\n",
       "0    1233\n",
       "1     237\n",
       "Name: count, dtype: int64"
      ]
     },
     "execution_count": 6,
     "metadata": {},
     "output_type": "execute_result"
    }
   ],
   "execution_count": 6
  },
  {
   "metadata": {
    "ExecuteTime": {
     "end_time": "2024-08-20T00:30:48.690353Z",
     "start_time": "2024-08-20T00:30:48.684558Z"
    }
   },
   "cell_type": "code",
   "source": [
    "# 성별, 연령 분석\n",
    "# -> 구간화\n",
    "np.where(df['Age'] <= 30, '30이하', np.where(df['Age'] <= 40, '30~40대', '40대 이상'))\n"
   ],
   "id": "960446a4c3b531ba",
   "outputs": [
    {
     "data": {
      "text/plain": [
       "array(['40대 이상', '40대 이상', '30~40대', ..., '30이하', '40대 이상', '30~40대'],\n",
       "      dtype='<U6')"
      ]
     },
     "execution_count": 7,
     "metadata": {},
     "output_type": "execute_result"
    }
   ],
   "execution_count": 7
  },
  {
   "metadata": {
    "ExecuteTime": {
     "end_time": "2024-08-20T00:30:48.696756Z",
     "start_time": "2024-08-20T00:30:48.691351Z"
    }
   },
   "cell_type": "code",
   "source": "df['AgeGroup'] = np.where(df['Age'] <= 30, '30이하', np.where(df['Age'] <= 40, '30~40대', '40대 이상'))",
   "id": "5adfc4bdd0e0f108",
   "outputs": [],
   "execution_count": 8
  },
  {
   "metadata": {
    "ExecuteTime": {
     "end_time": "2024-08-20T00:30:48.706105Z",
     "start_time": "2024-08-20T00:30:48.698753Z"
    }
   },
   "cell_type": "code",
   "source": "df['AgeGroup'].value_counts()",
   "id": "a55e6cb055207217",
   "outputs": [
    {
     "data": {
      "text/plain": [
       "AgeGroup\n",
       "30~40대    619\n",
       "40대 이상    465\n",
       "30이하      386\n",
       "Name: count, dtype: int64"
      ]
     },
     "execution_count": 9,
     "metadata": {},
     "output_type": "execute_result"
    }
   ],
   "execution_count": 9
  },
  {
   "metadata": {
    "ExecuteTime": {
     "end_time": "2024-08-20T00:30:48.720559Z",
     "start_time": "2024-08-20T00:30:48.707103Z"
    }
   },
   "cell_type": "code",
   "source": [
    "# 연령 그룹별 이직률 현황\n",
    "df_gp = df.groupby('AgeGroup')['Attrition'].agg(['sum', 'count'])\n",
    "df_gp['rate'] = round((df_gp['sum'] / df_gp['count'])*100,1)\n",
    "df_gp"
   ],
   "id": "300b2d962ca9074d",
   "outputs": [
    {
     "data": {
      "text/plain": [
       "          sum  count  rate\n",
       "AgeGroup                  \n",
       "30~40대     85    619  13.7\n",
       "30이하      100    386  25.9\n",
       "40대 이상     52    465  11.2"
      ],
      "text/html": [
       "<div>\n",
       "<style scoped>\n",
       "    .dataframe tbody tr th:only-of-type {\n",
       "        vertical-align: middle;\n",
       "    }\n",
       "\n",
       "    .dataframe tbody tr th {\n",
       "        vertical-align: top;\n",
       "    }\n",
       "\n",
       "    .dataframe thead th {\n",
       "        text-align: right;\n",
       "    }\n",
       "</style>\n",
       "<table border=\"1\" class=\"dataframe\">\n",
       "  <thead>\n",
       "    <tr style=\"text-align: right;\">\n",
       "      <th></th>\n",
       "      <th>sum</th>\n",
       "      <th>count</th>\n",
       "      <th>rate</th>\n",
       "    </tr>\n",
       "    <tr>\n",
       "      <th>AgeGroup</th>\n",
       "      <th></th>\n",
       "      <th></th>\n",
       "      <th></th>\n",
       "    </tr>\n",
       "  </thead>\n",
       "  <tbody>\n",
       "    <tr>\n",
       "      <th>30~40대</th>\n",
       "      <td>85</td>\n",
       "      <td>619</td>\n",
       "      <td>13.7</td>\n",
       "    </tr>\n",
       "    <tr>\n",
       "      <th>30이하</th>\n",
       "      <td>100</td>\n",
       "      <td>386</td>\n",
       "      <td>25.9</td>\n",
       "    </tr>\n",
       "    <tr>\n",
       "      <th>40대 이상</th>\n",
       "      <td>52</td>\n",
       "      <td>465</td>\n",
       "      <td>11.2</td>\n",
       "    </tr>\n",
       "  </tbody>\n",
       "</table>\n",
       "</div>"
      ]
     },
     "execution_count": 10,
     "metadata": {},
     "output_type": "execute_result"
    }
   ],
   "execution_count": 10
  },
  {
   "metadata": {
    "ExecuteTime": {
     "end_time": "2024-08-20T00:30:48.734383Z",
     "start_time": "2024-08-20T00:30:48.721553Z"
    }
   },
   "cell_type": "code",
   "source": [
    "# 성별 이직률 현황\n",
    "df_gp2 = df.groupby('Gender')['Attrition'].agg(['sum', 'count'])\n",
    "df_gp2['rate'] = round((df_gp2['sum'] / df_gp2['count'])*100,1)\n",
    "df_gp2\n",
    "# 남성 직원의 이직률이 좀 더 높음"
   ],
   "id": "385d7e3ba7e11e87",
   "outputs": [
    {
     "data": {
      "text/plain": [
       "        sum  count  rate\n",
       "Gender                  \n",
       "Female   87    588  14.8\n",
       "Male    150    882  17.0"
      ],
      "text/html": [
       "<div>\n",
       "<style scoped>\n",
       "    .dataframe tbody tr th:only-of-type {\n",
       "        vertical-align: middle;\n",
       "    }\n",
       "\n",
       "    .dataframe tbody tr th {\n",
       "        vertical-align: top;\n",
       "    }\n",
       "\n",
       "    .dataframe thead th {\n",
       "        text-align: right;\n",
       "    }\n",
       "</style>\n",
       "<table border=\"1\" class=\"dataframe\">\n",
       "  <thead>\n",
       "    <tr style=\"text-align: right;\">\n",
       "      <th></th>\n",
       "      <th>sum</th>\n",
       "      <th>count</th>\n",
       "      <th>rate</th>\n",
       "    </tr>\n",
       "    <tr>\n",
       "      <th>Gender</th>\n",
       "      <th></th>\n",
       "      <th></th>\n",
       "      <th></th>\n",
       "    </tr>\n",
       "  </thead>\n",
       "  <tbody>\n",
       "    <tr>\n",
       "      <th>Female</th>\n",
       "      <td>87</td>\n",
       "      <td>588</td>\n",
       "      <td>14.8</td>\n",
       "    </tr>\n",
       "    <tr>\n",
       "      <th>Male</th>\n",
       "      <td>150</td>\n",
       "      <td>882</td>\n",
       "      <td>17.0</td>\n",
       "    </tr>\n",
       "  </tbody>\n",
       "</table>\n",
       "</div>"
      ]
     },
     "execution_count": 11,
     "metadata": {},
     "output_type": "execute_result"
    }
   ],
   "execution_count": 11
  },
  {
   "metadata": {
    "ExecuteTime": {
     "end_time": "2024-08-20T00:30:48.745565Z",
     "start_time": "2024-08-20T00:30:48.735381Z"
    }
   },
   "cell_type": "code",
   "source": [
    "# 부서별 이직률 현황\n",
    "df_gp3 = df.groupby('Department')['Attrition'].agg(['sum', 'count'])\n",
    "df_gp3['rate'] = round((df_gp3['sum'] / df_gp3['count'])*100,1)\n",
    "df_gp3"
   ],
   "id": "1f12da27b1a9111",
   "outputs": [
    {
     "data": {
      "text/plain": [
       "                        sum  count  rate\n",
       "Department                              \n",
       "Human Resources          12     63  19.0\n",
       "Research & Development  133    961  13.8\n",
       "Sales                    92    446  20.6"
      ],
      "text/html": [
       "<div>\n",
       "<style scoped>\n",
       "    .dataframe tbody tr th:only-of-type {\n",
       "        vertical-align: middle;\n",
       "    }\n",
       "\n",
       "    .dataframe tbody tr th {\n",
       "        vertical-align: top;\n",
       "    }\n",
       "\n",
       "    .dataframe thead th {\n",
       "        text-align: right;\n",
       "    }\n",
       "</style>\n",
       "<table border=\"1\" class=\"dataframe\">\n",
       "  <thead>\n",
       "    <tr style=\"text-align: right;\">\n",
       "      <th></th>\n",
       "      <th>sum</th>\n",
       "      <th>count</th>\n",
       "      <th>rate</th>\n",
       "    </tr>\n",
       "    <tr>\n",
       "      <th>Department</th>\n",
       "      <th></th>\n",
       "      <th></th>\n",
       "      <th></th>\n",
       "    </tr>\n",
       "  </thead>\n",
       "  <tbody>\n",
       "    <tr>\n",
       "      <th>Human Resources</th>\n",
       "      <td>12</td>\n",
       "      <td>63</td>\n",
       "      <td>19.0</td>\n",
       "    </tr>\n",
       "    <tr>\n",
       "      <th>Research &amp; Development</th>\n",
       "      <td>133</td>\n",
       "      <td>961</td>\n",
       "      <td>13.8</td>\n",
       "    </tr>\n",
       "    <tr>\n",
       "      <th>Sales</th>\n",
       "      <td>92</td>\n",
       "      <td>446</td>\n",
       "      <td>20.6</td>\n",
       "    </tr>\n",
       "  </tbody>\n",
       "</table>\n",
       "</div>"
      ]
     },
     "execution_count": 12,
     "metadata": {},
     "output_type": "execute_result"
    }
   ],
   "execution_count": 12
  },
  {
   "metadata": {
    "ExecuteTime": {
     "end_time": "2024-08-20T00:30:48.754922Z",
     "start_time": "2024-08-20T00:30:48.746527Z"
    }
   },
   "cell_type": "code",
   "source": [
    "# 인간관계 만족도, 업무 만족도와 이직간의 상관관계 확인해보기\n",
    "# -> 상관계수\n",
    "df[['RelationshipSatisfaction', 'JobSatisfaction', 'Attrition']].head()"
   ],
   "id": "7bf41c6bcb3cabbd",
   "outputs": [
    {
     "data": {
      "text/plain": [
       "   RelationshipSatisfaction  JobSatisfaction  Attrition\n",
       "0                         1                4          1\n",
       "1                         4                2          0\n",
       "2                         2                3          1\n",
       "3                         3                3          0\n",
       "4                         4                2          0"
      ],
      "text/html": [
       "<div>\n",
       "<style scoped>\n",
       "    .dataframe tbody tr th:only-of-type {\n",
       "        vertical-align: middle;\n",
       "    }\n",
       "\n",
       "    .dataframe tbody tr th {\n",
       "        vertical-align: top;\n",
       "    }\n",
       "\n",
       "    .dataframe thead th {\n",
       "        text-align: right;\n",
       "    }\n",
       "</style>\n",
       "<table border=\"1\" class=\"dataframe\">\n",
       "  <thead>\n",
       "    <tr style=\"text-align: right;\">\n",
       "      <th></th>\n",
       "      <th>RelationshipSatisfaction</th>\n",
       "      <th>JobSatisfaction</th>\n",
       "      <th>Attrition</th>\n",
       "    </tr>\n",
       "  </thead>\n",
       "  <tbody>\n",
       "    <tr>\n",
       "      <th>0</th>\n",
       "      <td>1</td>\n",
       "      <td>4</td>\n",
       "      <td>1</td>\n",
       "    </tr>\n",
       "    <tr>\n",
       "      <th>1</th>\n",
       "      <td>4</td>\n",
       "      <td>2</td>\n",
       "      <td>0</td>\n",
       "    </tr>\n",
       "    <tr>\n",
       "      <th>2</th>\n",
       "      <td>2</td>\n",
       "      <td>3</td>\n",
       "      <td>1</td>\n",
       "    </tr>\n",
       "    <tr>\n",
       "      <th>3</th>\n",
       "      <td>3</td>\n",
       "      <td>3</td>\n",
       "      <td>0</td>\n",
       "    </tr>\n",
       "    <tr>\n",
       "      <th>4</th>\n",
       "      <td>4</td>\n",
       "      <td>2</td>\n",
       "      <td>0</td>\n",
       "    </tr>\n",
       "  </tbody>\n",
       "</table>\n",
       "</div>"
      ]
     },
     "execution_count": 13,
     "metadata": {},
     "output_type": "execute_result"
    }
   ],
   "execution_count": 13
  },
  {
   "metadata": {
    "ExecuteTime": {
     "end_time": "2024-08-20T00:30:48.770218Z",
     "start_time": "2024-08-20T00:30:48.757917Z"
    }
   },
   "cell_type": "code",
   "source": [
    "# 업무 만족도별 이직률 현황\n",
    "df_gp4 = df.groupby('JobSatisfaction')['Attrition'].agg(['sum', 'count'])\n",
    "df_gp4['rate'] = round((df_gp4['sum'] / df_gp4['count'])*100,1)\n",
    "df_gp4"
   ],
   "id": "befd7f07e6a34348",
   "outputs": [
    {
     "data": {
      "text/plain": [
       "                 sum  count  rate\n",
       "JobSatisfaction                  \n",
       "1                 66    289  22.8\n",
       "2                 46    280  16.4\n",
       "3                 73    442  16.5\n",
       "4                 52    459  11.3"
      ],
      "text/html": [
       "<div>\n",
       "<style scoped>\n",
       "    .dataframe tbody tr th:only-of-type {\n",
       "        vertical-align: middle;\n",
       "    }\n",
       "\n",
       "    .dataframe tbody tr th {\n",
       "        vertical-align: top;\n",
       "    }\n",
       "\n",
       "    .dataframe thead th {\n",
       "        text-align: right;\n",
       "    }\n",
       "</style>\n",
       "<table border=\"1\" class=\"dataframe\">\n",
       "  <thead>\n",
       "    <tr style=\"text-align: right;\">\n",
       "      <th></th>\n",
       "      <th>sum</th>\n",
       "      <th>count</th>\n",
       "      <th>rate</th>\n",
       "    </tr>\n",
       "    <tr>\n",
       "      <th>JobSatisfaction</th>\n",
       "      <th></th>\n",
       "      <th></th>\n",
       "      <th></th>\n",
       "    </tr>\n",
       "  </thead>\n",
       "  <tbody>\n",
       "    <tr>\n",
       "      <th>1</th>\n",
       "      <td>66</td>\n",
       "      <td>289</td>\n",
       "      <td>22.8</td>\n",
       "    </tr>\n",
       "    <tr>\n",
       "      <th>2</th>\n",
       "      <td>46</td>\n",
       "      <td>280</td>\n",
       "      <td>16.4</td>\n",
       "    </tr>\n",
       "    <tr>\n",
       "      <th>3</th>\n",
       "      <td>73</td>\n",
       "      <td>442</td>\n",
       "      <td>16.5</td>\n",
       "    </tr>\n",
       "    <tr>\n",
       "      <th>4</th>\n",
       "      <td>52</td>\n",
       "      <td>459</td>\n",
       "      <td>11.3</td>\n",
       "    </tr>\n",
       "  </tbody>\n",
       "</table>\n",
       "</div>"
      ]
     },
     "execution_count": 14,
     "metadata": {},
     "output_type": "execute_result"
    }
   ],
   "execution_count": 14
  },
  {
   "metadata": {
    "ExecuteTime": {
     "end_time": "2024-08-20T00:30:48.778655Z",
     "start_time": "2024-08-20T00:30:48.771213Z"
    }
   },
   "cell_type": "code",
   "source": [
    "# YearsAtCompany : 회사에서 근무한 기간\n",
    "# YearsInCurrentRole : 현재 직무에서 근무한 기간\n",
    "df[['YearsAtCompany', 'YearsInCurrentRole']].head()"
   ],
   "id": "536a4747cb0b0ca3",
   "outputs": [
    {
     "data": {
      "text/plain": [
       "   YearsAtCompany  YearsInCurrentRole\n",
       "0               6                   4\n",
       "1              10                   7\n",
       "2               0                   0\n",
       "3               8                   7\n",
       "4               2                   2"
      ],
      "text/html": [
       "<div>\n",
       "<style scoped>\n",
       "    .dataframe tbody tr th:only-of-type {\n",
       "        vertical-align: middle;\n",
       "    }\n",
       "\n",
       "    .dataframe tbody tr th {\n",
       "        vertical-align: top;\n",
       "    }\n",
       "\n",
       "    .dataframe thead th {\n",
       "        text-align: right;\n",
       "    }\n",
       "</style>\n",
       "<table border=\"1\" class=\"dataframe\">\n",
       "  <thead>\n",
       "    <tr style=\"text-align: right;\">\n",
       "      <th></th>\n",
       "      <th>YearsAtCompany</th>\n",
       "      <th>YearsInCurrentRole</th>\n",
       "    </tr>\n",
       "  </thead>\n",
       "  <tbody>\n",
       "    <tr>\n",
       "      <th>0</th>\n",
       "      <td>6</td>\n",
       "      <td>4</td>\n",
       "    </tr>\n",
       "    <tr>\n",
       "      <th>1</th>\n",
       "      <td>10</td>\n",
       "      <td>7</td>\n",
       "    </tr>\n",
       "    <tr>\n",
       "      <th>2</th>\n",
       "      <td>0</td>\n",
       "      <td>0</td>\n",
       "    </tr>\n",
       "    <tr>\n",
       "      <th>3</th>\n",
       "      <td>8</td>\n",
       "      <td>7</td>\n",
       "    </tr>\n",
       "    <tr>\n",
       "      <th>4</th>\n",
       "      <td>2</td>\n",
       "      <td>2</td>\n",
       "    </tr>\n",
       "  </tbody>\n",
       "</table>\n",
       "</div>"
      ]
     },
     "execution_count": 15,
     "metadata": {},
     "output_type": "execute_result"
    }
   ],
   "execution_count": 15
  },
  {
   "metadata": {
    "ExecuteTime": {
     "end_time": "2024-08-20T00:30:48.787831Z",
     "start_time": "2024-08-20T00:30:48.780657Z"
    }
   },
   "cell_type": "code",
   "source": [
    "# 근속년수 대비 한가지 역할을 맡은 연수의 비중\n",
    "df['Role_Company'] = df['YearsInCurrentRole'] / df['YearsAtCompany']\n",
    "df['Role_Company'].head()\n"
   ],
   "id": "b4c801902adb2b78",
   "outputs": [
    {
     "data": {
      "text/plain": [
       "0    0.666667\n",
       "1    0.700000\n",
       "2         NaN\n",
       "3    0.875000\n",
       "4    1.000000\n",
       "Name: Role_Company, dtype: float64"
      ]
     },
     "execution_count": 16,
     "metadata": {},
     "output_type": "execute_result"
    }
   ],
   "execution_count": 16
  },
  {
   "metadata": {
    "ExecuteTime": {
     "end_time": "2024-08-20T00:30:49.232443Z",
     "start_time": "2024-08-20T00:30:48.788829Z"
    }
   },
   "cell_type": "code",
   "source": [
    "# Role_Company의 분포 확인(그래프)\n",
    "import matplotlib.pyplot as plt\n",
    "import seaborn as sns\n",
    "plt.style.use(['dark_background'])\n",
    "sns.distplot(df['Role_Company'])\n",
    "plt.show()"
   ],
   "id": "8daa18071873808",
   "outputs": [
    {
     "data": {
      "text/plain": [
       "<Figure size 640x480 with 1 Axes>"
      ],
      "image/png": "[encoded data removed]"
     },
     "metadata": {},
     "output_type": "display_data"
    }
   ],
   "execution_count": 17
  },
  {
   "metadata": {
    "ExecuteTime": {
     "end_time": "2024-08-20T00:30:49.239116Z",
     "start_time": "2024-08-20T00:30:49.233453Z"
    }
   },
   "cell_type": "code",
   "source": [
    "# 구간화\n",
    "#'Role_Company'\n",
    "#'0.4 이하'\n",
    "#'0.4~0.8'\n",
    "#'0.8 초과'\n",
    "\n",
    "df['Role_Company_Group'] = np.where(df['Role_Company'] <= 0.4, '0.4 이하', np.where(df['Role_Company'] <= 0.8, '0.4~0.8', '0.8 초과'))"
   ],
   "id": "1ae92c97fb8eeb90",
   "outputs": [],
   "execution_count": 18
  },
  {
   "metadata": {
    "ExecuteTime": {
     "end_time": "2024-08-20T00:30:49.246971Z",
     "start_time": "2024-08-20T00:30:49.240123Z"
    }
   },
   "cell_type": "code",
   "source": "df['Role_Company_Group'].value_counts()",
   "id": "adb71fe4064e99be",
   "outputs": [
    {
     "data": {
      "text/plain": [
       "Role_Company_Group\n",
       "0.4~0.8    621\n",
       "0.8 초과     439\n",
       "0.4 이하     410\n",
       "Name: count, dtype: int64"
      ]
     },
     "execution_count": 19,
     "metadata": {},
     "output_type": "execute_result"
    }
   ],
   "execution_count": 19
  },
  {
   "metadata": {
    "ExecuteTime": {
     "end_time": "2024-08-20T00:30:49.260448Z",
     "start_time": "2024-08-20T00:30:49.247985Z"
    }
   },
   "cell_type": "code",
   "source": [
    "# 근속년수 대비 비율\n",
    "df_gp5 = df.groupby('Role_Company_Group')['Attrition'].agg(['sum', 'count'])\n",
    "df_gp5['rate'] = round((df_gp5['sum'] / df_gp5['count'])*100,1)\n",
    "df_gp5"
   ],
   "id": "4d1083b5b020781b",
   "outputs": [
    {
     "data": {
      "text/plain": [
       "                    sum  count  rate\n",
       "Role_Company_Group                  \n",
       "0.4 이하               87    410  21.2\n",
       "0.4~0.8              81    621  13.0\n",
       "0.8 초과               69    439  15.7"
      ],
      "text/html": [
       "<div>\n",
       "<style scoped>\n",
       "    .dataframe tbody tr th:only-of-type {\n",
       "        vertical-align: middle;\n",
       "    }\n",
       "\n",
       "    .dataframe tbody tr th {\n",
       "        vertical-align: top;\n",
       "    }\n",
       "\n",
       "    .dataframe thead th {\n",
       "        text-align: right;\n",
       "    }\n",
       "</style>\n",
       "<table border=\"1\" class=\"dataframe\">\n",
       "  <thead>\n",
       "    <tr style=\"text-align: right;\">\n",
       "      <th></th>\n",
       "      <th>sum</th>\n",
       "      <th>count</th>\n",
       "      <th>rate</th>\n",
       "    </tr>\n",
       "    <tr>\n",
       "      <th>Role_Company_Group</th>\n",
       "      <th></th>\n",
       "      <th></th>\n",
       "      <th></th>\n",
       "    </tr>\n",
       "  </thead>\n",
       "  <tbody>\n",
       "    <tr>\n",
       "      <th>0.4 이하</th>\n",
       "      <td>87</td>\n",
       "      <td>410</td>\n",
       "      <td>21.2</td>\n",
       "    </tr>\n",
       "    <tr>\n",
       "      <th>0.4~0.8</th>\n",
       "      <td>81</td>\n",
       "      <td>621</td>\n",
       "      <td>13.0</td>\n",
       "    </tr>\n",
       "    <tr>\n",
       "      <th>0.8 초과</th>\n",
       "      <td>69</td>\n",
       "      <td>439</td>\n",
       "      <td>15.7</td>\n",
       "    </tr>\n",
       "  </tbody>\n",
       "</table>\n",
       "</div>"
      ]
     },
     "execution_count": 20,
     "metadata": {},
     "output_type": "execute_result"
    }
   ],
   "execution_count": 20
  },
  {
   "metadata": {
    "ExecuteTime": {
     "end_time": "2024-08-20T00:30:49.268726Z",
     "start_time": "2024-08-20T00:30:49.261458Z"
    }
   },
   "cell_type": "code",
   "source": "df['OverTime']",
   "id": "4382e062e148b19c",
   "outputs": [
    {
     "data": {
      "text/plain": [
       "0       Yes\n",
       "1        No\n",
       "2       Yes\n",
       "3       Yes\n",
       "4        No\n",
       "       ... \n",
       "1465     No\n",
       "1466     No\n",
       "1467    Yes\n",
       "1468     No\n",
       "1469     No\n",
       "Name: OverTime, Length: 1470, dtype: object"
      ]
     },
     "execution_count": 21,
     "metadata": {},
     "output_type": "execute_result"
    }
   ],
   "execution_count": 21
  },
  {
   "metadata": {
    "ExecuteTime": {
     "end_time": "2024-08-20T00:30:49.281175Z",
     "start_time": "2024-08-20T00:30:49.269734Z"
    }
   },
   "cell_type": "code",
   "source": [
    "# 야근 여부에 따른 이직률 현황\n",
    "df_gp6 = df.groupby('OverTime')['Attrition'].agg(['sum', 'count'])\n",
    "df_gp6['rate'] = round((df_gp6['sum'] / df_gp6['count'])*100,1)\n",
    "df_gp6"
   ],
   "id": "f7f13d041cc4c2f2",
   "outputs": [
    {
     "data": {
      "text/plain": [
       "          sum  count  rate\n",
       "OverTime                  \n",
       "No        110   1054  10.4\n",
       "Yes       127    416  30.5"
      ],
      "text/html": [
       "<div>\n",
       "<style scoped>\n",
       "    .dataframe tbody tr th:only-of-type {\n",
       "        vertical-align: middle;\n",
       "    }\n",
       "\n",
       "    .dataframe tbody tr th {\n",
       "        vertical-align: top;\n",
       "    }\n",
       "\n",
       "    .dataframe thead th {\n",
       "        text-align: right;\n",
       "    }\n",
       "</style>\n",
       "<table border=\"1\" class=\"dataframe\">\n",
       "  <thead>\n",
       "    <tr style=\"text-align: right;\">\n",
       "      <th></th>\n",
       "      <th>sum</th>\n",
       "      <th>count</th>\n",
       "      <th>rate</th>\n",
       "    </tr>\n",
       "    <tr>\n",
       "      <th>OverTime</th>\n",
       "      <th></th>\n",
       "      <th></th>\n",
       "      <th></th>\n",
       "    </tr>\n",
       "  </thead>\n",
       "  <tbody>\n",
       "    <tr>\n",
       "      <th>No</th>\n",
       "      <td>110</td>\n",
       "      <td>1054</td>\n",
       "      <td>10.4</td>\n",
       "    </tr>\n",
       "    <tr>\n",
       "      <th>Yes</th>\n",
       "      <td>127</td>\n",
       "      <td>416</td>\n",
       "      <td>30.5</td>\n",
       "    </tr>\n",
       "  </tbody>\n",
       "</table>\n",
       "</div>"
      ]
     },
     "execution_count": 22,
     "metadata": {},
     "output_type": "execute_result"
    }
   ],
   "execution_count": 22
  },
  {
   "metadata": {
    "ExecuteTime": {
     "end_time": "2024-08-20T00:30:49.297332Z",
     "start_time": "2024-08-20T00:30:49.282173Z"
    }
   },
   "cell_type": "code",
   "source": [
    "# PercentSalaryHike : 급여 인상률\n",
    "df_gp7 = df.groupby(['OverTime','PercentSalaryHike'])['Attrition'].agg(['sum', 'count'])\n",
    "df_gp7['rate'] = round((df_gp7['sum'] / df_gp7['count'])*100,1)\n",
    "df_gp7"
   ],
   "id": "b49ad445d1cb5345",
   "outputs": [
    {
     "data": {
      "text/plain": [
       "                            sum  count  rate\n",
       "OverTime PercentSalaryHike                  \n",
       "No       11                  19    149  12.8\n",
       "         12                  18    139  12.9\n",
       "         13                  14    144   9.7\n",
       "         14                   8    145   5.5\n",
       "         15                  12     80  15.0\n",
       "         16                   8     55  14.5\n",
       "         17                   9     66  13.6\n",
       "         18                   5     60   8.3\n",
       "         19                   3     55   5.5\n",
       "         20                   4     40  10.0\n",
       "         21                   2     36   5.6\n",
       "         22                   6     41  14.6\n",
       "         23                   1     19   5.3\n",
       "         24                   1     12   8.3\n",
       "         25                   0     13   0.0\n",
       "Yes      11                  22     61  36.1\n",
       "         12                  15     59  25.4\n",
       "         13                  20     65  30.8\n",
       "         14                  16     56  28.6\n",
       "         15                   6     21  28.6\n",
       "         16                   6     23  26.1\n",
       "         17                   5     16  31.2\n",
       "         18                   8     29  27.6\n",
       "         19                   6     21  28.6\n",
       "         20                   3     15  20.0\n",
       "         21                   3     12  25.0\n",
       "         22                   6     15  40.0\n",
       "         23                   5      9  55.6\n",
       "         24                   5      9  55.6\n",
       "         25                   1      5  20.0"
      ],
      "text/html": [
       "<div>\n",
       "<style scoped>\n",
       "    .dataframe tbody tr th:only-of-type {\n",
       "        vertical-align: middle;\n",
       "    }\n",
       "\n",
       "    .dataframe tbody tr th {\n",
       "        vertical-align: top;\n",
       "    }\n",
       "\n",
       "    .dataframe thead th {\n",
       "        text-align: right;\n",
       "    }\n",
       "</style>\n",
       "<table border=\"1\" class=\"dataframe\">\n",
       "  <thead>\n",
       "    <tr style=\"text-align: right;\">\n",
       "      <th></th>\n",
       "      <th></th>\n",
       "      <th>sum</th>\n",
       "      <th>count</th>\n",
       "      <th>rate</th>\n",
       "    </tr>\n",
       "    <tr>\n",
       "      <th>OverTime</th>\n",
       "      <th>PercentSalaryHike</th>\n",
       "      <th></th>\n",
       "      <th></th>\n",
       "      <th></th>\n",
       "    </tr>\n",
       "  </thead>\n",
       "  <tbody>\n",
       "    <tr>\n",
       "      <th rowspan=\"15\" valign=\"top\">No</th>\n",
       "      <th>11</th>\n",
       "      <td>19</td>\n",
       "      <td>149</td>\n",
       "      <td>12.8</td>\n",
       "    </tr>\n",
       "    <tr>\n",
       "      <th>12</th>\n",
       "      <td>18</td>\n",
       "      <td>139</td>\n",
       "      <td>12.9</td>\n",
       "    </tr>\n",
       "    <tr>\n",
       "      <th>13</th>\n",
       "      <td>14</td>\n",
       "      <td>144</td>\n",
       "      <td>9.7</td>\n",
       "    </tr>\n",
       "    <tr>\n",
       "      <th>14</th>\n",
       "      <td>8</td>\n",
       "      <td>145</td>\n",
       "      <td>5.5</td>\n",
       "    </tr>\n",
       "    <tr>\n",
       "      <th>15</th>\n",
       "      <td>12</td>\n",
       "      <td>80</td>\n",
       "      <td>15.0</td>\n",
       "    </tr>\n",
       "    <tr>\n",
       "      <th>16</th>\n",
       "      <td>8</td>\n",
       "      <td>55</td>\n",
       "      <td>14.5</td>\n",
       "    </tr>\n",
       "    <tr>\n",
       "      <th>17</th>\n",
       "      <td>9</td>\n",
       "      <td>66</td>\n",
       "      <td>13.6</td>\n",
       "    </tr>\n",
       "    <tr>\n",
       "      <th>18</th>\n",
       "      <td>5</td>\n",
       "      <td>60</td>\n",
       "      <td>8.3</td>\n",
       "    </tr>\n",
       "    <tr>\n",
       "      <th>19</th>\n",
       "      <td>3</td>\n",
       "      <td>55</td>\n",
       "      <td>5.5</td>\n",
       "    </tr>\n",
       "    <tr>\n",
       "      <th>20</th>\n",
       "      <td>4</td>\n",
       "      <td>40</td>\n",
       "      <td>10.0</td>\n",
       "    </tr>\n",
       "    <tr>\n",
       "      <th>21</th>\n",
       "      <td>2</td>\n",
       "      <td>36</td>\n",
       "      <td>5.6</td>\n",
       "    </tr>\n",
       "    <tr>\n",
       "      <th>22</th>\n",
       "      <td>6</td>\n",
       "      <td>41</td>\n",
       "      <td>14.6</td>\n",
       "    </tr>\n",
       "    <tr>\n",
       "      <th>23</th>\n",
       "      <td>1</td>\n",
       "      <td>19</td>\n",
       "      <td>5.3</td>\n",
       "    </tr>\n",
       "    <tr>\n",
       "      <th>24</th>\n",
       "      <td>1</td>\n",
       "      <td>12</td>\n",
       "      <td>8.3</td>\n",
       "    </tr>\n",
       "    <tr>\n",
       "      <th>25</th>\n",
       "      <td>0</td>\n",
       "      <td>13</td>\n",
       "      <td>0.0</td>\n",
       "    </tr>\n",
       "    <tr>\n",
       "      <th rowspan=\"15\" valign=\"top\">Yes</th>\n",
       "      <th>11</th>\n",
       "      <td>22</td>\n",
       "      <td>61</td>\n",
       "      <td>36.1</td>\n",
       "    </tr>\n",
       "    <tr>\n",
       "      <th>12</th>\n",
       "      <td>15</td>\n",
       "      <td>59</td>\n",
       "      <td>25.4</td>\n",
       "    </tr>\n",
       "    <tr>\n",
       "      <th>13</th>\n",
       "      <td>20</td>\n",
       "      <td>65</td>\n",
       "      <td>30.8</td>\n",
       "    </tr>\n",
       "    <tr>\n",
       "      <th>14</th>\n",
       "      <td>16</td>\n",
       "      <td>56</td>\n",
       "      <td>28.6</td>\n",
       "    </tr>\n",
       "    <tr>\n",
       "      <th>15</th>\n",
       "      <td>6</td>\n",
       "      <td>21</td>\n",
       "      <td>28.6</td>\n",
       "    </tr>\n",
       "    <tr>\n",
       "      <th>16</th>\n",
       "      <td>6</td>\n",
       "      <td>23</td>\n",
       "      <td>26.1</td>\n",
       "    </tr>\n",
       "    <tr>\n",
       "      <th>17</th>\n",
       "      <td>5</td>\n",
       "      <td>16</td>\n",
       "      <td>31.2</td>\n",
       "    </tr>\n",
       "    <tr>\n",
       "      <th>18</th>\n",
       "      <td>8</td>\n",
       "      <td>29</td>\n",
       "      <td>27.6</td>\n",
       "    </tr>\n",
       "    <tr>\n",
       "      <th>19</th>\n",
       "      <td>6</td>\n",
       "      <td>21</td>\n",
       "      <td>28.6</td>\n",
       "    </tr>\n",
       "    <tr>\n",
       "      <th>20</th>\n",
       "      <td>3</td>\n",
       "      <td>15</td>\n",
       "      <td>20.0</td>\n",
       "    </tr>\n",
       "    <tr>\n",
       "      <th>21</th>\n",
       "      <td>3</td>\n",
       "      <td>12</td>\n",
       "      <td>25.0</td>\n",
       "    </tr>\n",
       "    <tr>\n",
       "      <th>22</th>\n",
       "      <td>6</td>\n",
       "      <td>15</td>\n",
       "      <td>40.0</td>\n",
       "    </tr>\n",
       "    <tr>\n",
       "      <th>23</th>\n",
       "      <td>5</td>\n",
       "      <td>9</td>\n",
       "      <td>55.6</td>\n",
       "    </tr>\n",
       "    <tr>\n",
       "      <th>24</th>\n",
       "      <td>5</td>\n",
       "      <td>9</td>\n",
       "      <td>55.6</td>\n",
       "    </tr>\n",
       "    <tr>\n",
       "      <th>25</th>\n",
       "      <td>1</td>\n",
       "      <td>5</td>\n",
       "      <td>20.0</td>\n",
       "    </tr>\n",
       "  </tbody>\n",
       "</table>\n",
       "</div>"
      ]
     },
     "execution_count": 23,
     "metadata": {},
     "output_type": "execute_result"
    }
   ],
   "execution_count": 23
  },
  {
   "metadata": {
    "ExecuteTime": {
     "end_time": "2024-08-20T00:30:49.303435Z",
     "start_time": "2024-08-20T00:30:49.298340Z"
    }
   },
   "cell_type": "code",
   "source": "df_gp_plot = df_gp7.reset_index()\n",
   "id": "3b3f926ac95c4f20",
   "outputs": [],
   "execution_count": 24
  },
  {
   "metadata": {
    "ExecuteTime": {
     "end_time": "2024-08-20T00:30:49.310011Z",
     "start_time": "2024-08-20T00:30:49.305443Z"
    }
   },
   "cell_type": "code",
   "source": "df_gp_plot = df_gp_plot[df_gp_plot['OverTime']=='Yes']",
   "id": "8254c36c5645c47d",
   "outputs": [],
   "execution_count": 25
  },
  {
   "metadata": {
    "ExecuteTime": {
     "end_time": "2024-08-20T00:30:49.629428Z",
     "start_time": "2024-08-20T00:30:49.311017Z"
    }
   },
   "cell_type": "code",
   "source": [
    "# 야근 Yes 직원 Data 분석\n",
    "plt.bar(df_gp_plot['PercentSalaryHike'], df_gp_plot['rate'])\n",
    "plt.show()\n",
    "# 연봉 20% 상승률 까지 감소하는 추세가 보이지만\n",
    "# 22% 이상 연봉 상승하는 핵심인재의 경우 이직률이 높다\n",
    "# 연봉 인상률이 높은 직원의 야근시간을 줄이는 것이 이직을 방지할 방법 중 하나로 보임"
   ],
   "id": "5c2f079590abcc8c",
   "outputs": [
    {
     "data": {
      "text/plain": [
       "<Figure size 640x480 with 1 Axes>"
      ],
      "image/png": "[encoded data removed]"
     },
     "metadata": {},
     "output_type": "display_data"
    }
   ],
   "execution_count": 26
  },
  {
   "metadata": {},
   "cell_type": "markdown",
   "source": [
    "### 5. 모델 선택 및 하이퍼파라미터 튜닝\n",
    "- 데이터 타입별로 구분\n",
    "- 라벨인코딩\n",
    "- 데이터 정리\n",
    "- train, test 분리\n",
    "- Support Vector Machine Classifier\n",
    "- Logistic Regression"
   ],
   "id": "e9f6e965848c688a"
  },
  {
   "metadata": {
    "ExecuteTime": {
     "end_time": "2024-08-20T00:30:50.247740Z",
     "start_time": "2024-08-20T00:30:49.631440Z"
    }
   },
   "cell_type": "code",
   "source": [
    "from sklearn.preprocessing import LabelEncoder\n",
    "from sklearn.model_selection import train_test_split\n",
    "from sklearn.svm import SVC\n",
    "from sklearn.linear_model import LogisticRegression\n",
    "from sklearn.metrics import accuracy_score, classification_report\n"
   ],
   "id": "744fb579c5b45346",
   "outputs": [],
   "execution_count": 27
  },
  {
   "metadata": {
    "ExecuteTime": {
     "end_time": "2024-08-20T00:30:50.258331Z",
     "start_time": "2024-08-20T00:30:50.249751Z"
    }
   },
   "cell_type": "code",
   "source": [
    "# 데이터 타입별로 구분\n",
    "for i in df.columns:\n",
    "    print(i, df[i].dtypes=='O')\n"
   ],
   "id": "687a7e0737559ffd",
   "outputs": [
    {
     "name": "stdout",
     "output_type": "stream",
     "text": [
      "Age False\n",
      "Attrition False\n",
      "BusinessTravel True\n",
      "DailyRate False\n",
      "Department True\n",
      "DistanceFromHome False\n",
      "Education False\n",
      "EducationField True\n",
      "EmployeeCount False\n",
      "EmployeeNumber False\n",
      "EnvironmentSatisfaction False\n",
      "Gender True\n",
      "HourlyRate False\n",
      "JobInvolvement False\n",
      "JobLevel False\n",
      "JobRole True\n",
      "JobSatisfaction False\n",
      "MaritalStatus True\n",
      "MonthlyIncome False\n",
      "MonthlyRate False\n",
      "NumCompaniesWorked False\n",
      "Over18 True\n",
      "OverTime True\n",
      "PercentSalaryHike False\n",
      "PerformanceRating False\n",
      "RelationshipSatisfaction False\n",
      "StandardHours False\n",
      "StockOptionLevel False\n",
      "TotalWorkingYears False\n",
      "TrainingTimesLastYear False\n",
      "WorkLifeBalance False\n",
      "YearsAtCompany False\n",
      "YearsInCurrentRole False\n",
      "YearsSinceLastPromotion False\n",
      "YearsWithCurrManager False\n",
      "AgeGroup True\n",
      "Role_Company False\n",
      "Role_Company_Group True\n"
     ]
    }
   ],
   "execution_count": 28
  },
  {
   "metadata": {
    "ExecuteTime": {
     "end_time": "2024-08-20T00:30:50.269176Z",
     "start_time": "2024-08-20T00:30:50.260340Z"
    }
   },
   "cell_type": "code",
   "source": [
    "# numeric, catergorical value 분리\n",
    "numeric_list = []\n",
    "categorical_list = []\n",
    "\n",
    "for i in df.columns:\n",
    "    if df[i].dtypes == 'O':\n",
    "        categorical_list.append(i)\n",
    "    else:\n",
    "        numeric_list.append(i)\n",
    "\n",
    "print('N',numeric_list, 'C',categorical_list)\n"
   ],
   "id": "4dde7ef51140e22b",
   "outputs": [
    {
     "name": "stdout",
     "output_type": "stream",
     "text": [
      "N ['Age', 'Attrition', 'DailyRate', 'DistanceFromHome', 'Education', 'EmployeeCount', 'EmployeeNumber', 'EnvironmentSatisfaction', 'HourlyRate', 'JobInvolvement', 'JobLevel', 'JobSatisfaction', 'MonthlyIncome', 'MonthlyRate', 'NumCompaniesWorked', 'PercentSalaryHike', 'PerformanceRating', 'RelationshipSatisfaction', 'StandardHours', 'StockOptionLevel', 'TotalWorkingYears', 'TrainingTimesLastYear', 'WorkLifeBalance', 'YearsAtCompany', 'YearsInCurrentRole', 'YearsSinceLastPromotion', 'YearsWithCurrManager', 'Role_Company'] C ['BusinessTravel', 'Department', 'EducationField', 'Gender', 'JobRole', 'MaritalStatus', 'Over18', 'OverTime', 'AgeGroup', 'Role_Company_Group']\n"
     ]
    }
   ],
   "execution_count": 29
  },
  {
   "metadata": {
    "ExecuteTime": {
     "end_time": "2024-08-20T00:30:50.279029Z",
     "start_time": "2024-08-20T00:30:50.271186Z"
    }
   },
   "cell_type": "code",
   "source": [
    "# 모델 학습을 위한X,y로 데이터 나누기\n",
    "# 훈련, 평가 데이터로 나누기\n",
    "X = df.drop(['Attrition','AgeGroup','Role_Company_Group','Role_Company'], axis=1)\n",
    "y = df['Attrition']"
   ],
   "id": "b214af5eba5031ec",
   "outputs": [],
   "execution_count": 30
  },
  {
   "metadata": {
    "ExecuteTime": {
     "end_time": "2024-08-20T00:30:50.292327Z",
     "start_time": "2024-08-20T00:30:50.283027Z"
    }
   },
   "cell_type": "code",
   "source": [
    "# 훈련, 평가 데이터로 나누기\n",
    "X_train, X_test, y_train, y_test = train_test_split(X, y, test_size=0.3, random_state=15, stratify=y)"
   ],
   "id": "f2dd77e1c18ed0c6",
   "outputs": [],
   "execution_count": 31
  },
  {
   "metadata": {
    "ExecuteTime": {
     "end_time": "2024-08-20T00:30:50.305275Z",
     "start_time": "2024-08-20T00:30:50.294336Z"
    }
   },
   "cell_type": "code",
   "source": "X_train.shape, X_test.shape, y_train.shape, y_test.shape",
   "id": "48cda2c63bb12d90",
   "outputs": [
    {
     "data": {
      "text/plain": [
       "((1029, 34), (441, 34), (1029,), (441,))"
      ]
     },
     "execution_count": 32,
     "metadata": {},
     "output_type": "execute_result"
    }
   ],
   "execution_count": 32
  },
  {
   "metadata": {
    "ExecuteTime": {
     "end_time": "2024-08-20T00:30:50.311900Z",
     "start_time": "2024-08-20T00:30:50.307284Z"
    }
   },
   "cell_type": "code",
   "source": [
    "# EDA과정에서 생성한 변수들 제거\n",
    "categorical_list.remove('AgeGroup')\n",
    "categorical_list.remove('Role_Company_Group')"
   ],
   "id": "ace2c4fc749c6da4",
   "outputs": [],
   "execution_count": 33
  },
  {
   "metadata": {
    "ExecuteTime": {
     "end_time": "2024-08-20T00:30:50.321657Z",
     "start_time": "2024-08-20T00:30:50.314910Z"
    }
   },
   "cell_type": "code",
   "source": "categorical_list",
   "id": "86de58686b68b074",
   "outputs": [
    {
     "data": {
      "text/plain": [
       "['BusinessTravel',\n",
       " 'Department',\n",
       " 'EducationField',\n",
       " 'Gender',\n",
       " 'JobRole',\n",
       " 'MaritalStatus',\n",
       " 'Over18',\n",
       " 'OverTime']"
      ]
     },
     "execution_count": 34,
     "metadata": {},
     "output_type": "execute_result"
    }
   ],
   "execution_count": 34
  },
  {
   "metadata": {
    "ExecuteTime": {
     "end_time": "2024-08-20T00:30:50.361926Z",
     "start_time": "2024-08-20T00:30:50.323666Z"
    }
   },
   "cell_type": "code",
   "source": [
    "# 라벨인코딩\n",
    "for col in categorical_list:\n",
    "    le = LabelEncoder()\n",
    "    le.fit(list(X_train[col].values) + list(X_test[col].values))\n",
    "    X_train[col] = le.transform(X_train[col])\n",
    "    X_test[col] = le.transform(X_test[col])\n",
    "    \n",
    "    "
   ],
   "id": "3afbe87a4d24d91f",
   "outputs": [],
   "execution_count": 35
  },
  {
   "metadata": {},
   "cell_type": "markdown",
   "source": "### 6. 학습",
   "id": "485979a71079a37a"
  },
  {
   "metadata": {},
   "cell_type": "markdown",
   "source": "### 7.평가",
   "id": "6576c933cc78cba7"
  },
  {
   "metadata": {
    "ExecuteTime": {
     "end_time": "2024-08-20T01:08:22.053794Z",
     "start_time": "2024-08-20T01:08:21.707274Z"
    }
   },
   "cell_type": "code",
   "source": [
    "# Support Vector Machine Classifier\n",
    "svc = SVC(C=1) # 규제 강도(역수), 클수록 규제 약해짐\n",
    "svc.fit(X_train, y_train) # 학습\n",
    "y_pred_train = svc.predict(X_train) # 예측\n",
    "y_pred_test = svc.predict(X_test) # 예측\n",
    "print('Train 정확도', accuracy_score(y_train, y_pred_train))\n",
    "print('Test 정확도', accuracy_score(y_test, y_pred_test))\n",
    "print('Train 평가지표\\n', classification_report(y_train, y_pred_train))\n",
    "print('Test 평가지표\\n', classification_report(y_test, y_pred_test))\n"
   ],
   "id": "1359c66a1313a382",
   "outputs": [
    {
     "name": "stdout",
     "output_type": "stream",
     "text": [
      "Train 정확도 0.8386783284742468\n",
      "Test 정확도 0.8390022675736961\n",
      "Train 평가지표\n",
      "               precision    recall  f1-score   support\n",
      "\n",
      "           0       0.84      1.00      0.91       863\n",
      "           1       0.00      0.00      0.00       166\n",
      "\n",
      "    accuracy                           0.84      1029\n",
      "   macro avg       0.42      0.50      0.46      1029\n",
      "weighted avg       0.70      0.84      0.77      1029\n",
      "\n",
      "Test 평가지표\n",
      "               precision    recall  f1-score   support\n",
      "\n",
      "           0       0.84      1.00      0.91       370\n",
      "           1       0.00      0.00      0.00        71\n",
      "\n",
      "    accuracy                           0.84       441\n",
      "   macro avg       0.42      0.50      0.46       441\n",
      "weighted avg       0.70      0.84      0.77       441\n",
      "\n"
     ]
    }
   ],
   "execution_count": 39
  },
  {
   "metadata": {
    "ExecuteTime": {
     "end_time": "2024-08-20T02:09:55.901045Z",
     "start_time": "2024-08-20T02:09:54.743432Z"
    }
   },
   "cell_type": "code",
   "source": [
    "# Logistic Regression\n",
    "lr = LogisticRegression(C=0.1, max_iter=10000) # 모델 생성\n",
    "lr.fit(X_train, y_train) # 학습"
   ],
   "id": "d4bd09b4da77cca3",
   "outputs": [
    {
     "data": {
      "text/plain": [
       "LogisticRegression(C=0.1, max_iter=10000)"
      ],
      "text/html": [
       "<style>#sk-container-id-1 {color: black;background-color: white;}#sk-container-id-1 pre{padding: 0;}#sk-container-id-1 div.sk-toggleable {background-color: white;}#sk-container-id-1 label.sk-toggleable__label {cursor: pointer;display: block;width: 100%;margin-bottom: 0;padding: 0.3em;box-sizing: border-box;text-align: center;}#sk-container-id-1 label.sk-toggleable__label-arrow:before {content: \"▸\";float: left;margin-right: 0.25em;color: #696969;}#sk-container-id-1 label.sk-toggleable__label-arrow:hover:before {color: black;}#sk-container-id-1 div.sk-estimator:hover label.sk-toggleable__label-arrow:before {color: black;}#sk-container-id-1 div.sk-toggleable__content {max-height: 0;max-width: 0;overflow: hidden;text-align: left;background-color: #f0f8ff;}#sk-container-id-1 div.sk-toggleable__content pre {margin: 0.2em;color: black;border-radius: 0.25em;background-color: #f0f8ff;}#sk-container-id-1 input.sk-toggleable__control:checked~div.sk-toggleable__content {max-height: 200px;max-width: 100%;overflow: auto;}#sk-container-id-1 input.sk-toggleable__control:checked~label.sk-toggleable__label-arrow:before {content: \"▾\";}#sk-container-id-1 div.sk-estimator input.sk-toggleable__control:checked~label.sk-toggleable__label {background-color: #d4ebff;}#sk-container-id-1 div.sk-label input.sk-toggleable__control:checked~label.sk-toggleable__label {background-color: #d4ebff;}#sk-container-id-1 input.sk-hidden--visually {border: 0;clip: rect(1px 1px 1px 1px);clip: rect(1px, 1px, 1px, 1px);height: 1px;margin: -1px;overflow: hidden;padding: 0;position: absolute;width: 1px;}#sk-container-id-1 div.sk-estimator {font-family: monospace;background-color: #f0f8ff;border: 1px dotted black;border-radius: 0.25em;box-sizing: border-box;margin-bottom: 0.5em;}#sk-container-id-1 div.sk-estimator:hover {background-color: #d4ebff;}#sk-container-id-1 div.sk-parallel-item::after {content: \"\";width: 100%;border-bottom: 1px solid gray;flex-grow: 1;}#sk-container-id-1 div.sk-label:hover label.sk-toggleable__label {background-color: #d4ebff;}#sk-container-id-1 div.sk-serial::before {content: \"\";position: absolute;border-left: 1px solid gray;box-sizing: border-box;top: 0;bottom: 0;left: 50%;z-index: 0;}#sk-container-id-1 div.sk-serial {display: flex;flex-direction: column;align-items: center;background-color: white;padding-right: 0.2em;padding-left: 0.2em;position: relative;}#sk-container-id-1 div.sk-item {position: relative;z-index: 1;}#sk-container-id-1 div.sk-parallel {display: flex;align-items: stretch;justify-content: center;background-color: white;position: relative;}#sk-container-id-1 div.sk-item::before, #sk-container-id-1 div.sk-parallel-item::before {content: \"\";position: absolute;border-left: 1px solid gray;box-sizing: border-box;top: 0;bottom: 0;left: 50%;z-index: -1;}#sk-container-id-1 div.sk-parallel-item {display: flex;flex-direction: column;z-index: 1;position: relative;background-color: white;}#sk-container-id-1 div.sk-parallel-item:first-child::after {align-self: flex-end;width: 50%;}#sk-container-id-1 div.sk-parallel-item:last-child::after {align-self: flex-start;width: 50%;}#sk-container-id-1 div.sk-parallel-item:only-child::after {width: 0;}#sk-container-id-1 div.sk-dashed-wrapped {border: 1px dashed gray;margin: 0 0.4em 0.5em 0.4em;box-sizing: border-box;padding-bottom: 0.4em;background-color: white;}#sk-container-id-1 div.sk-label label {font-family: monospace;font-weight: bold;display: inline-block;line-height: 1.2em;}#sk-container-id-1 div.sk-label-container {text-align: center;}#sk-container-id-1 div.sk-container {/* jupyter's `normalize.less` sets `[hidden] { display: none; }` but bootstrap.min.css set `[hidden] { display: none !important; }` so we also need the `!important` here to be able to override the default hidden behavior on the sphinx rendered scikit-learn.org. See: https://github.com/scikit-learn/scikit-learn/issues/21755 */display: inline-block !important;position: relative;}#sk-container-id-1 div.sk-text-repr-fallback {display: none;}</style><div id=\"sk-container-id-1\" class=\"sk-top-container\"><div class=\"sk-text-repr-fallback\"><pre>LogisticRegression(C=0.1, max_iter=10000)</pre><b>In a Jupyter environment, please rerun this cell to show the HTML representation or trust the notebook. <br />On GitHub, the HTML representation is unable to render, please try loading this page with nbviewer.org.</b></div><div class=\"sk-container\" hidden><div class=\"sk-item\"><div class=\"sk-estimator sk-toggleable\"><input class=\"sk-toggleable__control sk-hidden--visually\" id=\"sk-estimator-id-1\" type=\"checkbox\" checked><label for=\"sk-estimator-id-1\" class=\"sk-toggleable__label sk-toggleable__label-arrow\">LogisticRegression</label><div class=\"sk-toggleable__content\"><pre>LogisticRegression(C=0.1, max_iter=10000)</pre></div></div></div></div></div>"
      ]
     },
     "execution_count": 40,
     "metadata": {},
     "output_type": "execute_result"
    }
   ],
   "execution_count": 40
  },
  {
   "metadata": {
    "ExecuteTime": {
     "end_time": "2024-08-20T02:10:05.188011Z",
     "start_time": "2024-08-20T02:10:05.161733Z"
    }
   },
   "cell_type": "code",
   "source": [
    "y_pred_train = lr.predict(X_train) # 예측\n",
    "y_pred_test = lr.predict(X_test) # 예측\n",
    "print('Train 정확도', accuracy_score(y_train, y_pred_train))\n",
    "print('Test 정확도', accuracy_score(y_test, y_pred_test))\n",
    "print('Train 평가지표\\n', classification_report(y_train, y_pred_train))\n",
    "print('Test 평가지표\\n', classification_report(y_test, y_pred_test))"
   ],
   "id": "df1a11d5411aa81d",
   "outputs": [
    {
     "name": "stdout",
     "output_type": "stream",
     "text": [
      "Train 정확도 0.8736637512147716\n",
      "Test 정확도 0.8820861678004536\n",
      "Train 평가지표\n",
      "               precision    recall  f1-score   support\n",
      "\n",
      "           0       0.88      0.99      0.93       863\n",
      "           1       0.80      0.29      0.42       166\n",
      "\n",
      "    accuracy                           0.87      1029\n",
      "   macro avg       0.84      0.64      0.68      1029\n",
      "weighted avg       0.87      0.87      0.85      1029\n",
      "\n",
      "Test 평가지표\n",
      "               precision    recall  f1-score   support\n",
      "\n",
      "           0       0.89      0.99      0.93       370\n",
      "           1       0.83      0.34      0.48        71\n",
      "\n",
      "    accuracy                           0.88       441\n",
      "   macro avg       0.86      0.66      0.71       441\n",
      "weighted avg       0.88      0.88      0.86       441\n",
      "\n"
     ]
    }
   ],
   "execution_count": 41
  },
  {
   "metadata": {
    "ExecuteTime": {
     "end_time": "2024-08-20T02:28:13.977503Z",
     "start_time": "2024-08-20T02:28:13.722648Z"
    }
   },
   "cell_type": "code",
   "source": [
    "# 모델에 가장 많은 영향을 미치는 변수 탐색\n",
    "import matplotlib.pyplot as plt\n",
    "import seaborn as sns\n",
    "plt.style.use(['dark_background'])\n",
    "ftr_importances_values = lr.coef_[0]\n",
    "ftr_importances = pd.Series(ftr_importances_values, index=X_train.columns)\n",
    "ftr_top10 = ftr_importances.sort_values(ascending=False)[:10]\n",
    "plt.figure(figsize=(8,6))\n",
    "plt.title('Feature importances Top 10')\n",
    "sns.barplot(x=ftr_top10, y=ftr_top10.index)\n",
    "plt.show()\n",
    "\n"
   ],
   "id": "80d3f8195107f766",
   "outputs": [
    {
     "data": {
      "text/plain": [
       "<Figure size 800x600 with 1 Axes>"
      ],
      "image/png": "[encoded data removed]"
     },
     "metadata": {},
     "output_type": "display_data"
    }
   ],
   "execution_count": 61
  },
  {
   "metadata": {
    "ExecuteTime": {
     "end_time": "2024-08-20T02:22:25.443509Z",
     "start_time": "2024-08-20T02:22:25.436465Z"
    }
   },
   "cell_type": "code",
   "source": "lr.coef_[0] # 모델 가중치(w)",
   "id": "b98709095dc202bc",
   "outputs": [
    {
     "data": {
      "text/plain": [
       "array([-1.85535125e-02,  1.06507069e-01, -2.04654332e-04,  2.01797678e-01,\n",
       "        3.00727971e-02, -2.25363289e-03,  6.22197614e-02,  4.03779411e-04,\n",
       "       -3.44628477e-04, -2.53827184e-01,  7.68406559e-02, -3.13830120e-03,\n",
       "       -4.91387986e-01, -1.89305544e-02,  2.54551237e-03, -2.36986490e-01,\n",
       "        2.95666810e-01, -8.88869335e-05,  1.44456454e-05,  9.49454426e-02,\n",
       "        0.00000000e+00,  1.03158293e+00, -1.91966930e-02,  1.28173998e-01,\n",
       "       -9.81183926e-02,  3.23023529e-02, -3.20990032e-01, -6.20510538e-02,\n",
       "       -1.17952441e-01, -1.35127195e-01,  6.20902402e-02, -1.08591384e-01,\n",
       "        1.66194314e-01, -1.35691030e-01])"
      ]
     },
     "execution_count": 51,
     "metadata": {},
     "output_type": "execute_result"
    }
   ],
   "execution_count": 51
  },
  {
   "metadata": {
    "ExecuteTime": {
     "end_time": "2024-08-20T02:31:07.798927Z",
     "start_time": "2024-08-20T02:31:07.792274Z"
    }
   },
   "cell_type": "code",
   "source": [
    "# MaritalStatus : 결혼 상태\n",
    "df['MaritalStatus'].value_counts()"
   ],
   "id": "261fa5fafa411a94",
   "outputs": [
    {
     "data": {
      "text/plain": [
       "MaritalStatus\n",
       "Married     673\n",
       "Single      470\n",
       "Divorced    327\n",
       "Name: count, dtype: int64"
      ]
     },
     "execution_count": 62,
     "metadata": {},
     "output_type": "execute_result"
    }
   ],
   "execution_count": 62
  },
  {
   "metadata": {
    "ExecuteTime": {
     "end_time": "2024-08-20T02:36:26.532011Z",
     "start_time": "2024-08-20T02:36:26.518281Z"
    }
   },
   "cell_type": "code",
   "source": [
    "# MaritalStatus 특성의 직원 수, 이직자 수 확인\n",
    "df_ma = df.groupby('MaritalStatus')['Attrition'].agg(['sum', 'count'])\n",
    "df_ma['rate'] = round((df_gp['sum'] / df_gp['count'])*100,1)\n",
    "df_ma"
   ],
   "id": "4e4799e528b927c8",
   "outputs": [
    {
     "data": {
      "text/plain": [
       "               sum  count  rate\n",
       "MaritalStatus                  \n",
       "Divorced        33    327  10.1\n",
       "Married         84    673  12.5\n",
       "Single         120    470  25.5"
      ],
      "text/html": [
       "<div>\n",
       "<style scoped>\n",
       "    .dataframe tbody tr th:only-of-type {\n",
       "        vertical-align: middle;\n",
       "    }\n",
       "\n",
       "    .dataframe tbody tr th {\n",
       "        vertical-align: top;\n",
       "    }\n",
       "\n",
       "    .dataframe thead th {\n",
       "        text-align: right;\n",
       "    }\n",
       "</style>\n",
       "<table border=\"1\" class=\"dataframe\">\n",
       "  <thead>\n",
       "    <tr style=\"text-align: right;\">\n",
       "      <th></th>\n",
       "      <th>sum</th>\n",
       "      <th>count</th>\n",
       "      <th>rate</th>\n",
       "    </tr>\n",
       "    <tr>\n",
       "      <th>MaritalStatus</th>\n",
       "      <th></th>\n",
       "      <th></th>\n",
       "      <th></th>\n",
       "    </tr>\n",
       "  </thead>\n",
       "  <tbody>\n",
       "    <tr>\n",
       "      <th>Divorced</th>\n",
       "      <td>33</td>\n",
       "      <td>327</td>\n",
       "      <td>10.1</td>\n",
       "    </tr>\n",
       "    <tr>\n",
       "      <th>Married</th>\n",
       "      <td>84</td>\n",
       "      <td>673</td>\n",
       "      <td>12.5</td>\n",
       "    </tr>\n",
       "    <tr>\n",
       "      <th>Single</th>\n",
       "      <td>120</td>\n",
       "      <td>470</td>\n",
       "      <td>25.5</td>\n",
       "    </tr>\n",
       "  </tbody>\n",
       "</table>\n",
       "</div>"
      ]
     },
     "execution_count": 64,
     "metadata": {},
     "output_type": "execute_result"
    }
   ],
   "execution_count": 64
  },
  {
   "metadata": {},
   "cell_type": "code",
   "outputs": [],
   "execution_count": null,
   "source": "",
   "id": "c8a649304531a899"
  }
 ],
 "metadata": {
  "kernelspec": {
   "display_name": "Python 3",
   "language": "python",
   "name": "python3"
  },
  "language_info": {
   "codemirror_mode": {
    "name": "ipython",
    "version": 2
   },
   "file_extension": ".py",
   "mimetype": "text/x-python",
   "name": "python",
   "nbconvert_exporter": "python",
   "pygments_lexer": "ipython2",
   "version": "2.7.6"
  }
 },
 "nbformat": 4,
 "nbformat_minor": 5
}
