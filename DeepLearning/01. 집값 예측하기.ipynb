{
 "nbformat": 4,
 "nbformat_minor": 0,
 "metadata": {
  "colab": {
   "provenance": [],
   "authorship_tag": "ABX9TyNL3xQqAtbhpKtDpm9Sj+j+"
  },
  "kernelspec": {
   "name": "python3",
   "display_name": "Python 3"
  },
  "language_info": {
   "name": "python"
  }
 },
 "cells": [
  {
   "cell_type": "code",
   "execution_count": 1,
   "metadata": {
    "colab": {
     "base_uri": "https://localhost:8080/"
    },
    "id": "xxqXdu3a1o9P",
    "executionInfo": {
     "status": "ok",
     "timestamp": 1724911508007,
     "user_tz": -540,
     "elapsed": 6831,
     "user": {
      "displayName": "백성수",
      "userId": "12486274965327588633"
     }
    },
    "outputId": "b850afec-b3b5-4a61-cbaa-c570951f025b"
   },
   "outputs": [
    {
     "output_type": "stream",
     "name": "stdout",
     "text": [
      "Downloading data from https://storage.googleapis.com/tensorflow/tf-keras-datasets/boston_housing.npz\n",
      "\u001B[1m57026/57026\u001B[0m \u001B[32m━━━━━━━━━━━━━━━━━━━━\u001B[0m\u001B[37m\u001B[0m \u001B[1m0s\u001B[0m 0us/step\n"
     ]
    }
   ],
   "source": [
    "from tensorflow.keras.datasets import boston_housing\n",
    "(X_train, y_train), (X_test, y_test) = boston_housing.load_data()"
   ]
  },
  {
   "cell_type": "code",
   "source": [
    "# 데이터 특성의 수\n",
    "# 이진분류 or 다중분류 or 회귀\n",
    "\n",
    "# 분류 : 정답의 종류가 정해져있다. ex) 혈액형, MBTI\n",
    "# 회귀 : 정답의 범위가 정해져있다. ex) 집값, 성적예측"
   ],
   "metadata": {
    "id": "QlklBMj41_P3",
    "executionInfo": {
     "status": "ok",
     "timestamp": 1724911508007,
     "user_tz": -540,
     "elapsed": 4,
     "user": {
      "displayName": "백성수",
      "userId": "12486274965327588633"
     }
    }
   },
   "execution_count": 2,
   "outputs": []
  },
  {
   "cell_type": "code",
   "source": [
    "y_train"
   ],
   "metadata": {
    "colab": {
     "base_uri": "https://localhost:8080/"
    },
    "collapsed": true,
    "id": "LgUwuBvZ2QwE",
    "executionInfo": {
     "status": "ok",
     "timestamp": 1724911508007,
     "user_tz": -540,
     "elapsed": 3,
     "user": {
      "displayName": "백성수",
      "userId": "12486274965327588633"
     }
    },
    "outputId": "1bd63035-f3dd-4570-953d-da08253691fa"
   },
   "execution_count": 3,
   "outputs": [
    {
     "output_type": "execute_result",
     "data": {
      "text/plain": [
       "array([15.2, 42.3, 50. , 21.1, 17.7, 18.5, 11.3, 15.6, 15.6, 14.4, 12.1,\n",
       "       17.9, 23.1, 19.9, 15.7,  8.8, 50. , 22.5, 24.1, 27.5, 10.9, 30.8,\n",
       "       32.9, 24. , 18.5, 13.3, 22.9, 34.7, 16.6, 17.5, 22.3, 16.1, 14.9,\n",
       "       23.1, 34.9, 25. , 13.9, 13.1, 20.4, 20. , 15.2, 24.7, 22.2, 16.7,\n",
       "       12.7, 15.6, 18.4, 21. , 30.1, 15.1, 18.7,  9.6, 31.5, 24.8, 19.1,\n",
       "       22. , 14.5, 11. , 32. , 29.4, 20.3, 24.4, 14.6, 19.5, 14.1, 14.3,\n",
       "       15.6, 10.5,  6.3, 19.3, 19.3, 13.4, 36.4, 17.8, 13.5, 16.5,  8.3,\n",
       "       14.3, 16. , 13.4, 28.6, 43.5, 20.2, 22. , 23. , 20.7, 12.5, 48.5,\n",
       "       14.6, 13.4, 23.7, 50. , 21.7, 39.8, 38.7, 22.2, 34.9, 22.5, 31.1,\n",
       "       28.7, 46. , 41.7, 21. , 26.6, 15. , 24.4, 13.3, 21.2, 11.7, 21.7,\n",
       "       19.4, 50. , 22.8, 19.7, 24.7, 36.2, 14.2, 18.9, 18.3, 20.6, 24.6,\n",
       "       18.2,  8.7, 44. , 10.4, 13.2, 21.2, 37. , 30.7, 22.9, 20. , 19.3,\n",
       "       31.7, 32. , 23.1, 18.8, 10.9, 50. , 19.6,  5. , 14.4, 19.8, 13.8,\n",
       "       19.6, 23.9, 24.5, 25. , 19.9, 17.2, 24.6, 13.5, 26.6, 21.4, 11.9,\n",
       "       22.6, 19.6,  8.5, 23.7, 23.1, 22.4, 20.5, 23.6, 18.4, 35.2, 23.1,\n",
       "       27.9, 20.6, 23.7, 28. , 13.6, 27.1, 23.6, 20.6, 18.2, 21.7, 17.1,\n",
       "        8.4, 25.3, 13.8, 22.2, 18.4, 20.7, 31.6, 30.5, 20.3,  8.8, 19.2,\n",
       "       19.4, 23.1, 23. , 14.8, 48.8, 22.6, 33.4, 21.1, 13.6, 32.2, 13.1,\n",
       "       23.4, 18.9, 23.9, 11.8, 23.3, 22.8, 19.6, 16.7, 13.4, 22.2, 20.4,\n",
       "       21.8, 26.4, 14.9, 24.1, 23.8, 12.3, 29.1, 21. , 19.5, 23.3, 23.8,\n",
       "       17.8, 11.5, 21.7, 19.9, 25. , 33.4, 28.5, 21.4, 24.3, 27.5, 33.1,\n",
       "       16.2, 23.3, 48.3, 22.9, 22.8, 13.1, 12.7, 22.6, 15. , 15.3, 10.5,\n",
       "       24. , 18.5, 21.7, 19.5, 33.2, 23.2,  5. , 19.1, 12.7, 22.3, 10.2,\n",
       "       13.9, 16.3, 17. , 20.1, 29.9, 17.2, 37.3, 45.4, 17.8, 23.2, 29. ,\n",
       "       22. , 18. , 17.4, 34.6, 20.1, 25. , 15.6, 24.8, 28.2, 21.2, 21.4,\n",
       "       23.8, 31. , 26.2, 17.4, 37.9, 17.5, 20. ,  8.3, 23.9,  8.4, 13.8,\n",
       "        7.2, 11.7, 17.1, 21.6, 50. , 16.1, 20.4, 20.6, 21.4, 20.6, 36.5,\n",
       "        8.5, 24.8, 10.8, 21.9, 17.3, 18.9, 36.2, 14.9, 18.2, 33.3, 21.8,\n",
       "       19.7, 31.6, 24.8, 19.4, 22.8,  7.5, 44.8, 16.8, 18.7, 50. , 50. ,\n",
       "       19.5, 20.1, 50. , 17.2, 20.8, 19.3, 41.3, 20.4, 20.5, 13.8, 16.5,\n",
       "       23.9, 20.6, 31.5, 23.3, 16.8, 14. , 33.8, 36.1, 12.8, 18.3, 18.7,\n",
       "       19.1, 29. , 30.1, 50. , 50. , 22. , 11.9, 37.6, 50. , 22.7, 20.8,\n",
       "       23.5, 27.9, 50. , 19.3, 23.9, 22.6, 15.2, 21.7, 19.2, 43.8, 20.3,\n",
       "       33.2, 19.9, 22.5, 32.7, 22. , 17.1, 19. , 15. , 16.1, 25.1, 23.7,\n",
       "       28.7, 37.2, 22.6, 16.4, 25. , 29.8, 22.1, 17.4, 18.1, 30.3, 17.5,\n",
       "       24.7, 12.6, 26.5, 28.7, 13.3, 10.4, 24.4, 23. , 20. , 17.8,  7. ,\n",
       "       11.8, 24.4, 13.8, 19.4, 25.2, 19.4, 19.4, 29.1])"
      ]
     },
     "metadata": {},
     "execution_count": 3
    }
   ]
  },
  {
   "cell_type": "code",
   "source": [
    "# 딥러닝 모델 설계에 필요한 기능 불러오기\n",
    "# 건물을 짓는다\n",
    "from tensorflow.keras.models import Sequential # 딥러닝 모델의 틀, 건물 바닥 다지기\n",
    "from tensorflow.keras.layers import Dense # 딥러닝 세부 설정, 건물에서 한 층 디자인하기"
   ],
   "metadata": {
    "id": "5kOhKffY2Zt3",
    "executionInfo": {
     "status": "ok",
     "timestamp": 1724911508007,
     "user_tz": -540,
     "elapsed": 3,
     "user": {
      "displayName": "백성수",
      "userId": "12486274965327588633"
     }
    }
   },
   "execution_count": 4,
   "outputs": []
  },
  {
   "cell_type": "code",
   "source": [
    "# 딥러닝 모델 설계\n",
    "# 딥러닝 모델 객체 생성\n",
    "model = Sequential()\n",
    "\n",
    "# 딥러닝 세부설정\n",
    "# 한 층씩 설정해줘야함\n",
    "# Dense : 퍼셉트론 하나\n",
    "# 입력층 : 데이터가 처음 들어가는 층\n",
    "model.add(Dense(units = 30, input_dim = 13, activation='relu'))\n",
    "# units : 퍼셉트론에서 사용할 가중치의 갯수\n",
    "#         한 퍼셉트론이 할 수 있는 생각의 갯수\n",
    "# input_dim : 입력 데이터 특성의 크기\n",
    "#             첫 번째 층에만 자겅\n",
    "# activation : 활성화 함수, 다음층으로 값을 넘기는 방법\n",
    "#              다음층으로 값을 넘기기 전에 기존의 값을 한번 정리\n",
    "\n",
    "# 중간층(은닉층) : 입력층, 출력층을 제외한 나머지 층\n",
    "# 중간층 : 데이터에서 특징 찾기\n",
    "model.add(Dense(units = 32, activation='relu'))\n",
    "model.add(Dense(units = 16, activation='relu'))\n",
    "model.add(Dense(units = 16, activation='relu'))\n",
    "model.add(Dense(units = 32, activation='relu'))\n",
    "\n",
    "# 출력층 : 가장 마지막에 나오는 층, 입력층과 중간층에서 분석한 값을 결론내리기\n",
    "# units과 activation은 신경써서 적어야한다\n",
    "model.add(Dense(units = 1, activation='linear'))"
   ],
   "metadata": {
    "colab": {
     "base_uri": "https://localhost:8080/"
    },
    "id": "AVuzAm0I3WV6",
    "executionInfo": {
     "status": "ok",
     "timestamp": 1724911508007,
     "user_tz": -540,
     "elapsed": 3,
     "user": {
      "displayName": "백성수",
      "userId": "12486274965327588633"
     }
    },
    "outputId": "e09eac08-7348-4092-cbd0-206e63323980"
   },
   "execution_count": 5,
   "outputs": [
    {
     "output_type": "stream",
     "name": "stderr",
     "text": [
      "/usr/local/lib/python3.10/dist-packages/keras/src/layers/core/dense.py:87: UserWarning: Do not pass an `input_shape`/`input_dim` argument to a layer. When using Sequential models, prefer using an `Input(shape)` object as the first layer in the model instead.\n",
      "  super().__init__(activity_regularizer=activity_regularizer, **kwargs)\n"
     ]
    }
   ]
  },
  {
   "cell_type": "code",
   "source": [
    "# 딥러닝 모델 학습 방법 설정\n",
    "# 신경써서 적어야 함\n",
    "model.compile(\n",
    "    loss = 'mean_squared_error', # 모델을 얼마나 수정해야하는지 계산할 값\n",
    "    optimizer = 'adam', # 경사하강법의 종류 > 오차를 어떻게 반영할 것인지\n",
    "    metrics = ['mse'] # 모델이 잘 만들어졌는지 평가할 기준이 되는 값\n",
    ")"
   ],
   "metadata": {
    "id": "aefwqd637KO3",
    "executionInfo": {
     "status": "ok",
     "timestamp": 1724911508007,
     "user_tz": -540,
     "elapsed": 2,
     "user": {
      "displayName": "백성수",
      "userId": "12486274965327588633"
     }
    }
   },
   "execution_count": 6,
   "outputs": []
  },
  {
   "cell_type": "code",
   "source": [
    "# 학습하기\n",
    "# epochs = 학습의 횟수\n",
    "# 딥러닝 모델은 epochs만큼 발전하려고함\n",
    "h = model.fit(X_train, y_train, epochs = 100)"
   ],
   "metadata": {
    "colab": {
     "base_uri": "https://localhost:8080/"
    },
    "id": "1vZzM5Zn8hQP",
    "executionInfo": {
     "status": "ok",
     "timestamp": 1724911611613,
     "user_tz": -540,
     "elapsed": 8774,
     "user": {
      "displayName": "백성수",
      "userId": "12486274965327588633"
     }
    },
    "outputId": "2ab9da60-4319-4ce0-c142-b785f8b33c14",
    "collapsed": true
   },
   "execution_count": 9,
   "outputs": [
    {
     "output_type": "stream",
     "name": "stdout",
     "text": [
      "Epoch 1/100\n",
      "\u001B[1m13/13\u001B[0m \u001B[32m━━━━━━━━━━━━━━━━━━━━\u001B[0m\u001B[37m\u001B[0m \u001B[1m0s\u001B[0m 2ms/step - loss: 16.7424 - mse: 16.7424 \n",
      "Epoch 2/100\n",
      "\u001B[1m13/13\u001B[0m \u001B[32m━━━━━━━━━━━━━━━━━━━━\u001B[0m\u001B[37m\u001B[0m \u001B[1m0s\u001B[0m 2ms/step - loss: 11.5501 - mse: 11.5501\n",
      "Epoch 3/100\n",
      "\u001B[1m13/13\u001B[0m \u001B[32m━━━━━━━━━━━━━━━━━━━━\u001B[0m\u001B[37m\u001B[0m \u001B[1m0s\u001B[0m 2ms/step - loss: 11.0668 - mse: 11.0668\n",
      "Epoch 4/100\n",
      "\u001B[1m13/13\u001B[0m \u001B[32m━━━━━━━━━━━━━━━━━━━━\u001B[0m\u001B[37m\u001B[0m \u001B[1m0s\u001B[0m 2ms/step - loss: 13.8335 - mse: 13.8335 \n",
      "Epoch 5/100\n",
      "\u001B[1m13/13\u001B[0m \u001B[32m━━━━━━━━━━━━━━━━━━━━\u001B[0m\u001B[37m\u001B[0m \u001B[1m0s\u001B[0m 2ms/step - loss: 13.6098 - mse: 13.6098 \n",
      "Epoch 6/100\n",
      "\u001B[1m13/13\u001B[0m \u001B[32m━━━━━━━━━━━━━━━━━━━━\u001B[0m\u001B[37m\u001B[0m \u001B[1m0s\u001B[0m 2ms/step - loss: 11.9564 - mse: 11.9564\n",
      "Epoch 7/100\n",
      "\u001B[1m13/13\u001B[0m \u001B[32m━━━━━━━━━━━━━━━━━━━━\u001B[0m\u001B[37m\u001B[0m \u001B[1m0s\u001B[0m 3ms/step - loss: 12.5704 - mse: 12.5704\n",
      "Epoch 8/100\n",
      "\u001B[1m13/13\u001B[0m \u001B[32m━━━━━━━━━━━━━━━━━━━━\u001B[0m\u001B[37m\u001B[0m \u001B[1m0s\u001B[0m 2ms/step - loss: 12.7076 - mse: 12.7076\n",
      "Epoch 9/100\n",
      "\u001B[1m13/13\u001B[0m \u001B[32m━━━━━━━━━━━━━━━━━━━━\u001B[0m\u001B[37m\u001B[0m \u001B[1m0s\u001B[0m 2ms/step - loss: 14.0271 - mse: 14.0271  \n",
      "Epoch 10/100\n",
      "\u001B[1m13/13\u001B[0m \u001B[32m━━━━━━━━━━━━━━━━━━━━\u001B[0m\u001B[37m\u001B[0m \u001B[1m0s\u001B[0m 2ms/step - loss: 18.4328 - mse: 18.4328 \n",
      "Epoch 11/100\n",
      "\u001B[1m13/13\u001B[0m \u001B[32m━━━━━━━━━━━━━━━━━━━━\u001B[0m\u001B[37m\u001B[0m \u001B[1m0s\u001B[0m 2ms/step - loss: 14.5259 - mse: 14.5259 \n",
      "Epoch 12/100\n",
      "\u001B[1m13/13\u001B[0m \u001B[32m━━━━━━━━━━━━━━━━━━━━\u001B[0m\u001B[37m\u001B[0m \u001B[1m0s\u001B[0m 3ms/step - loss: 14.6424 - mse: 14.6424 \n",
      "Epoch 13/100\n",
      "\u001B[1m13/13\u001B[0m \u001B[32m━━━━━━━━━━━━━━━━━━━━\u001B[0m\u001B[37m\u001B[0m \u001B[1m0s\u001B[0m 2ms/step - loss: 13.3000 - mse: 13.3000 \n",
      "Epoch 14/100\n",
      "\u001B[1m13/13\u001B[0m \u001B[32m━━━━━━━━━━━━━━━━━━━━\u001B[0m\u001B[37m\u001B[0m \u001B[1m0s\u001B[0m 2ms/step - loss: 13.0011 - mse: 13.0011 \n",
      "Epoch 15/100\n",
      "\u001B[1m13/13\u001B[0m \u001B[32m━━━━━━━━━━━━━━━━━━━━\u001B[0m\u001B[37m\u001B[0m \u001B[1m0s\u001B[0m 3ms/step - loss: 13.5432 - mse: 13.5432 \n",
      "Epoch 16/100\n",
      "\u001B[1m13/13\u001B[0m \u001B[32m━━━━━━━━━━━━━━━━━━━━\u001B[0m\u001B[37m\u001B[0m \u001B[1m0s\u001B[0m 2ms/step - loss: 13.0569 - mse: 13.0569\n",
      "Epoch 17/100\n",
      "\u001B[1m13/13\u001B[0m \u001B[32m━━━━━━━━━━━━━━━━━━━━\u001B[0m\u001B[37m\u001B[0m \u001B[1m0s\u001B[0m 2ms/step - loss: 10.4239 - mse: 10.4239\n",
      "Epoch 18/100\n",
      "\u001B[1m13/13\u001B[0m \u001B[32m━━━━━━━━━━━━━━━━━━━━\u001B[0m\u001B[37m\u001B[0m \u001B[1m0s\u001B[0m 2ms/step - loss: 16.8779 - mse: 16.8779 \n",
      "Epoch 19/100\n",
      "\u001B[1m13/13\u001B[0m \u001B[32m━━━━━━━━━━━━━━━━━━━━\u001B[0m\u001B[37m\u001B[0m \u001B[1m0s\u001B[0m 2ms/step - loss: 17.5101 - mse: 17.5101 \n",
      "Epoch 20/100\n",
      "\u001B[1m13/13\u001B[0m \u001B[32m━━━━━━━━━━━━━━━━━━━━\u001B[0m\u001B[37m\u001B[0m \u001B[1m0s\u001B[0m 2ms/step - loss: 11.2886 - mse: 11.2886\n",
      "Epoch 21/100\n",
      "\u001B[1m13/13\u001B[0m \u001B[32m━━━━━━━━━━━━━━━━━━━━\u001B[0m\u001B[37m\u001B[0m \u001B[1m0s\u001B[0m 2ms/step - loss: 16.9081 - mse: 16.9081 \n",
      "Epoch 22/100\n",
      "\u001B[1m13/13\u001B[0m \u001B[32m━━━━━━━━━━━━━━━━━━━━\u001B[0m\u001B[37m\u001B[0m \u001B[1m0s\u001B[0m 3ms/step - loss: 16.8280 - mse: 16.8280 \n",
      "Epoch 23/100\n",
      "\u001B[1m13/13\u001B[0m \u001B[32m━━━━━━━━━━━━━━━━━━━━\u001B[0m\u001B[37m\u001B[0m \u001B[1m0s\u001B[0m 3ms/step - loss: 14.0993 - mse: 14.0993 \n",
      "Epoch 24/100\n",
      "\u001B[1m13/13\u001B[0m \u001B[32m━━━━━━━━━━━━━━━━━━━━\u001B[0m\u001B[37m\u001B[0m \u001B[1m0s\u001B[0m 2ms/step - loss: 15.2016 - mse: 15.2016 \n",
      "Epoch 25/100\n",
      "\u001B[1m13/13\u001B[0m \u001B[32m━━━━━━━━━━━━━━━━━━━━\u001B[0m\u001B[37m\u001B[0m \u001B[1m0s\u001B[0m 2ms/step - loss: 17.6110 - mse: 17.6110 \n",
      "Epoch 26/100\n",
      "\u001B[1m13/13\u001B[0m \u001B[32m━━━━━━━━━━━━━━━━━━━━\u001B[0m\u001B[37m\u001B[0m \u001B[1m0s\u001B[0m 2ms/step - loss: 23.0418 - mse: 23.0418 \n",
      "Epoch 27/100\n",
      "\u001B[1m13/13\u001B[0m \u001B[32m━━━━━━━━━━━━━━━━━━━━\u001B[0m\u001B[37m\u001B[0m \u001B[1m0s\u001B[0m 2ms/step - loss: 17.3984 - mse: 17.3984 \n",
      "Epoch 28/100\n",
      "\u001B[1m13/13\u001B[0m \u001B[32m━━━━━━━━━━━━━━━━━━━━\u001B[0m\u001B[37m\u001B[0m \u001B[1m0s\u001B[0m 2ms/step - loss: 15.6205 - mse: 15.6205 \n",
      "Epoch 29/100\n",
      "\u001B[1m13/13\u001B[0m \u001B[32m━━━━━━━━━━━━━━━━━━━━\u001B[0m\u001B[37m\u001B[0m \u001B[1m0s\u001B[0m 2ms/step - loss: 12.7242 - mse: 12.7242 \n",
      "Epoch 30/100\n",
      "\u001B[1m13/13\u001B[0m \u001B[32m━━━━━━━━━━━━━━━━━━━━\u001B[0m\u001B[37m\u001B[0m \u001B[1m0s\u001B[0m 2ms/step - loss: 16.0820 - mse: 16.0820 \n",
      "Epoch 31/100\n",
      "\u001B[1m13/13\u001B[0m \u001B[32m━━━━━━━━━━━━━━━━━━━━\u001B[0m\u001B[37m\u001B[0m \u001B[1m0s\u001B[0m 2ms/step - loss: 14.8869 - mse: 14.8869 \n",
      "Epoch 32/100\n",
      "\u001B[1m13/13\u001B[0m \u001B[32m━━━━━━━━━━━━━━━━━━━━\u001B[0m\u001B[37m\u001B[0m \u001B[1m0s\u001B[0m 2ms/step - loss: 14.3785 - mse: 14.3785 \n",
      "Epoch 33/100\n",
      "\u001B[1m13/13\u001B[0m \u001B[32m━━━━━━━━━━━━━━━━━━━━\u001B[0m\u001B[37m\u001B[0m \u001B[1m0s\u001B[0m 2ms/step - loss: 12.4516 - mse: 12.4516 \n",
      "Epoch 34/100\n",
      "\u001B[1m13/13\u001B[0m \u001B[32m━━━━━━━━━━━━━━━━━━━━\u001B[0m\u001B[37m\u001B[0m \u001B[1m0s\u001B[0m 2ms/step - loss: 10.9090 - mse: 10.9090 \n",
      "Epoch 35/100\n",
      "\u001B[1m13/13\u001B[0m \u001B[32m━━━━━━━━━━━━━━━━━━━━\u001B[0m\u001B[37m\u001B[0m \u001B[1m0s\u001B[0m 2ms/step - loss: 9.3240 - mse: 9.3240 \n",
      "Epoch 36/100\n",
      "\u001B[1m13/13\u001B[0m \u001B[32m━━━━━━━━━━━━━━━━━━━━\u001B[0m\u001B[37m\u001B[0m \u001B[1m0s\u001B[0m 2ms/step - loss: 10.4184 - mse: 10.4184\n",
      "Epoch 37/100\n",
      "\u001B[1m13/13\u001B[0m \u001B[32m━━━━━━━━━━━━━━━━━━━━\u001B[0m\u001B[37m\u001B[0m \u001B[1m0s\u001B[0m 2ms/step - loss: 12.3276 - mse: 12.3276 \n",
      "Epoch 38/100\n",
      "\u001B[1m13/13\u001B[0m \u001B[32m━━━━━━━━━━━━━━━━━━━━\u001B[0m\u001B[37m\u001B[0m \u001B[1m0s\u001B[0m 2ms/step - loss: 11.8527 - mse: 11.8527\n",
      "Epoch 39/100\n",
      "\u001B[1m13/13\u001B[0m \u001B[32m━━━━━━━━━━━━━━━━━━━━\u001B[0m\u001B[37m\u001B[0m \u001B[1m0s\u001B[0m 2ms/step - loss: 12.9698 - mse: 12.9698  \n",
      "Epoch 40/100\n",
      "\u001B[1m13/13\u001B[0m \u001B[32m━━━━━━━━━━━━━━━━━━━━\u001B[0m\u001B[37m\u001B[0m \u001B[1m0s\u001B[0m 2ms/step - loss: 12.3220 - mse: 12.3220  \n",
      "Epoch 41/100\n",
      "\u001B[1m13/13\u001B[0m \u001B[32m━━━━━━━━━━━━━━━━━━━━\u001B[0m\u001B[37m\u001B[0m \u001B[1m0s\u001B[0m 2ms/step - loss: 10.7446 - mse: 10.7446\n",
      "Epoch 42/100\n",
      "\u001B[1m13/13\u001B[0m \u001B[32m━━━━━━━━━━━━━━━━━━━━\u001B[0m\u001B[37m\u001B[0m \u001B[1m0s\u001B[0m 2ms/step - loss: 11.1175 - mse: 11.1175 \n",
      "Epoch 43/100\n",
      "\u001B[1m13/13\u001B[0m \u001B[32m━━━━━━━━━━━━━━━━━━━━\u001B[0m\u001B[37m\u001B[0m \u001B[1m0s\u001B[0m 2ms/step - loss: 16.6015 - mse: 16.6015\n",
      "Epoch 44/100\n",
      "\u001B[1m13/13\u001B[0m \u001B[32m━━━━━━━━━━━━━━━━━━━━\u001B[0m\u001B[37m\u001B[0m \u001B[1m0s\u001B[0m 2ms/step - loss: 15.7396 - mse: 15.7396 \n",
      "Epoch 45/100\n",
      "\u001B[1m13/13\u001B[0m \u001B[32m━━━━━━━━━━━━━━━━━━━━\u001B[0m\u001B[37m\u001B[0m \u001B[1m0s\u001B[0m 2ms/step - loss: 12.2687 - mse: 12.2687 \n",
      "Epoch 46/100\n",
      "\u001B[1m13/13\u001B[0m \u001B[32m━━━━━━━━━━━━━━━━━━━━\u001B[0m\u001B[37m\u001B[0m \u001B[1m0s\u001B[0m 3ms/step - loss: 11.7465 - mse: 11.7465 \n",
      "Epoch 47/100\n",
      "\u001B[1m13/13\u001B[0m \u001B[32m━━━━━━━━━━━━━━━━━━━━\u001B[0m\u001B[37m\u001B[0m \u001B[1m0s\u001B[0m 3ms/step - loss: 14.4794 - mse: 14.4794 \n",
      "Epoch 48/100\n",
      "\u001B[1m13/13\u001B[0m \u001B[32m━━━━━━━━━━━━━━━━━━━━\u001B[0m\u001B[37m\u001B[0m \u001B[1m0s\u001B[0m 3ms/step - loss: 12.3191 - mse: 12.3191 \n",
      "Epoch 49/100\n",
      "\u001B[1m13/13\u001B[0m \u001B[32m━━━━━━━━━━━━━━━━━━━━\u001B[0m\u001B[37m\u001B[0m \u001B[1m0s\u001B[0m 3ms/step - loss: 12.5971 - mse: 12.5971\n",
      "Epoch 50/100\n",
      "\u001B[1m13/13\u001B[0m \u001B[32m━━━━━━━━━━━━━━━━━━━━\u001B[0m\u001B[37m\u001B[0m \u001B[1m0s\u001B[0m 3ms/step - loss: 13.2732 - mse: 13.2732  \n",
      "Epoch 51/100\n",
      "\u001B[1m13/13\u001B[0m \u001B[32m━━━━━━━━━━━━━━━━━━━━\u001B[0m\u001B[37m\u001B[0m \u001B[1m0s\u001B[0m 3ms/step - loss: 12.4543 - mse: 12.4543 \n",
      "Epoch 52/100\n",
      "\u001B[1m13/13\u001B[0m \u001B[32m━━━━━━━━━━━━━━━━━━━━\u001B[0m\u001B[37m\u001B[0m \u001B[1m0s\u001B[0m 3ms/step - loss: 14.4213 - mse: 14.4213 \n",
      "Epoch 53/100\n",
      "\u001B[1m13/13\u001B[0m \u001B[32m━━━━━━━━━━━━━━━━━━━━\u001B[0m\u001B[37m\u001B[0m \u001B[1m0s\u001B[0m 3ms/step - loss: 14.1950 - mse: 14.1950 \n",
      "Epoch 54/100\n",
      "\u001B[1m13/13\u001B[0m \u001B[32m━━━━━━━━━━━━━━━━━━━━\u001B[0m\u001B[37m\u001B[0m \u001B[1m0s\u001B[0m 3ms/step - loss: 15.5273 - mse: 15.5273 \n",
      "Epoch 55/100\n",
      "\u001B[1m13/13\u001B[0m \u001B[32m━━━━━━━━━━━━━━━━━━━━\u001B[0m\u001B[37m\u001B[0m \u001B[1m0s\u001B[0m 3ms/step - loss: 21.1787 - mse: 21.1787  \n",
      "Epoch 56/100\n",
      "\u001B[1m13/13\u001B[0m \u001B[32m━━━━━━━━━━━━━━━━━━━━\u001B[0m\u001B[37m\u001B[0m \u001B[1m0s\u001B[0m 3ms/step - loss: 22.1806 - mse: 22.1806  \n",
      "Epoch 57/100\n",
      "\u001B[1m13/13\u001B[0m \u001B[32m━━━━━━━━━━━━━━━━━━━━\u001B[0m\u001B[37m\u001B[0m \u001B[1m0s\u001B[0m 3ms/step - loss: 17.2095 - mse: 17.2095 \n",
      "Epoch 58/100\n",
      "\u001B[1m13/13\u001B[0m \u001B[32m━━━━━━━━━━━━━━━━━━━━\u001B[0m\u001B[37m\u001B[0m \u001B[1m0s\u001B[0m 3ms/step - loss: 9.5404 - mse: 9.5404  \n",
      "Epoch 59/100\n",
      "\u001B[1m13/13\u001B[0m \u001B[32m━━━━━━━━━━━━━━━━━━━━\u001B[0m\u001B[37m\u001B[0m \u001B[1m0s\u001B[0m 3ms/step - loss: 9.4270 - mse: 9.4270 \n",
      "Epoch 60/100\n",
      "\u001B[1m13/13\u001B[0m \u001B[32m━━━━━━━━━━━━━━━━━━━━\u001B[0m\u001B[37m\u001B[0m \u001B[1m0s\u001B[0m 3ms/step - loss: 9.4946 - mse: 9.4946 \n",
      "Epoch 61/100\n",
      "\u001B[1m13/13\u001B[0m \u001B[32m━━━━━━━━━━━━━━━━━━━━\u001B[0m\u001B[37m\u001B[0m \u001B[1m0s\u001B[0m 3ms/step - loss: 11.2087 - mse: 11.2087  \n",
      "Epoch 62/100\n",
      "\u001B[1m13/13\u001B[0m \u001B[32m━━━━━━━━━━━━━━━━━━━━\u001B[0m\u001B[37m\u001B[0m \u001B[1m0s\u001B[0m 3ms/step - loss: 10.3688 - mse: 10.3688\n",
      "Epoch 63/100\n",
      "\u001B[1m13/13\u001B[0m \u001B[32m━━━━━━━━━━━━━━━━━━━━\u001B[0m\u001B[37m\u001B[0m \u001B[1m0s\u001B[0m 3ms/step - loss: 11.5027 - mse: 11.5027  \n",
      "Epoch 64/100\n",
      "\u001B[1m13/13\u001B[0m \u001B[32m━━━━━━━━━━━━━━━━━━━━\u001B[0m\u001B[37m\u001B[0m \u001B[1m0s\u001B[0m 3ms/step - loss: 8.4248 - mse: 8.4248  \n",
      "Epoch 65/100\n",
      "\u001B[1m13/13\u001B[0m \u001B[32m━━━━━━━━━━━━━━━━━━━━\u001B[0m\u001B[37m\u001B[0m \u001B[1m0s\u001B[0m 3ms/step - loss: 10.1102 - mse: 10.1102  \n",
      "Epoch 66/100\n",
      "\u001B[1m13/13\u001B[0m \u001B[32m━━━━━━━━━━━━━━━━━━━━\u001B[0m\u001B[37m\u001B[0m \u001B[1m0s\u001B[0m 3ms/step - loss: 9.9493 - mse: 9.9493  \n",
      "Epoch 67/100\n",
      "\u001B[1m13/13\u001B[0m \u001B[32m━━━━━━━━━━━━━━━━━━━━\u001B[0m\u001B[37m\u001B[0m \u001B[1m0s\u001B[0m 3ms/step - loss: 10.6696 - mse: 10.6696 \n",
      "Epoch 68/100\n",
      "\u001B[1m13/13\u001B[0m \u001B[32m━━━━━━━━━━━━━━━━━━━━\u001B[0m\u001B[37m\u001B[0m \u001B[1m0s\u001B[0m 3ms/step - loss: 11.1851 - mse: 11.1851  \n",
      "Epoch 69/100\n",
      "\u001B[1m13/13\u001B[0m \u001B[32m━━━━━━━━━━━━━━━━━━━━\u001B[0m\u001B[37m\u001B[0m \u001B[1m0s\u001B[0m 3ms/step - loss: 8.5436 - mse: 8.5436  \n",
      "Epoch 70/100\n",
      "\u001B[1m13/13\u001B[0m \u001B[32m━━━━━━━━━━━━━━━━━━━━\u001B[0m\u001B[37m\u001B[0m \u001B[1m0s\u001B[0m 4ms/step - loss: 10.1071 - mse: 10.1071\n",
      "Epoch 71/100\n",
      "\u001B[1m13/13\u001B[0m \u001B[32m━━━━━━━━━━━━━━━━━━━━\u001B[0m\u001B[37m\u001B[0m \u001B[1m0s\u001B[0m 3ms/step - loss: 11.7746 - mse: 11.7746\n",
      "Epoch 72/100\n",
      "\u001B[1m13/13\u001B[0m \u001B[32m━━━━━━━━━━━━━━━━━━━━\u001B[0m\u001B[37m\u001B[0m \u001B[1m0s\u001B[0m 3ms/step - loss: 11.0017 - mse: 11.0017\n",
      "Epoch 73/100\n",
      "\u001B[1m13/13\u001B[0m \u001B[32m━━━━━━━━━━━━━━━━━━━━\u001B[0m\u001B[37m\u001B[0m \u001B[1m0s\u001B[0m 3ms/step - loss: 11.2932 - mse: 11.2932\n",
      "Epoch 74/100\n",
      "\u001B[1m13/13\u001B[0m \u001B[32m━━━━━━━━━━━━━━━━━━━━\u001B[0m\u001B[37m\u001B[0m \u001B[1m0s\u001B[0m 2ms/step - loss: 11.5534 - mse: 11.5534  \n",
      "Epoch 75/100\n",
      "\u001B[1m13/13\u001B[0m \u001B[32m━━━━━━━━━━━━━━━━━━━━\u001B[0m\u001B[37m\u001B[0m \u001B[1m0s\u001B[0m 2ms/step - loss: 8.8347 - mse: 8.8347 \n",
      "Epoch 76/100\n",
      "\u001B[1m13/13\u001B[0m \u001B[32m━━━━━━━━━━━━━━━━━━━━\u001B[0m\u001B[37m\u001B[0m \u001B[1m0s\u001B[0m 2ms/step - loss: 10.6989 - mse: 10.6989 \n",
      "Epoch 77/100\n",
      "\u001B[1m13/13\u001B[0m \u001B[32m━━━━━━━━━━━━━━━━━━━━\u001B[0m\u001B[37m\u001B[0m \u001B[1m0s\u001B[0m 2ms/step - loss: 13.9074 - mse: 13.9074 \n",
      "Epoch 78/100\n",
      "\u001B[1m13/13\u001B[0m \u001B[32m━━━━━━━━━━━━━━━━━━━━\u001B[0m\u001B[37m\u001B[0m \u001B[1m0s\u001B[0m 2ms/step - loss: 11.2639 - mse: 11.2639 \n",
      "Epoch 79/100\n",
      "\u001B[1m13/13\u001B[0m \u001B[32m━━━━━━━━━━━━━━━━━━━━\u001B[0m\u001B[37m\u001B[0m \u001B[1m0s\u001B[0m 2ms/step - loss: 9.2127 - mse: 9.2127 \n",
      "Epoch 80/100\n",
      "\u001B[1m13/13\u001B[0m \u001B[32m━━━━━━━━━━━━━━━━━━━━\u001B[0m\u001B[37m\u001B[0m \u001B[1m0s\u001B[0m 2ms/step - loss: 10.1543 - mse: 10.1543 \n",
      "Epoch 81/100\n",
      "\u001B[1m13/13\u001B[0m \u001B[32m━━━━━━━━━━━━━━━━━━━━\u001B[0m\u001B[37m\u001B[0m \u001B[1m0s\u001B[0m 2ms/step - loss: 9.2939 - mse: 9.2939 \n",
      "Epoch 82/100\n",
      "\u001B[1m13/13\u001B[0m \u001B[32m━━━━━━━━━━━━━━━━━━━━\u001B[0m\u001B[37m\u001B[0m \u001B[1m0s\u001B[0m 2ms/step - loss: 10.3929 - mse: 10.3929\n",
      "Epoch 83/100\n",
      "\u001B[1m13/13\u001B[0m \u001B[32m━━━━━━━━━━━━━━━━━━━━\u001B[0m\u001B[37m\u001B[0m \u001B[1m0s\u001B[0m 2ms/step - loss: 11.7862 - mse: 11.7862\n",
      "Epoch 84/100\n",
      "\u001B[1m13/13\u001B[0m \u001B[32m━━━━━━━━━━━━━━━━━━━━\u001B[0m\u001B[37m\u001B[0m \u001B[1m0s\u001B[0m 2ms/step - loss: 13.1887 - mse: 13.1887 \n",
      "Epoch 85/100\n",
      "\u001B[1m13/13\u001B[0m \u001B[32m━━━━━━━━━━━━━━━━━━━━\u001B[0m\u001B[37m\u001B[0m \u001B[1m0s\u001B[0m 2ms/step - loss: 9.7422 - mse: 9.7422 \n",
      "Epoch 86/100\n",
      "\u001B[1m13/13\u001B[0m \u001B[32m━━━━━━━━━━━━━━━━━━━━\u001B[0m\u001B[37m\u001B[0m \u001B[1m0s\u001B[0m 2ms/step - loss: 11.0855 - mse: 11.0855 \n",
      "Epoch 87/100\n",
      "\u001B[1m13/13\u001B[0m \u001B[32m━━━━━━━━━━━━━━━━━━━━\u001B[0m\u001B[37m\u001B[0m \u001B[1m0s\u001B[0m 2ms/step - loss: 11.1822 - mse: 11.1822\n",
      "Epoch 88/100\n",
      "\u001B[1m13/13\u001B[0m \u001B[32m━━━━━━━━━━━━━━━━━━━━\u001B[0m\u001B[37m\u001B[0m \u001B[1m0s\u001B[0m 2ms/step - loss: 10.7599 - mse: 10.7599\n",
      "Epoch 89/100\n",
      "\u001B[1m13/13\u001B[0m \u001B[32m━━━━━━━━━━━━━━━━━━━━\u001B[0m\u001B[37m\u001B[0m \u001B[1m0s\u001B[0m 2ms/step - loss: 8.9656 - mse: 8.9656 \n",
      "Epoch 90/100\n",
      "\u001B[1m13/13\u001B[0m \u001B[32m━━━━━━━━━━━━━━━━━━━━\u001B[0m\u001B[37m\u001B[0m \u001B[1m0s\u001B[0m 2ms/step - loss: 14.1914 - mse: 14.1914 \n",
      "Epoch 91/100\n",
      "\u001B[1m13/13\u001B[0m \u001B[32m━━━━━━━━━━━━━━━━━━━━\u001B[0m\u001B[37m\u001B[0m \u001B[1m0s\u001B[0m 3ms/step - loss: 11.0167 - mse: 11.0167\n",
      "Epoch 92/100\n",
      "\u001B[1m13/13\u001B[0m \u001B[32m━━━━━━━━━━━━━━━━━━━━\u001B[0m\u001B[37m\u001B[0m \u001B[1m0s\u001B[0m 2ms/step - loss: 9.5061 - mse: 9.5061 \n",
      "Epoch 93/100\n",
      "\u001B[1m13/13\u001B[0m \u001B[32m━━━━━━━━━━━━━━━━━━━━\u001B[0m\u001B[37m\u001B[0m \u001B[1m0s\u001B[0m 2ms/step - loss: 10.8896 - mse: 10.8896\n",
      "Epoch 94/100\n",
      "\u001B[1m13/13\u001B[0m \u001B[32m━━━━━━━━━━━━━━━━━━━━\u001B[0m\u001B[37m\u001B[0m \u001B[1m0s\u001B[0m 2ms/step - loss: 12.0520 - mse: 12.0520 \n",
      "Epoch 95/100\n",
      "\u001B[1m13/13\u001B[0m \u001B[32m━━━━━━━━━━━━━━━━━━━━\u001B[0m\u001B[37m\u001B[0m \u001B[1m0s\u001B[0m 2ms/step - loss: 15.1269 - mse: 15.1269 \n",
      "Epoch 96/100\n",
      "\u001B[1m13/13\u001B[0m \u001B[32m━━━━━━━━━━━━━━━━━━━━\u001B[0m\u001B[37m\u001B[0m \u001B[1m0s\u001B[0m 2ms/step - loss: 18.5815 - mse: 18.5815 \n",
      "Epoch 97/100\n",
      "\u001B[1m13/13\u001B[0m \u001B[32m━━━━━━━━━━━━━━━━━━━━\u001B[0m\u001B[37m\u001B[0m \u001B[1m0s\u001B[0m 2ms/step - loss: 16.8596 - mse: 16.8596 \n",
      "Epoch 98/100\n",
      "\u001B[1m13/13\u001B[0m \u001B[32m━━━━━━━━━━━━━━━━━━━━\u001B[0m\u001B[37m\u001B[0m \u001B[1m0s\u001B[0m 2ms/step - loss: 11.9724 - mse: 11.9724 \n",
      "Epoch 99/100\n",
      "\u001B[1m13/13\u001B[0m \u001B[32m━━━━━━━━━━━━━━━━━━━━\u001B[0m\u001B[37m\u001B[0m \u001B[1m0s\u001B[0m 3ms/step - loss: 12.1665 - mse: 12.1665 \n",
      "Epoch 100/100\n",
      "\u001B[1m13/13\u001B[0m \u001B[32m━━━━━━━━━━━━━━━━━━━━\u001B[0m\u001B[37m\u001B[0m \u001B[1m0s\u001B[0m 2ms/step - loss: 10.1242 - mse: 10.1242\n"
     ]
    }
   ]
  },
  {
   "cell_type": "code",
   "source": "",
   "metadata": {
    "colab": {
     "base_uri": "https://localhost:8080/"
    },
    "id": "s3PWOVgoiFt5",
    "executionInfo": {
     "status": "ok",
     "timestamp": 1724911588706,
     "user_tz": -540,
     "elapsed": 70639,
     "user": {
      "displayName": "백성수",
      "userId": "12486274965327588633"
     }
    },
    "outputId": "aaaf5148-58fe-48ee-e85b-a1a2c6e6224f"
   },
   "execution_count": 8,
   "outputs": [
    {
     "output_type": "stream",
     "name": "stdout",
     "text": [
      "Mounted at /content/drive\n"
     ]
    }
   ]
  },
  {
   "cell_type": "markdown",
   "source": [
    "### 퍼셉트론\n",
    " - 딥러닝은 기계가 사람처럼 유연한 사고를 하게 만들려는 시도\n",
    " - 인간이 유연한 사고를 하는건 뉴런의 역할이 크다\n",
    " - 기계에게도 인간의 뉴런을 만들어주자 = 퍼셉트론\n",
    " - 퍼셉트론 = 선형함수(LinearRegression)\n",
    " - 딥러닝 = 여러개의 퍼셉트론 = 여러개의 선형함수\n",
    "\n",
    " - y = w1x1 + w2x2 + w3x3 + ... + w13x13 + b = 선형함수\n",
    " w = 가중치 : 각각의 데이터에 곱해지는 수, 데이터가 갖는 의미가 다르기 때문에 입력 데이터마다 다른 값이 곱해진다\n",
    " x = 입력데이터 : 문제데이터, 특성별로 나눠서 생각해야함\n",
    " b = 편향 : 예측값을 구하는데 있어서 입력데이터로 설명할수 없는 무언가\n",
    " p = 특성의 갯수\n",
    "\n",
    "### MLP (Multi Layer Perceptron)\n",
    " - 퍼셉트론들이 병렬적 다층 구조로 연결되어있는 딥러닝 모델\n",
    " - 퍼셉트론 안의 units 의 숫자가 클수록, 많은 퍼셉트론이 있을수록 MLP의 다양성이 커진다\n",
    " - 퍼셉트론 안의 각각의 unit들은 다음 퍼셉트론의 unit에게 값을 전달하기 전에 활성화함수   \n",
    "   를 거친다\n",
    " - 퍼셉트론 단위로 같은 활성화함수를 사용"
   ],
   "metadata": {
    "id": "IM76jpGi8lg1"
   }
  },
  {
   "cell_type": "code",
   "source": [
    "import matplotlib.pyplot as plt\n",
    "plt.figure(figsize = (15, 5)) # 그래프 크기 조정\n",
    "plt.plot(h.history['mse'])\n",
    "plt.show()\n",
    "# 딥러닝 모델은 매 학습시마다 모델을 개선시키려곡 한다."
   ],
   "metadata": {
    "colab": {
     "base_uri": "https://localhost:8080/",
     "height": 445
    },
    "id": "dr_NR18ZrEwd",
    "executionInfo": {
     "status": "ok",
     "timestamp": 1724911719977,
     "user_tz": -540,
     "elapsed": 1125,
     "user": {
      "displayName": "백성수",
      "userId": "12486274965327588633"
     }
    },
    "outputId": "bd23a801-8e43-4081-8775-f16087a2e181"
   },
   "execution_count": 10,
   "outputs": [
    {
     "output_type": "display_data",
     "data": {
      "text/plain": [
       "<Figure size 1500x500 with 1 Axes>"
      ],
      "image/png": "[encoded data removed]"
     },
     "metadata": {}
    }
   ]
  },
  {
   "metadata": {},
   "cell_type": "markdown",
   "source": [
    "활성화 함수\n",
    " - 유닛 뒤에서 동작하며, 유닛의 결과를 다음 퍼셉트론의 유닛에 전달하기 전에 값을 정리\n",
    " - sigmoid, tanh, linear, softmax, relu, leaky relu, maxout, elu .... \n",
    "\n",
    " - 출력층에서 사용하는 활성화 함수 : sigmoid, softmax, linear\n",
    "    : 분석된 데이터를 종합\n",
    " - sigmoid : 이진분류의 출력층에서 사용\n",
    "  : 입력값에 대해 0~1까지로 값을 출력, 이진분류에서 사용(개-0 vs 고양이-1)\n",
    "  : 0 ~ 0.5 : 0이라고 판단\n",
    "  : 0.5 ~ 1 : 1이라고 판단\n",
    "  : 출력된 값을 보면 모델이 얼마나 예측을 잘하는지 알 수 있음\n",
    "  : 0.5에 가까울수록 결과가 확실하지 않다\n",
    "  : 0.5에서 멀어질수록 결과가 확실하다\n",
    "  : 0.45 = 0, 개, 조금 애매하다\n",
    "  : 0.95 = 1, 고양이, 확실하다\n",
    "  : 결과값을 확인하면 얼마나 정확하게 예측했는지 알 수 있고, 이를 통해서 모델을 얼마나 개선해야되는지 알 수 있다.\n",
    "\n",
    " - softmax : 다중분류의 출력층에서 사용\n",
    "  : 결과값을 확인하면 얼마나 정확하게 예측했는지 알 수 있고, 이를 통해서 모델을 얼마나 개선해야되는지 알 수 있다.\n",
    "  : 각 정답이 될 확률값을 출력\n",
    "  : ex) 혈액형\n",
    "  : A = 10% B = 60% O = 5% AB = 25% > B 형\n",
    "\n",
    " - linear : 회귀의 출력층에서 사용\n",
    "  : 결과값을 확인하면 얼마나 정확하게 예측했는지 알 수 있고, 이를 통해서 모델을 얼마나 개선해야되는지 알 수 있다.\n",
    "  : 값을 그대로 사용, 회귀는 에초에 연속적인 수치값이므로 정리할 필요가 없다\n",
    "  : ex ) 집값예측 > 예측값 : 5천만원, 실제값 : 1억\n",
    "\n",
    "\n",
    " - 입력층과 중간층에서 사용하는 활성화 함수 \n",
    "    : 데이터를 분석하고 다음층에 전달하기전에 정리\n",
    "    : sigmoid, tanh, relu, Maxout, elu ... \n",
    "   - sigmoid : 미분시 값의 범위가 0 ~ 0.25\n",
    "                 > 다음 층으로 오차를 전달하는 과정에서 오차의 값을 최대 25%까지만 전달\n",
    "                 > 오차의 전달이 제대로 되지 않는다 > 학습이 제대로 되지 않는다 \n",
    "                 > 기울기 소실(Vanishing Gradient)이 발생 > 거의 사용하지 않음\n",
    "\n",
    "   - tanh : 입력값을 -1 ~ 1의 범위로 출력, 미분시 값의 범위가 0 ~ 0.5 > 기울기 소실이 발생 \n",
    "                 > 거의 사용하지 않음\n",
    "\n",
    "   - relu : 0보다 작은 값은 0으로, 0보다 큰 값은 그대로 사용, 0보다 작은 값은 쓸모없는 값 > 사용 X\n",
    "           미분시에 0보다 작은것은 0, 0보다 큰것은 1 > 보편적으로 사용, 간단하고 효율이 좋다\n",
    "\n",
    "   - Leaky Relu :  0보다 큰 값은 그대로 사용, 0보다 작은건 조금만 사용하자\n",
    "          미분시에 0보다 작은것은 0.1, 0보다 큰것은 1 > relu와 큰 차이가 없음, 계산량이 많이 늘어남\n",
    "\n",
    "   - Elu : 0보다 큰 값은 그대로 사용, 0보다 작은건 0에 가까울수록 많이, 멀수록 조금 사용\n",
    "     미분시에 0보다 작은것은 0에 가까울수록 크고, 0에서 멀수록 매우 작아짐, 0보다 큰것은 1\n",
    "            > relu와 큰 차이가 없음, 계산량이 많이 늘어남\n",
    "   - maxout : leaky Relu와 Elu의 중간 > relu와 큰 차이가 없음, 계산량이 많이 늘어남\n",
    "\n",
    "   - 결국엔 잘 모르겠으면 relu 사용 > 다른거 써보고싶다? Leaky Relu, Maxout, ELU 사용\n",
    "\n",
    "\n",
    "* 오차역전파\n",
    " - 딥러닝 모델의 동작 방식\n",
    " - 순전파 : 입력데이터를 입력층에서부터 출력층 방향으로 전파시키면서 예측값을 구하는 과정 \n",
    "> 추론\n",
    " - 역전파 : 예측값과 실제값의 차이인 오차를 출력층에서 입력층 방향으로 적용시키면서 모델을 학습하는 과정, 과정중에 미분을 해야한다. \n",
    "> 학습"
   ]
  },
  {
   "metadata": {},
   "cell_type": "code",
   "outputs": [],
   "execution_count": null,
   "source": ""
  }
 ]
}
