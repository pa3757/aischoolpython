{
 "cells": [
  {
   "cell_type": "code",
   "id": "initial_id",
   "metadata": {
    "collapsed": true,
    "ExecuteTime": {
     "end_time": "2024-08-30T05:41:42.929494Z",
     "start_time": "2024-08-30T05:41:41.375937Z"
    }
   },
   "source": [
    "import numpy as np\n",
    "import matplotlib.pyplot as plt\n",
    "import pandas as pd\n",
    "from sklearn.datasets import load_breast_cancer"
   ],
   "outputs": [],
   "execution_count": 2
  },
  {
   "metadata": {
    "ExecuteTime": {
     "end_time": "2024-08-30T05:41:42.949476Z",
     "start_time": "2024-08-30T05:41:42.931496Z"
    }
   },
   "cell_type": "code",
   "source": "data = load_breast_cancer()",
   "id": "ad9235b191f9c7ec",
   "outputs": [],
   "execution_count": 3
  },
  {
   "metadata": {
    "ExecuteTime": {
     "end_time": "2024-08-30T05:41:42.959935Z",
     "start_time": "2024-08-30T05:41:42.950476Z"
    }
   },
   "cell_type": "code",
   "source": "data.keys()",
   "id": "8ca0d40576b0071c",
   "outputs": [
    {
     "data": {
      "text/plain": [
       "dict_keys(['data', 'target', 'frame', 'target_names', 'DESCR', 'feature_names', 'filename', 'data_module'])"
      ]
     },
     "execution_count": 4,
     "metadata": {},
     "output_type": "execute_result"
    }
   ],
   "execution_count": 4
  },
  {
   "metadata": {
    "ExecuteTime": {
     "end_time": "2024-08-30T05:41:42.972948Z",
     "start_time": "2024-08-30T05:41:42.962885Z"
    }
   },
   "cell_type": "code",
   "source": "data['feature_names']",
   "id": "f947f8adf9ab4461",
   "outputs": [
    {
     "data": {
      "text/plain": [
       "array(['mean radius', 'mean texture', 'mean perimeter', 'mean area',\n",
       "       'mean smoothness', 'mean compactness', 'mean concavity',\n",
       "       'mean concave points', 'mean symmetry', 'mean fractal dimension',\n",
       "       'radius error', 'texture error', 'perimeter error', 'area error',\n",
       "       'smoothness error', 'compactness error', 'concavity error',\n",
       "       'concave points error', 'symmetry error',\n",
       "       'fractal dimension error', 'worst radius', 'worst texture',\n",
       "       'worst perimeter', 'worst area', 'worst smoothness',\n",
       "       'worst compactness', 'worst concavity', 'worst concave points',\n",
       "       'worst symmetry', 'worst fractal dimension'], dtype='<U23')"
      ]
     },
     "execution_count": 5,
     "metadata": {},
     "output_type": "execute_result"
    }
   ],
   "execution_count": 5
  },
  {
   "metadata": {
    "ExecuteTime": {
     "end_time": "2024-08-30T05:41:42.983513Z",
     "start_time": "2024-08-30T05:41:42.976932Z"
    }
   },
   "cell_type": "code",
   "source": "data['target_names']",
   "id": "10771ad7c136a580",
   "outputs": [
    {
     "data": {
      "text/plain": [
       "array(['malignant', 'benign'], dtype='<U9')"
      ]
     },
     "execution_count": 6,
     "metadata": {},
     "output_type": "execute_result"
    }
   ],
   "execution_count": 6
  },
  {
   "metadata": {
    "ExecuteTime": {
     "end_time": "2024-08-30T05:41:42.992911Z",
     "start_time": "2024-08-30T05:41:42.984907Z"
    }
   },
   "cell_type": "code",
   "source": "data['data'].shape",
   "id": "8dbd9e49f03ba009",
   "outputs": [
    {
     "data": {
      "text/plain": [
       "(569, 30)"
      ]
     },
     "execution_count": 7,
     "metadata": {},
     "output_type": "execute_result"
    }
   ],
   "execution_count": 7
  },
  {
   "metadata": {
    "ExecuteTime": {
     "end_time": "2024-08-30T05:41:43.002908Z",
     "start_time": "2024-08-30T05:41:42.995909Z"
    }
   },
   "cell_type": "code",
   "source": "data['target'].shape",
   "id": "d1f6fa5fcda5fcda",
   "outputs": [
    {
     "data": {
      "text/plain": [
       "(569,)"
      ]
     },
     "execution_count": 8,
     "metadata": {},
     "output_type": "execute_result"
    }
   ],
   "execution_count": 8
  },
  {
   "metadata": {
    "ExecuteTime": {
     "end_time": "2024-08-30T05:41:43.011907Z",
     "start_time": "2024-08-30T05:41:43.004907Z"
    }
   },
   "cell_type": "code",
   "source": "data['data']",
   "id": "83221c0bcc90a2b8",
   "outputs": [
    {
     "data": {
      "text/plain": [
       "array([[1.799e+01, 1.038e+01, 1.228e+02, ..., 2.654e-01, 4.601e-01,\n",
       "        1.189e-01],\n",
       "       [2.057e+01, 1.777e+01, 1.329e+02, ..., 1.860e-01, 2.750e-01,\n",
       "        8.902e-02],\n",
       "       [1.969e+01, 2.125e+01, 1.300e+02, ..., 2.430e-01, 3.613e-01,\n",
       "        8.758e-02],\n",
       "       ...,\n",
       "       [1.660e+01, 2.808e+01, 1.083e+02, ..., 1.418e-01, 2.218e-01,\n",
       "        7.820e-02],\n",
       "       [2.060e+01, 2.933e+01, 1.401e+02, ..., 2.650e-01, 4.087e-01,\n",
       "        1.240e-01],\n",
       "       [7.760e+00, 2.454e+01, 4.792e+01, ..., 0.000e+00, 2.871e-01,\n",
       "        7.039e-02]])"
      ]
     },
     "execution_count": 9,
     "metadata": {},
     "output_type": "execute_result"
    }
   ],
   "execution_count": 9
  },
  {
   "metadata": {
    "ExecuteTime": {
     "end_time": "2024-08-30T05:41:43.017602Z",
     "start_time": "2024-08-30T05:41:43.013906Z"
    }
   },
   "cell_type": "code",
   "source": [
    "# X, y 데이터 분리\n",
    "X = data['data']\n",
    "y = data['target']"
   ],
   "id": "ea532a57776c460d",
   "outputs": [],
   "execution_count": 10
  },
  {
   "metadata": {
    "ExecuteTime": {
     "end_time": "2024-08-30T05:41:43.146163Z",
     "start_time": "2024-08-30T05:41:43.019599Z"
    }
   },
   "cell_type": "code",
   "source": [
    "# Train, Test 데이터 분리\n",
    "from sklearn.model_selection import train_test_split\n",
    "X_train, X_test, y_train, y_test = train_test_split(X, y, test_size=0.3, random_state=7, stratify=y)"
   ],
   "id": "8e916b165ab056ab",
   "outputs": [],
   "execution_count": 11
  },
  {
   "metadata": {
    "ExecuteTime": {
     "end_time": "2024-08-30T05:41:43.167140Z",
     "start_time": "2024-08-30T05:41:43.147159Z"
    }
   },
   "cell_type": "code",
   "source": [
    "# complie\n",
    "from tensorflow.keras.models import Sequential\n",
    "from tensorflow.keras.layers import Dense\n",
    "from tensorflow.keras.optimizers import Adam\n",
    "\n",
    "model = Sequential()\n",
    "model.add(Dense(1, input_dim=30, activation='sigmoid'))\n",
    "model.compile(loss='binary_crossentropy', optimizer=Adam(learning_rate=0.01), metrics=['accuracy'])"
   ],
   "id": "7b47e8bc8fbbdd83",
   "outputs": [
    {
     "name": "stderr",
     "output_type": "stream",
     "text": [
      "C:\\Users\\USER\\anaconda3\\Lib\\site-packages\\keras\\src\\layers\\core\\dense.py:87: UserWarning: Do not pass an `input_shape`/`input_dim` argument to a layer. When using Sequential models, prefer using an `Input(shape)` object as the first layer in the model instead.\n",
      "  super().__init__(activity_regularizer=activity_regularizer, **kwargs)\n"
     ]
    }
   ],
   "execution_count": 12
  },
  {
   "metadata": {
    "ExecuteTime": {
     "end_time": "2024-08-30T05:41:53.788417Z",
     "start_time": "2024-08-30T05:41:43.169135Z"
    }
   },
   "cell_type": "code",
   "source": [
    "# fit\n",
    "h = model.fit(X_train, y_train, epochs=100, validation_split=0.2)"
   ],
   "id": "c200e82ab0dd015",
   "outputs": [
    {
     "name": "stdout",
     "output_type": "stream",
     "text": [
      "Epoch 1/100\n",
      "\u001B[1m10/10\u001B[0m \u001B[32m━━━━━━━━━━━━━━━━━━━━\u001B[0m\u001B[37m\u001B[0m \u001B[1m1s\u001B[0m 27ms/step - accuracy: 0.6213 - loss: 177.9099 - val_accuracy: 0.6875 - val_loss: 79.2119\n",
      "Epoch 2/100\n",
      "\u001B[1m10/10\u001B[0m \u001B[32m━━━━━━━━━━━━━━━━━━━━\u001B[0m\u001B[37m\u001B[0m \u001B[1m0s\u001B[0m 5ms/step - accuracy: 0.6033 - loss: 71.2637 - val_accuracy: 0.6375 - val_loss: 1.6749\n",
      "Epoch 3/100\n",
      "\u001B[1m10/10\u001B[0m \u001B[32m━━━━━━━━━━━━━━━━━━━━\u001B[0m\u001B[37m\u001B[0m \u001B[1m0s\u001B[0m 5ms/step - accuracy: 0.4741 - loss: 10.8732 - val_accuracy: 0.3125 - val_loss: 21.0123\n",
      "Epoch 4/100\n",
      "\u001B[1m10/10\u001B[0m \u001B[32m━━━━━━━━━━━━━━━━━━━━\u001B[0m\u001B[37m\u001B[0m \u001B[1m0s\u001B[0m 5ms/step - accuracy: 0.4579 - loss: 12.3304 - val_accuracy: 0.7250 - val_loss: 5.6232\n",
      "Epoch 5/100\n",
      "\u001B[1m10/10\u001B[0m \u001B[32m━━━━━━━━━━━━━━━━━━━━\u001B[0m\u001B[37m\u001B[0m \u001B[1m0s\u001B[0m 6ms/step - accuracy: 0.7223 - loss: 5.5750 - val_accuracy: 0.7000 - val_loss: 1.6722\n",
      "Epoch 6/100\n",
      "\u001B[1m10/10\u001B[0m \u001B[32m━━━━━━━━━━━━━━━━━━━━\u001B[0m\u001B[37m\u001B[0m \u001B[1m0s\u001B[0m 5ms/step - accuracy: 0.6691 - loss: 2.3877 - val_accuracy: 0.8500 - val_loss: 0.9076\n",
      "Epoch 7/100\n",
      "\u001B[1m10/10\u001B[0m \u001B[32m━━━━━━━━━━━━━━━━━━━━\u001B[0m\u001B[37m\u001B[0m \u001B[1m0s\u001B[0m 6ms/step - accuracy: 0.8217 - loss: 1.8153 - val_accuracy: 0.8250 - val_loss: 0.8300\n",
      "Epoch 8/100\n",
      "\u001B[1m10/10\u001B[0m \u001B[32m━━━━━━━━━━━━━━━━━━━━\u001B[0m\u001B[37m\u001B[0m \u001B[1m0s\u001B[0m 6ms/step - accuracy: 0.8121 - loss: 1.2921 - val_accuracy: 0.8375 - val_loss: 0.7624\n",
      "Epoch 9/100\n",
      "\u001B[1m10/10\u001B[0m \u001B[32m━━━━━━━━━━━━━━━━━━━━\u001B[0m\u001B[37m\u001B[0m \u001B[1m0s\u001B[0m 5ms/step - accuracy: 0.8396 - loss: 1.2786 - val_accuracy: 0.8500 - val_loss: 0.7143\n",
      "Epoch 10/100\n",
      "\u001B[1m10/10\u001B[0m \u001B[32m━━━━━━━━━━━━━━━━━━━━\u001B[0m\u001B[37m\u001B[0m \u001B[1m0s\u001B[0m 5ms/step - accuracy: 0.8113 - loss: 1.1615 - val_accuracy: 0.8375 - val_loss: 0.7011\n",
      "Epoch 11/100\n",
      "\u001B[1m10/10\u001B[0m \u001B[32m━━━━━━━━━━━━━━━━━━━━\u001B[0m\u001B[37m\u001B[0m \u001B[1m0s\u001B[0m 5ms/step - accuracy: 0.8523 - loss: 1.0687 - val_accuracy: 0.8375 - val_loss: 0.6644\n",
      "Epoch 12/100\n",
      "\u001B[1m10/10\u001B[0m \u001B[32m━━━━━━━━━━━━━━━━━━━━\u001B[0m\u001B[37m\u001B[0m \u001B[1m0s\u001B[0m 5ms/step - accuracy: 0.8460 - loss: 0.9481 - val_accuracy: 0.8625 - val_loss: 0.6848\n",
      "Epoch 13/100\n",
      "\u001B[1m10/10\u001B[0m \u001B[32m━━━━━━━━━━━━━━━━━━━━\u001B[0m\u001B[37m\u001B[0m \u001B[1m0s\u001B[0m 6ms/step - accuracy: 0.8441 - loss: 0.8648 - val_accuracy: 0.8375 - val_loss: 0.6197\n",
      "Epoch 14/100\n",
      "\u001B[1m10/10\u001B[0m \u001B[32m━━━━━━━━━━━━━━━━━━━━\u001B[0m\u001B[37m\u001B[0m \u001B[1m0s\u001B[0m 5ms/step - accuracy: 0.8438 - loss: 1.1126 - val_accuracy: 0.8125 - val_loss: 0.6956\n",
      "Epoch 15/100\n",
      "\u001B[1m10/10\u001B[0m \u001B[32m━━━━━━━━━━━━━━━━━━━━\u001B[0m\u001B[37m\u001B[0m \u001B[1m0s\u001B[0m 5ms/step - accuracy: 0.8300 - loss: 1.0074 - val_accuracy: 0.8625 - val_loss: 0.5846\n",
      "Epoch 16/100\n",
      "\u001B[1m10/10\u001B[0m \u001B[32m━━━━━━━━━━━━━━━━━━━━\u001B[0m\u001B[37m\u001B[0m \u001B[1m0s\u001B[0m 7ms/step - accuracy: 0.8430 - loss: 0.8073 - val_accuracy: 0.8750 - val_loss: 0.5704\n",
      "Epoch 17/100\n",
      "\u001B[1m10/10\u001B[0m \u001B[32m━━━━━━━━━━━━━━━━━━━━\u001B[0m\u001B[37m\u001B[0m \u001B[1m0s\u001B[0m 6ms/step - accuracy: 0.8508 - loss: 0.9566 - val_accuracy: 0.8250 - val_loss: 0.6797\n",
      "Epoch 18/100\n",
      "\u001B[1m10/10\u001B[0m \u001B[32m━━━━━━━━━━━━━━━━━━━━\u001B[0m\u001B[37m\u001B[0m \u001B[1m0s\u001B[0m 5ms/step - accuracy: 0.8104 - loss: 0.9085 - val_accuracy: 0.8875 - val_loss: 0.5473\n",
      "Epoch 19/100\n",
      "\u001B[1m10/10\u001B[0m \u001B[32m━━━━━━━━━━━━━━━━━━━━\u001B[0m\u001B[37m\u001B[0m \u001B[1m0s\u001B[0m 6ms/step - accuracy: 0.8543 - loss: 1.0091 - val_accuracy: 0.8250 - val_loss: 0.5915\n",
      "Epoch 20/100\n",
      "\u001B[1m10/10\u001B[0m \u001B[32m━━━━━━━━━━━━━━━━━━━━\u001B[0m\u001B[37m\u001B[0m \u001B[1m0s\u001B[0m 5ms/step - accuracy: 0.8464 - loss: 0.9726 - val_accuracy: 0.8750 - val_loss: 0.4806\n",
      "Epoch 21/100\n",
      "\u001B[1m10/10\u001B[0m \u001B[32m━━━━━━━━━━━━━━━━━━━━\u001B[0m\u001B[37m\u001B[0m \u001B[1m0s\u001B[0m 5ms/step - accuracy: 0.8520 - loss: 0.7244 - val_accuracy: 0.7750 - val_loss: 0.7093\n",
      "Epoch 22/100\n",
      "\u001B[1m10/10\u001B[0m \u001B[32m━━━━━━━━━━━━━━━━━━━━\u001B[0m\u001B[37m\u001B[0m \u001B[1m0s\u001B[0m 5ms/step - accuracy: 0.8272 - loss: 0.7035 - val_accuracy: 0.8875 - val_loss: 0.4708\n",
      "Epoch 23/100\n",
      "\u001B[1m10/10\u001B[0m \u001B[32m━━━━━━━━━━━━━━━━━━━━\u001B[0m\u001B[37m\u001B[0m \u001B[1m0s\u001B[0m 5ms/step - accuracy: 0.9109 - loss: 0.5350 - val_accuracy: 0.8250 - val_loss: 0.6083\n",
      "Epoch 24/100\n",
      "\u001B[1m10/10\u001B[0m \u001B[32m━━━━━━━━━━━━━━━━━━━━\u001B[0m\u001B[37m\u001B[0m \u001B[1m0s\u001B[0m 5ms/step - accuracy: 0.8429 - loss: 0.6402 - val_accuracy: 0.9000 - val_loss: 0.3938\n",
      "Epoch 25/100\n",
      "\u001B[1m10/10\u001B[0m \u001B[32m━━━━━━━━━━━━━━━━━━━━\u001B[0m\u001B[37m\u001B[0m \u001B[1m0s\u001B[0m 5ms/step - accuracy: 0.8630 - loss: 0.6362 - val_accuracy: 0.8500 - val_loss: 0.4390\n",
      "Epoch 26/100\n",
      "\u001B[1m10/10\u001B[0m \u001B[32m━━━━━━━━━━━━━━━━━━━━\u001B[0m\u001B[37m\u001B[0m \u001B[1m0s\u001B[0m 6ms/step - accuracy: 0.8570 - loss: 0.7125 - val_accuracy: 0.9000 - val_loss: 0.3486\n",
      "Epoch 27/100\n",
      "\u001B[1m10/10\u001B[0m \u001B[32m━━━━━━━━━━━━━━━━━━━━\u001B[0m\u001B[37m\u001B[0m \u001B[1m0s\u001B[0m 6ms/step - accuracy: 0.8828 - loss: 0.4724 - val_accuracy: 0.8375 - val_loss: 0.4774\n",
      "Epoch 28/100\n",
      "\u001B[1m10/10\u001B[0m \u001B[32m━━━━━━━━━━━━━━━━━━━━\u001B[0m\u001B[37m\u001B[0m \u001B[1m0s\u001B[0m 5ms/step - accuracy: 0.8729 - loss: 0.6117 - val_accuracy: 0.9000 - val_loss: 0.3156\n",
      "Epoch 29/100\n",
      "\u001B[1m10/10\u001B[0m \u001B[32m━━━━━━━━━━━━━━━━━━━━\u001B[0m\u001B[37m\u001B[0m \u001B[1m0s\u001B[0m 5ms/step - accuracy: 0.8665 - loss: 0.6477 - val_accuracy: 0.8500 - val_loss: 0.4473\n",
      "Epoch 30/100\n",
      "\u001B[1m10/10\u001B[0m \u001B[32m━━━━━━━━━━━━━━━━━━━━\u001B[0m\u001B[37m\u001B[0m \u001B[1m0s\u001B[0m 5ms/step - accuracy: 0.8865 - loss: 0.5920 - val_accuracy: 0.8125 - val_loss: 0.5488\n",
      "Epoch 31/100\n",
      "\u001B[1m10/10\u001B[0m \u001B[32m━━━━━━━━━━━━━━━━━━━━\u001B[0m\u001B[37m\u001B[0m \u001B[1m0s\u001B[0m 7ms/step - accuracy: 0.8661 - loss: 0.4906 - val_accuracy: 0.9250 - val_loss: 0.3282\n",
      "Epoch 32/100\n",
      "\u001B[1m10/10\u001B[0m \u001B[32m━━━━━━━━━━━━━━━━━━━━\u001B[0m\u001B[37m\u001B[0m \u001B[1m0s\u001B[0m 5ms/step - accuracy: 0.9045 - loss: 0.3985 - val_accuracy: 0.8625 - val_loss: 0.2843\n",
      "Epoch 33/100\n",
      "\u001B[1m10/10\u001B[0m \u001B[32m━━━━━━━━━━━━━━━━━━━━\u001B[0m\u001B[37m\u001B[0m \u001B[1m0s\u001B[0m 5ms/step - accuracy: 0.8995 - loss: 0.3364 - val_accuracy: 0.7875 - val_loss: 0.6223\n",
      "Epoch 34/100\n",
      "\u001B[1m10/10\u001B[0m \u001B[32m━━━━━━━━━━━━━━━━━━━━\u001B[0m\u001B[37m\u001B[0m \u001B[1m0s\u001B[0m 5ms/step - accuracy: 0.8373 - loss: 0.6426 - val_accuracy: 0.9250 - val_loss: 0.3551\n",
      "Epoch 35/100\n",
      "\u001B[1m10/10\u001B[0m \u001B[32m━━━━━━━━━━━━━━━━━━━━\u001B[0m\u001B[37m\u001B[0m \u001B[1m0s\u001B[0m 5ms/step - accuracy: 0.8698 - loss: 0.4846 - val_accuracy: 0.9125 - val_loss: 0.4004\n",
      "Epoch 36/100\n",
      "\u001B[1m10/10\u001B[0m \u001B[32m━━━━━━━━━━━━━━━━━━━━\u001B[0m\u001B[37m\u001B[0m \u001B[1m0s\u001B[0m 5ms/step - accuracy: 0.8947 - loss: 0.5084 - val_accuracy: 0.8750 - val_loss: 0.3333\n",
      "Epoch 37/100\n",
      "\u001B[1m10/10\u001B[0m \u001B[32m━━━━━━━━━━━━━━━━━━━━\u001B[0m\u001B[37m\u001B[0m \u001B[1m0s\u001B[0m 5ms/step - accuracy: 0.8936 - loss: 0.3901 - val_accuracy: 0.7875 - val_loss: 0.7149\n",
      "Epoch 38/100\n",
      "\u001B[1m10/10\u001B[0m \u001B[32m━━━━━━━━━━━━━━━━━━━━\u001B[0m\u001B[37m\u001B[0m \u001B[1m0s\u001B[0m 5ms/step - accuracy: 0.8407 - loss: 0.4991 - val_accuracy: 0.9375 - val_loss: 0.2259\n",
      "Epoch 39/100\n",
      "\u001B[1m10/10\u001B[0m \u001B[32m━━━━━━━━━━━━━━━━━━━━\u001B[0m\u001B[37m\u001B[0m \u001B[1m0s\u001B[0m 5ms/step - accuracy: 0.8553 - loss: 0.4826 - val_accuracy: 0.9375 - val_loss: 0.1960\n",
      "Epoch 40/100\n",
      "\u001B[1m10/10\u001B[0m \u001B[32m━━━━━━━━━━━━━━━━━━━━\u001B[0m\u001B[37m\u001B[0m \u001B[1m0s\u001B[0m 5ms/step - accuracy: 0.9033 - loss: 0.3069 - val_accuracy: 0.9250 - val_loss: 0.2097\n",
      "Epoch 41/100\n",
      "\u001B[1m10/10\u001B[0m \u001B[32m━━━━━━━━━━━━━━━━━━━━\u001B[0m\u001B[37m\u001B[0m \u001B[1m0s\u001B[0m 5ms/step - accuracy: 0.9207 - loss: 0.2090 - val_accuracy: 0.9250 - val_loss: 0.2010\n",
      "Epoch 42/100\n",
      "\u001B[1m10/10\u001B[0m \u001B[32m━━━━━━━━━━━━━━━━━━━━\u001B[0m\u001B[37m\u001B[0m \u001B[1m0s\u001B[0m 5ms/step - accuracy: 0.8808 - loss: 0.3732 - val_accuracy: 0.9500 - val_loss: 0.1849\n",
      "Epoch 43/100\n",
      "\u001B[1m10/10\u001B[0m \u001B[32m━━━━━━━━━━━━━━━━━━━━\u001B[0m\u001B[37m\u001B[0m \u001B[1m0s\u001B[0m 5ms/step - accuracy: 0.9264 - loss: 0.2072 - val_accuracy: 0.9500 - val_loss: 0.1905\n",
      "Epoch 44/100\n",
      "\u001B[1m10/10\u001B[0m \u001B[32m━━━━━━━━━━━━━━━━━━━━\u001B[0m\u001B[37m\u001B[0m \u001B[1m0s\u001B[0m 5ms/step - accuracy: 0.9116 - loss: 0.2584 - val_accuracy: 0.9250 - val_loss: 0.1909\n",
      "Epoch 45/100\n",
      "\u001B[1m10/10\u001B[0m \u001B[32m━━━━━━━━━━━━━━━━━━━━\u001B[0m\u001B[37m\u001B[0m \u001B[1m0s\u001B[0m 6ms/step - accuracy: 0.9043 - loss: 0.2256 - val_accuracy: 0.9500 - val_loss: 0.1942\n",
      "Epoch 46/100\n",
      "\u001B[1m10/10\u001B[0m \u001B[32m━━━━━━━━━━━━━━━━━━━━\u001B[0m\u001B[37m\u001B[0m \u001B[1m0s\u001B[0m 5ms/step - accuracy: 0.9047 - loss: 0.2726 - val_accuracy: 0.9250 - val_loss: 0.2618\n",
      "Epoch 47/100\n",
      "\u001B[1m10/10\u001B[0m \u001B[32m━━━━━━━━━━━━━━━━━━━━\u001B[0m\u001B[37m\u001B[0m \u001B[1m0s\u001B[0m 5ms/step - accuracy: 0.8940 - loss: 0.2847 - val_accuracy: 0.9625 - val_loss: 0.1688\n",
      "Epoch 48/100\n",
      "\u001B[1m10/10\u001B[0m \u001B[32m━━━━━━━━━━━━━━━━━━━━\u001B[0m\u001B[37m\u001B[0m \u001B[1m0s\u001B[0m 5ms/step - accuracy: 0.8972 - loss: 0.3207 - val_accuracy: 0.9250 - val_loss: 0.2278\n",
      "Epoch 49/100\n",
      "\u001B[1m10/10\u001B[0m \u001B[32m━━━━━━━━━━━━━━━━━━━━\u001B[0m\u001B[37m\u001B[0m \u001B[1m0s\u001B[0m 5ms/step - accuracy: 0.9253 - loss: 0.2345 - val_accuracy: 0.9625 - val_loss: 0.1641\n",
      "Epoch 50/100\n",
      "\u001B[1m10/10\u001B[0m \u001B[32m━━━━━━━━━━━━━━━━━━━━\u001B[0m\u001B[37m\u001B[0m \u001B[1m0s\u001B[0m 6ms/step - accuracy: 0.9427 - loss: 0.1768 - val_accuracy: 0.8875 - val_loss: 0.2692\n",
      "Epoch 51/100\n",
      "\u001B[1m10/10\u001B[0m \u001B[32m━━━━━━━━━━━━━━━━━━━━\u001B[0m\u001B[37m\u001B[0m \u001B[1m0s\u001B[0m 5ms/step - accuracy: 0.9182 - loss: 0.2126 - val_accuracy: 0.9250 - val_loss: 0.2041\n",
      "Epoch 52/100\n",
      "\u001B[1m10/10\u001B[0m \u001B[32m━━━━━━━━━━━━━━━━━━━━\u001B[0m\u001B[37m\u001B[0m \u001B[1m0s\u001B[0m 4ms/step - accuracy: 0.9101 - loss: 0.2410 - val_accuracy: 0.9250 - val_loss: 0.1830\n",
      "Epoch 53/100\n",
      "\u001B[1m10/10\u001B[0m \u001B[32m━━━━━━━━━━━━━━━━━━━━\u001B[0m\u001B[37m\u001B[0m \u001B[1m0s\u001B[0m 5ms/step - accuracy: 0.9302 - loss: 0.1693 - val_accuracy: 0.9500 - val_loss: 0.1912\n",
      "Epoch 54/100\n",
      "\u001B[1m10/10\u001B[0m \u001B[32m━━━━━━━━━━━━━━━━━━━━\u001B[0m\u001B[37m\u001B[0m \u001B[1m0s\u001B[0m 5ms/step - accuracy: 0.9056 - loss: 0.2504 - val_accuracy: 0.9250 - val_loss: 0.1610\n",
      "Epoch 55/100\n",
      "\u001B[1m10/10\u001B[0m \u001B[32m━━━━━━━━━━━━━━━━━━━━\u001B[0m\u001B[37m\u001B[0m \u001B[1m0s\u001B[0m 6ms/step - accuracy: 0.9250 - loss: 0.1779 - val_accuracy: 0.9375 - val_loss: 0.2175\n",
      "Epoch 56/100\n",
      "\u001B[1m10/10\u001B[0m \u001B[32m━━━━━━━━━━━━━━━━━━━━\u001B[0m\u001B[37m\u001B[0m \u001B[1m0s\u001B[0m 5ms/step - accuracy: 0.9309 - loss: 0.2041 - val_accuracy: 0.9250 - val_loss: 0.1653\n",
      "Epoch 57/100\n",
      "\u001B[1m10/10\u001B[0m \u001B[32m━━━━━━━━━━━━━━━━━━━━\u001B[0m\u001B[37m\u001B[0m \u001B[1m0s\u001B[0m 6ms/step - accuracy: 0.9218 - loss: 0.1839 - val_accuracy: 0.9500 - val_loss: 0.1801\n",
      "Epoch 58/100\n",
      "\u001B[1m10/10\u001B[0m \u001B[32m━━━━━━━━━━━━━━━━━━━━\u001B[0m\u001B[37m\u001B[0m \u001B[1m0s\u001B[0m 5ms/step - accuracy: 0.9402 - loss: 0.1711 - val_accuracy: 0.9250 - val_loss: 0.1721\n",
      "Epoch 59/100\n",
      "\u001B[1m10/10\u001B[0m \u001B[32m━━━━━━━━━━━━━━━━━━━━\u001B[0m\u001B[37m\u001B[0m \u001B[1m0s\u001B[0m 5ms/step - accuracy: 0.9134 - loss: 0.1959 - val_accuracy: 0.9250 - val_loss: 0.1675\n",
      "Epoch 60/100\n",
      "\u001B[1m10/10\u001B[0m \u001B[32m━━━━━━━━━━━━━━━━━━━━\u001B[0m\u001B[37m\u001B[0m \u001B[1m0s\u001B[0m 6ms/step - accuracy: 0.9398 - loss: 0.1517 - val_accuracy: 0.9000 - val_loss: 0.2293\n",
      "Epoch 61/100\n",
      "\u001B[1m10/10\u001B[0m \u001B[32m━━━━━━━━━━━━━━━━━━━━\u001B[0m\u001B[37m\u001B[0m \u001B[1m0s\u001B[0m 6ms/step - accuracy: 0.9236 - loss: 0.2254 - val_accuracy: 0.9250 - val_loss: 0.1977\n",
      "Epoch 62/100\n",
      "\u001B[1m10/10\u001B[0m \u001B[32m━━━━━━━━━━━━━━━━━━━━\u001B[0m\u001B[37m\u001B[0m \u001B[1m0s\u001B[0m 6ms/step - accuracy: 0.9100 - loss: 0.2084 - val_accuracy: 0.9250 - val_loss: 0.1734\n",
      "Epoch 63/100\n",
      "\u001B[1m10/10\u001B[0m \u001B[32m━━━━━━━━━━━━━━━━━━━━\u001B[0m\u001B[37m\u001B[0m \u001B[1m0s\u001B[0m 6ms/step - accuracy: 0.9268 - loss: 0.1765 - val_accuracy: 0.8875 - val_loss: 0.2239\n",
      "Epoch 64/100\n",
      "\u001B[1m10/10\u001B[0m \u001B[32m━━━━━━━━━━━━━━━━━━━━\u001B[0m\u001B[37m\u001B[0m \u001B[1m0s\u001B[0m 6ms/step - accuracy: 0.9230 - loss: 0.2208 - val_accuracy: 0.9625 - val_loss: 0.1682\n",
      "Epoch 65/100\n",
      "\u001B[1m10/10\u001B[0m \u001B[32m━━━━━━━━━━━━━━━━━━━━\u001B[0m\u001B[37m\u001B[0m \u001B[1m0s\u001B[0m 8ms/step - accuracy: 0.9101 - loss: 0.1524 - val_accuracy: 0.9375 - val_loss: 0.1631\n",
      "Epoch 66/100\n",
      "\u001B[1m10/10\u001B[0m \u001B[32m━━━━━━━━━━━━━━━━━━━━\u001B[0m\u001B[37m\u001B[0m \u001B[1m0s\u001B[0m 6ms/step - accuracy: 0.8825 - loss: 0.3526 - val_accuracy: 0.8625 - val_loss: 0.2898\n",
      "Epoch 67/100\n",
      "\u001B[1m10/10\u001B[0m \u001B[32m━━━━━━━━━━━━━━━━━━━━\u001B[0m\u001B[37m\u001B[0m \u001B[1m0s\u001B[0m 8ms/step - accuracy: 0.8367 - loss: 0.6127 - val_accuracy: 0.9250 - val_loss: 0.1633\n",
      "Epoch 68/100\n",
      "\u001B[1m10/10\u001B[0m \u001B[32m━━━━━━━━━━━━━━━━━━━━\u001B[0m\u001B[37m\u001B[0m \u001B[1m0s\u001B[0m 7ms/step - accuracy: 0.9184 - loss: 0.2219 - val_accuracy: 0.9125 - val_loss: 0.1868\n",
      "Epoch 69/100\n",
      "\u001B[1m10/10\u001B[0m \u001B[32m━━━━━━━━━━━━━━━━━━━━\u001B[0m\u001B[37m\u001B[0m \u001B[1m0s\u001B[0m 7ms/step - accuracy: 0.9268 - loss: 0.1871 - val_accuracy: 0.9500 - val_loss: 0.1615\n",
      "Epoch 70/100\n",
      "\u001B[1m10/10\u001B[0m \u001B[32m━━━━━━━━━━━━━━━━━━━━\u001B[0m\u001B[37m\u001B[0m \u001B[1m0s\u001B[0m 9ms/step - accuracy: 0.9123 - loss: 0.1570 - val_accuracy: 0.9250 - val_loss: 0.1761\n",
      "Epoch 71/100\n",
      "\u001B[1m10/10\u001B[0m \u001B[32m━━━━━━━━━━━━━━━━━━━━\u001B[0m\u001B[37m\u001B[0m \u001B[1m0s\u001B[0m 9ms/step - accuracy: 0.9119 - loss: 0.1450 - val_accuracy: 0.9500 - val_loss: 0.1634\n",
      "Epoch 72/100\n",
      "\u001B[1m10/10\u001B[0m \u001B[32m━━━━━━━━━━━━━━━━━━━━\u001B[0m\u001B[37m\u001B[0m \u001B[1m0s\u001B[0m 8ms/step - accuracy: 0.9156 - loss: 0.2219 - val_accuracy: 0.9375 - val_loss: 0.1618\n",
      "Epoch 73/100\n",
      "\u001B[1m10/10\u001B[0m \u001B[32m━━━━━━━━━━━━━━━━━━━━\u001B[0m\u001B[37m\u001B[0m \u001B[1m0s\u001B[0m 7ms/step - accuracy: 0.9171 - loss: 0.1752 - val_accuracy: 0.9375 - val_loss: 0.1625\n",
      "Epoch 74/100\n",
      "\u001B[1m10/10\u001B[0m \u001B[32m━━━━━━━━━━━━━━━━━━━━\u001B[0m\u001B[37m\u001B[0m \u001B[1m0s\u001B[0m 8ms/step - accuracy: 0.9261 - loss: 0.1588 - val_accuracy: 0.9500 - val_loss: 0.1983\n",
      "Epoch 75/100\n",
      "\u001B[1m10/10\u001B[0m \u001B[32m━━━━━━━━━━━━━━━━━━━━\u001B[0m\u001B[37m\u001B[0m \u001B[1m0s\u001B[0m 5ms/step - accuracy: 0.9505 - loss: 0.1065 - val_accuracy: 0.9500 - val_loss: 0.2531\n",
      "Epoch 76/100\n",
      "\u001B[1m10/10\u001B[0m \u001B[32m━━━━━━━━━━━━━━━━━━━━\u001B[0m\u001B[37m\u001B[0m \u001B[1m0s\u001B[0m 5ms/step - accuracy: 0.9211 - loss: 0.2237 - val_accuracy: 0.9500 - val_loss: 0.2579\n",
      "Epoch 77/100\n",
      "\u001B[1m10/10\u001B[0m \u001B[32m━━━━━━━━━━━━━━━━━━━━\u001B[0m\u001B[37m\u001B[0m \u001B[1m0s\u001B[0m 6ms/step - accuracy: 0.9280 - loss: 0.2167 - val_accuracy: 0.9500 - val_loss: 0.1901\n",
      "Epoch 78/100\n",
      "\u001B[1m10/10\u001B[0m \u001B[32m━━━━━━━━━━━━━━━━━━━━\u001B[0m\u001B[37m\u001B[0m \u001B[1m0s\u001B[0m 5ms/step - accuracy: 0.9231 - loss: 0.1924 - val_accuracy: 0.9125 - val_loss: 0.4031\n",
      "Epoch 79/100\n",
      "\u001B[1m10/10\u001B[0m \u001B[32m━━━━━━━━━━━━━━━━━━━━\u001B[0m\u001B[37m\u001B[0m \u001B[1m0s\u001B[0m 6ms/step - accuracy: 0.9327 - loss: 0.1979 - val_accuracy: 0.9500 - val_loss: 0.1797\n",
      "Epoch 80/100\n",
      "\u001B[1m10/10\u001B[0m \u001B[32m━━━━━━━━━━━━━━━━━━━━\u001B[0m\u001B[37m\u001B[0m \u001B[1m0s\u001B[0m 5ms/step - accuracy: 0.9360 - loss: 0.1599 - val_accuracy: 0.9375 - val_loss: 0.1636\n",
      "Epoch 81/100\n",
      "\u001B[1m10/10\u001B[0m \u001B[32m━━━━━━━━━━━━━━━━━━━━\u001B[0m\u001B[37m\u001B[0m \u001B[1m0s\u001B[0m 6ms/step - accuracy: 0.9157 - loss: 0.1720 - val_accuracy: 0.9500 - val_loss: 0.1820\n",
      "Epoch 82/100\n",
      "\u001B[1m10/10\u001B[0m \u001B[32m━━━━━━━━━━━━━━━━━━━━\u001B[0m\u001B[37m\u001B[0m \u001B[1m0s\u001B[0m 6ms/step - accuracy: 0.9396 - loss: 0.1177 - val_accuracy: 0.9500 - val_loss: 0.1662\n",
      "Epoch 83/100\n",
      "\u001B[1m10/10\u001B[0m \u001B[32m━━━━━━━━━━━━━━━━━━━━\u001B[0m\u001B[37m\u001B[0m \u001B[1m0s\u001B[0m 6ms/step - accuracy: 0.9502 - loss: 0.1174 - val_accuracy: 0.9250 - val_loss: 0.1909\n",
      "Epoch 84/100\n",
      "\u001B[1m10/10\u001B[0m \u001B[32m━━━━━━━━━━━━━━━━━━━━\u001B[0m\u001B[37m\u001B[0m \u001B[1m0s\u001B[0m 6ms/step - accuracy: 0.9011 - loss: 0.1914 - val_accuracy: 0.9250 - val_loss: 0.1823\n",
      "Epoch 85/100\n",
      "\u001B[1m10/10\u001B[0m \u001B[32m━━━━━━━━━━━━━━━━━━━━\u001B[0m\u001B[37m\u001B[0m \u001B[1m0s\u001B[0m 7ms/step - accuracy: 0.9332 - loss: 0.1534 - val_accuracy: 0.9375 - val_loss: 0.1737\n",
      "Epoch 86/100\n",
      "\u001B[1m10/10\u001B[0m \u001B[32m━━━━━━━━━━━━━━━━━━━━\u001B[0m\u001B[37m\u001B[0m \u001B[1m0s\u001B[0m 6ms/step - accuracy: 0.9637 - loss: 0.1127 - val_accuracy: 0.9375 - val_loss: 0.1653\n",
      "Epoch 87/100\n",
      "\u001B[1m10/10\u001B[0m \u001B[32m━━━━━━━━━━━━━━━━━━━━\u001B[0m\u001B[37m\u001B[0m \u001B[1m0s\u001B[0m 5ms/step - accuracy: 0.9416 - loss: 0.1294 - val_accuracy: 0.9375 - val_loss: 0.3158\n",
      "Epoch 88/100\n",
      "\u001B[1m10/10\u001B[0m \u001B[32m━━━━━━━━━━━━━━━━━━━━\u001B[0m\u001B[37m\u001B[0m \u001B[1m0s\u001B[0m 5ms/step - accuracy: 0.9154 - loss: 0.2258 - val_accuracy: 0.9500 - val_loss: 0.2376\n",
      "Epoch 89/100\n",
      "\u001B[1m10/10\u001B[0m \u001B[32m━━━━━━━━━━━━━━━━━━━━\u001B[0m\u001B[37m\u001B[0m \u001B[1m0s\u001B[0m 5ms/step - accuracy: 0.9479 - loss: 0.1484 - val_accuracy: 0.9375 - val_loss: 0.1648\n",
      "Epoch 90/100\n",
      "\u001B[1m10/10\u001B[0m \u001B[32m━━━━━━━━━━━━━━━━━━━━\u001B[0m\u001B[37m\u001B[0m \u001B[1m0s\u001B[0m 5ms/step - accuracy: 0.9309 - loss: 0.1540 - val_accuracy: 0.9250 - val_loss: 0.1934\n",
      "Epoch 91/100\n",
      "\u001B[1m10/10\u001B[0m \u001B[32m━━━━━━━━━━━━━━━━━━━━\u001B[0m\u001B[37m\u001B[0m \u001B[1m0s\u001B[0m 5ms/step - accuracy: 0.9239 - loss: 0.2173 - val_accuracy: 0.9125 - val_loss: 0.3495\n",
      "Epoch 92/100\n",
      "\u001B[1m10/10\u001B[0m \u001B[32m━━━━━━━━━━━━━━━━━━━━\u001B[0m\u001B[37m\u001B[0m \u001B[1m0s\u001B[0m 5ms/step - accuracy: 0.9295 - loss: 0.1920 - val_accuracy: 0.9500 - val_loss: 0.1755\n",
      "Epoch 93/100\n",
      "\u001B[1m10/10\u001B[0m \u001B[32m━━━━━━━━━━━━━━━━━━━━\u001B[0m\u001B[37m\u001B[0m \u001B[1m0s\u001B[0m 5ms/step - accuracy: 0.9411 - loss: 0.1290 - val_accuracy: 0.9375 - val_loss: 0.1588\n",
      "Epoch 94/100\n",
      "\u001B[1m10/10\u001B[0m \u001B[32m━━━━━━━━━━━━━━━━━━━━\u001B[0m\u001B[37m\u001B[0m \u001B[1m0s\u001B[0m 7ms/step - accuracy: 0.9334 - loss: 0.1306 - val_accuracy: 0.9375 - val_loss: 0.1597\n",
      "Epoch 95/100\n",
      "\u001B[1m10/10\u001B[0m \u001B[32m━━━━━━━━━━━━━━━━━━━━\u001B[0m\u001B[37m\u001B[0m \u001B[1m0s\u001B[0m 7ms/step - accuracy: 0.9500 - loss: 0.1227 - val_accuracy: 0.9375 - val_loss: 0.1660\n",
      "Epoch 96/100\n",
      "\u001B[1m10/10\u001B[0m \u001B[32m━━━━━━━━━━━━━━━━━━━━\u001B[0m\u001B[37m\u001B[0m \u001B[1m0s\u001B[0m 10ms/step - accuracy: 0.9197 - loss: 0.1646 - val_accuracy: 0.9375 - val_loss: 0.2698\n",
      "Epoch 97/100\n",
      "\u001B[1m10/10\u001B[0m \u001B[32m━━━━━━━━━━━━━━━━━━━━\u001B[0m\u001B[37m\u001B[0m \u001B[1m0s\u001B[0m 6ms/step - accuracy: 0.9216 - loss: 0.1750 - val_accuracy: 0.9500 - val_loss: 0.1817\n",
      "Epoch 98/100\n",
      "\u001B[1m10/10\u001B[0m \u001B[32m━━━━━━━━━━━━━━━━━━━━\u001B[0m\u001B[37m\u001B[0m \u001B[1m0s\u001B[0m 5ms/step - accuracy: 0.9457 - loss: 0.1076 - val_accuracy: 0.9500 - val_loss: 0.1573\n",
      "Epoch 99/100\n",
      "\u001B[1m10/10\u001B[0m \u001B[32m━━━━━━━━━━━━━━━━━━━━\u001B[0m\u001B[37m\u001B[0m \u001B[1m0s\u001B[0m 6ms/step - accuracy: 0.9374 - loss: 0.1133 - val_accuracy: 0.9000 - val_loss: 0.2169\n",
      "Epoch 100/100\n",
      "\u001B[1m10/10\u001B[0m \u001B[32m━━━━━━━━━━━━━━━━━━━━\u001B[0m\u001B[37m\u001B[0m \u001B[1m0s\u001B[0m 5ms/step - accuracy: 0.9383 - loss: 0.1600 - val_accuracy: 0.9375 - val_loss: 0.1563\n"
     ]
    }
   ],
   "execution_count": 13
  },
  {
   "metadata": {
    "ExecuteTime": {
     "end_time": "2024-08-30T05:46:29.000135Z",
     "start_time": "2024-08-30T05:46:28.806976Z"
    }
   },
   "cell_type": "code",
   "source": [
    "# 시각화\n",
    "plt.figure(figsize=(15,5))\n",
    "plt.plot(h.history['accuracy'],  label='accuracy')\n",
    "plt.plot(h.history['val_accuracy'],  label='val_accuracy')\n",
    "plt.legend()\n",
    "plt.show()\n"
   ],
   "id": "645e0bd2b77b676f",
   "outputs": [
    {
     "data": {
      "text/plain": [
       "<Figure size 1500x500 with 1 Axes>"
      ],
      "image/png": "[encoded data removed]"
     },
     "metadata": {},
     "output_type": "display_data"
    }
   ],
   "execution_count": 23
  },
  {
   "metadata": {},
   "cell_type": "code",
   "outputs": [],
   "execution_count": null,
   "source": "",
   "id": "7c4061fdaa1ccdf6"
  }
 ],
 "metadata": {
  "kernelspec": {
   "display_name": "Python 3",
   "language": "python",
   "name": "python3"
  },
  "language_info": {
   "codemirror_mode": {
    "name": "ipython",
    "version": 2
   },
   "file_extension": ".py",
   "mimetype": "text/x-python",
   "name": "python",
   "nbconvert_exporter": "python",
   "pygments_lexer": "ipython2",
   "version": "2.7.6"
  }
 },
 "nbformat": 4,
 "nbformat_minor": 5
}
