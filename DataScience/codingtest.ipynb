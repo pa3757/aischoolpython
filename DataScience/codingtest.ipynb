{
 "cells": [
  {
   "metadata": {},
   "cell_type": "markdown",
   "source": [
    "#문제 설명\n",
    "\n",
    "2016년 1월 1일은 금요일입니다. 2016년 a월 b일은 무슨 요일일까요? 두 수 a ,b를 입력받아 2016년 a월 b일이 무슨 요일인지 리턴하는 함수, solution을 완성하세요. 요일의 이름은 일요일부터 토요일까지 각각 SUN,MON,TUE,WED,THU,FRI,SAT\n",
    "\n",
    "입니다. 예를 들어 a=5, b=24라면 5월 24일은 화요일이므로 문자열 \"TUE\"를 반환하세요.\n",
    "\n",
    "제한 조건\n",
    "2016년은 윤년입니다.\n",
    "2016년 a월 b일은 실제로 있는 날입니다. (13월 26일이나 2월 45일같은 날짜는 주어지지 않습니다)"
   ],
   "id": "11f6f60b5735667a"
  },
  {
   "cell_type": "code",
   "id": "initial_id",
   "metadata": {
    "collapsed": true,
    "ExecuteTime": {
     "end_time": "2024-08-16T02:24:56.936239Z",
     "start_time": "2024-08-16T02:24:56.929412Z"
    }
   },
   "source": [
    "def solution(a, b):\n",
    "    answer = ''\n",
    "    day = ['FRI', 'SAT', 'SUN', 'MON', 'TUE', 'WED', 'THU']\n",
    "    last_date = [31,29,31,30,31,30,31,31,30,31,30,31]\n",
    "    total_date = 0\n",
    "    # a : 월 , b : 일\n",
    "    # 1월 1일부터 a월 b일까지의 날짜 수를 구한다.\n",
    "    for i in range(a-1):\n",
    "        total_date += last_date[i]\n",
    "    total_date += b\n",
    "    # 1월 1일이 금요일이므로 금요일부터 시작\n",
    "    answer = day[(total_date-1)%7]\n",
    "    return answer"
   ],
   "outputs": [],
   "execution_count": 67
  },
  {
   "metadata": {
    "ExecuteTime": {
     "end_time": "2024-08-16T02:25:05.310452Z",
     "start_time": "2024-08-16T02:25:05.305284Z"
    }
   },
   "cell_type": "code",
   "source": "solution(5,24)",
   "id": "e7923a7f8ee3f353",
   "outputs": [
    {
     "data": {
      "text/plain": [
       "'TUE'"
      ]
     },
     "execution_count": 69,
     "metadata": {},
     "output_type": "execute_result"
    }
   ],
   "execution_count": 69
  },
  {
   "metadata": {},
   "cell_type": "code",
   "outputs": [],
   "execution_count": null,
   "source": "",
   "id": "9c343dc59cf883d3"
  }
 ],
 "metadata": {
  "kernelspec": {
   "display_name": "Python 3",
   "language": "python",
   "name": "python3"
  },
  "language_info": {
   "codemirror_mode": {
    "name": "ipython",
    "version": 2
   },
   "file_extension": ".py",
   "mimetype": "text/x-python",
   "name": "python",
   "nbconvert_exporter": "python",
   "pygments_lexer": "ipython2",
   "version": "2.7.6"
  }
 },
 "nbformat": 4,
 "nbformat_minor": 5
}
