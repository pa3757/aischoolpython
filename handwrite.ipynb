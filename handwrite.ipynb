{
 "cells": [
  {
   "cell_type": "code",
   "id": "initial_id",
   "metadata": {
    "collapsed": true,
    "ExecuteTime": {
     "end_time": "2024-08-30T06:19:24.101980Z",
     "start_time": "2024-08-30T06:19:16.356912Z"
    }
   },
   "source": [
    "from tensorflow.keras.datasets import mnist\n",
    "\n",
    "((X_train, y_train), (X_test, y_test)) = mnist.load_data()"
   ],
   "outputs": [],
   "execution_count": 1
  },
  {
   "metadata": {
    "ExecuteTime": {
     "end_time": "2024-08-30T06:19:37.521183Z",
     "start_time": "2024-08-30T06:19:36.740947Z"
    }
   },
   "cell_type": "code",
   "source": [
    "import matplotlib.pyplot as plt\n",
    "\n",
    "plt.imshow(X_train[0], cmap='gray')\n",
    "plt.show()"
   ],
   "id": "19e7648186b86f7",
   "outputs": [
    {
     "data": {
      "text/plain": [
       "<Figure size 640x480 with 1 Axes>"
      ],
      "image/png": "[encoded data removed]"
     },
     "metadata": {},
     "output_type": "display_data"
    }
   ],
   "execution_count": 2
  },
  {
   "metadata": {
    "ExecuteTime": {
     "end_time": "2024-08-30T06:19:56.751015Z",
     "start_time": "2024-08-30T06:19:56.745955Z"
    }
   },
   "cell_type": "code",
   "source": [
    "import numpy as np\n",
    "\n",
    "print(X_train.shape)\n",
    "print(X_test.shape)\n",
    "print(y_train.shape)\n",
    "print(y_test.shape)\n"
   ],
   "id": "6f43afbc9a8fed2b",
   "outputs": [
    {
     "name": "stdout",
     "output_type": "stream",
     "text": [
      "(60000, 28, 28)\n",
      "(10000, 28, 28)\n",
      "(60000,)\n",
      "(10000,)\n"
     ]
    }
   ],
   "execution_count": 3
  },
  {
   "metadata": {
    "ExecuteTime": {
     "end_time": "2024-08-30T06:33:56.806639Z",
     "start_time": "2024-08-30T06:33:56.628853Z"
    }
   },
   "cell_type": "code",
   "source": [
    "X_train = X_train.reshape((60000, 28*28))\n",
    "X_test = X_test.reshape((10000, 28*28))\n",
    "\n",
    "X_train = X_train.astype(np.float32) / 255\n",
    "X_test = X_test.astype(np.float32) / 255"
   ],
   "id": "b057b517c1cbef19",
   "outputs": [],
   "execution_count": 4
  },
  {
   "metadata": {
    "ExecuteTime": {
     "end_time": "2024-08-30T06:34:18.479442Z",
     "start_time": "2024-08-30T06:34:18.462946Z"
    }
   },
   "cell_type": "code",
   "source": [
    "# 정답컬럼을 원핫인코딩으로 변환\n",
    "import pandas as pd\n",
    "y_train = pd.get_dummies(y_train)\n",
    "y_test = pd.get_dummies(y_test)"
   ],
   "id": "541f374e32ba7218",
   "outputs": [],
   "execution_count": 5
  },
  {
   "metadata": {
    "ExecuteTime": {
     "end_time": "2024-08-30T07:06:36.895635Z",
     "start_time": "2024-08-30T07:06:36.837115Z"
    }
   },
   "cell_type": "code",
   "source": [
    "from tensorflow.keras.models import Sequential\n",
    "from tensorflow.keras.layers import Dense, Input\n",
    "\n",
    "model = Sequential()\n",
    "model.add(Input(shape=(784,)))\n",
    "model.add(Dense(32, activation='sigmoid'))\n",
    "model.add(Dense(64, activation='sigmoid'))\n",
    "model.add(Dense(32, activation='sigmoid'))\n",
    "model.add(Dense(16, activation='sigmoid'))\n",
    "model.add(Dense(10, activation='softmax'))\n",
    "\n",
    "model.compile(optimizer='adam', loss='categorical_crossentropy', metrics=['accuracy'])"
   ],
   "id": "e5e2a4a2b121d279",
   "outputs": [],
   "execution_count": 11
  },
  {
   "metadata": {
    "ExecuteTime": {
     "end_time": "2024-08-30T07:07:07.234518Z",
     "start_time": "2024-08-30T07:06:51.947123Z"
    }
   },
   "cell_type": "code",
   "source": "h = model.fit(X_train, y_train, epochs=10, batch_size=128, validation_data=(X_test, y_test))",
   "id": "fb3444d37ce28819",
   "outputs": [
    {
     "name": "stdout",
     "output_type": "stream",
     "text": [
      "Epoch 1/10\n",
      "\u001B[1m469/469\u001B[0m \u001B[32m━━━━━━━━━━━━━━━━━━━━\u001B[0m\u001B[37m\u001B[0m \u001B[1m3s\u001B[0m 3ms/step - accuracy: 0.2264 - loss: 2.0663 - val_accuracy: 0.5297 - val_loss: 1.4024\n",
      "Epoch 2/10\n",
      "\u001B[1m469/469\u001B[0m \u001B[32m━━━━━━━━━━━━━━━━━━━━\u001B[0m\u001B[37m\u001B[0m \u001B[1m1s\u001B[0m 2ms/step - accuracy: 0.5984 - loss: 1.2511 - val_accuracy: 0.7550 - val_loss: 0.8388\n",
      "Epoch 3/10\n",
      "\u001B[1m469/469\u001B[0m \u001B[32m━━━━━━━━━━━━━━━━━━━━\u001B[0m\u001B[37m\u001B[0m \u001B[1m1s\u001B[0m 2ms/step - accuracy: 0.8135 - loss: 0.7400 - val_accuracy: 0.9079 - val_loss: 0.4683\n",
      "Epoch 4/10\n",
      "\u001B[1m469/469\u001B[0m \u001B[32m━━━━━━━━━━━━━━━━━━━━\u001B[0m\u001B[37m\u001B[0m \u001B[1m1s\u001B[0m 2ms/step - accuracy: 0.9126 - loss: 0.4214 - val_accuracy: 0.9221 - val_loss: 0.3385\n",
      "Epoch 5/10\n",
      "\u001B[1m469/469\u001B[0m \u001B[32m━━━━━━━━━━━━━━━━━━━━\u001B[0m\u001B[37m\u001B[0m \u001B[1m2s\u001B[0m 4ms/step - accuracy: 0.9285 - loss: 0.3111 - val_accuracy: 0.9340 - val_loss: 0.2776\n",
      "Epoch 6/10\n",
      "\u001B[1m469/469\u001B[0m \u001B[32m━━━━━━━━━━━━━━━━━━━━\u001B[0m\u001B[37m\u001B[0m \u001B[1m1s\u001B[0m 3ms/step - accuracy: 0.9381 - loss: 0.2558 - val_accuracy: 0.9408 - val_loss: 0.2436\n",
      "Epoch 7/10\n",
      "\u001B[1m469/469\u001B[0m \u001B[32m━━━━━━━━━━━━━━━━━━━━\u001B[0m\u001B[37m\u001B[0m \u001B[1m1s\u001B[0m 3ms/step - accuracy: 0.9454 - loss: 0.2207 - val_accuracy: 0.9429 - val_loss: 0.2293\n",
      "Epoch 8/10\n",
      "\u001B[1m469/469\u001B[0m \u001B[32m━━━━━━━━━━━━━━━━━━━━\u001B[0m\u001B[37m\u001B[0m \u001B[1m1s\u001B[0m 2ms/step - accuracy: 0.9511 - loss: 0.1941 - val_accuracy: 0.9449 - val_loss: 0.2175\n",
      "Epoch 9/10\n",
      "\u001B[1m469/469\u001B[0m \u001B[32m━━━━━━━━━━━━━━━━━━━━\u001B[0m\u001B[37m\u001B[0m \u001B[1m2s\u001B[0m 4ms/step - accuracy: 0.9554 - loss: 0.1794 - val_accuracy: 0.9471 - val_loss: 0.2036\n",
      "Epoch 10/10\n",
      "\u001B[1m469/469\u001B[0m \u001B[32m━━━━━━━━━━━━━━━━━━━━\u001B[0m\u001B[37m\u001B[0m \u001B[1m1s\u001B[0m 2ms/step - accuracy: 0.9589 - loss: 0.1586 - val_accuracy: 0.9499 - val_loss: 0.1960\n"
     ]
    }
   ],
   "execution_count": 12
  },
  {
   "metadata": {
    "ExecuteTime": {
     "end_time": "2024-08-30T07:23:31.936049Z",
     "start_time": "2024-08-30T07:23:31.846760Z"
    }
   },
   "cell_type": "code",
   "source": [
    "# data폴더 5.png 파일을 열어서 숫자를 확인하고, 그 숫자를 예측하는 코드를 작성하세요.\n",
    "\n",
    "from PIL import Image\n",
    "import numpy as np\n",
    "\n",
    "# 예측 데이터는 학습데이터와 동일한 형식으로 만들어야함\n",
    "# 동일한 전처리\n",
    "# 배경색 글씨색 바꾸기\n",
    "# 배경을 검은색 글씨를 흰색\n",
    "# 2차원 > 1차원\n",
    "# 픽셀값 수정\n",
    "\n",
    "img = Image.open('DeepLearning/data/5.png')\n",
    "img = img.resize((28, 28))\n",
    "img = img.convert('L')\n",
    "img = np.array(img)\n",
    "img = img.reshape(1, 784)\n",
    "img = img.astype(np.float32) / 255\n",
    "\n",
    "pred = model.predict(img)\n",
    "print(pred)\n",
    "print(np.argmax(pred))"
   ],
   "id": "bf113c687958ec6d",
   "outputs": [
    {
     "name": "stdout",
     "output_type": "stream",
     "text": [
      "\u001B[1m1/1\u001B[0m \u001B[32m━━━━━━━━━━━━━━━━━━━━\u001B[0m\u001B[37m\u001B[0m \u001B[1m0s\u001B[0m 27ms/step\n",
      "[[7.8163130e-06 8.3524847e-06 2.8501216e-03 9.6215552e-01 6.1316852e-04\n",
      "  2.6824269e-02 3.8877209e-03 2.9833131e-03 4.5349661e-04 2.1624149e-04]]\n",
      "3\n"
     ]
    }
   ],
   "execution_count": 17
  },
  {
   "metadata": {
    "ExecuteTime": {
     "end_time": "2024-08-30T07:45:20.813344Z",
     "start_time": "2024-08-30T07:45:20.734185Z"
    }
   },
   "cell_type": "code",
   "source": [
    "# 활성화 함수 tanh\n",
    "# 활성화 함수 relu\n",
    "# 층의 개수는 그대로 두고 units 늘리기\n",
    "# 중간층 더 많이 쌓기\n",
    "\n",
    "model2 = Sequential()\n",
    "model2.add(Input(shape=(784,)))\n",
    "model2.add(Dense(32, activation='tanh'))\n",
    "model2.add(Dense(64, activation='tanh'))\n",
    "model2.add(Dense(128, activation='tanh'))\n",
    "model2.add(Dense(64, activation='tanh'))\n",
    "model2.add(Dense(32, activation='tanh'))\n",
    "model2.add(Dense(16, activation='tanh'))\n",
    "model2.add(Dense(10, activation='softmax'))\n",
    "\n",
    "model2.compile(optimizer='adam', loss='categorical_crossentropy', metrics=['accuracy'])\n",
    "\n"
   ],
   "id": "9838c00001c11960",
   "outputs": [],
   "execution_count": 18
  },
  {
   "metadata": {
    "ExecuteTime": {
     "end_time": "2024-08-30T07:45:37.296144Z",
     "start_time": "2024-08-30T07:45:22.479428Z"
    }
   },
   "cell_type": "code",
   "source": "h2 = model2.fit(X_train, y_train, epochs=10, batch_size=128, validation_data=(X_test, y_test))",
   "id": "43732d1ef14e1394",
   "outputs": [
    {
     "name": "stdout",
     "output_type": "stream",
     "text": [
      "Epoch 1/10\n",
      "\u001B[1m469/469\u001B[0m \u001B[32m━━━━━━━━━━━━━━━━━━━━\u001B[0m\u001B[37m\u001B[0m \u001B[1m4s\u001B[0m 3ms/step - accuracy: 0.7934 - loss: 0.8022 - val_accuracy: 0.9350 - val_loss: 0.2410\n",
      "Epoch 2/10\n",
      "\u001B[1m469/469\u001B[0m \u001B[32m━━━━━━━━━━━━━━━━━━━━\u001B[0m\u001B[37m\u001B[0m \u001B[1m1s\u001B[0m 2ms/step - accuracy: 0.9428 - loss: 0.2122 - val_accuracy: 0.9537 - val_loss: 0.1644\n",
      "Epoch 3/10\n",
      "\u001B[1m469/469\u001B[0m \u001B[32m━━━━━━━━━━━━━━━━━━━━\u001B[0m\u001B[37m\u001B[0m \u001B[1m1s\u001B[0m 2ms/step - accuracy: 0.9584 - loss: 0.1514 - val_accuracy: 0.9608 - val_loss: 0.1393\n",
      "Epoch 4/10\n",
      "\u001B[1m469/469\u001B[0m \u001B[32m━━━━━━━━━━━━━━━━━━━━\u001B[0m\u001B[37m\u001B[0m \u001B[1m1s\u001B[0m 2ms/step - accuracy: 0.9660 - loss: 0.1173 - val_accuracy: 0.9622 - val_loss: 0.1375\n",
      "Epoch 5/10\n",
      "\u001B[1m469/469\u001B[0m \u001B[32m━━━━━━━━━━━━━━━━━━━━\u001B[0m\u001B[37m\u001B[0m \u001B[1m1s\u001B[0m 2ms/step - accuracy: 0.9704 - loss: 0.1053 - val_accuracy: 0.9645 - val_loss: 0.1271\n",
      "Epoch 6/10\n",
      "\u001B[1m469/469\u001B[0m \u001B[32m━━━━━━━━━━━━━━━━━━━━\u001B[0m\u001B[37m\u001B[0m \u001B[1m1s\u001B[0m 2ms/step - accuracy: 0.9735 - loss: 0.0933 - val_accuracy: 0.9648 - val_loss: 0.1206\n",
      "Epoch 7/10\n",
      "\u001B[1m469/469\u001B[0m \u001B[32m━━━━━━━━━━━━━━━━━━━━\u001B[0m\u001B[37m\u001B[0m \u001B[1m1s\u001B[0m 3ms/step - accuracy: 0.9755 - loss: 0.0816 - val_accuracy: 0.9648 - val_loss: 0.1264\n",
      "Epoch 8/10\n",
      "\u001B[1m469/469\u001B[0m \u001B[32m━━━━━━━━━━━━━━━━━━━━\u001B[0m\u001B[37m\u001B[0m \u001B[1m1s\u001B[0m 2ms/step - accuracy: 0.9786 - loss: 0.0749 - val_accuracy: 0.9633 - val_loss: 0.1290\n",
      "Epoch 9/10\n",
      "\u001B[1m469/469\u001B[0m \u001B[32m━━━━━━━━━━━━━━━━━━━━\u001B[0m\u001B[37m\u001B[0m \u001B[1m1s\u001B[0m 2ms/step - accuracy: 0.9800 - loss: 0.0701 - val_accuracy: 0.9686 - val_loss: 0.1186\n",
      "Epoch 10/10\n",
      "\u001B[1m469/469\u001B[0m \u001B[32m━━━━━━━━━━━━━━━━━━━━\u001B[0m\u001B[37m\u001B[0m \u001B[1m1s\u001B[0m 3ms/step - accuracy: 0.9836 - loss: 0.0564 - val_accuracy: 0.9699 - val_loss: 0.1138\n"
     ]
    }
   ],
   "execution_count": 19
  },
  {
   "metadata": {
    "ExecuteTime": {
     "end_time": "2024-08-30T07:45:38.664340Z",
     "start_time": "2024-08-30T07:45:38.511335Z"
    }
   },
   "cell_type": "code",
   "source": [
    "# 예측\n",
    "pred = model2.predict(img)\n",
    "print(pred)\n",
    "print(np.argmax(pred))\n"
   ],
   "id": "42f246b7c9ee6041",
   "outputs": [
    {
     "name": "stdout",
     "output_type": "stream",
     "text": [
      "\u001B[1m1/1\u001B[0m \u001B[32m━━━━━━━━━━━━━━━━━━━━\u001B[0m\u001B[37m\u001B[0m \u001B[1m0s\u001B[0m 93ms/step\n",
      "[[9.19134589e-04 2.43452829e-04 1.11484325e-04 4.65100724e-03\n",
      "  2.94256188e-06 9.90405500e-01 1.91132538e-03 8.20260902e-04\n",
      "  7.85737822e-04 1.49072730e-04]]\n",
      "5\n"
     ]
    }
   ],
   "execution_count": 20
  },
  {
   "metadata": {},
   "cell_type": "code",
   "outputs": [],
   "execution_count": null,
   "source": "",
   "id": "aa1237a4051d9257"
  }
 ],
 "metadata": {
  "kernelspec": {
   "display_name": "Python 3",
   "language": "python",
   "name": "python3"
  },
  "language_info": {
   "codemirror_mode": {
    "name": "ipython",
    "version": 2
   },
   "file_extension": ".py",
   "mimetype": "text/x-python",
   "name": "python",
   "nbconvert_exporter": "python",
   "pygments_lexer": "ipython2",
   "version": "2.7.6"
  }
 },
 "nbformat": 4,
 "nbformat_minor": 5
}
